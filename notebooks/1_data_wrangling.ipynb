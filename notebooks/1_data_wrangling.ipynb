{
 "cells": [
  {
   "cell_type": "markdown",
   "id": "9442d4e6",
   "metadata": {},
   "source": [
    "# Designing metal organic frameworks for carbon dioxide capture\n",
    "## Data wrangling\n",
    "## by Zachary Brown"
   ]
  },
  {
   "cell_type": "markdown",
   "id": "08316ffe",
   "metadata": {},
   "source": [
    "Let's start off by installing and importing the libraries we'll need for this notebook."
   ]
  },
  {
   "cell_type": "code",
   "execution_count": 3,
   "id": "4111c0b0",
   "metadata": {},
   "outputs": [
    {
     "name": "stdout",
     "output_type": "stream",
     "text": [
      "Requirement already satisfied: numpy==1.24.2 in c:\\users\\zachary brown\\anaconda3\\envs\\mof\\lib\\site-packages (1.24.2)\n",
      "Requirement already satisfied: pandas==1.5.3 in c:\\users\\zachary brown\\anaconda3\\envs\\mof\\lib\\site-packages (1.5.3)\n",
      "Requirement already satisfied: pytz>=2020.1 in c:\\users\\zachary brown\\anaconda3\\envs\\mof\\lib\\site-packages (from pandas==1.5.3) (2022.7.1)\n",
      "Requirement already satisfied: python-dateutil>=2.8.1 in c:\\users\\zachary brown\\anaconda3\\envs\\mof\\lib\\site-packages (from pandas==1.5.3) (2.8.2)\n",
      "Requirement already satisfied: numpy>=1.21.0 in c:\\users\\zachary brown\\anaconda3\\envs\\mof\\lib\\site-packages (from pandas==1.5.3) (1.24.2)\n",
      "Requirement already satisfied: six>=1.5 in c:\\users\\zachary brown\\anaconda3\\envs\\mof\\lib\\site-packages (from python-dateutil>=2.8.1->pandas==1.5.3) (1.16.0)\n",
      "Collecting requests==2.28.2\n",
      "  Downloading requests-2.28.2-py3-none-any.whl (62 kB)\n",
      "     ---------------------------------------- 62.8/62.8 kB 3.3 MB/s eta 0:00:00\n",
      "Collecting charset-normalizer<4,>=2\n",
      "  Downloading charset_normalizer-3.0.1-cp310-cp310-win_amd64.whl (96 kB)\n",
      "     ---------------------------------------- 96.5/96.5 kB ? eta 0:00:00\n",
      "Requirement already satisfied: certifi>=2017.4.17 in c:\\users\\zachary brown\\anaconda3\\envs\\mof\\lib\\site-packages (from requests==2.28.2) (2022.12.7)\n",
      "Collecting urllib3<1.27,>=1.21.1\n",
      "  Downloading urllib3-1.26.14-py2.py3-none-any.whl (140 kB)\n",
      "     -------------------------------------- 140.6/140.6 kB 8.2 MB/s eta 0:00:00\n",
      "Requirement already satisfied: idna<4,>=2.5 in c:\\users\\zachary brown\\anaconda3\\envs\\mof\\lib\\site-packages (from requests==2.28.2) (3.4)\n",
      "Installing collected packages: charset-normalizer, urllib3, requests\n",
      "Successfully installed charset-normalizer-3.0.1 requests-2.28.2 urllib3-1.26.14\n"
     ]
    }
   ],
   "source": [
    "!pip install numpy==1.24.2\n",
    "!pip install pandas==1.5.3\n",
    "!pip install requests==2.28.2"
   ]
  },
  {
   "cell_type": "code",
   "execution_count": 4,
   "id": "65aac1d3",
   "metadata": {},
   "outputs": [],
   "source": [
    "import numpy as np\n",
    "import pandas as pd\n",
    "import requests"
   ]
  },
  {
   "cell_type": "markdown",
   "id": "6b85df55",
   "metadata": {},
   "source": [
    "Now we'll download the qmof dataset and then unzip it into the raw data folder."
   ]
  },
  {
   "cell_type": "code",
   "execution_count": 6,
   "id": "e38f2819",
   "metadata": {},
   "outputs": [
    {
     "data": {
      "text/plain": [
       "407219972"
      ]
     },
     "execution_count": 6,
     "metadata": {},
     "output_type": "execute_result"
    }
   ],
   "source": [
    "url = 'https://figshare.com/ndownloader/articles/13147324/versions/14'\n",
    "r = requests.get(url, allow_redirects=True)\n",
    "open('../data/raw/qmof.zip', 'wb').write(r.content)"
   ]
  },
  {
   "cell_type": "code",
   "execution_count": 7,
   "id": "a4e2ba07",
   "metadata": {},
   "outputs": [],
   "source": [
    "from zipfile import ZipFile\n",
    "  \n",
    "with ZipFile(\"../data/raw/qmof.zip\", 'r') as zobject:\n",
    "    zobject.extractall(path=\"../data/raw/\")"
   ]
  },
  {
   "cell_type": "code",
   "execution_count": 8,
   "id": "25bf8858",
   "metadata": {},
   "outputs": [],
   "source": [
    "with ZipFile(\"../data/raw/qmof_database.zip\", 'r') as zobject:\n",
    "    zobject.extractall(path=\"../data/raw/\")"
   ]
  },
  {
   "cell_type": "markdown",
   "id": "5d1dc09f",
   "metadata": {},
   "source": [
    "Next we'll download the hmof dataset (which is the subset of the MOFXDB with carbon dioxide isotherms) and unzip that in the raw data folder."
   ]
  },
  {
   "cell_type": "code",
   "execution_count": 9,
   "id": "64a0c5c4",
   "metadata": {},
   "outputs": [
    {
     "data": {
      "text/plain": [
       "982292348"
      ]
     },
     "execution_count": 9,
     "metadata": {},
     "output_type": "execute_result"
    }
   ],
   "source": [
    "url = 'https://mof.tech.northwestern.edu/Datasets/hMOF-10%201039%20C2EE23201D-CarbonDioxide-mofdb-version:dc8a0295db.zip'\n",
    "r = requests.get(url, allow_redirects=True)\n",
    "open('../data/raw/hmof.zip', 'wb').write(r.content)"
   ]
  },
  {
   "cell_type": "code",
   "execution_count": 11,
   "id": "8b0dc6b3",
   "metadata": {},
   "outputs": [],
   "source": [
    "with ZipFile(\"../data/raw/hmof.zip\", 'r') as zobject:\n",
    "    zobject.extractall(path=\"../data/raw/hmof\")"
   ]
  },
  {
   "cell_type": "markdown",
   "id": "f5929ebe",
   "metadata": {},
   "source": [
    "Now I'll load in the qmof dataset into a dataframe."
   ]
  },
  {
   "cell_type": "code",
   "execution_count": 13,
   "id": "1c6c51a4",
   "metadata": {},
   "outputs": [],
   "source": [
    "qmof = pd.read_csv('../data/raw/qmof_database/qmof.csv', low_memory=False)"
   ]
  },
  {
   "cell_type": "code",
   "execution_count": 15,
   "id": "7498d9ca",
   "metadata": {},
   "outputs": [
    {
     "data": {
      "text/plain": [
       "(20375, 94)"
      ]
     },
     "execution_count": 15,
     "metadata": {},
     "output_type": "execute_result"
    }
   ],
   "source": [
    "qmof.shape"
   ]
  },
  {
   "cell_type": "code",
   "execution_count": 16,
   "id": "191e9683",
   "metadata": {
    "scrolled": true
   },
   "outputs": [
    {
     "data": {
      "text/html": [
       "<div>\n",
       "<style scoped>\n",
       "    .dataframe tbody tr th:only-of-type {\n",
       "        vertical-align: middle;\n",
       "    }\n",
       "\n",
       "    .dataframe tbody tr th {\n",
       "        vertical-align: top;\n",
       "    }\n",
       "\n",
       "    .dataframe thead th {\n",
       "        text-align: right;\n",
       "    }\n",
       "</style>\n",
       "<table border=\"1\" class=\"dataframe\">\n",
       "  <thead>\n",
       "    <tr style=\"text-align: right;\">\n",
       "      <th></th>\n",
       "      <th>qmof_id</th>\n",
       "      <th>name</th>\n",
       "      <th>info.formula</th>\n",
       "      <th>info.formula_reduced</th>\n",
       "      <th>info.mofid.mofid</th>\n",
       "      <th>info.mofid.mofkey</th>\n",
       "      <th>info.mofid.smiles_nodes</th>\n",
       "      <th>info.mofid.smiles_linkers</th>\n",
       "      <th>info.mofid.smiles</th>\n",
       "      <th>info.mofid.topology</th>\n",
       "      <th>...</th>\n",
       "      <th>outputs.hse06.energy_elec</th>\n",
       "      <th>outputs.hse06.net_magmom</th>\n",
       "      <th>outputs.hse06.bandgap</th>\n",
       "      <th>outputs.hse06.cbm</th>\n",
       "      <th>outputs.hse06.vbm</th>\n",
       "      <th>outputs.hse06.directgap</th>\n",
       "      <th>outputs.hse06.bandgap_spins</th>\n",
       "      <th>outputs.hse06.cbm_spins</th>\n",
       "      <th>outputs.hse06.vbm_spins</th>\n",
       "      <th>outputs.hse06.directgap_spins</th>\n",
       "    </tr>\n",
       "  </thead>\n",
       "  <tbody>\n",
       "    <tr>\n",
       "      <th>0</th>\n",
       "      <td>qmof-8a95c27</td>\n",
       "      <td>ABACUF01_FSR</td>\n",
       "      <td>Ba2CuC6H14O16</td>\n",
       "      <td>Ba2CuC6H14O16</td>\n",
       "      <td>NaN</td>\n",
       "      <td>NaN</td>\n",
       "      <td>['O', '[Ba]', '[Cu]']</td>\n",
       "      <td>['[O-]C=O']</td>\n",
       "      <td>O.[Ba].[Cu].[O-]C=O</td>\n",
       "      <td>NaN</td>\n",
       "      <td>...</td>\n",
       "      <td>NaN</td>\n",
       "      <td>NaN</td>\n",
       "      <td>NaN</td>\n",
       "      <td>NaN</td>\n",
       "      <td>NaN</td>\n",
       "      <td>NaN</td>\n",
       "      <td>NaN</td>\n",
       "      <td>NaN</td>\n",
       "      <td>NaN</td>\n",
       "      <td>NaN</td>\n",
       "    </tr>\n",
       "    <tr>\n",
       "      <th>1</th>\n",
       "      <td>qmof-019ba28</td>\n",
       "      <td>ABALOF_FSR</td>\n",
       "      <td>Cu12C36H56I16N4S4</td>\n",
       "      <td>Cu3C9H14I4NS</td>\n",
       "      <td>NaN</td>\n",
       "      <td>NaN</td>\n",
       "      <td>NaN</td>\n",
       "      <td>NaN</td>\n",
       "      <td>NaN</td>\n",
       "      <td>NaN</td>\n",
       "      <td>...</td>\n",
       "      <td>NaN</td>\n",
       "      <td>NaN</td>\n",
       "      <td>NaN</td>\n",
       "      <td>NaN</td>\n",
       "      <td>NaN</td>\n",
       "      <td>NaN</td>\n",
       "      <td>NaN</td>\n",
       "      <td>NaN</td>\n",
       "      <td>NaN</td>\n",
       "      <td>NaN</td>\n",
       "    </tr>\n",
       "    <tr>\n",
       "      <th>2</th>\n",
       "      <td>qmof-830ed1c</td>\n",
       "      <td>ABAVIJ_FSR</td>\n",
       "      <td>Co4C48H32N8O16</td>\n",
       "      <td>CoC12H8N2O4</td>\n",
       "      <td>[Co].[O-]C(=O)c1ccncc1 MOFid-v1.rtl.cat0</td>\n",
       "      <td>Co.TWBYWOBDOCUKOW.MOFkey-v1.rtl</td>\n",
       "      <td>['[Co]']</td>\n",
       "      <td>['[O-]C(=O)c1ccncc1']</td>\n",
       "      <td>[Co].[O-]C(=O)c1ccncc1</td>\n",
       "      <td>rtl</td>\n",
       "      <td>...</td>\n",
       "      <td>NaN</td>\n",
       "      <td>NaN</td>\n",
       "      <td>NaN</td>\n",
       "      <td>NaN</td>\n",
       "      <td>NaN</td>\n",
       "      <td>NaN</td>\n",
       "      <td>NaN</td>\n",
       "      <td>NaN</td>\n",
       "      <td>NaN</td>\n",
       "      <td>NaN</td>\n",
       "    </tr>\n",
       "    <tr>\n",
       "      <th>3</th>\n",
       "      <td>qmof-5bd4a24</td>\n",
       "      <td>ABAVOP_FSR</td>\n",
       "      <td>Co4C48H32N8O16</td>\n",
       "      <td>CoC12H8N2O4</td>\n",
       "      <td>[Co].[O-]C(=O)c1ccncc1 MOFid-v1.rtl.cat0</td>\n",
       "      <td>Co.TWBYWOBDOCUKOW.MOFkey-v1.rtl</td>\n",
       "      <td>['[Co]']</td>\n",
       "      <td>['[O-]C(=O)c1ccncc1']</td>\n",
       "      <td>[Co].[O-]C(=O)c1ccncc1</td>\n",
       "      <td>rtl</td>\n",
       "      <td>...</td>\n",
       "      <td>NaN</td>\n",
       "      <td>NaN</td>\n",
       "      <td>NaN</td>\n",
       "      <td>NaN</td>\n",
       "      <td>NaN</td>\n",
       "      <td>NaN</td>\n",
       "      <td>NaN</td>\n",
       "      <td>NaN</td>\n",
       "      <td>NaN</td>\n",
       "      <td>NaN</td>\n",
       "    </tr>\n",
       "    <tr>\n",
       "      <th>4</th>\n",
       "      <td>qmof-644aab4</td>\n",
       "      <td>ABAXUZ_FSR</td>\n",
       "      <td>Zn2C50H32N6O8S4</td>\n",
       "      <td>ZnC25H16N3O4S2</td>\n",
       "      <td>NaN</td>\n",
       "      <td>NaN</td>\n",
       "      <td>['[Zn][Zn]']</td>\n",
       "      <td>['[O-]C(=O)c1cccc(c1)c1nccs1', 'n1ccc(cc1)c1cc...</td>\n",
       "      <td>[O-]C(=O)c1cccc(c1)c1nccs1.[Zn][Zn].n1ccc(cc1)...</td>\n",
       "      <td>NaN</td>\n",
       "      <td>...</td>\n",
       "      <td>-811.553858</td>\n",
       "      <td>0.0</td>\n",
       "      <td>2.901747</td>\n",
       "      <td>2.246703</td>\n",
       "      <td>-0.655044</td>\n",
       "      <td>True</td>\n",
       "      <td>[None, None]</td>\n",
       "      <td>[None, None]</td>\n",
       "      <td>[None, None]</td>\n",
       "      <td>[None, None]</td>\n",
       "    </tr>\n",
       "  </tbody>\n",
       "</table>\n",
       "<p>5 rows × 94 columns</p>\n",
       "</div>"
      ],
      "text/plain": [
       "        qmof_id          name       info.formula info.formula_reduced  \\\n",
       "0  qmof-8a95c27  ABACUF01_FSR      Ba2CuC6H14O16        Ba2CuC6H14O16   \n",
       "1  qmof-019ba28    ABALOF_FSR  Cu12C36H56I16N4S4         Cu3C9H14I4NS   \n",
       "2  qmof-830ed1c    ABAVIJ_FSR     Co4C48H32N8O16          CoC12H8N2O4   \n",
       "3  qmof-5bd4a24    ABAVOP_FSR     Co4C48H32N8O16          CoC12H8N2O4   \n",
       "4  qmof-644aab4    ABAXUZ_FSR    Zn2C50H32N6O8S4       ZnC25H16N3O4S2   \n",
       "\n",
       "                           info.mofid.mofid                info.mofid.mofkey  \\\n",
       "0                                       NaN                              NaN   \n",
       "1                                       NaN                              NaN   \n",
       "2  [Co].[O-]C(=O)c1ccncc1 MOFid-v1.rtl.cat0  Co.TWBYWOBDOCUKOW.MOFkey-v1.rtl   \n",
       "3  [Co].[O-]C(=O)c1ccncc1 MOFid-v1.rtl.cat0  Co.TWBYWOBDOCUKOW.MOFkey-v1.rtl   \n",
       "4                                       NaN                              NaN   \n",
       "\n",
       "  info.mofid.smiles_nodes                          info.mofid.smiles_linkers  \\\n",
       "0   ['O', '[Ba]', '[Cu]']                                        ['[O-]C=O']   \n",
       "1                     NaN                                                NaN   \n",
       "2                ['[Co]']                              ['[O-]C(=O)c1ccncc1']   \n",
       "3                ['[Co]']                              ['[O-]C(=O)c1ccncc1']   \n",
       "4            ['[Zn][Zn]']  ['[O-]C(=O)c1cccc(c1)c1nccs1', 'n1ccc(cc1)c1cc...   \n",
       "\n",
       "                                   info.mofid.smiles info.mofid.topology  ...  \\\n",
       "0                                O.[Ba].[Cu].[O-]C=O                 NaN  ...   \n",
       "1                                                NaN                 NaN  ...   \n",
       "2                             [Co].[O-]C(=O)c1ccncc1                 rtl  ...   \n",
       "3                             [Co].[O-]C(=O)c1ccncc1                 rtl  ...   \n",
       "4  [O-]C(=O)c1cccc(c1)c1nccs1.[Zn][Zn].n1ccc(cc1)...                 NaN  ...   \n",
       "\n",
       "   outputs.hse06.energy_elec  outputs.hse06.net_magmom  outputs.hse06.bandgap  \\\n",
       "0                        NaN                       NaN                    NaN   \n",
       "1                        NaN                       NaN                    NaN   \n",
       "2                        NaN                       NaN                    NaN   \n",
       "3                        NaN                       NaN                    NaN   \n",
       "4                -811.553858                       0.0               2.901747   \n",
       "\n",
       "   outputs.hse06.cbm  outputs.hse06.vbm outputs.hse06.directgap  \\\n",
       "0                NaN                NaN                     NaN   \n",
       "1                NaN                NaN                     NaN   \n",
       "2                NaN                NaN                     NaN   \n",
       "3                NaN                NaN                     NaN   \n",
       "4           2.246703          -0.655044                    True   \n",
       "\n",
       "   outputs.hse06.bandgap_spins outputs.hse06.cbm_spins  \\\n",
       "0                          NaN                     NaN   \n",
       "1                          NaN                     NaN   \n",
       "2                          NaN                     NaN   \n",
       "3                          NaN                     NaN   \n",
       "4                 [None, None]            [None, None]   \n",
       "\n",
       "  outputs.hse06.vbm_spins  outputs.hse06.directgap_spins  \n",
       "0                     NaN                            NaN  \n",
       "1                     NaN                            NaN  \n",
       "2                     NaN                            NaN  \n",
       "3                     NaN                            NaN  \n",
       "4            [None, None]                   [None, None]  \n",
       "\n",
       "[5 rows x 94 columns]"
      ]
     },
     "execution_count": 16,
     "metadata": {},
     "output_type": "execute_result"
    }
   ],
   "source": [
    "qmof.head()"
   ]
  },
  {
   "cell_type": "code",
   "execution_count": 17,
   "id": "86473ed1",
   "metadata": {},
   "outputs": [
    {
     "data": {
      "text/plain": [
       "Index(['qmof_id', 'name', 'info.formula', 'info.formula_reduced',\n",
       "       'info.mofid.mofid', 'info.mofid.mofkey', 'info.mofid.smiles_nodes',\n",
       "       'info.mofid.smiles_linkers', 'info.mofid.smiles', 'info.mofid.topology',\n",
       "       'info.natoms', 'info.pld', 'info.lcd', 'info.density', 'info.volume',\n",
       "       'info.symmetry.spacegroup', 'info.symmetry.spacegroup_number',\n",
       "       'info.symmetry.spacegroup_crystal', 'info.symmetry.pointgroup',\n",
       "       'info.synthesized', 'info.source', 'info.doi', 'inputs.pbe.theory',\n",
       "       'inputs.pbe.pseudopotentials', 'inputs.pbe.encut', 'inputs.pbe.kpoints',\n",
       "       'inputs.pbe.gamma', 'inputs.pbe.spin', 'outputs.pbe.energy_total',\n",
       "       'outputs.pbe.energy_vdw', 'outputs.pbe.energy_elec',\n",
       "       'outputs.pbe.net_magmom', 'outputs.pbe.bandgap', 'outputs.pbe.cbm',\n",
       "       'outputs.pbe.vbm', 'outputs.pbe.directgap', 'outputs.pbe.bandgap_spins',\n",
       "       'outputs.pbe.cbm_spins', 'outputs.pbe.vbm_spins',\n",
       "       'outputs.pbe.directgap_spins', 'inputs.hle17.theory',\n",
       "       'inputs.hle17.pseudopotentials', 'inputs.hle17.encut',\n",
       "       'inputs.hle17.kpoints', 'inputs.hle17.gamma', 'inputs.hle17.spin',\n",
       "       'inputs.hse06_10hf.theory', 'inputs.hse06_10hf.pseudopotentials',\n",
       "       'inputs.hse06_10hf.encut', 'inputs.hse06_10hf.kpoints',\n",
       "       'inputs.hse06_10hf.gamma', 'inputs.hse06_10hf.spin',\n",
       "       'inputs.hse06.theory', 'inputs.hse06.pseudopotentials',\n",
       "       'inputs.hse06.encut', 'inputs.hse06.kpoints', 'inputs.hse06.gamma',\n",
       "       'inputs.hse06.spin', 'outputs.hle17.energy_total',\n",
       "       'outputs.hle17.energy_vdw', 'outputs.hle17.energy_elec',\n",
       "       'outputs.hle17.net_magmom', 'outputs.hle17.bandgap',\n",
       "       'outputs.hle17.cbm', 'outputs.hle17.vbm', 'outputs.hle17.directgap',\n",
       "       'outputs.hle17.bandgap_spins', 'outputs.hle17.cbm_spins',\n",
       "       'outputs.hle17.vbm_spins', 'outputs.hle17.directgap_spins',\n",
       "       'outputs.hse06_10hf.energy_total', 'outputs.hse06_10hf.energy_vdw',\n",
       "       'outputs.hse06_10hf.energy_elec', 'outputs.hse06_10hf.net_magmom',\n",
       "       'outputs.hse06_10hf.bandgap', 'outputs.hse06_10hf.cbm',\n",
       "       'outputs.hse06_10hf.vbm', 'outputs.hse06_10hf.directgap',\n",
       "       'outputs.hse06_10hf.bandgap_spins', 'outputs.hse06_10hf.cbm_spins',\n",
       "       'outputs.hse06_10hf.vbm_spins', 'outputs.hse06_10hf.directgap_spins',\n",
       "       'outputs.hse06.energy_total', 'outputs.hse06.energy_vdw',\n",
       "       'outputs.hse06.energy_elec', 'outputs.hse06.net_magmom',\n",
       "       'outputs.hse06.bandgap', 'outputs.hse06.cbm', 'outputs.hse06.vbm',\n",
       "       'outputs.hse06.directgap', 'outputs.hse06.bandgap_spins',\n",
       "       'outputs.hse06.cbm_spins', 'outputs.hse06.vbm_spins',\n",
       "       'outputs.hse06.directgap_spins'],\n",
       "      dtype='object')"
      ]
     },
     "execution_count": 17,
     "metadata": {},
     "output_type": "execute_result"
    }
   ],
   "source": [
    "qmof.columns"
   ]
  },
  {
   "cell_type": "markdown",
   "id": "1d278c5c",
   "metadata": {},
   "source": [
    "Next I'll need to create a dataframe for the hmof data, loop through the hmof JSON files and pull in those data points for the isotherms. "
   ]
  },
  {
   "cell_type": "code",
   "execution_count": null,
   "id": "10387a0d",
   "metadata": {},
   "outputs": [],
   "source": []
  }
 ],
 "metadata": {
  "kernelspec": {
   "display_name": "Python 3 (ipykernel)",
   "language": "python",
   "name": "python3"
  },
  "language_info": {
   "codemirror_mode": {
    "name": "ipython",
    "version": 3
   },
   "file_extension": ".py",
   "mimetype": "text/x-python",
   "name": "python",
   "nbconvert_exporter": "python",
   "pygments_lexer": "ipython3",
   "version": "3.10.9"
  }
 },
 "nbformat": 4,
 "nbformat_minor": 5
}
