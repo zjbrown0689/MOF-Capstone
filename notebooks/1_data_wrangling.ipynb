{
 "cells": [
  {
   "cell_type": "markdown",
   "id": "9d3141a5",
   "metadata": {},
   "source": [
    "# Designing metal organic frameworks for carbon dioxide capture\n",
    "## Data wrangling\n",
    "## by Zachary Brown"
   ]
  },
  {
   "cell_type": "markdown",
   "id": "fbe9a5a1",
   "metadata": {},
   "source": [
    "Let's start off by installing and importing the libraries we'll need for this notebook."
   ]
  },
  {
   "cell_type": "code",
   "execution_count": 3,
   "id": "4dbed5b0",
   "metadata": {},
   "outputs": [
    {
     "name": "stdout",
     "output_type": "stream",
     "text": [
      "Requirement already satisfied: numpy==1.24.2 in c:\\users\\zachary brown\\anaconda3\\envs\\mof\\lib\\site-packages (1.24.2)\n",
      "Requirement already satisfied: pandas==1.5.3 in c:\\users\\zachary brown\\anaconda3\\envs\\mof\\lib\\site-packages (1.5.3)\n",
      "Requirement already satisfied: pytz>=2020.1 in c:\\users\\zachary brown\\anaconda3\\envs\\mof\\lib\\site-packages (from pandas==1.5.3) (2022.7.1)\n",
      "Requirement already satisfied: python-dateutil>=2.8.1 in c:\\users\\zachary brown\\anaconda3\\envs\\mof\\lib\\site-packages (from pandas==1.5.3) (2.8.2)\n",
      "Requirement already satisfied: numpy>=1.21.0 in c:\\users\\zachary brown\\anaconda3\\envs\\mof\\lib\\site-packages (from pandas==1.5.3) (1.24.2)\n",
      "Requirement already satisfied: six>=1.5 in c:\\users\\zachary brown\\anaconda3\\envs\\mof\\lib\\site-packages (from python-dateutil>=2.8.1->pandas==1.5.3) (1.16.0)\n",
      "Collecting requests==2.28.2\n",
      "  Downloading requests-2.28.2-py3-none-any.whl (62 kB)\n",
      "     ---------------------------------------- 62.8/62.8 kB 3.3 MB/s eta 0:00:00\n",
      "Collecting charset-normalizer<4,>=2\n",
      "  Downloading charset_normalizer-3.0.1-cp310-cp310-win_amd64.whl (96 kB)\n",
      "     ---------------------------------------- 96.5/96.5 kB ? eta 0:00:00\n",
      "Requirement already satisfied: certifi>=2017.4.17 in c:\\users\\zachary brown\\anaconda3\\envs\\mof\\lib\\site-packages (from requests==2.28.2) (2022.12.7)\n",
      "Collecting urllib3<1.27,>=1.21.1\n",
      "  Downloading urllib3-1.26.14-py2.py3-none-any.whl (140 kB)\n",
      "     -------------------------------------- 140.6/140.6 kB 8.2 MB/s eta 0:00:00\n",
      "Requirement already satisfied: idna<4,>=2.5 in c:\\users\\zachary brown\\anaconda3\\envs\\mof\\lib\\site-packages (from requests==2.28.2) (3.4)\n",
      "Installing collected packages: charset-normalizer, urllib3, requests\n",
      "Successfully installed charset-normalizer-3.0.1 requests-2.28.2 urllib3-1.26.14\n"
     ]
    }
   ],
   "source": [
    "!pip install numpy==1.24.2\n",
    "!pip install pandas==1.5.3\n",
    "!pip install requests==2.28.2"
   ]
  },
  {
   "cell_type": "code",
   "execution_count": 4,
   "id": "d2bb759e",
   "metadata": {},
   "outputs": [],
   "source": [
    "import numpy as np\n",
    "import pandas as pd\n",
    "import requests"
   ]
  },
  {
   "cell_type": "markdown",
   "id": "18947180",
   "metadata": {},
   "source": [
    "Now we'll download the qmof dataset and then unzip it into the raw data folder."
   ]
  },
  {
   "cell_type": "code",
   "execution_count": 6,
   "id": "e55e72c7",
   "metadata": {},
   "outputs": [
    {
     "data": {
      "text/plain": [
       "407219972"
      ]
     },
     "execution_count": 6,
     "metadata": {},
     "output_type": "execute_result"
    }
   ],
   "source": [
    "url = 'https://figshare.com/ndownloader/articles/13147324/versions/14'\n",
    "r = requests.get(url, allow_redirects=True)\n",
    "open('../data/raw/qmof.zip', 'wb').write(r.content)"
   ]
  },
  {
   "cell_type": "code",
   "execution_count": 7,
   "id": "abf113fe",
   "metadata": {},
   "outputs": [],
   "source": [
    "from zipfile import ZipFile\n",
    "  \n",
    "with ZipFile(\"../data/raw/qmof.zip\", 'r') as zobject:\n",
    "    zobject.extractall(path=\"../data/raw/\")"
   ]
  },
  {
   "cell_type": "code",
   "execution_count": 8,
   "id": "719a52c1",
   "metadata": {},
   "outputs": [],
   "source": [
    "with ZipFile(\"../data/raw/qmof_database.zip\", 'r') as zobject:\n",
    "    zobject.extractall(path=\"../data/raw/\")"
   ]
  },
  {
   "cell_type": "markdown",
   "id": "4d9cc7ec",
   "metadata": {},
   "source": [
    "Next we'll download the hmof dataset (which is the subset of the MOFXDB with carbon dioxide isotherms) and unzip that in the raw data folder."
   ]
  },
  {
   "cell_type": "code",
   "execution_count": 9,
   "id": "3d26ccc1",
   "metadata": {},
   "outputs": [
    {
     "data": {
      "text/plain": [
       "982292348"
      ]
     },
     "execution_count": 9,
     "metadata": {},
     "output_type": "execute_result"
    }
   ],
   "source": [
    "url = 'https://mof.tech.northwestern.edu/Datasets/hMOF-10%201039%20C2EE23201D-CarbonDioxide-mofdb-version:dc8a0295db.zip'\n",
    "r = requests.get(url, allow_redirects=True)\n",
    "open('../data/raw/hmof.zip', 'wb').write(r.content)"
   ]
  },
  {
   "cell_type": "code",
   "execution_count": 11,
   "id": "47dd5354",
   "metadata": {},
   "outputs": [],
   "source": [
    "with ZipFile(\"../data/raw/hmof.zip\", 'r') as zobject:\n",
    "    zobject.extractall(path=\"../data/raw/hmof\")"
   ]
  },
  {
   "cell_type": "markdown",
   "id": "05996ef1",
   "metadata": {},
   "source": [
    "Now I'll load in the qmof dataset into a dataframe."
   ]
  },
  {
   "cell_type": "code",
   "execution_count": 13,
   "id": "87cb1cb0",
   "metadata": {},
   "outputs": [],
   "source": [
    "qmof = pd.read_csv('../data/raw/qmof_database/qmof.csv', low_memory=False)"
   ]
  },
  {
   "cell_type": "code",
   "execution_count": 15,
   "id": "7601c55c",
   "metadata": {},
   "outputs": [
    {
     "data": {
      "text/plain": [
       "(20375, 94)"
      ]
     },
     "execution_count": 15,
     "metadata": {},
     "output_type": "execute_result"
    }
   ],
   "source": [
    "qmof.shape"
   ]
  },
  {
   "cell_type": "code",
   "execution_count": 16,
   "id": "6a6ce6ce",
   "metadata": {
    "scrolled": true
   },
   "outputs": [
    {
     "data": {
      "text/html": [
       "<div>\n",
       "<style scoped>\n",
       "    .dataframe tbody tr th:only-of-type {\n",
       "        vertical-align: middle;\n",
       "    }\n",
       "\n",
       "    .dataframe tbody tr th {\n",
       "        vertical-align: top;\n",
       "    }\n",
       "\n",
       "    .dataframe thead th {\n",
       "        text-align: right;\n",
       "    }\n",
       "</style>\n",
       "<table border=\"1\" class=\"dataframe\">\n",
       "  <thead>\n",
       "    <tr style=\"text-align: right;\">\n",
       "      <th></th>\n",
       "      <th>qmof_id</th>\n",
       "      <th>name</th>\n",
       "      <th>info.formula</th>\n",
       "      <th>info.formula_reduced</th>\n",
       "      <th>info.mofid.mofid</th>\n",
       "      <th>info.mofid.mofkey</th>\n",
       "      <th>info.mofid.smiles_nodes</th>\n",
       "      <th>info.mofid.smiles_linkers</th>\n",
       "      <th>info.mofid.smiles</th>\n",
       "      <th>info.mofid.topology</th>\n",
       "      <th>...</th>\n",
       "      <th>outputs.hse06.energy_elec</th>\n",
       "      <th>outputs.hse06.net_magmom</th>\n",
       "      <th>outputs.hse06.bandgap</th>\n",
       "      <th>outputs.hse06.cbm</th>\n",
       "      <th>outputs.hse06.vbm</th>\n",
       "      <th>outputs.hse06.directgap</th>\n",
       "      <th>outputs.hse06.bandgap_spins</th>\n",
       "      <th>outputs.hse06.cbm_spins</th>\n",
       "      <th>outputs.hse06.vbm_spins</th>\n",
       "      <th>outputs.hse06.directgap_spins</th>\n",
       "    </tr>\n",
       "  </thead>\n",
       "  <tbody>\n",
       "    <tr>\n",
       "      <th>0</th>\n",
       "      <td>qmof-8a95c27</td>\n",
       "      <td>ABACUF01_FSR</td>\n",
       "      <td>Ba2CuC6H14O16</td>\n",
       "      <td>Ba2CuC6H14O16</td>\n",
       "      <td>NaN</td>\n",
       "      <td>NaN</td>\n",
       "      <td>['O', '[Ba]', '[Cu]']</td>\n",
       "      <td>['[O-]C=O']</td>\n",
       "      <td>O.[Ba].[Cu].[O-]C=O</td>\n",
       "      <td>NaN</td>\n",
       "      <td>...</td>\n",
       "      <td>NaN</td>\n",
       "      <td>NaN</td>\n",
       "      <td>NaN</td>\n",
       "      <td>NaN</td>\n",
       "      <td>NaN</td>\n",
       "      <td>NaN</td>\n",
       "      <td>NaN</td>\n",
       "      <td>NaN</td>\n",
       "      <td>NaN</td>\n",
       "      <td>NaN</td>\n",
       "    </tr>\n",
       "    <tr>\n",
       "      <th>1</th>\n",
       "      <td>qmof-019ba28</td>\n",
       "      <td>ABALOF_FSR</td>\n",
       "      <td>Cu12C36H56I16N4S4</td>\n",
       "      <td>Cu3C9H14I4NS</td>\n",
       "      <td>NaN</td>\n",
       "      <td>NaN</td>\n",
       "      <td>NaN</td>\n",
       "      <td>NaN</td>\n",
       "      <td>NaN</td>\n",
       "      <td>NaN</td>\n",
       "      <td>...</td>\n",
       "      <td>NaN</td>\n",
       "      <td>NaN</td>\n",
       "      <td>NaN</td>\n",
       "      <td>NaN</td>\n",
       "      <td>NaN</td>\n",
       "      <td>NaN</td>\n",
       "      <td>NaN</td>\n",
       "      <td>NaN</td>\n",
       "      <td>NaN</td>\n",
       "      <td>NaN</td>\n",
       "    </tr>\n",
       "    <tr>\n",
       "      <th>2</th>\n",
       "      <td>qmof-830ed1c</td>\n",
       "      <td>ABAVIJ_FSR</td>\n",
       "      <td>Co4C48H32N8O16</td>\n",
       "      <td>CoC12H8N2O4</td>\n",
       "      <td>[Co].[O-]C(=O)c1ccncc1 MOFid-v1.rtl.cat0</td>\n",
       "      <td>Co.TWBYWOBDOCUKOW.MOFkey-v1.rtl</td>\n",
       "      <td>['[Co]']</td>\n",
       "      <td>['[O-]C(=O)c1ccncc1']</td>\n",
       "      <td>[Co].[O-]C(=O)c1ccncc1</td>\n",
       "      <td>rtl</td>\n",
       "      <td>...</td>\n",
       "      <td>NaN</td>\n",
       "      <td>NaN</td>\n",
       "      <td>NaN</td>\n",
       "      <td>NaN</td>\n",
       "      <td>NaN</td>\n",
       "      <td>NaN</td>\n",
       "      <td>NaN</td>\n",
       "      <td>NaN</td>\n",
       "      <td>NaN</td>\n",
       "      <td>NaN</td>\n",
       "    </tr>\n",
       "    <tr>\n",
       "      <th>3</th>\n",
       "      <td>qmof-5bd4a24</td>\n",
       "      <td>ABAVOP_FSR</td>\n",
       "      <td>Co4C48H32N8O16</td>\n",
       "      <td>CoC12H8N2O4</td>\n",
       "      <td>[Co].[O-]C(=O)c1ccncc1 MOFid-v1.rtl.cat0</td>\n",
       "      <td>Co.TWBYWOBDOCUKOW.MOFkey-v1.rtl</td>\n",
       "      <td>['[Co]']</td>\n",
       "      <td>['[O-]C(=O)c1ccncc1']</td>\n",
       "      <td>[Co].[O-]C(=O)c1ccncc1</td>\n",
       "      <td>rtl</td>\n",
       "      <td>...</td>\n",
       "      <td>NaN</td>\n",
       "      <td>NaN</td>\n",
       "      <td>NaN</td>\n",
       "      <td>NaN</td>\n",
       "      <td>NaN</td>\n",
       "      <td>NaN</td>\n",
       "      <td>NaN</td>\n",
       "      <td>NaN</td>\n",
       "      <td>NaN</td>\n",
       "      <td>NaN</td>\n",
       "    </tr>\n",
       "    <tr>\n",
       "      <th>4</th>\n",
       "      <td>qmof-644aab4</td>\n",
       "      <td>ABAXUZ_FSR</td>\n",
       "      <td>Zn2C50H32N6O8S4</td>\n",
       "      <td>ZnC25H16N3O4S2</td>\n",
       "      <td>NaN</td>\n",
       "      <td>NaN</td>\n",
       "      <td>['[Zn][Zn]']</td>\n",
       "      <td>['[O-]C(=O)c1cccc(c1)c1nccs1', 'n1ccc(cc1)c1cc...</td>\n",
       "      <td>[O-]C(=O)c1cccc(c1)c1nccs1.[Zn][Zn].n1ccc(cc1)...</td>\n",
       "      <td>NaN</td>\n",
       "      <td>...</td>\n",
       "      <td>-811.553858</td>\n",
       "      <td>0.0</td>\n",
       "      <td>2.901747</td>\n",
       "      <td>2.246703</td>\n",
       "      <td>-0.655044</td>\n",
       "      <td>True</td>\n",
       "      <td>[None, None]</td>\n",
       "      <td>[None, None]</td>\n",
       "      <td>[None, None]</td>\n",
       "      <td>[None, None]</td>\n",
       "    </tr>\n",
       "  </tbody>\n",
       "</table>\n",
       "<p>5 rows × 94 columns</p>\n",
       "</div>"
      ],
      "text/plain": [
       "        qmof_id          name       info.formula info.formula_reduced  \\\n",
       "0  qmof-8a95c27  ABACUF01_FSR      Ba2CuC6H14O16        Ba2CuC6H14O16   \n",
       "1  qmof-019ba28    ABALOF_FSR  Cu12C36H56I16N4S4         Cu3C9H14I4NS   \n",
       "2  qmof-830ed1c    ABAVIJ_FSR     Co4C48H32N8O16          CoC12H8N2O4   \n",
       "3  qmof-5bd4a24    ABAVOP_FSR     Co4C48H32N8O16          CoC12H8N2O4   \n",
       "4  qmof-644aab4    ABAXUZ_FSR    Zn2C50H32N6O8S4       ZnC25H16N3O4S2   \n",
       "\n",
       "                           info.mofid.mofid                info.mofid.mofkey  \\\n",
       "0                                       NaN                              NaN   \n",
       "1                                       NaN                              NaN   \n",
       "2  [Co].[O-]C(=O)c1ccncc1 MOFid-v1.rtl.cat0  Co.TWBYWOBDOCUKOW.MOFkey-v1.rtl   \n",
       "3  [Co].[O-]C(=O)c1ccncc1 MOFid-v1.rtl.cat0  Co.TWBYWOBDOCUKOW.MOFkey-v1.rtl   \n",
       "4                                       NaN                              NaN   \n",
       "\n",
       "  info.mofid.smiles_nodes                          info.mofid.smiles_linkers  \\\n",
       "0   ['O', '[Ba]', '[Cu]']                                        ['[O-]C=O']   \n",
       "1                     NaN                                                NaN   \n",
       "2                ['[Co]']                              ['[O-]C(=O)c1ccncc1']   \n",
       "3                ['[Co]']                              ['[O-]C(=O)c1ccncc1']   \n",
       "4            ['[Zn][Zn]']  ['[O-]C(=O)c1cccc(c1)c1nccs1', 'n1ccc(cc1)c1cc...   \n",
       "\n",
       "                                   info.mofid.smiles info.mofid.topology  ...  \\\n",
       "0                                O.[Ba].[Cu].[O-]C=O                 NaN  ...   \n",
       "1                                                NaN                 NaN  ...   \n",
       "2                             [Co].[O-]C(=O)c1ccncc1                 rtl  ...   \n",
       "3                             [Co].[O-]C(=O)c1ccncc1                 rtl  ...   \n",
       "4  [O-]C(=O)c1cccc(c1)c1nccs1.[Zn][Zn].n1ccc(cc1)...                 NaN  ...   \n",
       "\n",
       "   outputs.hse06.energy_elec  outputs.hse06.net_magmom  outputs.hse06.bandgap  \\\n",
       "0                        NaN                       NaN                    NaN   \n",
       "1                        NaN                       NaN                    NaN   \n",
       "2                        NaN                       NaN                    NaN   \n",
       "3                        NaN                       NaN                    NaN   \n",
       "4                -811.553858                       0.0               2.901747   \n",
       "\n",
       "   outputs.hse06.cbm  outputs.hse06.vbm outputs.hse06.directgap  \\\n",
       "0                NaN                NaN                     NaN   \n",
       "1                NaN                NaN                     NaN   \n",
       "2                NaN                NaN                     NaN   \n",
       "3                NaN                NaN                     NaN   \n",
       "4           2.246703          -0.655044                    True   \n",
       "\n",
       "   outputs.hse06.bandgap_spins outputs.hse06.cbm_spins  \\\n",
       "0                          NaN                     NaN   \n",
       "1                          NaN                     NaN   \n",
       "2                          NaN                     NaN   \n",
       "3                          NaN                     NaN   \n",
       "4                 [None, None]            [None, None]   \n",
       "\n",
       "  outputs.hse06.vbm_spins  outputs.hse06.directgap_spins  \n",
       "0                     NaN                            NaN  \n",
       "1                     NaN                            NaN  \n",
       "2                     NaN                            NaN  \n",
       "3                     NaN                            NaN  \n",
       "4            [None, None]                   [None, None]  \n",
       "\n",
       "[5 rows x 94 columns]"
      ]
     },
     "execution_count": 16,
     "metadata": {},
     "output_type": "execute_result"
    }
   ],
   "source": [
    "qmof.head()"
   ]
  },
  {
   "cell_type": "code",
   "execution_count": 17,
   "id": "a84da725",
   "metadata": {},
   "outputs": [
    {
     "data": {
      "text/plain": [
       "Index(['qmof_id', 'name', 'info.formula', 'info.formula_reduced',\n",
       "       'info.mofid.mofid', 'info.mofid.mofkey', 'info.mofid.smiles_nodes',\n",
       "       'info.mofid.smiles_linkers', 'info.mofid.smiles', 'info.mofid.topology',\n",
       "       'info.natoms', 'info.pld', 'info.lcd', 'info.density', 'info.volume',\n",
       "       'info.symmetry.spacegroup', 'info.symmetry.spacegroup_number',\n",
       "       'info.symmetry.spacegroup_crystal', 'info.symmetry.pointgroup',\n",
       "       'info.synthesized', 'info.source', 'info.doi', 'inputs.pbe.theory',\n",
       "       'inputs.pbe.pseudopotentials', 'inputs.pbe.encut', 'inputs.pbe.kpoints',\n",
       "       'inputs.pbe.gamma', 'inputs.pbe.spin', 'outputs.pbe.energy_total',\n",
       "       'outputs.pbe.energy_vdw', 'outputs.pbe.energy_elec',\n",
       "       'outputs.pbe.net_magmom', 'outputs.pbe.bandgap', 'outputs.pbe.cbm',\n",
       "       'outputs.pbe.vbm', 'outputs.pbe.directgap', 'outputs.pbe.bandgap_spins',\n",
       "       'outputs.pbe.cbm_spins', 'outputs.pbe.vbm_spins',\n",
       "       'outputs.pbe.directgap_spins', 'inputs.hle17.theory',\n",
       "       'inputs.hle17.pseudopotentials', 'inputs.hle17.encut',\n",
       "       'inputs.hle17.kpoints', 'inputs.hle17.gamma', 'inputs.hle17.spin',\n",
       "       'inputs.hse06_10hf.theory', 'inputs.hse06_10hf.pseudopotentials',\n",
       "       'inputs.hse06_10hf.encut', 'inputs.hse06_10hf.kpoints',\n",
       "       'inputs.hse06_10hf.gamma', 'inputs.hse06_10hf.spin',\n",
       "       'inputs.hse06.theory', 'inputs.hse06.pseudopotentials',\n",
       "       'inputs.hse06.encut', 'inputs.hse06.kpoints', 'inputs.hse06.gamma',\n",
       "       'inputs.hse06.spin', 'outputs.hle17.energy_total',\n",
       "       'outputs.hle17.energy_vdw', 'outputs.hle17.energy_elec',\n",
       "       'outputs.hle17.net_magmom', 'outputs.hle17.bandgap',\n",
       "       'outputs.hle17.cbm', 'outputs.hle17.vbm', 'outputs.hle17.directgap',\n",
       "       'outputs.hle17.bandgap_spins', 'outputs.hle17.cbm_spins',\n",
       "       'outputs.hle17.vbm_spins', 'outputs.hle17.directgap_spins',\n",
       "       'outputs.hse06_10hf.energy_total', 'outputs.hse06_10hf.energy_vdw',\n",
       "       'outputs.hse06_10hf.energy_elec', 'outputs.hse06_10hf.net_magmom',\n",
       "       'outputs.hse06_10hf.bandgap', 'outputs.hse06_10hf.cbm',\n",
       "       'outputs.hse06_10hf.vbm', 'outputs.hse06_10hf.directgap',\n",
       "       'outputs.hse06_10hf.bandgap_spins', 'outputs.hse06_10hf.cbm_spins',\n",
       "       'outputs.hse06_10hf.vbm_spins', 'outputs.hse06_10hf.directgap_spins',\n",
       "       'outputs.hse06.energy_total', 'outputs.hse06.energy_vdw',\n",
       "       'outputs.hse06.energy_elec', 'outputs.hse06.net_magmom',\n",
       "       'outputs.hse06.bandgap', 'outputs.hse06.cbm', 'outputs.hse06.vbm',\n",
       "       'outputs.hse06.directgap', 'outputs.hse06.bandgap_spins',\n",
       "       'outputs.hse06.cbm_spins', 'outputs.hse06.vbm_spins',\n",
       "       'outputs.hse06.directgap_spins'],\n",
       "      dtype='object')"
      ]
     },
     "execution_count": 17,
     "metadata": {},
     "output_type": "execute_result"
    }
   ],
   "source": [
    "qmof.columns"
   ]
  },
  {
   "cell_type": "markdown",
   "id": "7218d235",
   "metadata": {},
   "source": [
    "Next I'll need to create a dataframe for the hmof data, loop through the hmof JSON files and pull in those data points for the isotherms. I'll start by loading one JSON file to identify which information I need to pull from them."
   ]
  },
  {
   "cell_type": "code",
   "execution_count": 20,
   "id": "2fa25690",
   "metadata": {},
   "outputs": [
    {
     "name": "stdout",
     "output_type": "stream",
     "text": [
      "{'id': 15340, 'cif': \"data_functionalizedCrystal\\n_audit_creation_method\\t'MofGen! by Chris Wilmer'\\n_symmetry_space_group_name_H-M\\t'P1'\\n_symmetry_Int_Tables_number\\t1\\n_symmetry_cell_setting\\ttriclinic\\nloop_\\n_symmetry_equiv_pos_as_xyz\\n  x,y,z\\n_cell_length_a\\t12.759393\\n_cell_length_b\\t12.759401\\n_cell_length_c\\t12.759399\\n_cell_angle_alpha\\t89.983359\\n_cell_angle_beta\\t89.967969\\n_cell_angle_gamma\\t90.019837\\nloop_\\n_atom_site_label\\n_atom_site_type_symbol\\n_atom_site_fract_x\\n_atom_site_fract_y\\n_atom_site_fract_z\\nZn1\\tZn\\t-0.594017\\t-1.606252\\t-0.418161\\nZn2\\tZn\\t-0.094017\\t-1.106252\\t0.081839\\nZn3\\tZn\\t-0.418336\\t-1.606145\\t-0.593880\\nZn4\\tZn\\t0.081664\\t-1.106145\\t-0.093880\\nZn5\\tZn\\t-0.418352\\t-1.430554\\t-0.418220\\nZn6\\tZn\\t0.081648\\t-0.930554\\t0.081780\\nZn7\\tZn\\t-0.593973\\t-1.430541\\t-0.593803\\nZn8\\tZn\\t-0.093973\\t-0.930541\\t-0.093803\\nO9\\tO\\t-0.506170\\t-1.518373\\t-0.506016\\nO10\\tO\\t-0.006170\\t-1.018373\\t-0.006016\\nO11\\tO\\t-0.570724\\t-1.753259\\t-0.441478\\nO12\\tO\\t-0.070724\\t-1.253259\\t0.058522\\nO13\\tO\\t-0.271317\\t-1.582813\\t-0.570635\\nO14\\tO\\t0.228683\\t-1.082813\\t-0.070635\\nO15\\tO\\t-0.441680\\t-1.453911\\t-0.271191\\nO16\\tO\\t0.058320\\t-0.953911\\t0.228809\\nO17\\tO\\t-0.441652\\t-1.753180\\t-0.570578\\nO18\\tO\\t0.058348\\t-1.253180\\t-0.070578\\nO19\\tO\\t-0.570740\\t-1.582995\\t-0.271148\\nO20\\tO\\t-0.070740\\t-1.082995\\t0.228852\\nO21\\tO\\t-0.271329\\t-1.453807\\t-0.441579\\nO22\\tO\\t0.228671\\t-0.953807\\t0.058421\\nO23\\tO\\t-0.441637\\t-1.283531\\t-0.441505\\nO24\\tO\\t0.058363\\t-0.783531\\t0.058495\\nO25\\tO\\t-0.741000\\t-1.453889\\t-0.570447\\nO26\\tO\\t-0.241000\\t-0.953889\\t-0.070447\\nO27\\tO\\t-0.570665\\t-1.283522\\t-0.570504\\nO28\\tO\\t-0.070665\\t-0.783522\\t-0.070504\\nO29\\tO\\t-0.741032\\t-1.582983\\t-0.441403\\nO30\\tO\\t-0.241032\\t-1.082983\\t0.058597\\nO31\\tO\\t-0.441609\\t-1.582801\\t-0.740891\\nO32\\tO\\t0.058391\\t-1.082801\\t-0.240891\\nO33\\tO\\t-0.570649\\t-1.453785\\t-0.740834\\nO34\\tO\\t-0.070649\\t-0.953785\\t-0.240834\\nC35\\tC\\t-0.506149\\t-1.245406\\t-0.506003\\nC36\\tC\\t-0.006149\\t-0.745406\\t-0.006003\\nC37\\tC\\t-0.506165\\t-1.128629\\t-0.506023\\nC38\\tC\\t-0.006165\\t-0.628629\\t-0.006023\\nC39\\tC\\t-0.506146\\t-1.518309\\t-0.778984\\nC40\\tC\\t-0.006146\\t-1.018309\\t-0.278984\\nC41\\tC\\t-0.506171\\t-1.518377\\t-0.895760\\nC42\\tC\\t-0.006171\\t-1.018377\\t-0.395760\\nC43\\tC\\t-0.780203\\t-1.518446\\t-0.505910\\nC44\\tC\\t-0.280203\\t-1.018446\\t-0.005910\\nC45\\tC\\t-0.896980\\t-1.518478\\t-0.505865\\nC46\\tC\\t-0.396980\\t-1.018478\\t-0.005865\\nC47\\tC\\t-0.951848\\t-1.451328\\t-0.438653\\nC48\\tC\\t-0.451848\\t-0.951328\\t0.061347\\nC49\\tC\\t-1.061572\\t-1.451353\\t-0.438620\\nC50\\tC\\t-0.561572\\t-0.951353\\t0.061380\\nC51\\tC\\t-1.061551\\t-1.585685\\t-0.573015\\nC52\\tC\\t-0.561551\\t-1.085685\\t-0.073015\\nC53\\tC\\t-0.951829\\t-1.585654\\t-0.573052\\nC54\\tC\\t-0.451829\\t-1.085654\\t-0.073052\\nC55\\tC\\t-0.233202\\t-1.518360\\t-0.506046\\nC56\\tC\\t0.266798\\t-1.018360\\t-0.006046\\nC57\\tC\\t-0.116426\\t-1.518533\\t-0.505796\\nC58\\tC\\t0.383574\\t-1.018533\\t-0.005796\\nC59\\tC\\t-0.506191\\t-1.792406\\t-0.506030\\nC60\\tC\\t-0.006191\\t-1.292406\\t-0.006030\\nC61\\tC\\t-0.506200\\t-1.909183\\t-0.506036\\nC62\\tC\\t-0.006200\\t-1.409183\\t-0.006036\\nC63\\tC\\t-0.573244\\t-1.073790\\t-0.573296\\nC64\\tC\\t-0.073244\\t-0.573790\\t-0.073296\\nC65\\tC\\t-0.573265\\t-0.964066\\t-0.573300\\nC66\\tC\\t-0.073265\\t-0.464066\\t-0.073300\\nC67\\tC\\t-0.439118\\t-0.964030\\t-0.438756\\nC68\\tC\\t0.060882\\t-0.464030\\t0.061244\\nC69\\tC\\t-0.439104\\t-1.073752\\t-0.438747\\nC70\\tC\\t0.060896\\t-0.573752\\t0.061253\\nC71\\tC\\t-0.439056\\t-1.585632\\t-0.950617\\nC72\\tC\\t0.060944\\t-1.085632\\t-0.450617\\nC73\\tC\\t-0.439091\\t-1.585700\\t-1.060341\\nC74\\tC\\t0.060909\\t-1.085700\\t-0.560341\\nC75\\tC\\t-0.573359\\t-1.451248\\t-1.060342\\nC76\\tC\\t-0.073359\\t-0.951248\\t-0.560342\\nC77\\tC\\t-0.573328\\t-1.451187\\t-0.950620\\nC78\\tC\\t-0.073328\\t-0.951187\\t-0.450620\\nC79\\tC\\t-0.506217\\t-1.518466\\t-0.231983\\nC80\\tC\\t-0.006217\\t-1.018466\\t0.268017\\nC81\\tC\\t-0.506237\\t-1.518506\\t-0.115206\\nC82\\tC\\t-0.006237\\t-1.018506\\t0.384794\\nH83\\tH\\t-0.907193\\t-1.396629\\t-0.383945\\nH84\\tH\\t-0.407193\\t-0.896629\\t0.116055\\nF85\\tF\\t-0.367750\\t-0.905617\\t-0.367161\\nF86\\tF\\t0.132250\\t-0.405617\\t0.132839\\nH87\\tH\\t-1.106240\\t-1.396672\\t-0.383891\\nH88\\tH\\t-0.606240\\t-0.896672\\t0.116109\\nF89\\tF\\t-0.367583\\t-1.657144\\t-0.892234\\nF90\\tF\\t0.132417\\t-1.157144\\t-0.392234\\nF91\\tF\\t-0.644769\\t-1.379606\\t-0.892234\\nF92\\tF\\t-0.144769\\t-0.879606\\t-0.392234\\nH93\\tH\\t-0.384480\\t-1.118403\\t-0.383959\\nH94\\tH\\t0.115520\\t-0.618403\\t0.116041\\nH95\\tH\\t-1.106222\\t-1.640379\\t-0.627715\\nH96\\tH\\t-0.606222\\t-1.140379\\t-0.127715\\nF97\\tF\\t-0.644619\\t-1.132190\\t-0.644894\\nF98\\tF\\t-0.144619\\t-0.632190\\t-0.144894\\nF99\\tF\\t-0.893431\\t-1.657124\\t-0.644596\\nF100\\tF\\t-0.393431\\t-1.157124\\t-0.144596\\nF101\\tF\\t-0.367661\\t-1.657284\\t-1.118718\\nF102\\tF\\t0.132339\\t-1.157284\\t-0.618718\\nH103\\tH\\t-0.627889\\t-0.919420\\t-0.628078\\nH104\\tH\\t-0.127889\\t-0.419420\\t-0.128078\\nH105\\tH\\t-0.628034\\t-1.396543\\t-1.105022\\nH106\\tH\\t-0.128034\\t-0.896543\\t-0.605022\\n\", 'lcd': 4.25, 'pld': 2.25, 'url': '/mofs/15340.json', 'name': 'hMOF-7', 'pxrd': None, 'heats': [{'id': 6452474, 'DOI': '10.1039/C2EE23201D', 'date': '2021-16-02', 'simin': 'SimulationType                MonteCarlo\\nNumberOfCycles                1000\\nNumberOfInitializationCycles  1000\\nPrintEvery                    250\\nRestartFile                   no\\n\\nChargeMethod                  Ewald\\nCutOff                        12.0\\nForcefield                    CrystalGenerator\\nEwaldPrecision                1e-6\\n\\nUseChargesFromMOLFile yes\\n\\nFramework 0\\nFrameworkName IRMOF-1_test\\nInputFileType mol\\nUnitCells 2 2 2\\nHeliumVoidFraction 0.792\\nExternalTemperature 298\\nExternalPressure 0.01E5 0.05E5 0.1E5 0.5E5 2.5E5\\n\\nComponent 0 MoleculeName             CO2\\n            StartingBead             0\\n            MoleculeDefinition       TraPPE\\n            IdealGasRosenbluthWeight 1.0\\n            TranslationProbability   1.0\\n            RotationProbability      1.0\\n            ReinsertionProbability   1.0\\n            SwapProbability          1.0\\n            CreateNumberOfMolecules  0', 'doi_url': 'https://pubs.rsc.org/en/content/articlehtml/2012/ee/c2ee23201d?casa_token=c1Grx6ihYUUAAAAA:-XLnwTHPi7_fEhksakQrtAdf-b9hJNlf5y244-ljUQu7BdVNpPxoEl3B8WB3lRfihJQ4Kdrlij5naRA', 'category': 'exp', 'adsorbent': {'id': 15340, 'name': 'hMOF-7'}, 'digitizer': 'S Bobbitt', 'adsorbates': [{'id': 24, 'name': 'CarbonDioxide', 'formula': 'CO2', 'InChIKey': 'CURLTUGMZLYLDI-UHFFFAOYSA-N', 'InChICode': 'InChI=1S/CO2/c2-1-3'}], 'temperature': 298, 'batch_number': 14, 'isotherm_url': '/isotherms/6452474.json', 'isotherm_data': [{'pressure': 0.01, 'species_data': [{'name': 'CarbonDioxide', 'InChIKey': 'CURLTUGMZLYLDI-UHFFFAOYSA-N', 'adsorption': 36.1516, 'composition': 1}], 'total_adsorption': 36.1516}, {'pressure': 0.1, 'species_data': [{'name': 'CarbonDioxide', 'InChIKey': 'CURLTUGMZLYLDI-UHFFFAOYSA-N', 'adsorption': 35.4737, 'composition': 1}], 'total_adsorption': 35.4737}, {'pressure': 2.5, 'species_data': [{'name': 'CarbonDioxide', 'InChIKey': 'CURLTUGMZLYLDI-UHFFFAOYSA-N', 'adsorption': 34.104, 'composition': 1}], 'total_adsorption': 34.104}, {'pressure': 0.05, 'species_data': [{'name': 'CarbonDioxide', 'InChIKey': 'CURLTUGMZLYLDI-UHFFFAOYSA-N', 'adsorption': 30.6837, 'composition': 1}], 'total_adsorption': 30.6837}, {'pressure': 0.5, 'species_data': [{'name': 'CarbonDioxide', 'InChIKey': 'CURLTUGMZLYLDI-UHFFFAOYSA-N', 'adsorption': 33.8138, 'composition': 1}], 'total_adsorption': 33.8138}], 'pressureUnits': 'bar', 'adsorptionUnits': 'kj/mol', 'compositionType': 'molefraction', 'molecule_forcefield': 'TraPPE', 'adsorbent_forcefield': 'UFF'}, {'id': 6590125, 'DOI': '10.1021/acs.jpcc.6b08729', 'date': '2021-57-03', 'simin': 'SimulationType                MonteCarlo\\nNumberOfCycles                2000\\nNumberOfInitializationCycles  2000\\nPrintEvery                    250\\nRestart File                  no\\n\\nRemoveAtomNumberCodeFromLabel yes\\n\\nCutOffVDW                     12.8\\nForcefield                    UFF_FH\\n\\nFramework 0\\nFrameworkName this_name_changes\\nUnitCells 2 2 2\\nHeliumVoidFraction 0.8000\\nExternalTemperature 77\\nExternalPressure 2E5\\n\\n\\nComponent 0 MoleculeName            hydrogen\\n            StartingBead             0\\n            MoleculeDefinition       TraPPE\\n            IdealGasRosenbluthWeight 1.0\\n            TranslationProbability   1.0\\n            ReinsertionProbability   1.0\\n            SwapProbability          1.0\\n            CreateNumberOfMolecules  0\\n', 'doi_url': 'https://pubs.acs.org/doi/abs/10.1021/acs.jpcc.6b08729?casa_token=7Dx9VmjlRIkAAAAA:CbUhQ50anABy5Q_YY-QUM-aA1GCi3uLVMI6SJp4OHe3mDkUlf0yAd7z7eQhHs1qKu79OTrDKB05QJAHN', 'category': 'exp', 'adsorbent': {'id': 15340, 'name': 'hMOF-7'}, 'digitizer': 'S Bobbitt', 'adsorbates': [{'id': 227, 'name': 'Hydrogen', 'formula': 'H2', 'InChIKey': 'UFHFLCQGNIYNRP-UHFFFAOYSA-N', 'InChICode': 'InChI=1S/H2/h1H'}], 'temperature': 77, 'batch_number': 16, 'isotherm_url': '/isotherms/6590125.json', 'isotherm_data': [{'pressure': 2, 'species_data': [{'name': 'Hydrogen', 'InChIKey': 'UFHFLCQGNIYNRP-UHFFFAOYSA-N', 'adsorption': 7.25315, 'composition': 1}], 'total_adsorption': 7.25315}, {'pressure': 100, 'species_data': [{'name': 'Hydrogen', 'InChIKey': 'UFHFLCQGNIYNRP-UHFFFAOYSA-N', 'adsorption': 6.1681, 'composition': 1}], 'total_adsorption': 6.1681}], 'pressureUnits': 'bar', 'adsorptionUnits': 'kj/mol', 'compositionType': 'molefraction', 'molecule_forcefield': 'Darkrim-Levesque', 'adsorbent_forcefield': 'UFF'}, {'id': 6728078, 'DOI': '10.1038/nchem.1192', 'date': '2021-27-04', 'simin': 'SimulationType                MonteCarlo\\nNumberOfCycles                1500\\nNumberOfInitializationCycles  1500\\nPrintEvery                    1500\\nRestart File                  no\\n\\nChargeMethod                  none\\nCutOff                        12.8\\nForcefield                    CrystalGenerator\\nEwaldPrecision                1e-6\\n\\nFramework 0\\nFrameworkName hypotheticalMOF_0\\nInputFileType mol\\nUnitCells 2 2 2\\nHeliumVoidFraction 0.741222\\nExternalTemperature 298\\nExternalPressure 35E5\\n\\n\\nComponent 0 MoleculeName            methane\\n            StartingBead             0\\n            MoleculeDefinition       TraPPE\\n            IdealGasRosenbluthWeight 1.0\\n            TranslationProbability   1.0\\n            RotationProbability      1.0\\n            ReinsertionProbability   1.0\\n            SwapProbability          1.0\\n            CreateNumberOfMolecules  0\\n', 'doi_url': 'https://www.nature.com/articles/nchem.1192', 'category': 'exp', 'adsorbent': {'id': 15340, 'name': 'hMOF-7'}, 'digitizer': 'S Bobbitt', 'adsorbates': [{'id': 243, 'name': 'Methane', 'formula': 'CH4', 'InChIKey': 'VNWKTOKETHGBQD-UHFFFAOYSA-N', 'InChICode': 'InChI=1S/CH4/h1H4'}], 'temperature': 298, 'batch_number': 18, 'isotherm_url': '/isotherms/6728078.json', 'isotherm_data': [{'pressure': 35, 'species_data': [{'name': 'Methane', 'InChIKey': 'VNWKTOKETHGBQD-UHFFFAOYSA-N', 'adsorption': 18.4622, 'composition': 1}], 'total_adsorption': 18.4622}], 'pressureUnits': 'bar', 'adsorptionUnits': 'kj/mol', 'compositionType': 'molefraction', 'molecule_forcefield': 'TraPPE', 'adsorbent_forcefield': 'UFF'}, {'id': 6866031, 'DOI': '10.1039/C2EE23201D', 'date': '2021-11-05', 'simin': 'SimulationType                MonteCarlo\\nNumberOfCycles                1000\\nNumberOfInitializationCycles  1000\\nPrintEvery                    250\\nRestartFile                   no\\n\\nChargeMethod                  none\\nCutOff                        12.0\\nForcefield                    CrystalGenerator\\nEwaldPrecision                1e-6\\n\\nFramework 0\\nFrameworkName IRMOF-1\\nInputFileType mol\\nUnitCells 2 2 2\\nHeliumVoidFraction 0.792\\nExternalTemperature 298\\nExternalPressure 0.05E5 0.5E5 0.9E5 2.5E5 4.5E5\\n\\nComponent 0 MoleculeName            methane\\n            StartingBead             0\\n            MoleculeDefinition       TraPPE\\n            IdealGasRosenbluthWeight 1.0\\n            TranslationProbability   1.0\\n            RotationProbability      1.0\\n            ReinsertionProbability   1.0\\n            SwapProbability          1.0\\n            CreateNumberOfMolecules  0\\n\\n', 'doi_url': 'https://pubs.rsc.org/en/content/articlehtml/2012/ee/c2ee23201d?casa_token=c1Grx6ihYUUAAAAA:-XLnwTHPi7_fEhksakQrtAdf-b9hJNlf5y244-ljUQu7BdVNpPxoEl3B8WB3lRfihJQ4Kdrlij5naRA', 'category': 'exp', 'adsorbent': {'id': 15340, 'name': 'hMOF-7'}, 'digitizer': 'S Bobbitt', 'adsorbates': [{'id': 243, 'name': 'Methane', 'formula': 'CH4', 'InChIKey': 'VNWKTOKETHGBQD-UHFFFAOYSA-N', 'InChICode': 'InChI=1S/CH4/h1H4'}], 'temperature': 298, 'batch_number': 19, 'isotherm_url': '/isotherms/6866031.json', 'isotherm_data': [{'pressure': 2.5, 'species_data': [{'name': 'Methane', 'InChIKey': 'VNWKTOKETHGBQD-UHFFFAOYSA-N', 'adsorption': 20.18, 'composition': 1}], 'total_adsorption': 20.18}, {'pressure': 4.5, 'species_data': [{'name': 'Methane', 'InChIKey': 'VNWKTOKETHGBQD-UHFFFAOYSA-N', 'adsorption': 20.2272, 'composition': 1}], 'total_adsorption': 20.2272}, {'pressure': 0.05, 'species_data': [{'name': 'Methane', 'InChIKey': 'VNWKTOKETHGBQD-UHFFFAOYSA-N', 'adsorption': 21.1686, 'composition': 1}], 'total_adsorption': 21.1686}, {'pressure': 0.5, 'species_data': [{'name': 'Methane', 'InChIKey': 'VNWKTOKETHGBQD-UHFFFAOYSA-N', 'adsorption': 20.3, 'composition': 1}], 'total_adsorption': 20.3}, {'pressure': 0.9, 'species_data': [{'name': 'Methane', 'InChIKey': 'VNWKTOKETHGBQD-UHFFFAOYSA-N', 'adsorption': 20.4296, 'composition': 1}], 'total_adsorption': 20.4296}], 'pressureUnits': 'bar', 'adsorptionUnits': 'kj/mol', 'compositionType': 'molefraction', 'molecule_forcefield': 'TraPPE', 'adsorbent_forcefield': 'UFF'}, {'id': 7003652, 'DOI': '10.1039/C2EE23201D', 'date': '2021-24-06', 'simin': 'SimulationType                MonteCarlo\\nNumberOfCycles                1000\\nNumberOfInitializationCycles  1000\\nPrintEvery                    250\\nRestartFile                   no\\n\\nChargeMethod                  Ewald\\nCutOff                        12.0\\nForcefield                    CrystalGenerator\\nEwaldPrecision                1e-6\\n\\nUseChargesFromMOLFile yes\\n\\nFramework 0\\nFrameworkName IRMOF-1_test\\nInputFileType mol\\nUnitCells 2 2 2\\nHeliumVoidFraction 0.792\\nExternalTemperature 298\\nExternalPressure 0.09E5 0.9E5\\n\\nComponent 0 MoleculeName             N2\\n            StartingBead             0\\n            MoleculeDefinition       TraPPE\\n            IdealGasRosenbluthWeight 1.0\\n            TranslationProbability   1.0\\n            RotationProbability      1.0\\n            ReinsertionProbability   1.0\\n            SwapProbability          1.0\\n            CreateNumberOfMolecules  0', 'doi_url': 'https://pubs.rsc.org/en/content/articlehtml/2012/ee/c2ee23201d?casa_token=c1Grx6ihYUUAAAAA:-XLnwTHPi7_fEhksakQrtAdf-b9hJNlf5y244-ljUQu7BdVNpPxoEl3B8WB3lRfihJQ4Kdrlij5naRA', 'category': 'exp', 'adsorbent': {'id': 15340, 'name': 'hMOF-7'}, 'digitizer': 'S Bobbitt', 'adsorbates': [{'id': 80, 'name': 'Nitrogen', 'formula': 'N2', 'InChIKey': 'IJGRMHOSHXDMSA-UHFFFAOYSA-N', 'InChICode': 'InChI=1S/N2/c1-2'}], 'temperature': 298, 'batch_number': 21, 'isotherm_url': '/isotherms/7003652.json', 'isotherm_data': [{'pressure': 0.09, 'species_data': [{'name': 'Nitrogen', 'InChIKey': 'IJGRMHOSHXDMSA-UHFFFAOYSA-N', 'adsorption': 18.0691, 'composition': 1}], 'total_adsorption': 18.0691}, {'pressure': 0.9, 'species_data': [{'name': 'Nitrogen', 'InChIKey': 'IJGRMHOSHXDMSA-UHFFFAOYSA-N', 'adsorption': 18.7702, 'composition': 1}], 'total_adsorption': 18.7702}], 'pressureUnits': 'bar', 'adsorptionUnits': 'kj/mol', 'compositionType': 'molefraction', 'molecule_forcefield': 'TraPPE', 'adsorbent_forcefield': 'UFF'}], 'mofid': '[O-]C(=O)c1cc(F)c(c(c1F)F)C(=O)[O-].[O-]C(=O)c1cc(F)c(cc1F)C(=O)[O-].[O-]C(=O)c1ccc(c(c1)F)C(=O)[O-].[Zn][O]([Zn])([Zn])[Zn] MOFid-v1.pcu.cat1', 'mofkey': 'Zn.LWKOWFVDUSZDRA.SEOCHRNHZMPVAE.YUWKPDBHJFNMAD.MOFkey-v1.pcu', 'hashkey': 'e798fef5d6ab32c017d4feac12f78d8630bbd5a45dbbc84bdd', 'database': 'hMOF', 'elements': [{'name': 'Zinc', 'symbol': 'Zn'}, {'name': 'Oxygen', 'symbol': 'O'}, {'name': 'Carbon', 'symbol': 'C'}, {'name': 'Hydrogen', 'symbol': 'H'}, {'name': 'Fluorine', 'symbol': 'F'}], 'isotherms': [{'id': 5105128, 'DOI': '10.1039/C2EE23201D', 'date': '2020-27-17', 'simin': 'SimulationType                MonteCarlo\\nNumberOfCycles                1000\\nNumberOfInitializationCycles  1000\\nPrintEvery                    250\\nRestartFile                   no\\n\\nChargeMethod                  Ewald\\nCutOff                        12.0\\nForcefield                    CrystalGenerator\\nEwaldPrecision                1e-6\\n\\nUseChargesFromMOLFile yes\\n\\nFramework 0\\nFrameworkName IRMOF-1_test\\nInputFileType mol\\nUnitCells 2 2 2\\nHeliumVoidFraction 0.792\\nExternalTemperature 298\\nExternalPressure 0.01E5 0.05E5 0.1E5 0.5E5 2.5E5\\n\\nComponent 0 MoleculeName             CO2\\n            StartingBead             0\\n            MoleculeDefinition       TraPPE\\n            IdealGasRosenbluthWeight 1.0\\n            TranslationProbability   1.0\\n            RotationProbability      1.0\\n            ReinsertionProbability   1.0\\n            SwapProbability          1.0\\n            CreateNumberOfMolecules  0', 'doi_url': 'https://pubs.rsc.org/en/content/articlehtml/2012/ee/c2ee23201d?casa_token=c1Grx6ihYUUAAAAA:-XLnwTHPi7_fEhksakQrtAdf-b9hJNlf5y244-ljUQu7BdVNpPxoEl3B8WB3lRfihJQ4Kdrlij5naRA', 'category': 'exp', 'adsorbent': {'id': 15340, 'name': 'hMOF-7'}, 'digitizer': 'S Bobbitt', 'adsorbates': [{'id': 24, 'name': 'CarbonDioxide', 'formula': 'CO2', 'InChIKey': 'CURLTUGMZLYLDI-UHFFFAOYSA-N', 'InChICode': 'InChI=1S/CO2/c2-1-3'}], 'temperature': 298, 'batch_number': None, 'isotherm_url': '/isotherms/5105128.json', 'isotherm_data': [{'pressure': 0.01, 'species_data': [{'name': 'CarbonDioxide', 'InChIKey': 'CURLTUGMZLYLDI-UHFFFAOYSA-N', 'adsorption': 1.20398, 'composition': 1}], 'total_adsorption': 1.20398}, {'pressure': 0.1, 'species_data': [{'name': 'CarbonDioxide', 'InChIKey': 'CURLTUGMZLYLDI-UHFFFAOYSA-N', 'adsorption': 3.16225, 'composition': 1}], 'total_adsorption': 3.16225}, {'pressure': 2.5, 'species_data': [{'name': 'CarbonDioxide', 'InChIKey': 'CURLTUGMZLYLDI-UHFFFAOYSA-N', 'adsorption': 5.46213, 'composition': 1}], 'total_adsorption': 5.46213}, {'pressure': 0.05, 'species_data': [{'name': 'CarbonDioxide', 'InChIKey': 'CURLTUGMZLYLDI-UHFFFAOYSA-N', 'adsorption': 2.48016, 'composition': 1}], 'total_adsorption': 2.48016}, {'pressure': 0.5, 'species_data': [{'name': 'CarbonDioxide', 'InChIKey': 'CURLTUGMZLYLDI-UHFFFAOYSA-N', 'adsorption': 4.51262, 'composition': 1}], 'total_adsorption': 4.51262}], 'pressureUnits': 'bar', 'adsorptionUnits': 'mol/kg', 'compositionType': 'wt%', 'molecule_forcefield': 'TraPPE', 'adsorbent_forcefield': 'UFF'}], 'adsorbates': [{'id': 24, 'name': 'CarbonDioxide', 'formula': 'CO2', 'InChIKey': 'CURLTUGMZLYLDI-UHFFFAOYSA-N', 'InChICode': 'InChI=1S/CO2/c2-1-3'}, {'id': 33, 'name': 'Krypton', 'formula': 'Kr', 'InChIKey': 'DNNSSWSSYDEUBZ-UHFFFAOYSA-N', 'InChICode': 'InChI=1S/Kr'}, {'id': 39, 'name': 'Xenon', 'formula': 'Xe', 'InChIKey': 'HNFHKCVQCLJFQ-UHFFFAOYSA-N', 'InChICode': 'InChI=1S/Xe'}, {'id': 80, 'name': 'Nitrogen', 'formula': 'N2', 'InChIKey': 'IJGRMHOSHXDMSA-UHFFFAOYSA-N', 'InChICode': 'InChI=1S/N2/c1-2'}, {'id': 227, 'name': 'Hydrogen', 'formula': 'H2', 'InChIKey': 'UFHFLCQGNIYNRP-UHFFFAOYSA-N', 'InChICode': 'InChI=1S/H2/h1H'}, {'id': 243, 'name': 'Methane', 'formula': 'CH4', 'InChIKey': 'VNWKTOKETHGBQD-UHFFFAOYSA-N', 'InChICode': 'InChI=1S/CH4/h1H4'}], 'batch_number': None, 'mofdb_version': 'dc8a0295db', 'void_fraction': 0.327134, 'surface_area_m2g': 422.4, 'surface_area_m2cm3': 592.9, 'pore_size_distribution': None}\n"
     ]
    }
   ],
   "source": [
    "import json\n",
    "  \n",
    "# Opening JSON file\n",
    "f = open('../data/raw/hmof/hMOF-7.json')\n",
    "  \n",
    "# returns JSON object as \n",
    "# a dictionary\n",
    "data = json.load(f)\n",
    "  \n",
    "print(data)\n",
    "  \n",
    "# Closing file\n",
    "f.close()"
   ]
  },
  {
   "cell_type": "markdown",
   "id": "9a252dda",
   "metadata": {},
   "source": [
    "Unfortunately these isotherms only have datapoints at 0.01, 0.05, 0.1, 0.5, and 2.5 bar, not at 1. As pressure rises above atmospheric pressure, you begin packing in gas tighter than would be expected, and the pore volume becomes disproportionately more important because that free volume allows more gas to get packed in. At sub-atmospheric pressure the adsorption is driven by attraction between the gas and framework. It is beneficial to have high attraction in a carbon dioxide capture process, so I believe it makes more sense to use the 0.5 bar measurements as a substitute."
   ]
  },
  {
   "cell_type": "code",
   "execution_count": 44,
   "id": "b60a5e0e",
   "metadata": {},
   "outputs": [
    {
     "name": "stdout",
     "output_type": "stream",
     "text": [
      "{'pressure': 0.1, 'species_data': [{'name': 'CarbonDioxide', 'InChIKey': 'CURLTUGMZLYLDI-UHFFFAOYSA-N', 'adsorption': 3.16225, 'composition': 1}], 'total_adsorption': 3.16225}\n"
     ]
    }
   ],
   "source": [
    "f = open('../data/raw/hmof/hMOF-7.json')\n",
    "  \n",
    "# returns JSON object as \n",
    "# a dictionary\n",
    "data = json.load(f)\n",
    "  \n",
    "print(data['isotherms'][0]['isotherm_data'][1])\n",
    "  \n",
    "# Closing file\n",
    "f.close()"
   ]
  },
  {
   "cell_type": "code",
   "execution_count": null,
   "id": "21288d74",
   "metadata": {},
   "outputs": [],
   "source": [
    "hmof = pd.DataFrame(columns=['hmof_id', 'co2_298_0.5'])\n",
    "f = open('../data/raw/hmof/hMOF-7.json')\n",
    "file = json.load(f)\n",
    "\n",
    "if file['isotherms'][0]['adsorbates']['formula'] == 'CO2':\n",
    "    for i in range(len(data['isotherms'][0]['isotherm_data'])):\n",
    "        if data['isotherms'][0]['isotherm_data'][i]['pressure'] == 0.5:\n",
    "            new_row = pd.series('hmof_id': ,'co2_298_0.5': data['isotherms'][0]['isotherm_data'][i]['adsorption'])\n",
    "            pd.concat([hmof, new_row.to_frame().T], ignore_index=True)\n"
   ]
  }
 ],
 "metadata": {
  "kernelspec": {
   "display_name": "Python 3 (ipykernel)",
   "language": "python",
   "name": "python3"
  },
  "language_info": {
   "codemirror_mode": {
    "name": "ipython",
    "version": 3
   },
   "file_extension": ".py",
   "mimetype": "text/x-python",
   "name": "python",
   "nbconvert_exporter": "python",
   "pygments_lexer": "ipython3",
   "version": "3.10.9"
  }
 },
 "nbformat": 4,
 "nbformat_minor": 5
}
