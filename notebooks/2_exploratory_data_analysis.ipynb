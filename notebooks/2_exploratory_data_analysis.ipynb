{
 "cells": [
  {
   "cell_type": "markdown",
   "id": "f1ec0351",
   "metadata": {},
   "source": [
    "# Capturing greenhouse gases with data\n",
    "\n",
    "## Exploratory Data Analysis\n",
    "\n",
    "### by Zachary Brown"
   ]
  },
  {
   "cell_type": "markdown",
   "id": "dfd3075a",
   "metadata": {},
   "source": [
    "In the ARC-MOF data wrangling notebook I combined five datasets on hypothetical MOF properties and then reduced it to only entries focused on post-combustion vacuum swing adsorption (VSA). Now in this notebook I will explore the data to look for correlations that may help drive model development, and to gain a better understanding for myself as to which features help improve CO2 uptake.\n",
    "\n",
    "First I'll install any new libraries needed that weren't included in the previous notebook. I'll then import the necessary libraries."
   ]
  },
  {
   "cell_type": "code",
   "execution_count": 5,
   "id": "6c0116db",
   "metadata": {},
   "outputs": [
    {
     "name": "stdout",
     "output_type": "stream",
     "text": [
      "Requirement already satisfied: seaborn==0.12.2 in c:\\users\\zachary brown\\anaconda3\\envs\\mof\\lib\\site-packages (0.12.2)\n",
      "Requirement already satisfied: numpy!=1.24.0,>=1.17 in c:\\users\\zachary brown\\anaconda3\\envs\\mof\\lib\\site-packages (from seaborn==0.12.2) (1.24.2)\n",
      "Requirement already satisfied: pandas>=0.25 in c:\\users\\zachary brown\\anaconda3\\envs\\mof\\lib\\site-packages (from seaborn==0.12.2) (1.5.3)\n",
      "Requirement already satisfied: matplotlib!=3.6.1,>=3.1 in c:\\users\\zachary brown\\anaconda3\\envs\\mof\\lib\\site-packages (from seaborn==0.12.2) (3.7.0)\n",
      "Requirement already satisfied: packaging>=20.0 in c:\\users\\zachary brown\\anaconda3\\envs\\mof\\lib\\site-packages (from matplotlib!=3.6.1,>=3.1->seaborn==0.12.2) (22.0)\n",
      "Requirement already satisfied: kiwisolver>=1.0.1 in c:\\users\\zachary brown\\anaconda3\\envs\\mof\\lib\\site-packages (from matplotlib!=3.6.1,>=3.1->seaborn==0.12.2) (1.4.4)\n",
      "Requirement already satisfied: pyparsing>=2.3.1 in c:\\users\\zachary brown\\anaconda3\\envs\\mof\\lib\\site-packages (from matplotlib!=3.6.1,>=3.1->seaborn==0.12.2) (3.0.9)\n",
      "Requirement already satisfied: contourpy>=1.0.1 in c:\\users\\zachary brown\\anaconda3\\envs\\mof\\lib\\site-packages (from matplotlib!=3.6.1,>=3.1->seaborn==0.12.2) (1.0.7)\n",
      "Requirement already satisfied: cycler>=0.10 in c:\\users\\zachary brown\\anaconda3\\envs\\mof\\lib\\site-packages (from matplotlib!=3.6.1,>=3.1->seaborn==0.12.2) (0.11.0)\n",
      "Requirement already satisfied: pillow>=6.2.0 in c:\\users\\zachary brown\\anaconda3\\envs\\mof\\lib\\site-packages (from matplotlib!=3.6.1,>=3.1->seaborn==0.12.2) (9.4.0)\n",
      "Requirement already satisfied: python-dateutil>=2.7 in c:\\users\\zachary brown\\anaconda3\\envs\\mof\\lib\\site-packages (from matplotlib!=3.6.1,>=3.1->seaborn==0.12.2) (2.8.2)\n",
      "Requirement already satisfied: fonttools>=4.22.0 in c:\\users\\zachary brown\\anaconda3\\envs\\mof\\lib\\site-packages (from matplotlib!=3.6.1,>=3.1->seaborn==0.12.2) (4.38.0)\n",
      "Requirement already satisfied: pytz>=2020.1 in c:\\users\\zachary brown\\anaconda3\\envs\\mof\\lib\\site-packages (from pandas>=0.25->seaborn==0.12.2) (2022.7.1)\n",
      "Requirement already satisfied: six>=1.5 in c:\\users\\zachary brown\\anaconda3\\envs\\mof\\lib\\site-packages (from python-dateutil>=2.7->matplotlib!=3.6.1,>=3.1->seaborn==0.12.2) (1.16.0)\n",
      "Requirement already satisfied: statsmodels==0.13.5 in c:\\users\\zachary brown\\anaconda3\\envs\\mof\\lib\\site-packages (0.13.5)\n",
      "Requirement already satisfied: numpy>=1.22.3 in c:\\users\\zachary brown\\anaconda3\\envs\\mof\\lib\\site-packages (from statsmodels==0.13.5) (1.24.2)\n",
      "Requirement already satisfied: scipy>=1.3 in c:\\users\\zachary brown\\anaconda3\\envs\\mof\\lib\\site-packages (from statsmodels==0.13.5) (1.10.1)\n",
      "Requirement already satisfied: patsy>=0.5.2 in c:\\users\\zachary brown\\anaconda3\\envs\\mof\\lib\\site-packages (from statsmodels==0.13.5) (0.5.3)\n",
      "Requirement already satisfied: packaging>=21.3 in c:\\users\\zachary brown\\anaconda3\\envs\\mof\\lib\\site-packages (from statsmodels==0.13.5) (22.0)\n",
      "Requirement already satisfied: pandas>=0.25 in c:\\users\\zachary brown\\anaconda3\\envs\\mof\\lib\\site-packages (from statsmodels==0.13.5) (1.5.3)\n",
      "Requirement already satisfied: pytz>=2020.1 in c:\\users\\zachary brown\\anaconda3\\envs\\mof\\lib\\site-packages (from pandas>=0.25->statsmodels==0.13.5) (2022.7.1)\n",
      "Requirement already satisfied: python-dateutil>=2.8.1 in c:\\users\\zachary brown\\anaconda3\\envs\\mof\\lib\\site-packages (from pandas>=0.25->statsmodels==0.13.5) (2.8.2)\n",
      "Requirement already satisfied: six in c:\\users\\zachary brown\\anaconda3\\envs\\mof\\lib\\site-packages (from patsy>=0.5.2->statsmodels==0.13.5) (1.16.0)\n",
      "Requirement already satisfied: scipy==1.10.1 in c:\\users\\zachary brown\\anaconda3\\envs\\mof\\lib\\site-packages (1.10.1)\n",
      "Requirement already satisfied: numpy<1.27.0,>=1.19.5 in c:\\users\\zachary brown\\anaconda3\\envs\\mof\\lib\\site-packages (from scipy==1.10.1) (1.24.2)\n"
     ]
    }
   ],
   "source": [
    "!pip install seaborn==0.12.2\n",
    "!pip install statsmodels==0.13.5\n",
    "!pip install scipy==1.10.1"
   ]
  },
  {
   "cell_type": "code",
   "execution_count": 6,
   "id": "3c670507",
   "metadata": {},
   "outputs": [],
   "source": [
    "import numpy as np\n",
    "import pandas as pd\n",
    "import matplotlib.pyplot as plt\n",
    "import seaborn as sns\n",
    "import statsmodels.api as sm \n",
    "from statsmodels.graphics.api import abline_plot\n",
    "import scipy.stats"
   ]
  },
  {
   "cell_type": "code",
   "execution_count": 2,
   "id": "7167be84",
   "metadata": {},
   "outputs": [],
   "source": [
    "data = pd.read_csv('../data/interim/wrangled.csv')"
   ]
  },
  {
   "cell_type": "code",
   "execution_count": 3,
   "id": "c22d80b6",
   "metadata": {},
   "outputs": [
    {
     "data": {
      "text/html": [
       "<div>\n",
       "<style scoped>\n",
       "    .dataframe tbody tr th:only-of-type {\n",
       "        vertical-align: middle;\n",
       "    }\n",
       "\n",
       "    .dataframe tbody tr th {\n",
       "        vertical-align: top;\n",
       "    }\n",
       "\n",
       "    .dataframe thead th {\n",
       "        text-align: right;\n",
       "    }\n",
       "</style>\n",
       "<table border=\"1\" class=\"dataframe\">\n",
       "  <thead>\n",
       "    <tr style=\"text-align: right;\">\n",
       "      <th></th>\n",
       "      <th>filename</th>\n",
       "      <th>unit_cell_volume</th>\n",
       "      <th>Density</th>\n",
       "      <th>accessible_surface_area</th>\n",
       "      <th>volumetric_surface_area</th>\n",
       "      <th>gravimetric_surface_area</th>\n",
       "      <th>inaccessible_surface_area</th>\n",
       "      <th>inac_grav_surf_area</th>\n",
       "      <th>inac_vol_surf_area</th>\n",
       "      <th>accessible_volume_per_uc</th>\n",
       "      <th>...</th>\n",
       "      <th>D_func-alpha-2-all</th>\n",
       "      <th>D_func-alpha-3-all</th>\n",
       "      <th>order_f-lig</th>\n",
       "      <th>bool_f-lig</th>\n",
       "      <th>order_mc</th>\n",
       "      <th>bool_mc</th>\n",
       "      <th>order_func</th>\n",
       "      <th>bool_func</th>\n",
       "      <th>order_lc</th>\n",
       "      <th>bool_lc</th>\n",
       "    </tr>\n",
       "  </thead>\n",
       "  <tbody>\n",
       "    <tr>\n",
       "      <th>0</th>\n",
       "      <td>DB0-m2_o1_o10_f0_pcu.sym.66.cif</td>\n",
       "      <td>901.788</td>\n",
       "      <td>1.233220</td>\n",
       "      <td>87.4832</td>\n",
       "      <td>970.108</td>\n",
       "      <td>786.644</td>\n",
       "      <td>0.000000</td>\n",
       "      <td>0.000000</td>\n",
       "      <td>0.000000</td>\n",
       "      <td>26.0256</td>\n",
       "      <td>...</td>\n",
       "      <td>41.885780</td>\n",
       "      <td>23.764297</td>\n",
       "      <td>43831</td>\n",
       "      <td>True</td>\n",
       "      <td>18963</td>\n",
       "      <td>True</td>\n",
       "      <td>21096</td>\n",
       "      <td>True</td>\n",
       "      <td>4072</td>\n",
       "      <td>True</td>\n",
       "    </tr>\n",
       "    <tr>\n",
       "      <th>1</th>\n",
       "      <td>DB0-m3_o23_o23_f0_pcu.sym.74.cif</td>\n",
       "      <td>7545.840</td>\n",
       "      <td>0.537679</td>\n",
       "      <td>1566.3300</td>\n",
       "      <td>2075.750</td>\n",
       "      <td>3860.570</td>\n",
       "      <td>0.000000</td>\n",
       "      <td>0.000000</td>\n",
       "      <td>0.000000</td>\n",
       "      <td>2364.4100</td>\n",
       "      <td>...</td>\n",
       "      <td>4.400000</td>\n",
       "      <td>17.857187</td>\n",
       "      <td>100001</td>\n",
       "      <td>False</td>\n",
       "      <td>44145</td>\n",
       "      <td>True</td>\n",
       "      <td>100001</td>\n",
       "      <td>False</td>\n",
       "      <td>42138</td>\n",
       "      <td>True</td>\n",
       "    </tr>\n",
       "    <tr>\n",
       "      <th>2</th>\n",
       "      <td>DB0-m2_o8_o25_f0_pcu.sym.91.cif</td>\n",
       "      <td>4172.230</td>\n",
       "      <td>0.371648</td>\n",
       "      <td>771.9300</td>\n",
       "      <td>1850.160</td>\n",
       "      <td>4978.270</td>\n",
       "      <td>0.000000</td>\n",
       "      <td>0.000000</td>\n",
       "      <td>0.000000</td>\n",
       "      <td>2102.0500</td>\n",
       "      <td>...</td>\n",
       "      <td>-7.433333</td>\n",
       "      <td>-5.745183</td>\n",
       "      <td>100001</td>\n",
       "      <td>False</td>\n",
       "      <td>100001</td>\n",
       "      <td>False</td>\n",
       "      <td>100001</td>\n",
       "      <td>False</td>\n",
       "      <td>100001</td>\n",
       "      <td>False</td>\n",
       "    </tr>\n",
       "    <tr>\n",
       "      <th>3</th>\n",
       "      <td>DB0-m29_o82_o46_f0_pts.sym.1.cif</td>\n",
       "      <td>1715.110</td>\n",
       "      <td>0.786327</td>\n",
       "      <td>378.9050</td>\n",
       "      <td>2209.230</td>\n",
       "      <td>2809.550</td>\n",
       "      <td>0.000000</td>\n",
       "      <td>0.000000</td>\n",
       "      <td>0.000000</td>\n",
       "      <td>281.5860</td>\n",
       "      <td>...</td>\n",
       "      <td>-6.000000</td>\n",
       "      <td>-12.000000</td>\n",
       "      <td>100001</td>\n",
       "      <td>False</td>\n",
       "      <td>100001</td>\n",
       "      <td>False</td>\n",
       "      <td>100001</td>\n",
       "      <td>False</td>\n",
       "      <td>100001</td>\n",
       "      <td>False</td>\n",
       "    </tr>\n",
       "    <tr>\n",
       "      <th>4</th>\n",
       "      <td>DB0-m29_o99_o470_f0_pts.sym.128.cif</td>\n",
       "      <td>2552.970</td>\n",
       "      <td>0.754924</td>\n",
       "      <td>419.5890</td>\n",
       "      <td>1643.530</td>\n",
       "      <td>2177.080</td>\n",
       "      <td>0.164038</td>\n",
       "      <td>0.642539</td>\n",
       "      <td>0.851131</td>\n",
       "      <td>268.4700</td>\n",
       "      <td>...</td>\n",
       "      <td>-10.339258</td>\n",
       "      <td>-17.664703</td>\n",
       "      <td>100001</td>\n",
       "      <td>False</td>\n",
       "      <td>100001</td>\n",
       "      <td>False</td>\n",
       "      <td>84717</td>\n",
       "      <td>True</td>\n",
       "      <td>100001</td>\n",
       "      <td>False</td>\n",
       "    </tr>\n",
       "  </tbody>\n",
       "</table>\n",
       "<p>5 rows × 901 columns</p>\n",
       "</div>"
      ],
      "text/plain": [
       "                              filename  unit_cell_volume   Density  \\\n",
       "0      DB0-m2_o1_o10_f0_pcu.sym.66.cif           901.788  1.233220   \n",
       "1     DB0-m3_o23_o23_f0_pcu.sym.74.cif          7545.840  0.537679   \n",
       "2      DB0-m2_o8_o25_f0_pcu.sym.91.cif          4172.230  0.371648   \n",
       "3     DB0-m29_o82_o46_f0_pts.sym.1.cif          1715.110  0.786327   \n",
       "4  DB0-m29_o99_o470_f0_pts.sym.128.cif          2552.970  0.754924   \n",
       "\n",
       "   accessible_surface_area  volumetric_surface_area  gravimetric_surface_area  \\\n",
       "0                  87.4832                  970.108                   786.644   \n",
       "1                1566.3300                 2075.750                  3860.570   \n",
       "2                 771.9300                 1850.160                  4978.270   \n",
       "3                 378.9050                 2209.230                  2809.550   \n",
       "4                 419.5890                 1643.530                  2177.080   \n",
       "\n",
       "   inaccessible_surface_area  inac_grav_surf_area  inac_vol_surf_area  \\\n",
       "0                   0.000000             0.000000            0.000000   \n",
       "1                   0.000000             0.000000            0.000000   \n",
       "2                   0.000000             0.000000            0.000000   \n",
       "3                   0.000000             0.000000            0.000000   \n",
       "4                   0.164038             0.642539            0.851131   \n",
       "\n",
       "   accessible_volume_per_uc  ...  D_func-alpha-2-all  D_func-alpha-3-all  \\\n",
       "0                   26.0256  ...           41.885780           23.764297   \n",
       "1                 2364.4100  ...            4.400000           17.857187   \n",
       "2                 2102.0500  ...           -7.433333           -5.745183   \n",
       "3                  281.5860  ...           -6.000000          -12.000000   \n",
       "4                  268.4700  ...          -10.339258          -17.664703   \n",
       "\n",
       "   order_f-lig  bool_f-lig  order_mc  bool_mc  order_func  bool_func  \\\n",
       "0        43831        True     18963     True       21096       True   \n",
       "1       100001       False     44145     True      100001      False   \n",
       "2       100001       False    100001    False      100001      False   \n",
       "3       100001       False    100001    False      100001      False   \n",
       "4       100001       False    100001    False       84717       True   \n",
       "\n",
       "   order_lc  bool_lc  \n",
       "0      4072     True  \n",
       "1     42138     True  \n",
       "2    100001    False  \n",
       "3    100001    False  \n",
       "4    100001    False  \n",
       "\n",
       "[5 rows x 901 columns]"
      ]
     },
     "execution_count": 3,
     "metadata": {},
     "output_type": "execute_result"
    }
   ],
   "source": [
    "data.head()"
   ]
  },
  {
   "cell_type": "code",
   "execution_count": 4,
   "id": "db2e2ae1",
   "metadata": {},
   "outputs": [
    {
     "name": "stdout",
     "output_type": "stream",
     "text": [
      "['filename', 'unit_cell_volume', 'Density', 'accessible_surface_area', 'volumetric_surface_area', 'gravimetric_surface_area', 'inaccessible_surface_area', 'inac_grav_surf_area', 'inac_vol_surf_area', 'accessible_volume_per_uc', 'volume_fraction', 'grav_volume', 'inac_vol', 'inac_vol_frac', 'inac_grav_vol', 'probe_occupiable_vol', 'probe_occ_vol_frac', 'grav_probe_occ_vol', 'inac_probe_occ_vol', 'inac_probe_occ_vol_frac', 'inac_probe_occ_grav_vol', 'largest_cav_diameter', 'pore_limiting_diameter', 'largest_free_sphere_path_diam', 'order_geo', 'bool_geo', 'Crystalnet', 'likely topology', 'RDF_electronegativity_2.000', 'RDF_electronegativity_2.004', 'RDF_electronegativity_2.013', 'RDF_electronegativity_2.027', 'RDF_electronegativity_2.044', 'RDF_electronegativity_2.066', 'RDF_electronegativity_2.093', 'RDF_electronegativity_2.124', 'RDF_electronegativity_2.159', 'RDF_electronegativity_2.199', 'RDF_electronegativity_2.243', 'RDF_electronegativity_2.292', 'RDF_electronegativity_2.345', 'RDF_electronegativity_2.403', 'RDF_electronegativity_2.465', 'RDF_electronegativity_2.531', 'RDF_electronegativity_2.602', 'RDF_electronegativity_2.677', 'RDF_electronegativity_2.757', 'RDF_electronegativity_2.841', 'RDF_electronegativity_2.929', 'RDF_electronegativity_3.022', 'RDF_electronegativity_3.120', 'RDF_electronegativity_3.221', 'RDF_electronegativity_3.327', 'RDF_electronegativity_3.438', 'RDF_electronegativity_3.553', 'RDF_electronegativity_3.673', 'RDF_electronegativity_3.797', 'RDF_electronegativity_3.925', 'RDF_electronegativity_4.058', 'RDF_electronegativity_4.195', 'RDF_electronegativity_4.336', 'RDF_electronegativity_4.482', 'RDF_electronegativity_4.633', 'RDF_electronegativity_4.788', 'RDF_electronegativity_4.947', 'RDF_electronegativity_5.111', 'RDF_electronegativity_5.279', 'RDF_electronegativity_5.451', 'RDF_electronegativity_5.628', 'RDF_electronegativity_5.810', 'RDF_electronegativity_5.996', 'RDF_electronegativity_6.186', 'RDF_electronegativity_6.381', 'RDF_electronegativity_6.580', 'RDF_electronegativity_6.783', 'RDF_electronegativity_6.991', 'RDF_electronegativity_7.204', 'RDF_electronegativity_7.421', 'RDF_electronegativity_7.642', 'RDF_electronegativity_7.868', 'RDF_electronegativity_8.098', 'RDF_electronegativity_8.332', 'RDF_electronegativity_8.571', 'RDF_electronegativity_8.815', 'RDF_electronegativity_9.062', 'RDF_electronegativity_9.315', 'RDF_electronegativity_9.571', 'RDF_electronegativity_9.832', 'RDF_electronegativity_10.098', 'RDF_electronegativity_10.368', 'RDF_electronegativity_10.642', 'RDF_electronegativity_10.921', 'RDF_electronegativity_11.204', 'RDF_electronegativity_11.492', 'RDF_electronegativity_11.784', 'RDF_electronegativity_12.080', 'RDF_electronegativity_12.381', 'RDF_electronegativity_12.686', 'RDF_electronegativity_12.996', 'RDF_electronegativity_13.310', 'RDF_electronegativity_13.629', 'RDF_electronegativity_13.952', 'RDF_electronegativity_14.279', 'RDF_electronegativity_14.611', 'RDF_electronegativity_14.948', 'RDF_electronegativity_15.288', 'RDF_electronegativity_15.633', 'RDF_electronegativity_15.983', 'RDF_electronegativity_16.337', 'RDF_electronegativity_16.695', 'RDF_electronegativity_17.058', 'RDF_electronegativity_17.426', 'RDF_electronegativity_17.797', 'RDF_electronegativity_18.173', 'RDF_electronegativity_18.554', 'RDF_electronegativity_18.939', 'RDF_electronegativity_19.328', 'RDF_electronegativity_19.722', 'RDF_electronegativity_20.120', 'RDF_electronegativity_20.523', 'RDF_electronegativity_20.930', 'RDF_electronegativity_21.342', 'RDF_electronegativity_21.758', 'RDF_electronegativity_22.178', 'RDF_electronegativity_22.603', 'RDF_electronegativity_23.032', 'RDF_electronegativity_23.466', 'RDF_electronegativity_23.904', 'RDF_electronegativity_24.346', 'RDF_electronegativity_24.793', 'RDF_electronegativity_25.245', 'RDF_electronegativity_25.700', 'RDF_electronegativity_26.161', 'RDF_electronegativity_26.625', 'RDF_electronegativity_27.094', 'RDF_electronegativity_27.568', 'RDF_electronegativity_28.046', 'RDF_electronegativity_28.528', 'RDF_electronegativity_29.015', 'RDF_electronegativity_29.506', 'RDF_electronegativity_30.001', 'RDF_hardness_2.000', 'RDF_hardness_2.004', 'RDF_hardness_2.013', 'RDF_hardness_2.027', 'RDF_hardness_2.044', 'RDF_hardness_2.066', 'RDF_hardness_2.093', 'RDF_hardness_2.124', 'RDF_hardness_2.159', 'RDF_hardness_2.199', 'RDF_hardness_2.243', 'RDF_hardness_2.292', 'RDF_hardness_2.345', 'RDF_hardness_2.403', 'RDF_hardness_2.465', 'RDF_hardness_2.531', 'RDF_hardness_2.602', 'RDF_hardness_2.677', 'RDF_hardness_2.757', 'RDF_hardness_2.841', 'RDF_hardness_2.929', 'RDF_hardness_3.022', 'RDF_hardness_3.120', 'RDF_hardness_3.221', 'RDF_hardness_3.327', 'RDF_hardness_3.438', 'RDF_hardness_3.553', 'RDF_hardness_3.673', 'RDF_hardness_3.797', 'RDF_hardness_3.925', 'RDF_hardness_4.058', 'RDF_hardness_4.195', 'RDF_hardness_4.336', 'RDF_hardness_4.482', 'RDF_hardness_4.633', 'RDF_hardness_4.788', 'RDF_hardness_4.947', 'RDF_hardness_5.111', 'RDF_hardness_5.279', 'RDF_hardness_5.451', 'RDF_hardness_5.628', 'RDF_hardness_5.810', 'RDF_hardness_5.996', 'RDF_hardness_6.186', 'RDF_hardness_6.381', 'RDF_hardness_6.580', 'RDF_hardness_6.783', 'RDF_hardness_6.991', 'RDF_hardness_7.204', 'RDF_hardness_7.421', 'RDF_hardness_7.642', 'RDF_hardness_7.868', 'RDF_hardness_8.098', 'RDF_hardness_8.332', 'RDF_hardness_8.571', 'RDF_hardness_8.815', 'RDF_hardness_9.062', 'RDF_hardness_9.315', 'RDF_hardness_9.571', 'RDF_hardness_9.832', 'RDF_hardness_10.098', 'RDF_hardness_10.368', 'RDF_hardness_10.642', 'RDF_hardness_10.921', 'RDF_hardness_11.204', 'RDF_hardness_11.492', 'RDF_hardness_11.784', 'RDF_hardness_12.080', 'RDF_hardness_12.381', 'RDF_hardness_12.686', 'RDF_hardness_12.996', 'RDF_hardness_13.310', 'RDF_hardness_13.629', 'RDF_hardness_13.952', 'RDF_hardness_14.279', 'RDF_hardness_14.611', 'RDF_hardness_14.948', 'RDF_hardness_15.288', 'RDF_hardness_15.633', 'RDF_hardness_15.983', 'RDF_hardness_16.337', 'RDF_hardness_16.695', 'RDF_hardness_17.058', 'RDF_hardness_17.426', 'RDF_hardness_17.797', 'RDF_hardness_18.173', 'RDF_hardness_18.554', 'RDF_hardness_18.939', 'RDF_hardness_19.328', 'RDF_hardness_19.722', 'RDF_hardness_20.120', 'RDF_hardness_20.523', 'RDF_hardness_20.930', 'RDF_hardness_21.342', 'RDF_hardness_21.758', 'RDF_hardness_22.178', 'RDF_hardness_22.603', 'RDF_hardness_23.032', 'RDF_hardness_23.466', 'RDF_hardness_23.904', 'RDF_hardness_24.346', 'RDF_hardness_24.793', 'RDF_hardness_25.245', 'RDF_hardness_25.700', 'RDF_hardness_26.161', 'RDF_hardness_26.625', 'RDF_hardness_27.094', 'RDF_hardness_27.568', 'RDF_hardness_28.046', 'RDF_hardness_28.528', 'RDF_hardness_29.015', 'RDF_hardness_29.506', 'RDF_hardness_30.001', 'RDF_vdWaalsVolume_2.000', 'RDF_vdWaalsVolume_2.004', 'RDF_vdWaalsVolume_2.013', 'RDF_vdWaalsVolume_2.027', 'RDF_vdWaalsVolume_2.044', 'RDF_vdWaalsVolume_2.066', 'RDF_vdWaalsVolume_2.093', 'RDF_vdWaalsVolume_2.124', 'RDF_vdWaalsVolume_2.159', 'RDF_vdWaalsVolume_2.199', 'RDF_vdWaalsVolume_2.243', 'RDF_vdWaalsVolume_2.292', 'RDF_vdWaalsVolume_2.345', 'RDF_vdWaalsVolume_2.403', 'RDF_vdWaalsVolume_2.465', 'RDF_vdWaalsVolume_2.531', 'RDF_vdWaalsVolume_2.602', 'RDF_vdWaalsVolume_2.677', 'RDF_vdWaalsVolume_2.757', 'RDF_vdWaalsVolume_2.841', 'RDF_vdWaalsVolume_2.929', 'RDF_vdWaalsVolume_3.022', 'RDF_vdWaalsVolume_3.120', 'RDF_vdWaalsVolume_3.221', 'RDF_vdWaalsVolume_3.327', 'RDF_vdWaalsVolume_3.438', 'RDF_vdWaalsVolume_3.553', 'RDF_vdWaalsVolume_3.673', 'RDF_vdWaalsVolume_3.797', 'RDF_vdWaalsVolume_3.925', 'RDF_vdWaalsVolume_4.058', 'RDF_vdWaalsVolume_4.195', 'RDF_vdWaalsVolume_4.336', 'RDF_vdWaalsVolume_4.482', 'RDF_vdWaalsVolume_4.633', 'RDF_vdWaalsVolume_4.788', 'RDF_vdWaalsVolume_4.947', 'RDF_vdWaalsVolume_5.111', 'RDF_vdWaalsVolume_5.279', 'RDF_vdWaalsVolume_5.451', 'RDF_vdWaalsVolume_5.628', 'RDF_vdWaalsVolume_5.810', 'RDF_vdWaalsVolume_5.996', 'RDF_vdWaalsVolume_6.186', 'RDF_vdWaalsVolume_6.381', 'RDF_vdWaalsVolume_6.580', 'RDF_vdWaalsVolume_6.783', 'RDF_vdWaalsVolume_6.991', 'RDF_vdWaalsVolume_7.204', 'RDF_vdWaalsVolume_7.421', 'RDF_vdWaalsVolume_7.642', 'RDF_vdWaalsVolume_7.868', 'RDF_vdWaalsVolume_8.098', 'RDF_vdWaalsVolume_8.332', 'RDF_vdWaalsVolume_8.571', 'RDF_vdWaalsVolume_8.815', 'RDF_vdWaalsVolume_9.062', 'RDF_vdWaalsVolume_9.315', 'RDF_vdWaalsVolume_9.571', 'RDF_vdWaalsVolume_9.832', 'RDF_vdWaalsVolume_10.098', 'RDF_vdWaalsVolume_10.368', 'RDF_vdWaalsVolume_10.642', 'RDF_vdWaalsVolume_10.921', 'RDF_vdWaalsVolume_11.204', 'RDF_vdWaalsVolume_11.492', 'RDF_vdWaalsVolume_11.784', 'RDF_vdWaalsVolume_12.080', 'RDF_vdWaalsVolume_12.381', 'RDF_vdWaalsVolume_12.686', 'RDF_vdWaalsVolume_12.996', 'RDF_vdWaalsVolume_13.310', 'RDF_vdWaalsVolume_13.629', 'RDF_vdWaalsVolume_13.952', 'RDF_vdWaalsVolume_14.279', 'RDF_vdWaalsVolume_14.611', 'RDF_vdWaalsVolume_14.948', 'RDF_vdWaalsVolume_15.288', 'RDF_vdWaalsVolume_15.633', 'RDF_vdWaalsVolume_15.983', 'RDF_vdWaalsVolume_16.337', 'RDF_vdWaalsVolume_16.695', 'RDF_vdWaalsVolume_17.058', 'RDF_vdWaalsVolume_17.426', 'RDF_vdWaalsVolume_17.797', 'RDF_vdWaalsVolume_18.173', 'RDF_vdWaalsVolume_18.554', 'RDF_vdWaalsVolume_18.939', 'RDF_vdWaalsVolume_19.328', 'RDF_vdWaalsVolume_19.722', 'RDF_vdWaalsVolume_20.120', 'RDF_vdWaalsVolume_20.523', 'RDF_vdWaalsVolume_20.930', 'RDF_vdWaalsVolume_21.342', 'RDF_vdWaalsVolume_21.758', 'RDF_vdWaalsVolume_22.178', 'RDF_vdWaalsVolume_22.603', 'RDF_vdWaalsVolume_23.032', 'RDF_vdWaalsVolume_23.466', 'RDF_vdWaalsVolume_23.904', 'RDF_vdWaalsVolume_24.346', 'RDF_vdWaalsVolume_24.793', 'RDF_vdWaalsVolume_25.245', 'RDF_vdWaalsVolume_25.700', 'RDF_vdWaalsVolume_26.161', 'RDF_vdWaalsVolume_26.625', 'RDF_vdWaalsVolume_27.094', 'RDF_vdWaalsVolume_27.568', 'RDF_vdWaalsVolume_28.046', 'RDF_vdWaalsVolume_28.528', 'RDF_vdWaalsVolume_29.015', 'RDF_vdWaalsVolume_29.506', 'RDF_vdWaalsVolume_30.001', 'RDF_polarizability_2.000', 'RDF_polarizability_2.004', 'RDF_polarizability_2.013', 'RDF_polarizability_2.027', 'RDF_polarizability_2.044', 'RDF_polarizability_2.066', 'RDF_polarizability_2.093', 'RDF_polarizability_2.124', 'RDF_polarizability_2.159', 'RDF_polarizability_2.199', 'RDF_polarizability_2.243', 'RDF_polarizability_2.292', 'RDF_polarizability_2.345', 'RDF_polarizability_2.403', 'RDF_polarizability_2.465', 'RDF_polarizability_2.531', 'RDF_polarizability_2.602', 'RDF_polarizability_2.677', 'RDF_polarizability_2.757', 'RDF_polarizability_2.841', 'RDF_polarizability_2.929', 'RDF_polarizability_3.022', 'RDF_polarizability_3.120', 'RDF_polarizability_3.221', 'RDF_polarizability_3.327', 'RDF_polarizability_3.438', 'RDF_polarizability_3.553', 'RDF_polarizability_3.673', 'RDF_polarizability_3.797', 'RDF_polarizability_3.925', 'RDF_polarizability_4.058', 'RDF_polarizability_4.195', 'RDF_polarizability_4.336', 'RDF_polarizability_4.482', 'RDF_polarizability_4.633', 'RDF_polarizability_4.788', 'RDF_polarizability_4.947', 'RDF_polarizability_5.111', 'RDF_polarizability_5.279', 'RDF_polarizability_5.451', 'RDF_polarizability_5.628', 'RDF_polarizability_5.810', 'RDF_polarizability_5.996', 'RDF_polarizability_6.186', 'RDF_polarizability_6.381', 'RDF_polarizability_6.580', 'RDF_polarizability_6.783', 'RDF_polarizability_6.991', 'RDF_polarizability_7.204', 'RDF_polarizability_7.421', 'RDF_polarizability_7.642', 'RDF_polarizability_7.868', 'RDF_polarizability_8.098', 'RDF_polarizability_8.332', 'RDF_polarizability_8.571', 'RDF_polarizability_8.815', 'RDF_polarizability_9.062', 'RDF_polarizability_9.315', 'RDF_polarizability_9.571', 'RDF_polarizability_9.832', 'RDF_polarizability_10.098', 'RDF_polarizability_10.368', 'RDF_polarizability_10.642', 'RDF_polarizability_10.921', 'RDF_polarizability_11.204', 'RDF_polarizability_11.492', 'RDF_polarizability_11.784', 'RDF_polarizability_12.080', 'RDF_polarizability_12.381', 'RDF_polarizability_12.686', 'RDF_polarizability_12.996', 'RDF_polarizability_13.310', 'RDF_polarizability_13.629', 'RDF_polarizability_13.952', 'RDF_polarizability_14.279', 'RDF_polarizability_14.611', 'RDF_polarizability_14.948', 'RDF_polarizability_15.288', 'RDF_polarizability_15.633', 'RDF_polarizability_15.983', 'RDF_polarizability_16.337', 'RDF_polarizability_16.695', 'RDF_polarizability_17.058', 'RDF_polarizability_17.426', 'RDF_polarizability_17.797', 'RDF_polarizability_18.173', 'RDF_polarizability_18.554', 'RDF_polarizability_18.939', 'RDF_polarizability_19.328', 'RDF_polarizability_19.722', 'RDF_polarizability_20.120', 'RDF_polarizability_20.523', 'RDF_polarizability_20.930', 'RDF_polarizability_21.342', 'RDF_polarizability_21.758', 'RDF_polarizability_22.178', 'RDF_polarizability_22.603', 'RDF_polarizability_23.032', 'RDF_polarizability_23.466', 'RDF_polarizability_23.904', 'RDF_polarizability_24.346', 'RDF_polarizability_24.793', 'RDF_polarizability_25.245', 'RDF_polarizability_25.700', 'RDF_polarizability_26.161', 'RDF_polarizability_26.625', 'RDF_polarizability_27.094', 'RDF_polarizability_27.568', 'RDF_polarizability_28.046', 'RDF_polarizability_28.528', 'RDF_polarizability_29.015', 'RDF_polarizability_29.506', 'RDF_polarizability_30.001', 'RDF_mass_2.000', 'RDF_mass_2.004', 'RDF_mass_2.013', 'RDF_mass_2.027', 'RDF_mass_2.044', 'RDF_mass_2.066', 'RDF_mass_2.093', 'RDF_mass_2.124', 'RDF_mass_2.159', 'RDF_mass_2.199', 'RDF_mass_2.243', 'RDF_mass_2.292', 'RDF_mass_2.345', 'RDF_mass_2.403', 'RDF_mass_2.465', 'RDF_mass_2.531', 'RDF_mass_2.602', 'RDF_mass_2.677', 'RDF_mass_2.757', 'RDF_mass_2.841', 'RDF_mass_2.929', 'RDF_mass_3.022', 'RDF_mass_3.120', 'RDF_mass_3.221', 'RDF_mass_3.327', 'RDF_mass_3.438', 'RDF_mass_3.553', 'RDF_mass_3.673', 'RDF_mass_3.797', 'RDF_mass_3.925', 'RDF_mass_4.058', 'RDF_mass_4.195', 'RDF_mass_4.336', 'RDF_mass_4.482', 'RDF_mass_4.633', 'RDF_mass_4.788', 'RDF_mass_4.947', 'RDF_mass_5.111', 'RDF_mass_5.279', 'RDF_mass_5.451', 'RDF_mass_5.628', 'RDF_mass_5.810', 'RDF_mass_5.996', 'RDF_mass_6.186', 'RDF_mass_6.381', 'RDF_mass_6.580', 'RDF_mass_6.783', 'RDF_mass_6.991', 'RDF_mass_7.204', 'RDF_mass_7.421', 'RDF_mass_7.642', 'RDF_mass_7.868', 'RDF_mass_8.098', 'RDF_mass_8.332', 'RDF_mass_8.571', 'RDF_mass_8.815', 'RDF_mass_9.062', 'RDF_mass_9.315', 'RDF_mass_9.571', 'RDF_mass_9.832', 'RDF_mass_10.098', 'RDF_mass_10.368', 'RDF_mass_10.642', 'RDF_mass_10.921', 'RDF_mass_11.204', 'RDF_mass_11.492', 'RDF_mass_11.784', 'RDF_mass_12.080', 'RDF_mass_12.381', 'RDF_mass_12.686', 'RDF_mass_12.996', 'RDF_mass_13.310', 'RDF_mass_13.629', 'RDF_mass_13.952', 'RDF_mass_14.279', 'RDF_mass_14.611', 'RDF_mass_14.948', 'RDF_mass_15.288', 'RDF_mass_15.633', 'RDF_mass_15.983', 'RDF_mass_16.337', 'RDF_mass_16.695', 'RDF_mass_17.058', 'RDF_mass_17.426', 'RDF_mass_17.797', 'RDF_mass_18.173', 'RDF_mass_18.554', 'RDF_mass_18.939', 'RDF_mass_19.328', 'RDF_mass_19.722', 'RDF_mass_20.120', 'RDF_mass_20.523', 'RDF_mass_20.930', 'RDF_mass_21.342', 'RDF_mass_21.758', 'RDF_mass_22.178', 'RDF_mass_22.603', 'RDF_mass_23.032', 'RDF_mass_23.466', 'RDF_mass_23.904', 'RDF_mass_24.346', 'RDF_mass_24.793', 'RDF_mass_25.245', 'RDF_mass_25.700', 'RDF_mass_26.161', 'RDF_mass_26.625', 'RDF_mass_27.094', 'RDF_mass_27.568', 'RDF_mass_28.046', 'RDF_mass_28.528', 'RDF_mass_29.015', 'RDF_mass_29.506', 'RDF_mass_30.001', 'RDF_none_2.000', 'RDF_none_2.004', 'RDF_none_2.013', 'RDF_none_2.027', 'RDF_none_2.044', 'RDF_none_2.066', 'RDF_none_2.093', 'RDF_none_2.124', 'RDF_none_2.159', 'RDF_none_2.199', 'RDF_none_2.243', 'RDF_none_2.292', 'RDF_none_2.345', 'RDF_none_2.403', 'RDF_none_2.465', 'RDF_none_2.531', 'RDF_none_2.602', 'RDF_none_2.677', 'RDF_none_2.757', 'RDF_none_2.841', 'RDF_none_2.929', 'RDF_none_3.022', 'RDF_none_3.120', 'RDF_none_3.221', 'RDF_none_3.327', 'RDF_none_3.438', 'RDF_none_3.553', 'RDF_none_3.673', 'RDF_none_3.797', 'RDF_none_3.925', 'RDF_none_4.058', 'RDF_none_4.195', 'RDF_none_4.336', 'RDF_none_4.482', 'RDF_none_4.633', 'RDF_none_4.788', 'RDF_none_4.947', 'RDF_none_5.111', 'RDF_none_5.279', 'RDF_none_5.451', 'RDF_none_5.628', 'RDF_none_5.810', 'RDF_none_5.996', 'RDF_none_6.186', 'RDF_none_6.381', 'RDF_none_6.580', 'RDF_none_6.783', 'RDF_none_6.991', 'RDF_none_7.204', 'RDF_none_7.421', 'RDF_none_7.642', 'RDF_none_7.868', 'RDF_none_8.098', 'RDF_none_8.332', 'RDF_none_8.571', 'RDF_none_8.815', 'RDF_none_9.062', 'RDF_none_9.315', 'RDF_none_9.571', 'RDF_none_9.832', 'RDF_none_10.098', 'RDF_none_10.368', 'RDF_none_10.642', 'RDF_none_10.921', 'RDF_none_11.204', 'RDF_none_11.492', 'RDF_none_11.784', 'RDF_none_12.080', 'RDF_none_12.381', 'RDF_none_12.686', 'RDF_none_12.996', 'RDF_none_13.310', 'RDF_none_13.629', 'RDF_none_13.952', 'RDF_none_14.279', 'RDF_none_14.611', 'RDF_none_14.948', 'RDF_none_15.288', 'RDF_none_15.633', 'RDF_none_15.983', 'RDF_none_16.337', 'RDF_none_16.695', 'RDF_none_17.058', 'RDF_none_17.426', 'RDF_none_17.797', 'RDF_none_18.173', 'RDF_none_18.554', 'RDF_none_18.939', 'RDF_none_19.328', 'RDF_none_19.722', 'RDF_none_20.120', 'RDF_none_20.523', 'RDF_none_20.930', 'RDF_none_21.342', 'RDF_none_21.758', 'RDF_none_22.178', 'RDF_none_22.603', 'RDF_none_23.032', 'RDF_none_23.466', 'RDF_none_23.904', 'RDF_none_24.346', 'RDF_none_24.793', 'RDF_none_25.245', 'RDF_none_25.700', 'RDF_none_26.161', 'RDF_none_26.625', 'RDF_none_27.094', 'RDF_none_27.568', 'RDF_none_28.046', 'RDF_none_28.528', 'RDF_none_29.015', 'RDF_none_29.506', 'RDF_none_30.001', 'Unnamed: 0', 'mmol/g_uptake', 'mmol/g_working_capacity', 'v/v_uptake', 'v/v_working_capacity', 'wt%_uptake', 'wt%_working_capacity', 'selectivity', 'purity', 'ssp', 'afm', 'f-chi-0-all', 'f-chi-1-all', 'f-chi-2-all', 'f-chi-3-all', 'f-Z-0-all', 'f-Z-1-all', 'f-Z-2-all', 'f-Z-3-all', 'f-I-0-all', 'f-I-1-all', 'f-I-2-all', 'f-I-3-all', 'f-T-0-all', 'f-T-1-all', 'f-T-2-all', 'f-T-3-all', 'f-S-0-all', 'f-S-1-all', 'f-S-2-all', 'f-S-3-all', 'mc-chi-0-all', 'mc-chi-1-all', 'mc-chi-2-all', 'mc-chi-3-all', 'mc-Z-0-all', 'mc-Z-1-all', 'mc-Z-2-all', 'mc-Z-3-all', 'mc-I-0-all', 'mc-I-1-all', 'mc-I-2-all', 'mc-I-3-all', 'mc-T-0-all', 'mc-T-1-all', 'mc-T-2-all', 'mc-T-3-all', 'mc-S-0-all', 'mc-S-1-all', 'mc-S-2-all', 'mc-S-3-all', 'D_mc-chi-0-all', 'D_mc-chi-1-all', 'D_mc-chi-2-all', 'D_mc-chi-3-all', 'D_mc-Z-0-all', 'D_mc-Z-1-all', 'D_mc-Z-2-all', 'D_mc-Z-3-all', 'D_mc-I-0-all', 'D_mc-I-1-all', 'D_mc-I-2-all', 'D_mc-I-3-all', 'D_mc-T-0-all', 'D_mc-T-1-all', 'D_mc-T-2-all', 'D_mc-T-3-all', 'D_mc-S-0-all', 'D_mc-S-1-all', 'D_mc-S-2-all', 'D_mc-S-3-all', 'f-lig-chi-0', 'f-lig-chi-1', 'f-lig-chi-2', 'f-lig-chi-3', 'f-lig-Z-0', 'f-lig-Z-1', 'f-lig-Z-2', 'f-lig-Z-3', 'f-lig-I-0', 'f-lig-I-1', 'f-lig-I-2', 'f-lig-I-3', 'f-lig-T-0', 'f-lig-T-1', 'f-lig-T-2', 'f-lig-T-3', 'f-lig-S-0', 'f-lig-S-1', 'f-lig-S-2', 'f-lig-S-3', 'lc-chi-0-all', 'lc-chi-1-all', 'lc-chi-2-all', 'lc-chi-3-all', 'lc-Z-0-all', 'lc-Z-1-all', 'lc-Z-2-all', 'lc-Z-3-all', 'lc-I-0-all', 'lc-I-1-all', 'lc-I-2-all', 'lc-I-3-all', 'lc-T-0-all', 'lc-T-1-all', 'lc-T-2-all', 'lc-T-3-all', 'lc-S-0-all', 'lc-S-1-all', 'lc-S-2-all', 'lc-S-3-all', 'lc-alpha-0-all', 'lc-alpha-1-all', 'lc-alpha-2-all', 'lc-alpha-3-all', 'D_lc-chi-0-all', 'D_lc-chi-1-all', 'D_lc-chi-2-all', 'D_lc-chi-3-all', 'D_lc-Z-0-all', 'D_lc-Z-1-all', 'D_lc-Z-2-all', 'D_lc-Z-3-all', 'D_lc-I-0-all', 'D_lc-I-1-all', 'D_lc-I-2-all', 'D_lc-I-3-all', 'D_lc-T-0-all', 'D_lc-T-1-all', 'D_lc-T-2-all', 'D_lc-T-3-all', 'D_lc-S-0-all', 'D_lc-S-1-all', 'D_lc-S-2-all', 'D_lc-S-3-all', 'D_lc-alpha-0-all', 'D_lc-alpha-1-all', 'D_lc-alpha-2-all', 'D_lc-alpha-3-all', 'func-chi-0-all', 'func-chi-1-all', 'func-chi-2-all', 'func-chi-3-all', 'func-Z-0-all', 'func-Z-1-all', 'func-Z-2-all', 'func-Z-3-all', 'func-I-0-all', 'func-I-1-all', 'func-I-2-all', 'func-I-3-all', 'func-T-0-all', 'func-T-1-all', 'func-T-2-all', 'func-T-3-all', 'func-S-0-all', 'func-S-1-all', 'func-S-2-all', 'func-S-3-all', 'func-alpha-0-all', 'func-alpha-1-all', 'func-alpha-2-all', 'func-alpha-3-all', 'D_func-chi-0-all', 'D_func-chi-1-all', 'D_func-chi-2-all', 'D_func-chi-3-all', 'D_func-Z-0-all', 'D_func-Z-1-all', 'D_func-Z-2-all', 'D_func-Z-3-all', 'D_func-I-0-all', 'D_func-I-1-all', 'D_func-I-2-all', 'D_func-I-3-all', 'D_func-T-0-all', 'D_func-T-1-all', 'D_func-T-2-all', 'D_func-T-3-all', 'D_func-S-0-all', 'D_func-S-1-all', 'D_func-S-2-all', 'D_func-S-3-all', 'D_func-alpha-0-all', 'D_func-alpha-1-all', 'D_func-alpha-2-all', 'D_func-alpha-3-all', 'order_f-lig', 'bool_f-lig', 'order_mc', 'bool_mc', 'order_func', 'bool_func', 'order_lc', 'bool_lc']\n"
     ]
    }
   ],
   "source": [
    "print(data.columns.tolist())"
   ]
  },
  {
   "cell_type": "markdown",
   "id": "60cb4cef",
   "metadata": {},
   "source": [
    "I need to select a specific feature as my target for this project. CO2 capture can be measured in many ways: mmol of CO2 adsorbed per gram of material, volume of CO2 adsorbed per volume of material, or the weight of CO2 adsorbed by some mass of material. An important caveat that needs to be considered is that in this process, the material is saturated with CO2, and then it has to be regenerated via a vacuum process. That regeneration may not be 100% perfect, meaning that in a real life process, the 'working capacity' is lower than the absolute measurements. Given these considerations I'll focus on the 'v/v_working_capacity' column as my target, because theoretically we would want smaller filters to catch as much CO2 as possible, rather than focusing on weight. \n",
    "\n",
    "With that being said, I'll start out by plotting unit cell volume, density, accessible, volumetric, and gravimetric surface areas, largest cavity diameter, and pore limiting diameter against my target to see if these show any correlation."
   ]
  },
  {
   "cell_type": "code",
   "execution_count": null,
   "id": "c7ddd0f6",
   "metadata": {},
   "outputs": [],
   "source": [
    "data = data.dropna(subset='v/v_working_capacity')\n",
    "data.shape"
   ]
  },
  {
   "cell_type": "code",
   "execution_count": null,
   "id": "2a3be908",
   "metadata": {},
   "outputs": [],
   "source": [
    "sns.set_theme('notebook')"
   ]
  },
  {
   "cell_type": "code",
   "execution_count": null,
   "id": "cd95b10d",
   "metadata": {},
   "outputs": [],
   "source": [
    "from matplotlib import rcParams\n",
    "rcParams['mathtext.default'] = 'regular'"
   ]
  },
  {
   "cell_type": "code",
   "execution_count": null,
   "id": "45acb775",
   "metadata": {},
   "outputs": [],
   "source": [
    "def correlate(feature, x_label, title):\n",
    "    adj_data = data.dropna(subset=feature)\n",
    "    dependent = adj_data[['v/v_working_capacity']]\n",
    "    independent = sm.add_constant(adj_data[[feature]])\n",
    "    model = sm.OLS(dependent, independent)\n",
    "    fit = model.fit()\n",
    "    b, m = fit.params\n",
    "    \n",
    "    x = np.array([0, np.max(adj_data[feature])])\n",
    "    y = (m*x)+b\n",
    "    \n",
    "    sns.scatterplot(data=adj_data, x=feature, y='v/v_working_capacity', alpha=0.1, color='blue')\n",
    "    plt.plot(x, y, color='red')\n",
    "    plt.title(title, fontsize = 18)\n",
    "    plt.xlabel(x_label, fontsize = 14)\n",
    "    plt.ylabel(r'Volumetric Working $CO_{2}$ Capacity $(cm^{3}/cm^{-3})$', fontsize = 14)\n",
    "    plt.text(0.75*max(adj_data[feature]), 0.75*max(adj_data['v/v_working_capacity']), \n",
    "             'Slope: ' + str(round(fit.params[1], 4)), fontsize = 14)\n",
    "    plt.savefig('../figures/capacity_vs_'+feature+'.png',dpi=1200, bbox_inches='tight')\n",
    "    plt.show()"
   ]
  },
  {
   "cell_type": "code",
   "execution_count": null,
   "id": "132d10f8",
   "metadata": {},
   "outputs": [],
   "source": [
    "correlate('unit_cell_volume', r'Unit Cell Volume $(A^{3})$', r'$CO_{2}$ Working Capacity vs Unit Cell Volume')"
   ]
  },
  {
   "cell_type": "code",
   "execution_count": null,
   "id": "75eab991",
   "metadata": {},
   "outputs": [],
   "source": [
    "correlate('Density', r'Density $(g/cm^3)$', 'Impact of Density on $CO_2$ Working Capacity')"
   ]
  },
  {
   "cell_type": "code",
   "execution_count": null,
   "id": "b41f8baf",
   "metadata": {},
   "outputs": [],
   "source": [
    "correlate('accessible_surface_area', 'Accessible Surface Area $(m^2/g)$', 'Accessible Surface Area vs $CO_2$ Working Capacity')"
   ]
  },
  {
   "cell_type": "code",
   "execution_count": null,
   "id": "67bf35d1",
   "metadata": {},
   "outputs": [],
   "source": [
    "correlate('volumetric_surface_area', 'Volumetric Surface Area $(m^2/cm^3)$', 'Volumetric Surface Area vs $CO_2$ Working Capacity')"
   ]
  },
  {
   "cell_type": "code",
   "execution_count": null,
   "id": "8f1fe858",
   "metadata": {},
   "outputs": [],
   "source": [
    "correlate('gravimetric_surface_area', 'Gravimetric Surface Area $(m^2/g)$', 'Gravimetric Surface Area vs $CO_2$ Working Capacity')"
   ]
  },
  {
   "cell_type": "code",
   "execution_count": null,
   "id": "986753bc",
   "metadata": {},
   "outputs": [],
   "source": [
    "correlate('largest_cav_diameter', 'Largest Cavity Diameter (A)', 'Largest Cavity Diameter vs $CO_2$ Working Capacity')"
   ]
  },
  {
   "cell_type": "code",
   "execution_count": null,
   "id": "6ad519be",
   "metadata": {},
   "outputs": [],
   "source": [
    "correlate('pore_limiting_diameter', 'Pore Limiting Diameter (A)', 'Pore Limiting Diameter vs $CO_2$ Working Capacity')"
   ]
  },
  {
   "cell_type": "markdown",
   "id": "f5bdd481",
   "metadata": {},
   "source": [
    "Very interesting! So we're seeing some trends already. While surface area has almost no correlation at all with working capacity, the density, pore limiting diameter, and largest cavity diameters are all telling us that smaller pores/openings and a more tightly packed framework is giving us slightly better working capacity. "
   ]
  },
  {
   "cell_type": "code",
   "execution_count": null,
   "id": "56d44e66",
   "metadata": {},
   "outputs": [],
   "source": [
    "s_test, alpha = scipy.stats.shapiro(data['RDF_electronegativity_4.336'])"
   ]
  },
  {
   "cell_type": "code",
   "execution_count": null,
   "id": "b40fb2f3",
   "metadata": {},
   "outputs": [],
   "source": [
    "s_test"
   ]
  },
  {
   "cell_type": "code",
   "execution_count": null,
   "id": "4910c97f",
   "metadata": {},
   "outputs": [],
   "source": [
    "alpha"
   ]
  },
  {
   "cell_type": "code",
   "execution_count": null,
   "id": "c02d6da0",
   "metadata": {},
   "outputs": [],
   "source": [
    "rdfs = pd.DataFrame(columns=['feature', 'rdf_distance', 'correlation'])"
   ]
  },
  {
   "cell_type": "code",
   "execution_count": null,
   "id": "8411c3f5",
   "metadata": {},
   "outputs": [],
   "source": [
    "'pore_limiting_diameter'.str.split('_')[2]"
   ]
  },
  {
   "cell_type": "code",
   "execution_count": null,
   "id": "cf0f2738",
   "metadata": {},
   "outputs": [],
   "source": [
    "new_row = {'feature': 'electronegativity', 'rdf_distance': 1.234, 'correlation': 0.15}\n",
    "rdfs = pd.concat([rdfs, new_row])\n",
    "rdfs.head()"
   ]
  },
  {
   "cell_type": "code",
   "execution_count": null,
   "id": "6a2cd9b3",
   "metadata": {},
   "outputs": [],
   "source": [
    "def rdf_corr(rdf_feature):\n",
    "    cols = []\n",
    "    \n",
    "    for col in data.columns:\n",
    "        if rdf_feature in col:\n",
    "            cols.append(col)\n",
    "    \n",
    "    for column in cols:\n",
    "        s_test, alpha = scipy.stats.shapiro(data[col])\n",
    "        \n",
    "        if s_test > 0.05 and alpha < 0.05:\n",
    "            p_test, alpha2 = scipy.stats.pearsonr(data[column], data['v/v_working_capacity'])\n",
    "            \n",
    "            if alpha2 < 0.05:                \n",
    "                new_row = {'feature': rdf_feature, 'rdf_distance': column.str.split('_')[2], 'correlation': p_test}\n",
    "                rdfs = pd.concat([rdfs, new_row])"
   ]
  },
  {
   "cell_type": "code",
   "execution_count": null,
   "id": "e16afb90",
   "metadata": {},
   "outputs": [],
   "source": [
    "rdf_feats = ['electronegativity', 'hardness', 'vdWaalsVolume', 'polarizability', 'mass', 'none']\n",
    "\n",
    "for feat in rdf_feats:\n",
    "    rdf_corr(feat)"
   ]
  },
  {
   "cell_type": "code",
   "execution_count": null,
   "id": "066babec",
   "metadata": {},
   "outputs": [],
   "source": [
    "sns.lineplot(data = rdfs, x = 'rdf_distance', y = 'correlation', hue = 'feature')\n",
    "plt.xlabel('RDF Distance (A)', fontsize = 14)\n",
    "plt.ylabel('Pearson Correlation with $CO_2$ Working Capacity', fontsize = 14)\n",
    "plt.title('RDF Distance Correlations with $CO_2$ Working Capacity', fontsize = 18)\n",
    "plt.show()"
   ]
  }
 ],
 "metadata": {
  "kernelspec": {
   "display_name": "Python 3 (ipykernel)",
   "language": "python",
   "name": "python3"
  },
  "language_info": {
   "codemirror_mode": {
    "name": "ipython",
    "version": 3
   },
   "file_extension": ".py",
   "mimetype": "text/x-python",
   "name": "python",
   "nbconvert_exporter": "python",
   "pygments_lexer": "ipython3",
   "version": "3.9.16"
  }
 },
 "nbformat": 4,
 "nbformat_minor": 5
}
