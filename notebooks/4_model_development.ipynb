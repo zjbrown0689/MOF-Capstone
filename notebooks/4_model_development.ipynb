{
 "cells": [
  {
   "cell_type": "markdown",
   "id": "e7e4ef2f",
   "metadata": {},
   "source": [
    "# Capturing greenhouse gases with data\n",
    "\n",
    "## Model Development\n",
    "\n",
    "### by Zachary Brown"
   ]
  },
  {
   "cell_type": "markdown",
   "id": "d4a9982b",
   "metadata": {},
   "source": [
    "Now that my dataset has been cleaned, explored, and preprocessed, it's time to begin testing a range of models to determine which can best predict the volumetric CO2 working capacity and then explore which features boost that capacity the most.\n",
    "\n",
    "I'll start by installing the necessary libraries and then importing everything we'll need."
   ]
  },
  {
   "cell_type": "code",
   "execution_count": 1,
   "id": "b59311d4",
   "metadata": {},
   "outputs": [
    {
     "name": "stdout",
     "output_type": "stream",
     "text": [
      "Requirement already satisfied: xgboost==1.7.4 in c:\\users\\zbro1\\anaconda\\envs\\mof\\lib\\site-packages (1.7.4)\n",
      "Requirement already satisfied: numpy in c:\\users\\zbro1\\anaconda\\envs\\mof\\lib\\site-packages (from xgboost==1.7.4) (1.24.2)\n",
      "Requirement already satisfied: scipy in c:\\users\\zbro1\\anaconda\\envs\\mof\\lib\\site-packages (from xgboost==1.7.4) (1.10.1)\n",
      "Requirement already satisfied: lightgbm==3.3.5 in c:\\users\\zbro1\\anaconda\\envs\\mof\\lib\\site-packages (3.3.5)\n",
      "Requirement already satisfied: scipy in c:\\users\\zbro1\\anaconda\\envs\\mof\\lib\\site-packages (from lightgbm==3.3.5) (1.10.1)\n",
      "Requirement already satisfied: numpy in c:\\users\\zbro1\\anaconda\\envs\\mof\\lib\\site-packages (from lightgbm==3.3.5) (1.24.2)\n",
      "Requirement already satisfied: scikit-learn!=0.22.0 in c:\\users\\zbro1\\anaconda\\envs\\mof\\lib\\site-packages (from lightgbm==3.3.5) (1.2.1)\n",
      "Requirement already satisfied: wheel in c:\\users\\zbro1\\anaconda\\envs\\mof\\lib\\site-packages (from lightgbm==3.3.5) (0.38.4)\n",
      "Requirement already satisfied: threadpoolctl>=2.0.0 in c:\\users\\zbro1\\anaconda\\envs\\mof\\lib\\site-packages (from scikit-learn!=0.22.0->lightgbm==3.3.5) (3.1.0)\n",
      "Requirement already satisfied: joblib>=1.1.1 in c:\\users\\zbro1\\anaconda\\envs\\mof\\lib\\site-packages (from scikit-learn!=0.22.0->lightgbm==3.3.5) (1.2.0)\n"
     ]
    }
   ],
   "source": [
    "!pip install xgboost==1.7.4\n",
    "!pip install lightgbm==3.3.5"
   ]
  },
  {
   "cell_type": "code",
   "execution_count": 94,
   "id": "7a6270f9",
   "metadata": {},
   "outputs": [],
   "source": [
    "import numpy as np\n",
    "import pandas as pd\n",
    "import matplotlib.pyplot as plt\n",
    "import seaborn as sns\n",
    "from sklearn.model_selection import train_test_split\n",
    "from sklearn.preprocessing import StandardScaler\n",
    "from sklearn.linear_model import LinearRegression\n",
    "from sklearn.dummy import DummyRegressor\n",
    "from sklearn.metrics import mean_squared_error\n",
    "from sklearn.linear_model import Ridge\n",
    "from sklearn.model_selection import RandomizedSearchCV\n",
    "from sklearn.tree import DecisionTreeRegressor\n",
    "from sklearn import linear_model\n",
    "from scipy.stats import uniform as sp_randFloat\n",
    "from scipy.stats import randint as sp_randInt\n",
    "from sklearn.ensemble import RandomForestRegressor\n",
    "from xgboost import XGBRegressor\n",
    "import xgboost\n",
    "from sklearn import tree\n",
    "from sklearn.neural_network import MLPRegressor\n",
    "from sklearn.neighbors import KNeighborsRegressor\n",
    "import lightgbm as lgb\n",
    "from matplotlib import rcParams"
   ]
  },
  {
   "cell_type": "code",
   "execution_count": 2,
   "id": "788daf3c",
   "metadata": {},
   "outputs": [],
   "source": [
    "sns.set_theme('notebook')\n",
    "rcParams['mathtext.default'] = 'regular'"
   ]
  },
  {
   "cell_type": "markdown",
   "id": "3d18cfe7",
   "metadata": {},
   "source": [
    "Let's start by importing the training data."
   ]
  },
  {
   "cell_type": "code",
   "execution_count": 58,
   "id": "9d4b28dc",
   "metadata": {},
   "outputs": [],
   "source": [
    "X_train = pd.read_csv('../data/processed/X_train.csv', index_col = 'filename')\n",
    "y_train = pd.read_csv('../data/processed/y_train.csv', index_col = 0)"
   ]
  },
  {
   "cell_type": "code",
   "execution_count": 59,
   "id": "33156ba5",
   "metadata": {},
   "outputs": [
    {
     "data": {
      "text/html": [
       "<div>\n",
       "<style scoped>\n",
       "    .dataframe tbody tr th:only-of-type {\n",
       "        vertical-align: middle;\n",
       "    }\n",
       "\n",
       "    .dataframe tbody tr th {\n",
       "        vertical-align: top;\n",
       "    }\n",
       "\n",
       "    .dataframe thead th {\n",
       "        text-align: right;\n",
       "    }\n",
       "</style>\n",
       "<table border=\"1\" class=\"dataframe\">\n",
       "  <thead>\n",
       "    <tr style=\"text-align: right;\">\n",
       "      <th></th>\n",
       "      <th>unit_cell_volume</th>\n",
       "      <th>Density</th>\n",
       "      <th>accessible_surface_area</th>\n",
       "      <th>volumetric_surface_area</th>\n",
       "      <th>gravimetric_surface_area</th>\n",
       "      <th>accessible_volume_per_uc</th>\n",
       "      <th>volume_fraction</th>\n",
       "      <th>grav_volume</th>\n",
       "      <th>probe_occupiable_vol</th>\n",
       "      <th>probe_occ_vol_frac</th>\n",
       "      <th>...</th>\n",
       "      <th>lc-S-0-all</th>\n",
       "      <th>lc-S-1-all</th>\n",
       "      <th>lc-S-2-all</th>\n",
       "      <th>lc-S-3-all</th>\n",
       "      <th>lc-alpha-0-all</th>\n",
       "      <th>lc-alpha-1-all</th>\n",
       "      <th>lc-alpha-2-all</th>\n",
       "      <th>lc-alpha-3-all</th>\n",
       "      <th>D_lc-chi-2-all</th>\n",
       "      <th>D_lc-S-2-all</th>\n",
       "    </tr>\n",
       "    <tr>\n",
       "      <th>filename</th>\n",
       "      <th></th>\n",
       "      <th></th>\n",
       "      <th></th>\n",
       "      <th></th>\n",
       "      <th></th>\n",
       "      <th></th>\n",
       "      <th></th>\n",
       "      <th></th>\n",
       "      <th></th>\n",
       "      <th></th>\n",
       "      <th></th>\n",
       "      <th></th>\n",
       "      <th></th>\n",
       "      <th></th>\n",
       "      <th></th>\n",
       "      <th></th>\n",
       "      <th></th>\n",
       "      <th></th>\n",
       "      <th></th>\n",
       "      <th></th>\n",
       "      <th></th>\n",
       "    </tr>\n",
       "  </thead>\n",
       "  <tbody>\n",
       "    <tr>\n",
       "      <th>DB0-m3_o25_o84_f0_fsc.sym.10.cif</th>\n",
       "      <td>1143.94</td>\n",
       "      <td>1.003360</td>\n",
       "      <td>207.585</td>\n",
       "      <td>1814.65</td>\n",
       "      <td>1808.58</td>\n",
       "      <td>137.9590</td>\n",
       "      <td>0.12060</td>\n",
       "      <td>0.120196</td>\n",
       "      <td>520.493</td>\n",
       "      <td>0.4550</td>\n",
       "      <td>...</td>\n",
       "      <td>0.547700</td>\n",
       "      <td>0.569800</td>\n",
       "      <td>0.83625</td>\n",
       "      <td>1.428350</td>\n",
       "      <td>41.425</td>\n",
       "      <td>71.755000</td>\n",
       "      <td>85.800000</td>\n",
       "      <td>185.320000</td>\n",
       "      <td>0.690</td>\n",
       "      <td>-0.030000</td>\n",
       "    </tr>\n",
       "    <tr>\n",
       "      <th>DB0-m2_o26_o27_f0_pcu.sym.20.cif</th>\n",
       "      <td>5289.09</td>\n",
       "      <td>0.330792</td>\n",
       "      <td>845.532</td>\n",
       "      <td>1598.63</td>\n",
       "      <td>4832.75</td>\n",
       "      <td>3122.8900</td>\n",
       "      <td>0.59044</td>\n",
       "      <td>1.784930</td>\n",
       "      <td>4432.260</td>\n",
       "      <td>0.8380</td>\n",
       "      <td>...</td>\n",
       "      <td>0.542767</td>\n",
       "      <td>0.759733</td>\n",
       "      <td>1.30000</td>\n",
       "      <td>1.126967</td>\n",
       "      <td>36.980</td>\n",
       "      <td>95.673333</td>\n",
       "      <td>136.635076</td>\n",
       "      <td>129.961743</td>\n",
       "      <td>1.480</td>\n",
       "      <td>0.213333</td>\n",
       "    </tr>\n",
       "    <tr>\n",
       "      <th>DB0-m3_o23_o23_f0_nbo.sym.54.cif</th>\n",
       "      <td>16203.70</td>\n",
       "      <td>0.208859</td>\n",
       "      <td>2160.230</td>\n",
       "      <td>1333.17</td>\n",
       "      <td>6383.11</td>\n",
       "      <td>11222.0000</td>\n",
       "      <td>0.69256</td>\n",
       "      <td>3.315920</td>\n",
       "      <td>13627.300</td>\n",
       "      <td>0.8410</td>\n",
       "      <td>...</td>\n",
       "      <td>0.532900</td>\n",
       "      <td>0.562100</td>\n",
       "      <td>1.09500</td>\n",
       "      <td>0.562100</td>\n",
       "      <td>28.090</td>\n",
       "      <td>59.890000</td>\n",
       "      <td>87.980000</td>\n",
       "      <td>59.890000</td>\n",
       "      <td>0.890</td>\n",
       "      <td>-0.040000</td>\n",
       "    </tr>\n",
       "    <tr>\n",
       "      <th>DB0-m3_o1_o146_f0_fsc.sym.37.cif</th>\n",
       "      <td>1661.86</td>\n",
       "      <td>0.944809</td>\n",
       "      <td>178.499</td>\n",
       "      <td>1074.10</td>\n",
       "      <td>1136.84</td>\n",
       "      <td>69.6984</td>\n",
       "      <td>0.04194</td>\n",
       "      <td>0.044390</td>\n",
       "      <td>465.320</td>\n",
       "      <td>0.2800</td>\n",
       "      <td>...</td>\n",
       "      <td>0.547700</td>\n",
       "      <td>0.858550</td>\n",
       "      <td>1.40250</td>\n",
       "      <td>1.120850</td>\n",
       "      <td>41.425</td>\n",
       "      <td>113.565000</td>\n",
       "      <td>160.962614</td>\n",
       "      <td>120.622614</td>\n",
       "      <td>1.775</td>\n",
       "      <td>0.340000</td>\n",
       "    </tr>\n",
       "    <tr>\n",
       "      <th>DB0-m29_o89_o500_f0_pts.sym.68.cif</th>\n",
       "      <td>1886.38</td>\n",
       "      <td>0.849738</td>\n",
       "      <td>290.885</td>\n",
       "      <td>1542.03</td>\n",
       "      <td>1814.71</td>\n",
       "      <td>200.5980</td>\n",
       "      <td>0.10634</td>\n",
       "      <td>0.125145</td>\n",
       "      <td>821.519</td>\n",
       "      <td>0.4355</td>\n",
       "      <td>...</td>\n",
       "      <td>0.532900</td>\n",
       "      <td>0.562100</td>\n",
       "      <td>1.09500</td>\n",
       "      <td>1.124200</td>\n",
       "      <td>28.090</td>\n",
       "      <td>59.890000</td>\n",
       "      <td>87.980000</td>\n",
       "      <td>119.780000</td>\n",
       "      <td>0.890</td>\n",
       "      <td>-0.040000</td>\n",
       "    </tr>\n",
       "  </tbody>\n",
       "</table>\n",
       "<p>5 rows × 450 columns</p>\n",
       "</div>"
      ],
      "text/plain": [
       "                                    unit_cell_volume   Density  \\\n",
       "filename                                                         \n",
       "DB0-m3_o25_o84_f0_fsc.sym.10.cif             1143.94  1.003360   \n",
       "DB0-m2_o26_o27_f0_pcu.sym.20.cif             5289.09  0.330792   \n",
       "DB0-m3_o23_o23_f0_nbo.sym.54.cif            16203.70  0.208859   \n",
       "DB0-m3_o1_o146_f0_fsc.sym.37.cif             1661.86  0.944809   \n",
       "DB0-m29_o89_o500_f0_pts.sym.68.cif           1886.38  0.849738   \n",
       "\n",
       "                                    accessible_surface_area  \\\n",
       "filename                                                      \n",
       "DB0-m3_o25_o84_f0_fsc.sym.10.cif                    207.585   \n",
       "DB0-m2_o26_o27_f0_pcu.sym.20.cif                    845.532   \n",
       "DB0-m3_o23_o23_f0_nbo.sym.54.cif                   2160.230   \n",
       "DB0-m3_o1_o146_f0_fsc.sym.37.cif                    178.499   \n",
       "DB0-m29_o89_o500_f0_pts.sym.68.cif                  290.885   \n",
       "\n",
       "                                    volumetric_surface_area  \\\n",
       "filename                                                      \n",
       "DB0-m3_o25_o84_f0_fsc.sym.10.cif                    1814.65   \n",
       "DB0-m2_o26_o27_f0_pcu.sym.20.cif                    1598.63   \n",
       "DB0-m3_o23_o23_f0_nbo.sym.54.cif                    1333.17   \n",
       "DB0-m3_o1_o146_f0_fsc.sym.37.cif                    1074.10   \n",
       "DB0-m29_o89_o500_f0_pts.sym.68.cif                  1542.03   \n",
       "\n",
       "                                    gravimetric_surface_area  \\\n",
       "filename                                                       \n",
       "DB0-m3_o25_o84_f0_fsc.sym.10.cif                     1808.58   \n",
       "DB0-m2_o26_o27_f0_pcu.sym.20.cif                     4832.75   \n",
       "DB0-m3_o23_o23_f0_nbo.sym.54.cif                     6383.11   \n",
       "DB0-m3_o1_o146_f0_fsc.sym.37.cif                     1136.84   \n",
       "DB0-m29_o89_o500_f0_pts.sym.68.cif                   1814.71   \n",
       "\n",
       "                                    accessible_volume_per_uc  volume_fraction  \\\n",
       "filename                                                                        \n",
       "DB0-m3_o25_o84_f0_fsc.sym.10.cif                    137.9590          0.12060   \n",
       "DB0-m2_o26_o27_f0_pcu.sym.20.cif                   3122.8900          0.59044   \n",
       "DB0-m3_o23_o23_f0_nbo.sym.54.cif                  11222.0000          0.69256   \n",
       "DB0-m3_o1_o146_f0_fsc.sym.37.cif                     69.6984          0.04194   \n",
       "DB0-m29_o89_o500_f0_pts.sym.68.cif                  200.5980          0.10634   \n",
       "\n",
       "                                    grav_volume  probe_occupiable_vol  \\\n",
       "filename                                                                \n",
       "DB0-m3_o25_o84_f0_fsc.sym.10.cif       0.120196               520.493   \n",
       "DB0-m2_o26_o27_f0_pcu.sym.20.cif       1.784930              4432.260   \n",
       "DB0-m3_o23_o23_f0_nbo.sym.54.cif       3.315920             13627.300   \n",
       "DB0-m3_o1_o146_f0_fsc.sym.37.cif       0.044390               465.320   \n",
       "DB0-m29_o89_o500_f0_pts.sym.68.cif     0.125145               821.519   \n",
       "\n",
       "                                    probe_occ_vol_frac  ...  lc-S-0-all  \\\n",
       "filename                                                ...               \n",
       "DB0-m3_o25_o84_f0_fsc.sym.10.cif                0.4550  ...    0.547700   \n",
       "DB0-m2_o26_o27_f0_pcu.sym.20.cif                0.8380  ...    0.542767   \n",
       "DB0-m3_o23_o23_f0_nbo.sym.54.cif                0.8410  ...    0.532900   \n",
       "DB0-m3_o1_o146_f0_fsc.sym.37.cif                0.2800  ...    0.547700   \n",
       "DB0-m29_o89_o500_f0_pts.sym.68.cif              0.4355  ...    0.532900   \n",
       "\n",
       "                                    lc-S-1-all  lc-S-2-all  lc-S-3-all  \\\n",
       "filename                                                                 \n",
       "DB0-m3_o25_o84_f0_fsc.sym.10.cif      0.569800     0.83625    1.428350   \n",
       "DB0-m2_o26_o27_f0_pcu.sym.20.cif      0.759733     1.30000    1.126967   \n",
       "DB0-m3_o23_o23_f0_nbo.sym.54.cif      0.562100     1.09500    0.562100   \n",
       "DB0-m3_o1_o146_f0_fsc.sym.37.cif      0.858550     1.40250    1.120850   \n",
       "DB0-m29_o89_o500_f0_pts.sym.68.cif    0.562100     1.09500    1.124200   \n",
       "\n",
       "                                    lc-alpha-0-all  lc-alpha-1-all  \\\n",
       "filename                                                             \n",
       "DB0-m3_o25_o84_f0_fsc.sym.10.cif            41.425       71.755000   \n",
       "DB0-m2_o26_o27_f0_pcu.sym.20.cif            36.980       95.673333   \n",
       "DB0-m3_o23_o23_f0_nbo.sym.54.cif            28.090       59.890000   \n",
       "DB0-m3_o1_o146_f0_fsc.sym.37.cif            41.425      113.565000   \n",
       "DB0-m29_o89_o500_f0_pts.sym.68.cif          28.090       59.890000   \n",
       "\n",
       "                                    lc-alpha-2-all  lc-alpha-3-all  \\\n",
       "filename                                                             \n",
       "DB0-m3_o25_o84_f0_fsc.sym.10.cif         85.800000      185.320000   \n",
       "DB0-m2_o26_o27_f0_pcu.sym.20.cif        136.635076      129.961743   \n",
       "DB0-m3_o23_o23_f0_nbo.sym.54.cif         87.980000       59.890000   \n",
       "DB0-m3_o1_o146_f0_fsc.sym.37.cif        160.962614      120.622614   \n",
       "DB0-m29_o89_o500_f0_pts.sym.68.cif       87.980000      119.780000   \n",
       "\n",
       "                                    D_lc-chi-2-all  D_lc-S-2-all  \n",
       "filename                                                          \n",
       "DB0-m3_o25_o84_f0_fsc.sym.10.cif             0.690     -0.030000  \n",
       "DB0-m2_o26_o27_f0_pcu.sym.20.cif             1.480      0.213333  \n",
       "DB0-m3_o23_o23_f0_nbo.sym.54.cif             0.890     -0.040000  \n",
       "DB0-m3_o1_o146_f0_fsc.sym.37.cif             1.775      0.340000  \n",
       "DB0-m29_o89_o500_f0_pts.sym.68.cif           0.890     -0.040000  \n",
       "\n",
       "[5 rows x 450 columns]"
      ]
     },
     "execution_count": 59,
     "metadata": {},
     "output_type": "execute_result"
    }
   ],
   "source": [
    "X_train.head()"
   ]
  },
  {
   "cell_type": "code",
   "execution_count": 60,
   "id": "6c639844",
   "metadata": {},
   "outputs": [
    {
     "data": {
      "text/html": [
       "<div>\n",
       "<style scoped>\n",
       "    .dataframe tbody tr th:only-of-type {\n",
       "        vertical-align: middle;\n",
       "    }\n",
       "\n",
       "    .dataframe tbody tr th {\n",
       "        vertical-align: top;\n",
       "    }\n",
       "\n",
       "    .dataframe thead th {\n",
       "        text-align: right;\n",
       "    }\n",
       "</style>\n",
       "<table border=\"1\" class=\"dataframe\">\n",
       "  <thead>\n",
       "    <tr style=\"text-align: right;\">\n",
       "      <th></th>\n",
       "      <th>0</th>\n",
       "    </tr>\n",
       "  </thead>\n",
       "  <tbody>\n",
       "    <tr>\n",
       "      <th>0</th>\n",
       "      <td>82.851179</td>\n",
       "    </tr>\n",
       "    <tr>\n",
       "      <th>1</th>\n",
       "      <td>1.141462</td>\n",
       "    </tr>\n",
       "    <tr>\n",
       "      <th>2</th>\n",
       "      <td>0.623254</td>\n",
       "    </tr>\n",
       "    <tr>\n",
       "      <th>3</th>\n",
       "      <td>32.874921</td>\n",
       "    </tr>\n",
       "    <tr>\n",
       "      <th>4</th>\n",
       "      <td>20.352463</td>\n",
       "    </tr>\n",
       "  </tbody>\n",
       "</table>\n",
       "</div>"
      ],
      "text/plain": [
       "           0\n",
       "0  82.851179\n",
       "1   1.141462\n",
       "2   0.623254\n",
       "3  32.874921\n",
       "4  20.352463"
      ]
     },
     "execution_count": 60,
     "metadata": {},
     "output_type": "execute_result"
    }
   ],
   "source": [
    "y_train.head()"
   ]
  },
  {
   "cell_type": "markdown",
   "id": "3b830008",
   "metadata": {},
   "source": [
    "Now I want to perform an initial train/test split using just 10% of this data to train initial models so I can get a quick feel for how well each model will perform."
   ]
  },
  {
   "cell_type": "code",
   "execution_count": 61,
   "id": "bcf6578c",
   "metadata": {},
   "outputs": [],
   "source": [
    "X_tr, X_te, y_tr, y_te = train_test_split(X_train, y_train, test_size=0.9, random_state=15)"
   ]
  },
  {
   "cell_type": "code",
   "execution_count": 62,
   "id": "c906e9cc",
   "metadata": {},
   "outputs": [
    {
     "data": {
      "text/plain": [
       "((20475, 450), (184275, 450), (20475, 1), (184275, 1))"
      ]
     },
     "execution_count": 62,
     "metadata": {},
     "output_type": "execute_result"
    }
   ],
   "source": [
    "X_tr.shape, X_te.shape, y_tr.shape, y_te.shape"
   ]
  },
  {
   "cell_type": "code",
   "execution_count": 63,
   "id": "419d73a3",
   "metadata": {},
   "outputs": [],
   "source": [
    "# Reshape y_train for model fitting\n",
    "y_tr = y_tr.values.ravel()\n",
    "y_te = y_te.values.ravel()"
   ]
  },
  {
   "cell_type": "code",
   "execution_count": 64,
   "id": "23ff0cc8",
   "metadata": {},
   "outputs": [
    {
     "data": {
      "text/plain": [
       "((20475,), (184275,))"
      ]
     },
     "execution_count": 64,
     "metadata": {},
     "output_type": "execute_result"
    }
   ],
   "source": [
    "y_tr.shape, y_te.shape"
   ]
  },
  {
   "cell_type": "markdown",
   "id": "b11f0c5e",
   "metadata": {},
   "source": [
    "I'm going to replace some characters that may be in the datasets so they don't cause errors with XGBoost."
   ]
  },
  {
   "cell_type": "code",
   "execution_count": 65,
   "id": "2738d7fc",
   "metadata": {},
   "outputs": [
    {
     "name": "stderr",
     "output_type": "stream",
     "text": [
      "C:\\Users\\zbro1\\AppData\\Local\\Temp\\ipykernel_11644\\4225583205.py:1: FutureWarning: The default value of regex will change from True to False in a future version. In addition, single character regular expressions will *not* be treated as literal strings when regex=True.\n",
      "  X_tr.columns = X_tr.columns.str.replace('[', '_')\n",
      "C:\\Users\\zbro1\\AppData\\Local\\Temp\\ipykernel_11644\\4225583205.py:2: FutureWarning: The default value of regex will change from True to False in a future version. In addition, single character regular expressions will *not* be treated as literal strings when regex=True.\n",
      "  X_tr.columns = X_tr.columns.str.replace(']', '_')\n",
      "C:\\Users\\zbro1\\AppData\\Local\\Temp\\ipykernel_11644\\4225583205.py:5: FutureWarning: The default value of regex will change from True to False in a future version. In addition, single character regular expressions will *not* be treated as literal strings when regex=True.\n",
      "  X_te.columns = X_te.columns.str.replace('[', '_')\n",
      "C:\\Users\\zbro1\\AppData\\Local\\Temp\\ipykernel_11644\\4225583205.py:6: FutureWarning: The default value of regex will change from True to False in a future version. In addition, single character regular expressions will *not* be treated as literal strings when regex=True.\n",
      "  X_te.columns = X_te.columns.str.replace(']', '_')\n"
     ]
    }
   ],
   "source": [
    "X_tr.columns = X_tr.columns.str.replace('[', '_')\n",
    "X_tr.columns = X_tr.columns.str.replace(']', '_')\n",
    "X_tr.columns = X_tr.columns.str.replace(' ', '_')\n",
    "X_tr.columns = X_tr.columns.str.replace(',', '_')\n",
    "X_te.columns = X_te.columns.str.replace('[', '_')\n",
    "X_te.columns = X_te.columns.str.replace(']', '_')\n",
    "X_te.columns = X_te.columns.str.replace(' ', '_')\n",
    "X_te.columns = X_te.columns.str.replace(',', '_')"
   ]
  },
  {
   "cell_type": "markdown",
   "id": "67e72890",
   "metadata": {},
   "source": [
    "Now I'm ready to start making some models. I'll begin with dummy models using mean and median to set a baseline to determine whether the other models are any good at all. I'll also build a dataframe called train_scores to keep track of the model scores so I can plot my progress as I go. "
   ]
  },
  {
   "cell_type": "code",
   "execution_count": 110,
   "id": "5c7e1a51",
   "metadata": {},
   "outputs": [
    {
     "name": "stdout",
     "output_type": "stream",
     "text": [
      "408.04907666419814\n"
     ]
    }
   ],
   "source": [
    "dummy_mean = DummyRegressor(strategy=\"mean\")\n",
    "dummy_mean.fit(X_tr, y_tr)\n",
    "y_pred = dummy_mean.predict(X_te)\n",
    "train_scores = pd.DataFrame([{'Iteration' : 1, 'Model' : 'Mean Dummy Regressor', '% Train Data' : 10,\\\n",
    "                              'RMSE' : mean_squared_error(y_te, y_pred)}])\n",
    "print(mean_squared_error(y_te, y_pred))"
   ]
  },
  {
   "cell_type": "code",
   "execution_count": 111,
   "id": "aa7e0a3b",
   "metadata": {},
   "outputs": [
    {
     "name": "stdout",
     "output_type": "stream",
     "text": [
      "478.3062211582237\n"
     ]
    }
   ],
   "source": [
    "dummy_median = DummyRegressor(strategy=\"median\")\n",
    "dummy_median.fit(X_tr, y_tr)\n",
    "y_pred = dummy_median.predict(X_te)\n",
    "new_row = pd.DataFrame([{'Iteration' : 1, 'Model' : 'Median Dummy Regressor', '% Train Data' : 10,\\\n",
    "                         'RMSE' : mean_squared_error(y_te, y_pred)}])\n",
    "train_scores = pd.concat([train_scores, new_row])\n",
    "print(mean_squared_error(y_te, y_pred))"
   ]
  },
  {
   "cell_type": "markdown",
   "id": "1d500005",
   "metadata": {},
   "source": [
    "Now I'll start with an OLS regressor, then ridge and lasso."
   ]
  },
  {
   "cell_type": "code",
   "execution_count": 113,
   "id": "fcf8d3d5",
   "metadata": {},
   "outputs": [
    {
     "name": "stdout",
     "output_type": "stream",
     "text": [
      "405.45832716213954\n"
     ]
    }
   ],
   "source": [
    "ols = LinearRegression()\n",
    "ols.fit(X_tr, y_tr)\n",
    "y_pred = ols.predict(X_te)\n",
    "new_row = pd.DataFrame([{'Iteration' : 1, 'Model' : 'OLS', '% Train Data' : 10, 'RMSE' : mean_squared_error(y_te, y_pred)}])\n",
    "train_scores = pd.concat([train_scores, new_row])\n",
    "print(mean_squared_error(y_te, y_pred))"
   ]
  },
  {
   "cell_type": "markdown",
   "id": "fd4982aa",
   "metadata": {},
   "source": [
    "For the rest of the models I'm exploring I'll need to do some hyperparameter tuning. Before spending that much time on tuning I'll create a model of each using the default parameters just to see how they score."
   ]
  },
  {
   "cell_type": "code",
   "execution_count": 115,
   "id": "d7fa05a8",
   "metadata": {},
   "outputs": [
    {
     "name": "stdout",
     "output_type": "stream",
     "text": [
      "488.86755363408946\n"
     ]
    }
   ],
   "source": [
    "ridge=Ridge(random_state = 15)\n",
    "ridge.fit(X_tr, y_tr)\n",
    "y_pred = ridge.predict(X_te)\n",
    "new_row = pd.DataFrame([{'Iteration' : 1, 'Model' : 'Ridge Default', '% Train Data' : 10,\\\n",
    "                         'RMSE' : mean_squared_error(y_te, y_pred)}])\n",
    "train_scores = pd.concat([train_scores, new_row])\n",
    "print(mean_squared_error(y_te, y_pred))"
   ]
  },
  {
   "cell_type": "code",
   "execution_count": 117,
   "id": "444af954",
   "metadata": {},
   "outputs": [
    {
     "name": "stdout",
     "output_type": "stream",
     "text": [
      "651.8153922270997\n"
     ]
    },
    {
     "name": "stderr",
     "output_type": "stream",
     "text": [
      "C:\\Users\\zbro1\\anaconda\\envs\\MOF\\lib\\site-packages\\sklearn\\linear_model\\_coordinate_descent.py:631: ConvergenceWarning: Objective did not converge. You might want to increase the number of iterations, check the scale of the features or consider increasing regularisation. Duality gap: 8.349e+05, tolerance: 8.481e+02\n",
      "  model = cd_fast.enet_coordinate_descent(\n"
     ]
    }
   ],
   "source": [
    "lasso=linear_model.Lasso(random_state = 15)\n",
    "lasso.fit(X_tr, y_tr)\n",
    "y_pred = lasso.predict(X_te)\n",
    "new_row = pd.DataFrame([{'Iteration' : 1, 'Model' : 'Lasso Default', '% Train Data' : 10,\\\n",
    "                         'RMSE' : mean_squared_error(y_te, y_pred)}])\n",
    "train_scores = pd.concat([train_scores, new_row])\n",
    "print(mean_squared_error(y_te, y_pred))"
   ]
  },
  {
   "cell_type": "code",
   "execution_count": 119,
   "id": "fa1bdfbe",
   "metadata": {},
   "outputs": [
    {
     "data": {
      "text/plain": [
       "9.202145352744651"
      ]
     },
     "execution_count": 119,
     "metadata": {},
     "output_type": "execute_result"
    }
   ],
   "source": [
    "forest = RandomForestRegressor(max_depth=10, n_jobs = -1, random_state=15)\n",
    "forest.fit(X_tr, y_tr)\n",
    "y_pred = forest.predict(X_te)\n",
    "new_row = pd.DataFrame([{'Iteration' : 1, 'Model' : 'Random Forest Default', '% Train Data' : 10,\\\n",
    "                         'RMSE' : mean_squared_error(y_te, y_pred)}])\n",
    "train_scores = pd.concat([train_scores, new_row])\n",
    "mean_squared_error(y_te, y_pred)"
   ]
  },
  {
   "cell_type": "code",
   "execution_count": 121,
   "id": "ebdfdedf",
   "metadata": {},
   "outputs": [
    {
     "data": {
      "text/plain": [
       "8.593579805487447"
      ]
     },
     "execution_count": 121,
     "metadata": {},
     "output_type": "execute_result"
    }
   ],
   "source": [
    "xgb = XGBRegressor(max_depth=10, seed=15)\n",
    "xgb.fit(X_tr, y_tr)\n",
    "y_pred = xgb.predict(X_te)\n",
    "new_row = pd.DataFrame([{'Iteration' : 1, 'Model' : 'XGBoost Default', '% Train Data' : 10,\\\n",
    "                         'RMSE' : mean_squared_error(y_te, y_pred)}])\n",
    "train_scores = pd.concat([train_scores, new_row])\n",
    "mean_squared_error(y_te, y_pred)"
   ]
  },
  {
   "cell_type": "code",
   "execution_count": 122,
   "id": "4cfa3aa0",
   "metadata": {},
   "outputs": [
    {
     "data": {
      "text/plain": [
       "516.119624581127"
      ]
     },
     "execution_count": 122,
     "metadata": {},
     "output_type": "execute_result"
    }
   ],
   "source": [
    "xgb_linear = XGBRegressor(booster = 'gblinear', seed=15)\n",
    "xgb_linear.fit(X_tr, y_tr)\n",
    "y_pred = xgb_linear.predict(X_te)\n",
    "new_row = pd.DataFrame([{'Iteration' : 1, 'Model' : 'XGBoost Linear Default', '% Train Data' : 10,\\\n",
    "                         'RMSE' : mean_squared_error(y_te, y_pred)}])\n",
    "train_scores = pd.concat([train_scores, new_row])\n",
    "mean_squared_error(y_te, y_pred)"
   ]
  },
  {
   "cell_type": "code",
   "execution_count": 123,
   "id": "05347e0a",
   "metadata": {},
   "outputs": [
    {
     "data": {
      "text/plain": [
       "514.7229276670863"
      ]
     },
     "execution_count": 123,
     "metadata": {},
     "output_type": "execute_result"
    }
   ],
   "source": [
    "xgb_linear_lcd = XGBRegressor(booster = 'gblinear', updater = 'coord_descent', seed=15)\n",
    "xgb_linear_lcd.fit(X_tr, y_tr)\n",
    "y_pred = xgb_linear_lcd.predict(X_te)\n",
    "new_row = pd.DataFrame([{'Iteration' : 1, 'Model' : 'XGBoost Linear Coord Desc Default', '% Train Data' : 10,\\\n",
    "                         'RMSE' : mean_squared_error(y_te, y_pred)}])\n",
    "train_scores = pd.concat([train_scores, new_row])\n",
    "mean_squared_error(y_te, y_pred)"
   ]
  },
  {
   "cell_type": "code",
   "execution_count": 124,
   "id": "1b5e47b6",
   "metadata": {},
   "outputs": [
    {
     "data": {
      "text/plain": [
       "16.987966030357054"
      ]
     },
     "execution_count": 124,
     "metadata": {},
     "output_type": "execute_result"
    }
   ],
   "source": [
    "dtree = tree.DecisionTreeRegressor(max_depth = 10, random_state = 15)\n",
    "dtree.fit(X_tr, y_tr)\n",
    "y_pred = dtree.predict(X_te)\n",
    "new_row = pd.DataFrame([{'Iteration' : 1, 'Model' : 'Decision Tree Default', '% Train Data' : 10,\\\n",
    "                         'RMSE' : mean_squared_error(y_te, y_pred)}])\n",
    "train_scores = pd.concat([train_scores, new_row])\n",
    "mean_squared_error(y_te, y_pred)"
   ]
  },
  {
   "cell_type": "code",
   "execution_count": 125,
   "id": "b5d065e6",
   "metadata": {},
   "outputs": [
    {
     "data": {
      "text/plain": [
       "19.887800455841536"
      ]
     },
     "execution_count": 125,
     "metadata": {},
     "output_type": "execute_result"
    }
   ],
   "source": [
    "knn = KNeighborsRegressor(n_jobs = -1)\n",
    "knn.fit(X_tr, y_tr)\n",
    "y_pred = knn.predict(X_te)\n",
    "new_row = pd.DataFrame([{'Iteration' : 1, 'Model' : 'KNN Default', '% Train Data' : 10,\\\n",
    "                         'RMSE' : mean_squared_error(y_te, y_pred)}])\n",
    "train_scores = pd.concat([train_scores, new_row])\n",
    "mean_squared_error(y_te, y_pred)"
   ]
  },
  {
   "cell_type": "code",
   "execution_count": 126,
   "id": "5ccf2494",
   "metadata": {},
   "outputs": [
    {
     "data": {
      "text/plain": [
       "7.116764742236408"
      ]
     },
     "execution_count": 126,
     "metadata": {},
     "output_type": "execute_result"
    }
   ],
   "source": [
    "lgbm = lgb.LGBMRegressor(objective = 'regression', metric = 'rmse', max_depth = 10, data_random_seed = 15)\n",
    "lgbm.fit(X_tr, y_tr)\n",
    "y_pred = lgbm.predict(X_te)\n",
    "new_row = pd.DataFrame([{'Iteration' : 1, 'Model' : 'Light GBM Default', '% Train Data' : 10,\\\n",
    "                         'RMSE' : mean_squared_error(y_te, y_pred)}])\n",
    "train_scores = pd.concat([train_scores, new_row])\n",
    "mean_squared_error(y_te, y_pred)"
   ]
  },
  {
   "cell_type": "markdown",
   "id": "eb8480c2",
   "metadata": {},
   "source": [
    "Now I'm going to plot these default model scores with 10% training data to see how they compare against one another. For reference the dummy models were in the 400s."
   ]
  },
  {
   "cell_type": "code",
   "execution_count": 127,
   "id": "63a56377",
   "metadata": {},
   "outputs": [],
   "source": [
    "defaults = train_scores[['Default' in x for x in train_scores['Model'].unique()]]"
   ]
  },
  {
   "cell_type": "code",
   "execution_count": 128,
   "id": "d6e8abf0",
   "metadata": {},
   "outputs": [
    {
     "data": {
      "image/png": "[encoded data removed]",
      "text/plain": [
       "<Figure size 640x480 with 1 Axes>"
      ]
     },
     "metadata": {},
     "output_type": "display_data"
    }
   ],
   "source": [
    "sns.barplot(data=defaults, x='Model', y='RMSE')\n",
    "plt.ylabel('RMSE', fontsize = 14)\n",
    "plt.xlabel('')\n",
    "plt.title('Default Model Scores with 10% Train Data', fontsize = 18)\n",
    "plt.xticks(rotation=45, ha='right')\n",
    "plt.savefig('../figures/default_10_models.png',dpi=1200, bbox_inches='tight')\n",
    "plt.show()"
   ]
  },
  {
   "cell_type": "markdown",
   "id": "891c3fc0",
   "metadata": {},
   "source": [
    "Next, to confirm that those with the lowest scores are truly the best, I'll prepare an 80% training data split and make a fresh set of default models, but this time trained with 8 times more data. "
   ]
  },
  {
   "cell_type": "code",
   "execution_count": 129,
   "id": "10df1a22",
   "metadata": {},
   "outputs": [],
   "source": [
    "# Train/test split with new variables for the 80% train splits\n",
    "X_tr8, X_te8, y_tr8, y_te8 = train_test_split(X_train, y_train, test_size=0.2, random_state=15)"
   ]
  },
  {
   "cell_type": "code",
   "execution_count": 130,
   "id": "713412b6",
   "metadata": {},
   "outputs": [],
   "source": [
    "y_tr8 = y_tr8.values.ravel()\n",
    "y_te8 = y_te8.values.ravel()"
   ]
  },
  {
   "cell_type": "code",
   "execution_count": 131,
   "id": "6cabf720",
   "metadata": {},
   "outputs": [
    {
     "name": "stdout",
     "output_type": "stream",
     "text": [
      "407.8835873965248\n"
     ]
    }
   ],
   "source": [
    "dummy_mean = DummyRegressor(strategy=\"mean\")\n",
    "dummy_mean.fit(X_tr8, y_tr8)\n",
    "y_pred = dummy_mean.predict(X_te8)\n",
    "new_row = pd.DataFrame([{'Iteration' : 2, 'Model' : 'Mean Dummy Regressor', '% Train Data' : 80,\\\n",
    "                              'RMSE' : mean_squared_error(y_te8, y_pred)}])\n",
    "train_scores = pd.concat([train_scores, new_row])\n",
    "print(mean_squared_error(y_te8, y_pred))"
   ]
  },
  {
   "cell_type": "code",
   "execution_count": 132,
   "id": "98fa1b78",
   "metadata": {},
   "outputs": [
    {
     "name": "stdout",
     "output_type": "stream",
     "text": [
      "481.42949851544324\n"
     ]
    }
   ],
   "source": [
    "dummy_median = DummyRegressor(strategy=\"median\")\n",
    "dummy_median.fit(X_tr8, y_tr8)\n",
    "y_pred = dummy_median.predict(X_te8)\n",
    "new_row = pd.DataFrame([{'Iteration' : 2, 'Model' : 'Median Dummy Regressor', '% Train Data' : 80,\\\n",
    "                         'RMSE' : mean_squared_error(y_te8, y_pred)}])\n",
    "train_scores = pd.concat([train_scores, new_row])\n",
    "print(mean_squared_error(y_te8, y_pred))"
   ]
  },
  {
   "cell_type": "code",
   "execution_count": 133,
   "id": "2d76820c",
   "metadata": {},
   "outputs": [
    {
     "name": "stdout",
     "output_type": "stream",
     "text": [
      "584.8471427442527\n"
     ]
    }
   ],
   "source": [
    "ols = LinearRegression()\n",
    "ols.fit(X_tr8, y_tr8)\n",
    "y_pred = ols.predict(X_te8)\n",
    "new_row = pd.DataFrame([{'Iteration' : 2, 'Model' : 'OLS', '% Train Data' : 80, 'RMSE' : mean_squared_error(y_te8, y_pred)}])\n",
    "train_scores = pd.concat([train_scores, new_row])\n",
    "print(mean_squared_error(y_te8, y_pred))"
   ]
  },
  {
   "cell_type": "code",
   "execution_count": 134,
   "id": "09c2f189",
   "metadata": {},
   "outputs": [
    {
     "name": "stdout",
     "output_type": "stream",
     "text": [
      "714.6498490983072\n"
     ]
    }
   ],
   "source": [
    "ridge=Ridge(random_state = 15)\n",
    "ridge.fit(X_tr8, y_tr8)\n",
    "y_pred = ridge.predict(X_te8)\n",
    "new_row = pd.DataFrame([{'Iteration' : 2, 'Model' : 'Ridge Default', '% Train Data' : 80,\\\n",
    "                         'RMSE' : mean_squared_error(y_te8, y_pred)}])\n",
    "train_scores = pd.concat([train_scores, new_row])\n",
    "print(mean_squared_error(y_te8, y_pred))"
   ]
  },
  {
   "cell_type": "code",
   "execution_count": 135,
   "id": "61396501",
   "metadata": {},
   "outputs": [
    {
     "name": "stdout",
     "output_type": "stream",
     "text": [
      "1117.447869516571\n"
     ]
    },
    {
     "name": "stderr",
     "output_type": "stream",
     "text": [
      "C:\\Users\\zbro1\\anaconda\\envs\\MOF\\lib\\site-packages\\sklearn\\linear_model\\_coordinate_descent.py:631: ConvergenceWarning: Objective did not converge. You might want to increase the number of iterations, check the scale of the features or consider increasing regularisation. Duality gap: 8.903e+06, tolerance: 6.697e+03\n",
      "  model = cd_fast.enet_coordinate_descent(\n"
     ]
    }
   ],
   "source": [
    "lasso=linear_model.Lasso(random_state = 15)\n",
    "lasso.fit(X_tr8, y_tr8)\n",
    "y_pred = lasso.predict(X_te8)\n",
    "new_row = pd.DataFrame([{'Iteration' : 2, 'Model' : 'Lasso Default', '% Train Data' : 80,\\\n",
    "                         'RMSE' : mean_squared_error(y_te8, y_pred)}])\n",
    "train_scores = pd.concat([train_scores, new_row])\n",
    "print(mean_squared_error(y_te8, y_pred))"
   ]
  },
  {
   "cell_type": "code",
   "execution_count": 136,
   "id": "e8b38f72",
   "metadata": {},
   "outputs": [
    {
     "data": {
      "text/plain": [
       "7.615290288424941"
      ]
     },
     "execution_count": 136,
     "metadata": {},
     "output_type": "execute_result"
    }
   ],
   "source": [
    "forest = RandomForestRegressor(max_depth=10, n_jobs = -1, random_state=15)\n",
    "forest.fit(X_tr8, y_tr8)\n",
    "y_pred = forest.predict(X_te8)\n",
    "new_row = pd.DataFrame([{'Iteration' : 2, 'Model' : 'Random Forest Default', '% Train Data' : 80,\\\n",
    "                         'RMSE' : mean_squared_error(y_te8, y_pred)}])\n",
    "train_scores = pd.concat([train_scores, new_row])\n",
    "mean_squared_error(y_te8, y_pred)"
   ]
  },
  {
   "cell_type": "code",
   "execution_count": 137,
   "id": "3dda8560",
   "metadata": {},
   "outputs": [
    {
     "data": {
      "text/plain": [
       "5.1987387083784276"
      ]
     },
     "execution_count": 137,
     "metadata": {},
     "output_type": "execute_result"
    }
   ],
   "source": [
    "xgb = XGBRegressor(max_depth=10, seed=15)\n",
    "xgb.fit(X_tr8, y_tr8)\n",
    "y_pred = xgb.predict(X_te8)\n",
    "new_row = pd.DataFrame([{'Iteration' : 2, 'Model' : 'XGBoost Default', '% Train Data' : 80,\\\n",
    "                         'RMSE' : mean_squared_error(y_te8, y_pred)}])\n",
    "train_scores = pd.concat([train_scores, new_row])\n",
    "mean_squared_error(y_te8, y_pred)"
   ]
  },
  {
   "cell_type": "code",
   "execution_count": 138,
   "id": "5d4cb68a",
   "metadata": {},
   "outputs": [
    {
     "data": {
      "text/plain": [
       "837.626329046093"
      ]
     },
     "execution_count": 138,
     "metadata": {},
     "output_type": "execute_result"
    }
   ],
   "source": [
    "xgb_linear = XGBRegressor(booster = 'gblinear', seed=15)\n",
    "xgb_linear.fit(X_tr8, y_tr8)\n",
    "y_pred = xgb_linear.predict(X_te8)\n",
    "new_row = pd.DataFrame([{'Iteration' : 2, 'Model' : 'XGBoost Linear Default', '% Train Data' : 80,\\\n",
    "                         'RMSE' : mean_squared_error(y_te8, y_pred)}])\n",
    "train_scores = pd.concat([train_scores, new_row])\n",
    "mean_squared_error(y_te8, y_pred)"
   ]
  },
  {
   "cell_type": "code",
   "execution_count": 139,
   "id": "e3726940",
   "metadata": {},
   "outputs": [
    {
     "data": {
      "text/plain": [
       "824.783866113244"
      ]
     },
     "execution_count": 139,
     "metadata": {},
     "output_type": "execute_result"
    }
   ],
   "source": [
    "xgb_linear_lcd = XGBRegressor(booster = 'gblinear', updater = 'coord_descent', seed=15)\n",
    "xgb_linear_lcd.fit(X_tr8, y_tr8)\n",
    "y_pred = xgb_linear_lcd.predict(X_te8)\n",
    "new_row = pd.DataFrame([{'Iteration' : 2, 'Model' : 'XGBoost Linear Coord Desc Default', '% Train Data' : 80,\\\n",
    "                         'RMSE' : mean_squared_error(y_te8, y_pred)}])\n",
    "train_scores = pd.concat([train_scores, new_row])\n",
    "mean_squared_error(y_te8, y_pred)"
   ]
  },
  {
   "cell_type": "code",
   "execution_count": 140,
   "id": "b76e8c37",
   "metadata": {},
   "outputs": [
    {
     "data": {
      "text/plain": [
       "10.625218666465928"
      ]
     },
     "execution_count": 140,
     "metadata": {},
     "output_type": "execute_result"
    }
   ],
   "source": [
    "dtree = tree.DecisionTreeRegressor(max_depth = 10, random_state = 15)\n",
    "dtree.fit(X_tr8, y_tr8)\n",
    "y_pred = dtree.predict(X_te8)\n",
    "new_row = pd.DataFrame([{'Iteration' : 2, 'Model' : 'Decision Tree Default', '% Train Data' : 80,\\\n",
    "                         'RMSE' : mean_squared_error(y_te8, y_pred)}])\n",
    "train_scores = pd.concat([train_scores, new_row])\n",
    "mean_squared_error(y_te8, y_pred)"
   ]
  },
  {
   "cell_type": "code",
   "execution_count": 141,
   "id": "a93454e0",
   "metadata": {},
   "outputs": [
    {
     "data": {
      "text/plain": [
       "15.338097442830566"
      ]
     },
     "execution_count": 141,
     "metadata": {},
     "output_type": "execute_result"
    }
   ],
   "source": [
    "knn = KNeighborsRegressor(n_jobs = -1)\n",
    "knn.fit(X_tr8, y_tr8)\n",
    "y_pred = knn.predict(X_te8)\n",
    "new_row = pd.DataFrame([{'Iteration' : 2, 'Model' : 'KNN Default', '% Train Data' : 80,\\\n",
    "                         'RMSE' : mean_squared_error(y_te8, y_pred)}])\n",
    "train_scores = pd.concat([train_scores, new_row])\n",
    "mean_squared_error(y_te8, y_pred)"
   ]
  },
  {
   "cell_type": "code",
   "execution_count": 142,
   "id": "be22a696",
   "metadata": {},
   "outputs": [
    {
     "data": {
      "text/plain": [
       "5.504970493702045"
      ]
     },
     "execution_count": 142,
     "metadata": {},
     "output_type": "execute_result"
    }
   ],
   "source": [
    "lgbm = lgb.LGBMRegressor(objective = 'regression', metric = 'rmse', max_depth = 10, data_random_seed = 15)\n",
    "lgbm.fit(X_tr8, y_tr8)\n",
    "y_pred = lgbm.predict(X_te8)\n",
    "new_row = pd.DataFrame([{'Iteration' : 2, 'Model' : 'Light GBM Default', '% Train Data' : 80,\\\n",
    "                         'RMSE' : mean_squared_error(y_te8, y_pred)}])\n",
    "train_scores = pd.concat([train_scores, new_row])\n",
    "mean_squared_error(y_te8, y_pred)"
   ]
  },
  {
   "cell_type": "markdown",
   "id": "eafc8078",
   "metadata": {},
   "source": [
    "Now I'll update my graph of model RMSE setting the 10% and 80% train data models next to each other to see if the same trends persist. "
   ]
  },
  {
   "cell_type": "code",
   "execution_count": 143,
   "id": "e0e804a9",
   "metadata": {},
   "outputs": [
    {
     "data": {
      "text/html": [
       "<div>\n",
       "<style scoped>\n",
       "    .dataframe tbody tr th:only-of-type {\n",
       "        vertical-align: middle;\n",
       "    }\n",
       "\n",
       "    .dataframe tbody tr th {\n",
       "        vertical-align: top;\n",
       "    }\n",
       "\n",
       "    .dataframe thead th {\n",
       "        text-align: right;\n",
       "    }\n",
       "</style>\n",
       "<table border=\"1\" class=\"dataframe\">\n",
       "  <thead>\n",
       "    <tr style=\"text-align: right;\">\n",
       "      <th></th>\n",
       "      <th>Model</th>\n",
       "      <th>% Train Data</th>\n",
       "      <th>RMSE</th>\n",
       "    </tr>\n",
       "  </thead>\n",
       "  <tbody>\n",
       "    <tr>\n",
       "      <th>0</th>\n",
       "      <td>Mean Dummy Regressor</td>\n",
       "      <td>10</td>\n",
       "      <td>408.049077</td>\n",
       "    </tr>\n",
       "    <tr>\n",
       "      <th>0</th>\n",
       "      <td>Median Dummy Regressor</td>\n",
       "      <td>10</td>\n",
       "      <td>478.306221</td>\n",
       "    </tr>\n",
       "    <tr>\n",
       "      <th>0</th>\n",
       "      <td>OLS</td>\n",
       "      <td>10</td>\n",
       "      <td>405.458327</td>\n",
       "    </tr>\n",
       "    <tr>\n",
       "      <th>0</th>\n",
       "      <td>Ridge Default</td>\n",
       "      <td>10</td>\n",
       "      <td>488.867554</td>\n",
       "    </tr>\n",
       "    <tr>\n",
       "      <th>0</th>\n",
       "      <td>Lasso Default</td>\n",
       "      <td>10</td>\n",
       "      <td>651.815392</td>\n",
       "    </tr>\n",
       "    <tr>\n",
       "      <th>0</th>\n",
       "      <td>Random Forest Default</td>\n",
       "      <td>10</td>\n",
       "      <td>9.202145</td>\n",
       "    </tr>\n",
       "    <tr>\n",
       "      <th>0</th>\n",
       "      <td>XGBoost Default</td>\n",
       "      <td>10</td>\n",
       "      <td>8.593580</td>\n",
       "    </tr>\n",
       "    <tr>\n",
       "      <th>0</th>\n",
       "      <td>XGBoost Linear Default</td>\n",
       "      <td>10</td>\n",
       "      <td>516.119625</td>\n",
       "    </tr>\n",
       "    <tr>\n",
       "      <th>0</th>\n",
       "      <td>XGBoost Linear Coord Desc Default</td>\n",
       "      <td>10</td>\n",
       "      <td>514.722928</td>\n",
       "    </tr>\n",
       "    <tr>\n",
       "      <th>0</th>\n",
       "      <td>Decision Tree Default</td>\n",
       "      <td>10</td>\n",
       "      <td>16.987966</td>\n",
       "    </tr>\n",
       "    <tr>\n",
       "      <th>0</th>\n",
       "      <td>KNN Default</td>\n",
       "      <td>10</td>\n",
       "      <td>19.887800</td>\n",
       "    </tr>\n",
       "    <tr>\n",
       "      <th>0</th>\n",
       "      <td>Light GBM Default</td>\n",
       "      <td>10</td>\n",
       "      <td>7.116765</td>\n",
       "    </tr>\n",
       "    <tr>\n",
       "      <th>0</th>\n",
       "      <td>Mean Dummy Regressor</td>\n",
       "      <td>80</td>\n",
       "      <td>407.883587</td>\n",
       "    </tr>\n",
       "    <tr>\n",
       "      <th>0</th>\n",
       "      <td>Median Dummy Regressor</td>\n",
       "      <td>80</td>\n",
       "      <td>481.429499</td>\n",
       "    </tr>\n",
       "    <tr>\n",
       "      <th>0</th>\n",
       "      <td>OLS</td>\n",
       "      <td>80</td>\n",
       "      <td>584.847143</td>\n",
       "    </tr>\n",
       "    <tr>\n",
       "      <th>0</th>\n",
       "      <td>Ridge Default</td>\n",
       "      <td>80</td>\n",
       "      <td>714.649849</td>\n",
       "    </tr>\n",
       "    <tr>\n",
       "      <th>0</th>\n",
       "      <td>Lasso Default</td>\n",
       "      <td>80</td>\n",
       "      <td>1117.447870</td>\n",
       "    </tr>\n",
       "    <tr>\n",
       "      <th>0</th>\n",
       "      <td>Random Forest Default</td>\n",
       "      <td>80</td>\n",
       "      <td>7.615290</td>\n",
       "    </tr>\n",
       "    <tr>\n",
       "      <th>0</th>\n",
       "      <td>XGBoost Default</td>\n",
       "      <td>80</td>\n",
       "      <td>5.198739</td>\n",
       "    </tr>\n",
       "    <tr>\n",
       "      <th>0</th>\n",
       "      <td>XGBoost Linear Default</td>\n",
       "      <td>80</td>\n",
       "      <td>837.626329</td>\n",
       "    </tr>\n",
       "    <tr>\n",
       "      <th>0</th>\n",
       "      <td>XGBoost Linear Coord Desc Default</td>\n",
       "      <td>80</td>\n",
       "      <td>824.783866</td>\n",
       "    </tr>\n",
       "    <tr>\n",
       "      <th>0</th>\n",
       "      <td>Decision Tree Default</td>\n",
       "      <td>80</td>\n",
       "      <td>10.625219</td>\n",
       "    </tr>\n",
       "    <tr>\n",
       "      <th>0</th>\n",
       "      <td>KNN Default</td>\n",
       "      <td>80</td>\n",
       "      <td>15.338097</td>\n",
       "    </tr>\n",
       "    <tr>\n",
       "      <th>0</th>\n",
       "      <td>Light GBM Default</td>\n",
       "      <td>80</td>\n",
       "      <td>5.504970</td>\n",
       "    </tr>\n",
       "  </tbody>\n",
       "</table>\n",
       "</div>"
      ],
      "text/plain": [
       "                               Model  % Train Data         RMSE\n",
       "0               Mean Dummy Regressor            10   408.049077\n",
       "0             Median Dummy Regressor            10   478.306221\n",
       "0                                OLS            10   405.458327\n",
       "0                      Ridge Default            10   488.867554\n",
       "0                      Lasso Default            10   651.815392\n",
       "0              Random Forest Default            10     9.202145\n",
       "0                    XGBoost Default            10     8.593580\n",
       "0             XGBoost Linear Default            10   516.119625\n",
       "0  XGBoost Linear Coord Desc Default            10   514.722928\n",
       "0              Decision Tree Default            10    16.987966\n",
       "0                        KNN Default            10    19.887800\n",
       "0                  Light GBM Default            10     7.116765\n",
       "0               Mean Dummy Regressor            80   407.883587\n",
       "0             Median Dummy Regressor            80   481.429499\n",
       "0                                OLS            80   584.847143\n",
       "0                      Ridge Default            80   714.649849\n",
       "0                      Lasso Default            80  1117.447870\n",
       "0              Random Forest Default            80     7.615290\n",
       "0                    XGBoost Default            80     5.198739\n",
       "0             XGBoost Linear Default            80   837.626329\n",
       "0  XGBoost Linear Coord Desc Default            80   824.783866\n",
       "0              Decision Tree Default            80    10.625219\n",
       "0                        KNN Default            80    15.338097\n",
       "0                  Light GBM Default            80     5.504970"
      ]
     },
     "execution_count": 143,
     "metadata": {},
     "output_type": "execute_result"
    }
   ],
   "source": [
    "train_scores"
   ]
  },
  {
   "cell_type": "code",
   "execution_count": 156,
   "id": "df4bcfae",
   "metadata": {},
   "outputs": [
    {
     "data": {
      "image/png": "[encoded data removed]",
      "text/plain": [
       "<Figure size 640x480 with 1 Axes>"
      ]
     },
     "metadata": {},
     "output_type": "display_data"
    }
   ],
   "source": [
    "sns.barplot(data=train_scores, x='Model', y='RMSE', hue = '% Train Data')\n",
    "plt.ylabel('RMSE', fontsize = 14)\n",
    "plt.xlabel('')\n",
    "plt.title('Default Model Scores', fontsize = 18)\n",
    "plt.xticks(rotation=45, ha='right')\n",
    "plt.savefig('../figures/default_models_80.png',dpi=1200, bbox_inches='tight')\n",
    "plt.show()"
   ]
  },
  {
   "cell_type": "markdown",
   "id": "c330b61b",
   "metadata": {},
   "source": [
    "Ok, now that I've got an idea of which models are likely to be the best performers I'll go ahead and do some hyperparameter tuning on the top performers using 10% train data."
   ]
  },
  {
   "cell_type": "code",
   "execution_count": 145,
   "id": "7b5ed7b6",
   "metadata": {},
   "outputs": [
    {
     "data": {
      "text/plain": [
       "{'max_depth': 4,\n",
       " 'max_features': 0.7479325890583333,\n",
       " 'min_samples_leaf': 223,\n",
       " 'n_estimators': 916}"
      ]
     },
     "execution_count": 145,
     "metadata": {},
     "output_type": "execute_result"
    }
   ],
   "source": [
    "parameters = {'max_features': sp_randFloat(0.1, 0.9),\n",
    "             'max_depth': sp_randInt(3,8),\n",
    "             'min_samples_leaf': sp_randInt(200,800),\n",
    "             'n_estimators': sp_randInt(500,1000)\n",
    "             }\n",
    "forest = RandomForestRegressor(n_jobs=-1, random_state=15)\n",
    "forest_reg = RandomizedSearchCV(forest, parameters, scoring='neg_root_mean_squared_error',\\\n",
    "                                refit='neg_root_mean_squared_error', n_iter=10, cv=5, random_state=15)\n",
    "rand_forest = forest_reg.fit(X_tr, y_tr)\n",
    "rand_forest.best_params_"
   ]
  },
  {
   "cell_type": "code",
   "execution_count": 146,
   "id": "bfd53d09",
   "metadata": {},
   "outputs": [
    {
     "data": {
      "text/plain": [
       "19.10849277587347"
      ]
     },
     "execution_count": 146,
     "metadata": {},
     "output_type": "execute_result"
    }
   ],
   "source": [
    "opt_forest = RandomForestRegressor(n_estimators=rand_forest.best_params_['n_estimators'],\\\n",
    "                                   max_features=rand_forest.best_params_['max_features'],\\\n",
    "                                   min_samples_leaf=rand_forest.best_params_['min_samples_leaf'],\\\n",
    "                                   max_depth=rand_forest.best_params_['max_depth'], n_jobs = -1, random_state=15)\n",
    "opt_forest.fit(X_tr, y_tr)\n",
    "y_pred = opt_forest.predict(X_te)\n",
    "new_row = pd.DataFrame([{'Iteration' : 3, 'Model' : 'Random Forest', '% Train Data' : 10,\\\n",
    "                         'RMSE' : mean_squared_error(y_te, y_pred)}])\n",
    "train_scores = pd.concat([train_scores, new_row])\n",
    "mean_squared_error(y_te, y_pred)"
   ]
  },
  {
   "cell_type": "code",
   "execution_count": 147,
   "id": "ba6ddf62",
   "metadata": {},
   "outputs": [
    {
     "data": {
      "text/plain": [
       "{'colsample_bytree': 0.8251957339723341,\n",
       " 'eta': 0.25666285593588023,\n",
       " 'max_depth': 3,\n",
       " 'n_estimators': 732}"
      ]
     },
     "execution_count": 147,
     "metadata": {},
     "output_type": "execute_result"
    }
   ],
   "source": [
    "xgb = XGBRegressor()\n",
    "parameters = {'n_estimators': sp_randInt(500,1000),\n",
    "             'max_depth': sp_randInt(2,9),\n",
    "             'eta': sp_randFloat(0.0001,0.99),\n",
    "             'colsample_bytree': sp_randFloat(0.01,0.99)} \n",
    "rand_xgb = RandomizedSearchCV(xgb, parameters, scoring='neg_root_mean_squared_error',\\\n",
    "                                refit='neg_root_mean_squared_error', n_iter=10, cv=5, random_state=15)\n",
    "xgbooster = rand_xgb.fit(X_tr, y_tr)\n",
    "xgbooster.best_params_"
   ]
  },
  {
   "cell_type": "code",
   "execution_count": 148,
   "id": "183084a7",
   "metadata": {},
   "outputs": [
    {
     "data": {
      "text/plain": [
       "7.1747066298110775"
      ]
     },
     "execution_count": 148,
     "metadata": {},
     "output_type": "execute_result"
    }
   ],
   "source": [
    "xgb_model = XGBRegressor(n_estimators=xgbooster.best_params_['n_estimators'],\\\n",
    "                                   eta=xgbooster.best_params_['eta'],\\\n",
    "                                   colsample_bytree=xgbooster.best_params_['colsample_bytree'],\\\n",
    "                                   max_depth=xgbooster.best_params_['max_depth'])\n",
    "xgb_model.fit(X_tr, y_tr)\n",
    "y_pred = xgb_model.predict(X_te)\n",
    "new_row = pd.DataFrame([{'Iteration' : 3, 'Model' : 'XGBoost', '% Train Data' : 10,\\\n",
    "                         'RMSE' : mean_squared_error(y_te, y_pred)}])\n",
    "train_scores = pd.concat([train_scores, new_row])\n",
    "mean_squared_error(y_te, y_pred)"
   ]
  },
  {
   "cell_type": "code",
   "execution_count": 149,
   "id": "3ac16e4c",
   "metadata": {},
   "outputs": [
    {
     "data": {
      "text/plain": [
       "{'max_depth': 4, 'min_samples_leaf': 243}"
      ]
     },
     "execution_count": 149,
     "metadata": {},
     "output_type": "execute_result"
    }
   ],
   "source": [
    "d_tree = tree.DecisionTreeRegressor(random_state = 12)\n",
    "parameters = {'max_depth': sp_randInt(2,8),\n",
    "             'min_samples_leaf': sp_randInt(100,5000)}\n",
    "rand_tree = RandomizedSearchCV(d_tree, parameters, scoring='neg_root_mean_squared_error',\\\n",
    "                                refit='neg_root_mean_squared_error', n_iter=10, cv=5, random_state=15)\n",
    "decision_tree = rand_tree.fit(X_tr, y_tr)\n",
    "decision_tree.best_params_"
   ]
  },
  {
   "cell_type": "code",
   "execution_count": 150,
   "id": "e568ddd8",
   "metadata": {},
   "outputs": [
    {
     "data": {
      "text/plain": [
       "21.732859422432114"
      ]
     },
     "execution_count": 150,
     "metadata": {},
     "output_type": "execute_result"
    }
   ],
   "source": [
    "decision_tree_model = tree.DecisionTreeRegressor(max_depth = decision_tree.best_params_['max_depth'],\\\n",
    "                                            min_samples_leaf = decision_tree.best_params_['min_samples_leaf'],\\\n",
    "                                            random_state = 15)\n",
    "decision_tree_model.fit(X_tr, y_tr)\n",
    "y_pred = decision_tree_model.predict(X_te)\n",
    "new_row = pd.DataFrame([{'Iteration' : 3, 'Model' : 'Decision Tree', '% Train Data' : 10,\\\n",
    "                         'RMSE' : mean_squared_error(y_te, y_pred)}])\n",
    "train_scores = pd.concat([train_scores, new_row])\n",
    "mean_squared_error(y_te, y_pred)"
   ]
  },
  {
   "cell_type": "code",
   "execution_count": 151,
   "id": "f03dd24b",
   "metadata": {},
   "outputs": [
    {
     "data": {
      "text/plain": [
       "{'n_neighbors': 10}"
      ]
     },
     "execution_count": 151,
     "metadata": {},
     "output_type": "execute_result"
    }
   ],
   "source": [
    "neighbors = KNeighborsRegressor()\n",
    "parameters = {'n_neighbors': sp_randInt(10,100)}\n",
    "rand_knn = RandomizedSearchCV(neighbors, parameters, scoring='neg_root_mean_squared_error',\\\n",
    "                                refit='neg_root_mean_squared_error', n_iter=10, cv=5, random_state=15)\n",
    "opt_nn = rand_knn.fit(X_tr, y_tr)\n",
    "opt_nn.best_params_"
   ]
  },
  {
   "cell_type": "code",
   "execution_count": 152,
   "id": "6f8635f1",
   "metadata": {},
   "outputs": [
    {
     "data": {
      "text/plain": [
       "19.799593691766823"
      ]
     },
     "execution_count": 152,
     "metadata": {},
     "output_type": "execute_result"
    }
   ],
   "source": [
    "knn_opt = KNeighborsRegressor(n_neighbors = opt_nn.best_params_['n_neighbors'])\n",
    "knn_opt.fit(X_tr, y_tr)\n",
    "y_pred = knn_opt.predict(X_te)\n",
    "new_row = pd.DataFrame([{'Iteration' : 3, 'Model' : 'KNN', '% Train Data' : 10, 'RMSE' : mean_squared_error(y_te, y_pred)}])\n",
    "train_scores = pd.concat([train_scores, new_row])\n",
    "mean_squared_error(y_te, y_pred)"
   ]
  },
  {
   "cell_type": "code",
   "execution_count": 168,
   "id": "e280b3bf",
   "metadata": {},
   "outputs": [
    {
     "data": {
      "text/plain": [
       "{'learning_rate': 0.08840125949289224,\n",
       " 'max_depth': 7,\n",
       " 'n_estimators': 976,\n",
       " 'num_leaves': 563}"
      ]
     },
     "execution_count": 168,
     "metadata": {},
     "output_type": "execute_result"
    }
   ],
   "source": [
    "lgbm = lgb.LGBMRegressor(objective = 'regression', metric = 'rmse')\n",
    "parameters = {'num_leaves': sp_randInt(10,1000),\n",
    "              'n_estimators': sp_randInt(10,1000),\n",
    "              'max_depth': sp_randInt(2,10),\n",
    "              'learning_rate': sp_randFloat(0.001,1)}\n",
    "rand_lgbm = RandomizedSearchCV(lgbm, parameters, scoring='neg_root_mean_squared_error',\\\n",
    "                                refit='neg_root_mean_squared_error', n_iter=10, cv=5, random_state=15)\n",
    "opt_lgbm = rand_lgbm.fit(X_tr, y_tr)\n",
    "opt_lgbm.best_params_"
   ]
  },
  {
   "cell_type": "code",
   "execution_count": 169,
   "id": "dd2e839c",
   "metadata": {},
   "outputs": [
    {
     "data": {
      "text/plain": [
       "6.7780306317199015"
      ]
     },
     "execution_count": 169,
     "metadata": {},
     "output_type": "execute_result"
    }
   ],
   "source": [
    "lgbm_opt = lgb.LGBMRegressor(objective = 'regression', metric = 'rmse', num_leaves = opt_lgbm.best_params_['num_leaves'],\\\n",
    "                             n_estimators = opt_lgbm.best_params_['n_estimators'],\\\n",
    "                             max_depth = opt_lgbm.best_params_['max_depth'],\\\n",
    "                             learning_rate = opt_lgbm.best_params_['learning_rate'])\n",
    "lgbm_opt.fit(X_tr, y_tr)\n",
    "y_pred = lgbm_opt.predict(X_te)\n",
    "new_row = pd.DataFrame([{'Iteration' : 3, 'Model' : 'Light GBM', '% Train Data' : 10,\\\n",
    "                         'RMSE' : mean_squared_error(y_te, y_pred)}])\n",
    "train_scores = pd.concat([train_scores, new_row])\n",
    "mean_squared_error(y_te, y_pred)"
   ]
  },
  {
   "cell_type": "code",
   "execution_count": 170,
   "id": "1bb96b28",
   "metadata": {},
   "outputs": [],
   "source": [
    "tuned = train_scores[train_scores['Model'].isin(['Light GBM', 'XGBoost', 'Random Forest', 'KNN'])]"
   ]
  },
  {
   "cell_type": "code",
   "execution_count": 171,
   "id": "47313de4",
   "metadata": {},
   "outputs": [
    {
     "data": {
      "text/html": [
       "<div>\n",
       "<style scoped>\n",
       "    .dataframe tbody tr th:only-of-type {\n",
       "        vertical-align: middle;\n",
       "    }\n",
       "\n",
       "    .dataframe tbody tr th {\n",
       "        vertical-align: top;\n",
       "    }\n",
       "\n",
       "    .dataframe thead th {\n",
       "        text-align: right;\n",
       "    }\n",
       "</style>\n",
       "<table border=\"1\" class=\"dataframe\">\n",
       "  <thead>\n",
       "    <tr style=\"text-align: right;\">\n",
       "      <th></th>\n",
       "      <th>Model</th>\n",
       "      <th>% Train Data</th>\n",
       "      <th>RMSE</th>\n",
       "      <th>MSE</th>\n",
       "    </tr>\n",
       "  </thead>\n",
       "  <tbody>\n",
       "    <tr>\n",
       "      <th>0</th>\n",
       "      <td>Random Forest</td>\n",
       "      <td>10</td>\n",
       "      <td>NaN</td>\n",
       "      <td>19.108493</td>\n",
       "    </tr>\n",
       "    <tr>\n",
       "      <th>0</th>\n",
       "      <td>XGBoost</td>\n",
       "      <td>10</td>\n",
       "      <td>NaN</td>\n",
       "      <td>7.174707</td>\n",
       "    </tr>\n",
       "    <tr>\n",
       "      <th>0</th>\n",
       "      <td>KNN</td>\n",
       "      <td>10</td>\n",
       "      <td>NaN</td>\n",
       "      <td>19.799594</td>\n",
       "    </tr>\n",
       "    <tr>\n",
       "      <th>0</th>\n",
       "      <td>Light GBM</td>\n",
       "      <td>10</td>\n",
       "      <td>NaN</td>\n",
       "      <td>6.778031</td>\n",
       "    </tr>\n",
       "    <tr>\n",
       "      <th>0</th>\n",
       "      <td>XGBoost</td>\n",
       "      <td>80</td>\n",
       "      <td>4.788303</td>\n",
       "      <td>NaN</td>\n",
       "    </tr>\n",
       "    <tr>\n",
       "      <th>0</th>\n",
       "      <td>Light GBM</td>\n",
       "      <td>80</td>\n",
       "      <td>3.956026</td>\n",
       "      <td>NaN</td>\n",
       "    </tr>\n",
       "    <tr>\n",
       "      <th>0</th>\n",
       "      <td>Light GBM</td>\n",
       "      <td>10</td>\n",
       "      <td>6.778031</td>\n",
       "      <td>NaN</td>\n",
       "    </tr>\n",
       "  </tbody>\n",
       "</table>\n",
       "</div>"
      ],
      "text/plain": [
       "           Model  % Train Data      RMSE        MSE\n",
       "0  Random Forest            10       NaN  19.108493\n",
       "0        XGBoost            10       NaN   7.174707\n",
       "0            KNN            10       NaN  19.799594\n",
       "0      Light GBM            10       NaN   6.778031\n",
       "0        XGBoost            80  4.788303        NaN\n",
       "0      Light GBM            80  3.956026        NaN\n",
       "0      Light GBM            10  6.778031        NaN"
      ]
     },
     "execution_count": 171,
     "metadata": {},
     "output_type": "execute_result"
    }
   ],
   "source": [
    "tuned"
   ]
  },
  {
   "cell_type": "code",
   "execution_count": 172,
   "id": "ec897371",
   "metadata": {},
   "outputs": [
    {
     "name": "stderr",
     "output_type": "stream",
     "text": [
      "C:\\Users\\zbro1\\anaconda\\envs\\MOF\\lib\\site-packages\\seaborn\\algorithms.py:98: RuntimeWarning: Mean of empty slice\n",
      "  boot_dist.append(f(*sample, **func_kwargs))\n"
     ]
    },
    {
     "data": {
      "image/png": "[encoded data removed]",
      "text/plain": [
       "<Figure size 640x480 with 1 Axes>"
      ]
     },
     "metadata": {},
     "output_type": "display_data"
    }
   ],
   "source": [
    "sns.barplot(data=tuned, x='Model', y='MSE', hue = '% Train Data')\n",
    "plt.ylabel('RMSE', fontsize = 14)\n",
    "plt.title('Initial Hyperparameter Tuning Results', fontsize = 18)\n",
    "plt.xticks(rotation=45, ha='right')\n",
    "plt.xlabel('')\n",
    "plt.savefig('../figures/init_hyper_tune.png',dpi=1200, bbox_inches='tight')\n",
    "plt.show()"
   ]
  },
  {
   "cell_type": "markdown",
   "id": "f78dbcea",
   "metadata": {},
   "source": [
    "Ok, so I'm getting about 3x better results with XGBoost and Light GBM, but they're both pretty close to each other, so I'll train those models on 80% of the data and see how they compare so that I can further refine their hyperparameters."
   ]
  },
  {
   "cell_type": "code",
   "execution_count": 162,
   "id": "d2046489",
   "metadata": {},
   "outputs": [
    {
     "data": {
      "text/plain": [
       "4.788302610344"
      ]
     },
     "execution_count": 162,
     "metadata": {},
     "output_type": "execute_result"
    }
   ],
   "source": [
    "xgb_model.fit(X_tr8, y_tr8)\n",
    "y_pred = xgb_model.predict(X_te8)\n",
    "new_row = pd.DataFrame([{'Iteration' : 4, 'Model' : 'XGBoost', '% Train Data' : 80,\\\n",
    "                         'RMSE' : mean_squared_error(y_te8, y_pred)}])\n",
    "train_scores = pd.concat([train_scores, new_row])\n",
    "mean_squared_error(y_te8, y_pred)"
   ]
  },
  {
   "cell_type": "code",
   "execution_count": 173,
   "id": "6e89b7aa",
   "metadata": {},
   "outputs": [
    {
     "data": {
      "text/plain": [
       "3.9560259136151847"
      ]
     },
     "execution_count": 173,
     "metadata": {},
     "output_type": "execute_result"
    }
   ],
   "source": [
    "lgbm_opt.fit(X_tr8, y_tr8)\n",
    "y_pred = lgbm_opt.predict(X_te8)\n",
    "new_row = pd.DataFrame([{'Iteration' : 4, 'Model' : 'Light GBM', '% Train Data' : 80,\\\n",
    "                         'RMSE' : mean_squared_error(y_te8, y_pred)}])\n",
    "train_scores = pd.concat([train_scores, new_row])\n",
    "mean_squared_error(y_te8, y_pred)"
   ]
  },
  {
   "cell_type": "markdown",
   "id": "341405b5",
   "metadata": {},
   "source": [
    "Great, they're both performing quite well, but I want to tune just one model, so I'll stick with Light GBM from here on since it has consistently beaten XGBoost by a little bit. I'll check the hyperparameter tuning results from earlier to get a feel for whether I can further improve it."
   ]
  },
  {
   "cell_type": "code",
   "execution_count": 174,
   "id": "e9a2d57d",
   "metadata": {},
   "outputs": [
    {
     "data": {
      "text/plain": [
       "Index(['mean_fit_time', 'std_fit_time', 'mean_score_time', 'std_score_time',\n",
       "       'param_learning_rate', 'param_max_depth', 'param_n_estimators',\n",
       "       'param_num_leaves', 'params', 'split0_test_score', 'split1_test_score',\n",
       "       'split2_test_score', 'split3_test_score', 'split4_test_score',\n",
       "       'mean_test_score', 'std_test_score', 'rank_test_score'],\n",
       "      dtype='object')"
      ]
     },
     "execution_count": 174,
     "metadata": {},
     "output_type": "execute_result"
    }
   ],
   "source": [
    "lgbm_results = pd.DataFrame(opt_lgbm.cv_results_)\n",
    "lgbm_results.columns"
   ]
  },
  {
   "cell_type": "code",
   "execution_count": 175,
   "id": "db085a6c",
   "metadata": {},
   "outputs": [
    {
     "data": {
      "image/png": "[encoded data removed]",
      "text/plain": [
       "<Figure size 1000x400 with 4 Axes>"
      ]
     },
     "metadata": {},
     "output_type": "display_data"
    }
   ],
   "source": [
    "fig, axs = plt.subplots(1, 4, sharey=True)\n",
    "axs[0].plot(lgbm_results['param_learning_rate'], lgbm_results['mean_test_score'], ls='', marker='o')\n",
    "axs[1].plot(lgbm_results['param_max_depth'], lgbm_results['mean_test_score'], 'tab:orange', ls='', marker='o')\n",
    "axs[2].plot(lgbm_results['param_n_estimators'], lgbm_results['mean_test_score'], 'tab:green', ls='', marker='o')\n",
    "axs[3].plot(lgbm_results['param_num_leaves'], lgbm_results['mean_test_score'], 'tab:red', ls='', marker='o')\n",
    "axs[0].set_ylabel('Negative RMSE')\n",
    "axs[0].set_xlabel('Learning Rate')\n",
    "axs[1].set_xlabel('Maximum Depth')\n",
    "axs[2].set_xlabel('Number of Estimators')\n",
    "axs[3].set_xlabel('Number of Leaves')\n",
    "fig.suptitle('Light GBM Initial Tuning Results')\n",
    "\n",
    "fig.set_size_inches(10, 4)\n",
    "plt.savefig('../figures/lgbm_init_tuning.png', dpi=1200, bbox_inches='tight')\n",
    "plt.show()"
   ]
  },
  {
   "cell_type": "markdown",
   "id": "4500cc3f",
   "metadata": {},
   "source": [
    "Interesting! Based on this it looks like max depth and number of estimators really aren't having much impact, but it does look like I should focus on smaller learning rates and numbers of leaves around 500-800. I'll tune those using this larger training set."
   ]
  },
  {
   "cell_type": "code",
   "execution_count": 180,
   "id": "d82ebbf4",
   "metadata": {},
   "outputs": [
    {
     "data": {
      "text/plain": [
       "{'learning_rate': 0.08071794822453758, 'num_leaves': 607}"
      ]
     },
     "execution_count": 180,
     "metadata": {},
     "output_type": "execute_result"
    }
   ],
   "source": [
    "lgb2 = lgb.LGBMRegressor(objective = 'regression', metric = 'rmse', n_estimators = opt_lgbm.best_params_['n_estimators'],\n",
    "              max_depth = opt_lgbm.best_params_['max_depth'])\n",
    "parameters = {'num_leaves': sp_randInt(450,800),              \n",
    "              'learning_rate': sp_randFloat(0.00001,0.1)}\n",
    "rlgb2 = RandomizedSearchCV(lgb2, parameters, scoring='neg_root_mean_squared_error',\\\n",
    "                                refit='neg_root_mean_squared_error', n_iter=10, cv=5, random_state=15)\n",
    "olgb2 = rlgb2.fit(X_tr8, y_tr8)\n",
    "olgb2.best_params_"
   ]
  },
  {
   "cell_type": "code",
   "execution_count": 181,
   "id": "c25ca05e",
   "metadata": {},
   "outputs": [
    {
     "data": {
      "text/plain": [
       "3.9515000761194785"
      ]
     },
     "execution_count": 181,
     "metadata": {},
     "output_type": "execute_result"
    }
   ],
   "source": [
    "lgb2_opt = lgb.LGBMRegressor(objective = 'regression', metric = 'rmse', num_leaves = olgb2.best_params_['num_leaves'],\\\n",
    "                             n_estimators = opt_lgbm.best_params_['n_estimators'],\\\n",
    "                             max_depth = opt_lgbm.best_params_['max_depth'],\\\n",
    "                             learning_rate = olgb2.best_params_['learning_rate'])\n",
    "lgb2_opt.fit(X_tr8, y_tr8)\n",
    "y_pred = lgb2_opt.predict(X_te8)\n",
    "new_row = pd.DataFrame([{'Iteration' : 5, 'Model' : 'Light GBM', '% Train Data' : 80, 'RMSE' : mean_squared_error(y_te8, y_pred)}])\n",
    "train_scores = pd.concat([train_scores, new_row])\n",
    "mean_squared_error(y_te8, y_pred)"
   ]
  },
  {
   "cell_type": "markdown",
   "id": "e8c5db67",
   "metadata": {},
   "source": [
    "Ok, so I only improved from 3.9560 to 3.9515, which means I've probably optimized this model about as far as I possibly can. Let's plot the progression of the Light GBM models from my initial evaluation up to now."
   ]
  },
  {
   "cell_type": "code",
   "execution_count": 182,
   "id": "bb4cd54e",
   "metadata": {},
   "outputs": [],
   "source": [
    "lgbm_scores = train_scores[train_scores['Model'].isin(['Light GBM', 'Light GBM Default'])]"
   ]
  },
  {
   "cell_type": "code",
   "execution_count": null,
   "id": "c33bdf57",
   "metadata": {},
   "outputs": [],
   "source": [
    "plt.plot(lgbm_scores['Iteration'], lgbm_scores['RMSE'], ls='-', marker='o')\n",
    "plt.xlabel('Model Iterations', fontsize = 14)\n",
    "plt.ylabel('RMSE', fontsize = 14)\n",
    "plt.title('Light GBM Model Improvement', fontsize = 18)\n",
    "plt.savefig('../figures/lgbm_improvement.png', dpi=1200, bbox_inches='tight')\n",
    "plt.show()"
   ]
  },
  {
   "cell_type": "markdown",
   "id": "d0cab028",
   "metadata": {},
   "source": [
    "Now I need to check the feature importances for this model to identify exactly which features help the most in predicting the volumetric CO2 working capacity of a MOF."
   ]
  },
  {
   "cell_type": "code",
   "execution_count": 189,
   "id": "d94daa3a",
   "metadata": {},
   "outputs": [
    {
     "data": {
      "image/png": "[encoded data removed]",
      "text/plain": [
       "<Figure size 640x480 with 1 Axes>"
      ]
     },
     "metadata": {},
     "output_type": "display_data"
    }
   ],
   "source": [
    "lgb.plot_importance(lgb2_opt, title = 'Light GBM Feature Importances', xlabel = 'Importance Score', max_num_features = 20)\n",
    "plt.savefig('../figures/feat_importances.png', dpi=1200, bbox_inches='tight')\n",
    "plt.show()"
   ]
  },
  {
   "cell_type": "code",
   "execution_count": null,
   "id": "68bc4d56",
   "metadata": {},
   "outputs": [],
   "source": []
  }
 ],
 "metadata": {
  "kernelspec": {
   "display_name": "Python 3 (ipykernel)",
   "language": "python",
   "name": "python3"
  },
  "language_info": {
   "codemirror_mode": {
    "name": "ipython",
    "version": 3
   },
   "file_extension": ".py",
   "mimetype": "text/x-python",
   "name": "python",
   "nbconvert_exporter": "python",
   "pygments_lexer": "ipython3",
   "version": "3.10.9"
  }
 },
 "nbformat": 4,
 "nbformat_minor": 5
}
