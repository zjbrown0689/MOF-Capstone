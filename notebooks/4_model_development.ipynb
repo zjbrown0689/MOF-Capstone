{
 "cells": [
  {
   "cell_type": "markdown",
   "id": "e7e4ef2f",
   "metadata": {},
   "source": [
    "# Capturing greenhouse gases with data\n",
    "\n",
    "## Model Development\n",
    "\n",
    "### by Zachary Brown"
   ]
  },
  {
   "cell_type": "markdown",
   "id": "d4a9982b",
   "metadata": {},
   "source": [
    "Now that my dataset has been cleaned, explored, and preprocessed, it's time to begin testing a range of models to determine which can best predict the volumetric CO2 working capacity and then explore which features boost that capacity the most.\n",
    "\n",
    "I'll start by installing the necessary libraries and then importing everything we'll need."
   ]
  },
  {
   "cell_type": "code",
   "execution_count": 2,
   "id": "b59311d4",
   "metadata": {},
   "outputs": [
    {
     "name": "stdout",
     "output_type": "stream",
     "text": [
      "Collecting xgboost==1.7.4\n",
      "  Downloading xgboost-1.7.4-py3-none-win_amd64.whl (89.1 MB)\n",
      "     ---------------------------------------- 89.1/89.1 MB 9.3 MB/s eta 0:00:00\n",
      "Requirement already satisfied: scipy in c:\\users\\zbro1\\anaconda\\envs\\mof\\lib\\site-packages (from xgboost==1.7.4) (1.10.1)\n",
      "Requirement already satisfied: numpy in c:\\users\\zbro1\\anaconda\\envs\\mof\\lib\\site-packages (from xgboost==1.7.4) (1.24.2)\n",
      "Installing collected packages: xgboost\n",
      "Successfully installed xgboost-1.7.4\n",
      "Collecting lightgbm==3.3.5\n",
      "  Downloading lightgbm-3.3.5-py3-none-win_amd64.whl (1.0 MB)\n",
      "     ---------------------------------------- 1.0/1.0 MB 8.1 MB/s eta 0:00:00\n",
      "Requirement already satisfied: scikit-learn!=0.22.0 in c:\\users\\zbro1\\anaconda\\envs\\mof\\lib\\site-packages (from lightgbm==3.3.5) (1.2.1)\n",
      "Requirement already satisfied: wheel in c:\\users\\zbro1\\anaconda\\envs\\mof\\lib\\site-packages (from lightgbm==3.3.5) (0.38.4)\n",
      "Requirement already satisfied: scipy in c:\\users\\zbro1\\anaconda\\envs\\mof\\lib\\site-packages (from lightgbm==3.3.5) (1.10.1)\n",
      "Requirement already satisfied: numpy in c:\\users\\zbro1\\anaconda\\envs\\mof\\lib\\site-packages (from lightgbm==3.3.5) (1.24.2)\n",
      "Requirement already satisfied: joblib>=1.1.1 in c:\\users\\zbro1\\anaconda\\envs\\mof\\lib\\site-packages (from scikit-learn!=0.22.0->lightgbm==3.3.5) (1.2.0)\n",
      "Requirement already satisfied: threadpoolctl>=2.0.0 in c:\\users\\zbro1\\anaconda\\envs\\mof\\lib\\site-packages (from scikit-learn!=0.22.0->lightgbm==3.3.5) (3.1.0)\n",
      "Installing collected packages: lightgbm\n",
      "Successfully installed lightgbm-3.3.5\n"
     ]
    }
   ],
   "source": [
    "!pip install xgboost==1.7.4\n",
    "!pip install lightgbm==3.3.5"
   ]
  },
  {
   "cell_type": "code",
   "execution_count": 5,
   "id": "7a6270f9",
   "metadata": {},
   "outputs": [],
   "source": [
    "import numpy as np\n",
    "import pandas as pd\n",
    "import matplotlib.pyplot as plt\n",
    "import seaborn as sns\n",
    "from sklearn.model_selection import train_test_split\n",
    "from sklearn.preprocessing import StandardScaler\n",
    "from sklearn.linear_model import LinearRegression\n",
    "from sklearn.dummy import DummyRegressor\n",
    "from sklearn.metrics import mean_squared_error\n",
    "from sklearn.linear_model import Ridge\n",
    "from sklearn.model_selection import RandomizedSearchCV\n",
    "from sklearn import linear_model\n",
    "from scipy.stats import uniform as sp_randFloat\n",
    "from scipy.stats import randint as sp_randInt\n",
    "from sklearn.ensemble import RandomForestRegressor\n",
    "from xgboost import XGBRegressor\n",
    "import xgboost\n",
    "from sklearn import tree\n",
    "from sklearn.neural_network import MLPRegressor\n",
    "from sklearn.neighbors import KNeighborsRegressor\n",
    "import lightgbm as lgb\n",
    "from matplotlib import rcParams"
   ]
  },
  {
   "cell_type": "code",
   "execution_count": 6,
   "id": "788daf3c",
   "metadata": {},
   "outputs": [],
   "source": [
    "sns.set_theme('notebook')\n",
    "rcParams['mathtext.default'] = 'regular'"
   ]
  },
  {
   "cell_type": "markdown",
   "id": "3d18cfe7",
   "metadata": {},
   "source": [
    "Let's start by importing the training data."
   ]
  },
  {
   "cell_type": "code",
   "execution_count": 12,
   "id": "9d4b28dc",
   "metadata": {},
   "outputs": [],
   "source": [
    "X_train = pd.read_csv('../data/processed/X_train.csv', index_col = 'filename')\n",
    "y_train = pd.read_csv('../data/processed/y_train.csv', index_col = 0)"
   ]
  },
  {
   "cell_type": "code",
   "execution_count": 13,
   "id": "33156ba5",
   "metadata": {},
   "outputs": [
    {
     "data": {
      "text/html": [
       "<div>\n",
       "<style scoped>\n",
       "    .dataframe tbody tr th:only-of-type {\n",
       "        vertical-align: middle;\n",
       "    }\n",
       "\n",
       "    .dataframe tbody tr th {\n",
       "        vertical-align: top;\n",
       "    }\n",
       "\n",
       "    .dataframe thead th {\n",
       "        text-align: right;\n",
       "    }\n",
       "</style>\n",
       "<table border=\"1\" class=\"dataframe\">\n",
       "  <thead>\n",
       "    <tr style=\"text-align: right;\">\n",
       "      <th></th>\n",
       "      <th>unit_cell_volume</th>\n",
       "      <th>Density</th>\n",
       "      <th>accessible_surface_area</th>\n",
       "      <th>volumetric_surface_area</th>\n",
       "      <th>gravimetric_surface_area</th>\n",
       "      <th>accessible_volume_per_uc</th>\n",
       "      <th>volume_fraction</th>\n",
       "      <th>grav_volume</th>\n",
       "      <th>probe_occupiable_vol</th>\n",
       "      <th>probe_occ_vol_frac</th>\n",
       "      <th>...</th>\n",
       "      <th>lc-S-0-all</th>\n",
       "      <th>lc-S-1-all</th>\n",
       "      <th>lc-S-2-all</th>\n",
       "      <th>lc-S-3-all</th>\n",
       "      <th>lc-alpha-0-all</th>\n",
       "      <th>lc-alpha-1-all</th>\n",
       "      <th>lc-alpha-2-all</th>\n",
       "      <th>lc-alpha-3-all</th>\n",
       "      <th>D_lc-chi-2-all</th>\n",
       "      <th>D_lc-S-2-all</th>\n",
       "    </tr>\n",
       "    <tr>\n",
       "      <th>filename</th>\n",
       "      <th></th>\n",
       "      <th></th>\n",
       "      <th></th>\n",
       "      <th></th>\n",
       "      <th></th>\n",
       "      <th></th>\n",
       "      <th></th>\n",
       "      <th></th>\n",
       "      <th></th>\n",
       "      <th></th>\n",
       "      <th></th>\n",
       "      <th></th>\n",
       "      <th></th>\n",
       "      <th></th>\n",
       "      <th></th>\n",
       "      <th></th>\n",
       "      <th></th>\n",
       "      <th></th>\n",
       "      <th></th>\n",
       "      <th></th>\n",
       "      <th></th>\n",
       "    </tr>\n",
       "  </thead>\n",
       "  <tbody>\n",
       "    <tr>\n",
       "      <th>DB0-m2_o8_o14_f0_pcu.sym.96.cif</th>\n",
       "      <td>2835.48</td>\n",
       "      <td>0.594287</td>\n",
       "      <td>639.155</td>\n",
       "      <td>2254.13</td>\n",
       "      <td>3793.01</td>\n",
       "      <td>710.004</td>\n",
       "      <td>0.25040</td>\n",
       "      <td>0.421345</td>\n",
       "      <td>1739.57</td>\n",
       "      <td>0.6135</td>\n",
       "      <td>...</td>\n",
       "      <td>0.542767</td>\n",
       "      <td>0.759733</td>\n",
       "      <td>1.3000</td>\n",
       "      <td>1.176967</td>\n",
       "      <td>36.98</td>\n",
       "      <td>95.673333</td>\n",
       "      <td>136.635076</td>\n",
       "      <td>138.339640</td>\n",
       "      <td>1.480000</td>\n",
       "      <td>0.213333</td>\n",
       "    </tr>\n",
       "    <tr>\n",
       "      <th>DB0-m2_o6_o25_f0_pcu.sym.25.cif</th>\n",
       "      <td>3731.46</td>\n",
       "      <td>0.378038</td>\n",
       "      <td>798.181</td>\n",
       "      <td>2139.06</td>\n",
       "      <td>5658.31</td>\n",
       "      <td>1873.340</td>\n",
       "      <td>0.50204</td>\n",
       "      <td>1.328010</td>\n",
       "      <td>3057.93</td>\n",
       "      <td>0.8195</td>\n",
       "      <td>...</td>\n",
       "      <td>0.542767</td>\n",
       "      <td>0.567233</td>\n",
       "      <td>0.9225</td>\n",
       "      <td>0.759733</td>\n",
       "      <td>36.98</td>\n",
       "      <td>67.800000</td>\n",
       "      <td>86.526667</td>\n",
       "      <td>95.673333</td>\n",
       "      <td>0.756667</td>\n",
       "      <td>-0.033333</td>\n",
       "    </tr>\n",
       "    <tr>\n",
       "      <th>DB0-m29_o89_o148_f0_pts.sym.12.cif</th>\n",
       "      <td>1977.56</td>\n",
       "      <td>0.774433</td>\n",
       "      <td>393.895</td>\n",
       "      <td>1991.83</td>\n",
       "      <td>2571.98</td>\n",
       "      <td>333.139</td>\n",
       "      <td>0.16846</td>\n",
       "      <td>0.217527</td>\n",
       "      <td>1054.04</td>\n",
       "      <td>0.5330</td>\n",
       "      <td>...</td>\n",
       "      <td>0.532900</td>\n",
       "      <td>0.562100</td>\n",
       "      <td>1.0950</td>\n",
       "      <td>1.124200</td>\n",
       "      <td>28.09</td>\n",
       "      <td>59.890000</td>\n",
       "      <td>87.980000</td>\n",
       "      <td>119.780000</td>\n",
       "      <td>0.890000</td>\n",
       "      <td>-0.040000</td>\n",
       "    </tr>\n",
       "    <tr>\n",
       "      <th>DB0-m9_o3_o7_f0_sra.sym.2.cif</th>\n",
       "      <td>4622.09</td>\n",
       "      <td>0.533492</td>\n",
       "      <td>697.715</td>\n",
       "      <td>1509.52</td>\n",
       "      <td>2829.52</td>\n",
       "      <td>1820.640</td>\n",
       "      <td>0.39390</td>\n",
       "      <td>0.738343</td>\n",
       "      <td>3064.45</td>\n",
       "      <td>0.6630</td>\n",
       "      <td>...</td>\n",
       "      <td>0.532900</td>\n",
       "      <td>0.562100</td>\n",
       "      <td>1.0950</td>\n",
       "      <td>1.124200</td>\n",
       "      <td>28.09</td>\n",
       "      <td>59.890000</td>\n",
       "      <td>87.980000</td>\n",
       "      <td>119.780000</td>\n",
       "      <td>0.890000</td>\n",
       "      <td>-0.040000</td>\n",
       "    </tr>\n",
       "    <tr>\n",
       "      <th>DB0-m2_o21_o22_f0_pcu.sym.120.cif</th>\n",
       "      <td>1861.23</td>\n",
       "      <td>0.576000</td>\n",
       "      <td>416.902</td>\n",
       "      <td>2239.93</td>\n",
       "      <td>3888.77</td>\n",
       "      <td>493.449</td>\n",
       "      <td>0.26512</td>\n",
       "      <td>0.460278</td>\n",
       "      <td>1209.80</td>\n",
       "      <td>0.6500</td>\n",
       "      <td>...</td>\n",
       "      <td>0.542767</td>\n",
       "      <td>0.567233</td>\n",
       "      <td>0.9225</td>\n",
       "      <td>1.034467</td>\n",
       "      <td>36.98</td>\n",
       "      <td>67.800000</td>\n",
       "      <td>86.526667</td>\n",
       "      <td>118.844205</td>\n",
       "      <td>0.756667</td>\n",
       "      <td>-0.033333</td>\n",
       "    </tr>\n",
       "  </tbody>\n",
       "</table>\n",
       "<p>5 rows × 450 columns</p>\n",
       "</div>"
      ],
      "text/plain": [
       "                                    unit_cell_volume   Density  \\\n",
       "filename                                                         \n",
       "DB0-m2_o8_o14_f0_pcu.sym.96.cif              2835.48  0.594287   \n",
       "DB0-m2_o6_o25_f0_pcu.sym.25.cif              3731.46  0.378038   \n",
       "DB0-m29_o89_o148_f0_pts.sym.12.cif           1977.56  0.774433   \n",
       "DB0-m9_o3_o7_f0_sra.sym.2.cif                4622.09  0.533492   \n",
       "DB0-m2_o21_o22_f0_pcu.sym.120.cif            1861.23  0.576000   \n",
       "\n",
       "                                    accessible_surface_area  \\\n",
       "filename                                                      \n",
       "DB0-m2_o8_o14_f0_pcu.sym.96.cif                     639.155   \n",
       "DB0-m2_o6_o25_f0_pcu.sym.25.cif                     798.181   \n",
       "DB0-m29_o89_o148_f0_pts.sym.12.cif                  393.895   \n",
       "DB0-m9_o3_o7_f0_sra.sym.2.cif                       697.715   \n",
       "DB0-m2_o21_o22_f0_pcu.sym.120.cif                   416.902   \n",
       "\n",
       "                                    volumetric_surface_area  \\\n",
       "filename                                                      \n",
       "DB0-m2_o8_o14_f0_pcu.sym.96.cif                     2254.13   \n",
       "DB0-m2_o6_o25_f0_pcu.sym.25.cif                     2139.06   \n",
       "DB0-m29_o89_o148_f0_pts.sym.12.cif                  1991.83   \n",
       "DB0-m9_o3_o7_f0_sra.sym.2.cif                       1509.52   \n",
       "DB0-m2_o21_o22_f0_pcu.sym.120.cif                   2239.93   \n",
       "\n",
       "                                    gravimetric_surface_area  \\\n",
       "filename                                                       \n",
       "DB0-m2_o8_o14_f0_pcu.sym.96.cif                      3793.01   \n",
       "DB0-m2_o6_o25_f0_pcu.sym.25.cif                      5658.31   \n",
       "DB0-m29_o89_o148_f0_pts.sym.12.cif                   2571.98   \n",
       "DB0-m9_o3_o7_f0_sra.sym.2.cif                        2829.52   \n",
       "DB0-m2_o21_o22_f0_pcu.sym.120.cif                    3888.77   \n",
       "\n",
       "                                    accessible_volume_per_uc  volume_fraction  \\\n",
       "filename                                                                        \n",
       "DB0-m2_o8_o14_f0_pcu.sym.96.cif                      710.004          0.25040   \n",
       "DB0-m2_o6_o25_f0_pcu.sym.25.cif                     1873.340          0.50204   \n",
       "DB0-m29_o89_o148_f0_pts.sym.12.cif                   333.139          0.16846   \n",
       "DB0-m9_o3_o7_f0_sra.sym.2.cif                       1820.640          0.39390   \n",
       "DB0-m2_o21_o22_f0_pcu.sym.120.cif                    493.449          0.26512   \n",
       "\n",
       "                                    grav_volume  probe_occupiable_vol  \\\n",
       "filename                                                                \n",
       "DB0-m2_o8_o14_f0_pcu.sym.96.cif        0.421345               1739.57   \n",
       "DB0-m2_o6_o25_f0_pcu.sym.25.cif        1.328010               3057.93   \n",
       "DB0-m29_o89_o148_f0_pts.sym.12.cif     0.217527               1054.04   \n",
       "DB0-m9_o3_o7_f0_sra.sym.2.cif          0.738343               3064.45   \n",
       "DB0-m2_o21_o22_f0_pcu.sym.120.cif      0.460278               1209.80   \n",
       "\n",
       "                                    probe_occ_vol_frac  ...  lc-S-0-all  \\\n",
       "filename                                                ...               \n",
       "DB0-m2_o8_o14_f0_pcu.sym.96.cif                 0.6135  ...    0.542767   \n",
       "DB0-m2_o6_o25_f0_pcu.sym.25.cif                 0.8195  ...    0.542767   \n",
       "DB0-m29_o89_o148_f0_pts.sym.12.cif              0.5330  ...    0.532900   \n",
       "DB0-m9_o3_o7_f0_sra.sym.2.cif                   0.6630  ...    0.532900   \n",
       "DB0-m2_o21_o22_f0_pcu.sym.120.cif               0.6500  ...    0.542767   \n",
       "\n",
       "                                    lc-S-1-all  lc-S-2-all  lc-S-3-all  \\\n",
       "filename                                                                 \n",
       "DB0-m2_o8_o14_f0_pcu.sym.96.cif       0.759733      1.3000    1.176967   \n",
       "DB0-m2_o6_o25_f0_pcu.sym.25.cif       0.567233      0.9225    0.759733   \n",
       "DB0-m29_o89_o148_f0_pts.sym.12.cif    0.562100      1.0950    1.124200   \n",
       "DB0-m9_o3_o7_f0_sra.sym.2.cif         0.562100      1.0950    1.124200   \n",
       "DB0-m2_o21_o22_f0_pcu.sym.120.cif     0.567233      0.9225    1.034467   \n",
       "\n",
       "                                    lc-alpha-0-all  lc-alpha-1-all  \\\n",
       "filename                                                             \n",
       "DB0-m2_o8_o14_f0_pcu.sym.96.cif              36.98       95.673333   \n",
       "DB0-m2_o6_o25_f0_pcu.sym.25.cif              36.98       67.800000   \n",
       "DB0-m29_o89_o148_f0_pts.sym.12.cif           28.09       59.890000   \n",
       "DB0-m9_o3_o7_f0_sra.sym.2.cif                28.09       59.890000   \n",
       "DB0-m2_o21_o22_f0_pcu.sym.120.cif            36.98       67.800000   \n",
       "\n",
       "                                    lc-alpha-2-all  lc-alpha-3-all  \\\n",
       "filename                                                             \n",
       "DB0-m2_o8_o14_f0_pcu.sym.96.cif         136.635076      138.339640   \n",
       "DB0-m2_o6_o25_f0_pcu.sym.25.cif          86.526667       95.673333   \n",
       "DB0-m29_o89_o148_f0_pts.sym.12.cif       87.980000      119.780000   \n",
       "DB0-m9_o3_o7_f0_sra.sym.2.cif            87.980000      119.780000   \n",
       "DB0-m2_o21_o22_f0_pcu.sym.120.cif        86.526667      118.844205   \n",
       "\n",
       "                                    D_lc-chi-2-all  D_lc-S-2-all  \n",
       "filename                                                          \n",
       "DB0-m2_o8_o14_f0_pcu.sym.96.cif           1.480000      0.213333  \n",
       "DB0-m2_o6_o25_f0_pcu.sym.25.cif           0.756667     -0.033333  \n",
       "DB0-m29_o89_o148_f0_pts.sym.12.cif        0.890000     -0.040000  \n",
       "DB0-m9_o3_o7_f0_sra.sym.2.cif             0.890000     -0.040000  \n",
       "DB0-m2_o21_o22_f0_pcu.sym.120.cif         0.756667     -0.033333  \n",
       "\n",
       "[5 rows x 450 columns]"
      ]
     },
     "execution_count": 13,
     "metadata": {},
     "output_type": "execute_result"
    }
   ],
   "source": [
    "X_train.head()"
   ]
  },
  {
   "cell_type": "code",
   "execution_count": 14,
   "id": "6c639844",
   "metadata": {},
   "outputs": [
    {
     "data": {
      "text/html": [
       "<div>\n",
       "<style scoped>\n",
       "    .dataframe tbody tr th:only-of-type {\n",
       "        vertical-align: middle;\n",
       "    }\n",
       "\n",
       "    .dataframe tbody tr th {\n",
       "        vertical-align: top;\n",
       "    }\n",
       "\n",
       "    .dataframe thead th {\n",
       "        text-align: right;\n",
       "    }\n",
       "</style>\n",
       "<table border=\"1\" class=\"dataframe\">\n",
       "  <thead>\n",
       "    <tr style=\"text-align: right;\">\n",
       "      <th></th>\n",
       "      <th>0</th>\n",
       "    </tr>\n",
       "  </thead>\n",
       "  <tbody>\n",
       "    <tr>\n",
       "      <th>0</th>\n",
       "      <td>5.853326</td>\n",
       "    </tr>\n",
       "    <tr>\n",
       "      <th>1</th>\n",
       "      <td>1.588771</td>\n",
       "    </tr>\n",
       "    <tr>\n",
       "      <th>2</th>\n",
       "      <td>16.626334</td>\n",
       "    </tr>\n",
       "    <tr>\n",
       "      <th>3</th>\n",
       "      <td>4.305267</td>\n",
       "    </tr>\n",
       "    <tr>\n",
       "      <th>4</th>\n",
       "      <td>2.952315</td>\n",
       "    </tr>\n",
       "  </tbody>\n",
       "</table>\n",
       "</div>"
      ],
      "text/plain": [
       "           0\n",
       "0   5.853326\n",
       "1   1.588771\n",
       "2  16.626334\n",
       "3   4.305267\n",
       "4   2.952315"
      ]
     },
     "execution_count": 14,
     "metadata": {},
     "output_type": "execute_result"
    }
   ],
   "source": [
    "y_train.head()"
   ]
  },
  {
   "cell_type": "markdown",
   "id": "3b830008",
   "metadata": {},
   "source": [
    "Now I want to perform an initial train/test split using just 10% of this data to train initial models so I can get a quick feel for how well each model will perform."
   ]
  },
  {
   "cell_type": "code",
   "execution_count": 15,
   "id": "bcf6578c",
   "metadata": {},
   "outputs": [],
   "source": [
    "X_tr, X_te, y_tr, y_te = train_test_split(X_train, y_train, test_size=0.9, random_state=15)"
   ]
  },
  {
   "cell_type": "code",
   "execution_count": 16,
   "id": "c906e9cc",
   "metadata": {},
   "outputs": [
    {
     "data": {
      "text/plain": [
       "((20475, 450), (184275, 450), (20475, 1), (184275, 1))"
      ]
     },
     "execution_count": 16,
     "metadata": {},
     "output_type": "execute_result"
    }
   ],
   "source": [
    "X_tr.shape, X_te.shape, y_tr.shape, y_te.shape"
   ]
  },
  {
   "cell_type": "code",
   "execution_count": 17,
   "id": "419d73a3",
   "metadata": {},
   "outputs": [],
   "source": [
    "# Reshape y_train for model fitting\n",
    "y_tr = y_tr.values.ravel()\n",
    "y_te = y_te.values.ravel()"
   ]
  },
  {
   "cell_type": "code",
   "execution_count": 18,
   "id": "23ff0cc8",
   "metadata": {},
   "outputs": [
    {
     "data": {
      "text/plain": [
       "((20475,), (184275,))"
      ]
     },
     "execution_count": 18,
     "metadata": {},
     "output_type": "execute_result"
    }
   ],
   "source": [
    "y_tr.shape, y_te.shape"
   ]
  },
  {
   "cell_type": "markdown",
   "id": "67e72890",
   "metadata": {},
   "source": [
    "Now I'm ready to start making some models. I'll begin with dummy models using mean and median to set a baseline to determine whether the other models are any good at all. I'll also build a dataframe called train_scores to keep track of the model scores so I can plot my progress as I go. "
   ]
  },
  {
   "cell_type": "code",
   "execution_count": 21,
   "id": "5c7e1a51",
   "metadata": {},
   "outputs": [
    {
     "name": "stdout",
     "output_type": "stream",
     "text": [
      "408.1175428970218\n"
     ]
    }
   ],
   "source": [
    "dummy_mean = DummyRegressor(strategy=\"mean\")\n",
    "dummy_mean.fit(X_tr, y_tr)\n",
    "y_pred = dummy_mean.predict(X_te)\n",
    "train_scores = pd.DataFrame([{'Model' : 'Mean Dummy Regressor', '% Train Data' : 10, 'MSE' : mean_squared_error(y_te, y_pred)}])\n",
    "print(mean_squared_error(y_te, y_pred))"
   ]
  },
  {
   "cell_type": "code",
   "execution_count": 22,
   "id": "aa7e0a3b",
   "metadata": {},
   "outputs": [
    {
     "name": "stdout",
     "output_type": "stream",
     "text": [
      "482.09093698996935\n"
     ]
    }
   ],
   "source": [
    "dummy_median = DummyRegressor(strategy=\"median\")\n",
    "dummy_median.fit(X_tr, y_tr)\n",
    "y_pred = dummy_median.predict(X_te)\n",
    "new_row = pd.DataFrame([{'Model' : 'Median Dummy Regressor', '% Train Data' : 10, 'MSE' : mean_squared_error(y_te, y_pred)}])\n",
    "train_scores = pd.concat([train_scores, new_row])\n",
    "print(mean_squared_error(y_te, y_pred))"
   ]
  },
  {
   "cell_type": "code",
   "execution_count": 23,
   "id": "3315d92c",
   "metadata": {},
   "outputs": [
    {
     "data": {
      "text/html": [
       "<div>\n",
       "<style scoped>\n",
       "    .dataframe tbody tr th:only-of-type {\n",
       "        vertical-align: middle;\n",
       "    }\n",
       "\n",
       "    .dataframe tbody tr th {\n",
       "        vertical-align: top;\n",
       "    }\n",
       "\n",
       "    .dataframe thead th {\n",
       "        text-align: right;\n",
       "    }\n",
       "</style>\n",
       "<table border=\"1\" class=\"dataframe\">\n",
       "  <thead>\n",
       "    <tr style=\"text-align: right;\">\n",
       "      <th></th>\n",
       "      <th>Model</th>\n",
       "      <th>% Train Data</th>\n",
       "      <th>MSE</th>\n",
       "    </tr>\n",
       "  </thead>\n",
       "  <tbody>\n",
       "    <tr>\n",
       "      <th>0</th>\n",
       "      <td>Mean Dummy Regressor</td>\n",
       "      <td>10</td>\n",
       "      <td>408.117543</td>\n",
       "    </tr>\n",
       "    <tr>\n",
       "      <th>0</th>\n",
       "      <td>Median Dummy Regressor</td>\n",
       "      <td>10</td>\n",
       "      <td>482.090937</td>\n",
       "    </tr>\n",
       "  </tbody>\n",
       "</table>\n",
       "</div>"
      ],
      "text/plain": [
       "                    Model  % Train Data         MSE\n",
       "0    Mean Dummy Regressor            10  408.117543\n",
       "0  Median Dummy Regressor            10  482.090937"
      ]
     },
     "execution_count": 23,
     "metadata": {},
     "output_type": "execute_result"
    }
   ],
   "source": [
    "train_scores"
   ]
  },
  {
   "cell_type": "markdown",
   "id": "1d500005",
   "metadata": {},
   "source": [
    "Now I'll start with an OLS regressor, then ridge and lasso."
   ]
  },
  {
   "cell_type": "code",
   "execution_count": 24,
   "id": "fcf8d3d5",
   "metadata": {},
   "outputs": [
    {
     "name": "stdout",
     "output_type": "stream",
     "text": [
      "26.28631125947099\n"
     ]
    }
   ],
   "source": [
    "ols = LinearRegression()\n",
    "ols.fit(X_tr, y_tr)\n",
    "y_pred = ols.predict(X_te)\n",
    "new_row = pd.DataFrame([{'Model' : 'OLS', '% Train Data' : 10, 'MSE' : mean_squared_error(y_te, y_pred)}])\n",
    "train_scores = pd.concat([train_scores, new_row])\n",
    "print(mean_squared_error(y_te, y_pred))"
   ]
  },
  {
   "cell_type": "markdown",
   "id": "fd4982aa",
   "metadata": {},
   "source": [
    "For the rest of the models I'm exploring I'll need to do some hyperparameter tuning. To do so I'll use 60 iterations of random search CV to help narrow down where the hyperparameters are optimized, then I'll generate the models."
   ]
  },
  {
   "cell_type": "code",
   "execution_count": 34,
   "id": "11bfd5e3",
   "metadata": {},
   "outputs": [
    {
     "data": {
      "text/plain": [
       "{'alpha': 1.944279937536475}"
      ]
     },
     "execution_count": 34,
     "metadata": {},
     "output_type": "execute_result"
    }
   ],
   "source": [
    "parameters = {'alpha': sp_randFloat(0.1,100)}\n",
    "ridge = Ridge(random_state = 15)\n",
    "ridge_reg = RandomizedSearchCV(ridge, parameters,scoring=['neg_root_mean_squared_error'],\\\n",
    "                               refit='neg_root_mean_squared_error', n_iter=60, cv=5)\n",
    "random_ridge = ridge_reg.fit(X_tr, y_tr)\n",
    "random_ridge.best_params_"
   ]
  },
  {
   "cell_type": "markdown",
   "id": "f78dbcea",
   "metadata": {},
   "source": [
    "I want to confirm that I'm finding a good spot for the alpha and make sure I don't need to adjust my bounds, so I'm going to plot the alphas against RMSE from the random search, and possible rerun it with a new range. I'll need to call the column names to know which ones I want to plot."
   ]
  },
  {
   "cell_type": "code",
   "execution_count": 35,
   "id": "e9a2d57d",
   "metadata": {},
   "outputs": [
    {
     "data": {
      "text/plain": [
       "Index(['mean_fit_time', 'std_fit_time', 'mean_score_time', 'std_score_time',\n",
       "       'param_alpha', 'params', 'split0_test_neg_root_mean_squared_error',\n",
       "       'split1_test_neg_root_mean_squared_error',\n",
       "       'split2_test_neg_root_mean_squared_error',\n",
       "       'split3_test_neg_root_mean_squared_error',\n",
       "       'split4_test_neg_root_mean_squared_error',\n",
       "       'mean_test_neg_root_mean_squared_error',\n",
       "       'std_test_neg_root_mean_squared_error',\n",
       "       'rank_test_neg_root_mean_squared_error'],\n",
       "      dtype='object')"
      ]
     },
     "execution_count": 35,
     "metadata": {},
     "output_type": "execute_result"
    }
   ],
   "source": [
    "random_ridge_results = pd.DataFrame(random_ridge.cv_results_)\n",
    "random_ridge_results.columns"
   ]
  },
  {
   "cell_type": "code",
   "execution_count": 36,
   "id": "db085a6c",
   "metadata": {},
   "outputs": [
    {
     "data": {
      "image/png": "[encoded data removed]",
      "text/plain": [
       "<Figure size 640x480 with 1 Axes>"
      ]
     },
     "metadata": {},
     "output_type": "display_data"
    }
   ],
   "source": [
    "plt.plot(random_ridge_results['param_alpha'], random_ridge_results['mean_test_neg_root_mean_squared_error'], marker='o',\\\n",
    "         linestyle='none')\n",
    "plt.title('Ridge Scoring')\n",
    "plt.xlabel('Alpha')\n",
    "plt.ylabel('Mean Negative RMSE')\n",
    "plt.show()"
   ]
  },
  {
   "cell_type": "markdown",
   "id": "cc824a30",
   "metadata": {},
   "source": [
    "So there's not a big change in RMSE, but I definitely want to move to smaller values."
   ]
  },
  {
   "cell_type": "code",
   "execution_count": 37,
   "id": "a43e1cc1",
   "metadata": {},
   "outputs": [
    {
     "data": {
      "text/plain": [
       "{'alpha': 0.016706715921523507}"
      ]
     },
     "execution_count": 37,
     "metadata": {},
     "output_type": "execute_result"
    }
   ],
   "source": [
    "parameters = {'alpha': sp_randFloat(0.001,5)}\n",
    "ridge = Ridge(random_state = 15)\n",
    "ridge_reg = RandomizedSearchCV(ridge, parameters,scoring=['neg_root_mean_squared_error'],\\\n",
    "                               refit='neg_root_mean_squared_error', n_iter=60, cv=5)\n",
    "random_ridge = ridge_reg.fit(X_tr, y_tr)\n",
    "random_ridge.best_params_"
   ]
  },
  {
   "cell_type": "code",
   "execution_count": 38,
   "id": "11646d96",
   "metadata": {},
   "outputs": [
    {
     "data": {
      "image/png": "[encoded data removed]",
      "text/plain": [
       "<Figure size 640x480 with 1 Axes>"
      ]
     },
     "metadata": {},
     "output_type": "display_data"
    }
   ],
   "source": [
    "random_ridge_results = pd.DataFrame(random_ridge.cv_results_)\n",
    "plt.plot(random_ridge_results['param_alpha'], random_ridge_results['mean_test_neg_root_mean_squared_error'], marker='o',\\\n",
    "         linestyle='none')\n",
    "plt.title('Ridge Scoring')\n",
    "plt.xlabel('Alpha')\n",
    "plt.ylabel('Mean Negative RMSE')\n",
    "plt.show()"
   ]
  },
  {
   "cell_type": "markdown",
   "id": "c6729f0d",
   "metadata": {},
   "source": [
    "That's good enough for right now, let's add this to the results dataframe and move on."
   ]
  },
  {
   "cell_type": "code",
   "execution_count": 39,
   "id": "d52fb67c",
   "metadata": {
    "scrolled": true
   },
   "outputs": [
    {
     "name": "stdout",
     "output_type": "stream",
     "text": [
      "26.128287689805486\n"
     ]
    }
   ],
   "source": [
    "ridge=Ridge(alpha=random_ridge.best_params_['alpha'], random_state = 15)\n",
    "ridge.fit(X_tr, y_tr)\n",
    "y_pred = ridge.predict(X_te)\n",
    "new_row = pd.DataFrame([{'Model' : 'Ridge', '% Train Data' : 10, 'MSE' : mean_squared_error(y_te, y_pred)}])\n",
    "train_scores = pd.concat([train_scores, new_row])\n",
    "print(mean_squared_error(y_te, y_pred))"
   ]
  },
  {
   "cell_type": "markdown",
   "id": "52fec428",
   "metadata": {},
   "source": [
    "On to lasso regression."
   ]
  },
  {
   "cell_type": "code",
   "execution_count": 44,
   "id": "ee1384f9",
   "metadata": {},
   "outputs": [
    {
     "name": "stderr",
     "output_type": "stream",
     "text": [
      "C:\\Users\\zbro1\\anaconda\\envs\\MOF\\lib\\site-packages\\sklearn\\linear_model\\_coordinate_descent.py:631: ConvergenceWarning: Objective did not converge. You might want to increase the number of iterations, check the scale of the features or consider increasing regularisation. Duality gap: 9.893e+04, tolerance: 6.528e+04\n",
      "  model = cd_fast.enet_coordinate_descent(\n",
      "C:\\Users\\zbro1\\anaconda\\envs\\MOF\\lib\\site-packages\\sklearn\\linear_model\\_coordinate_descent.py:631: ConvergenceWarning: Objective did not converge. You might want to increase the number of iterations, check the scale of the features or consider increasing regularisation. Duality gap: 1.124e+05, tolerance: 6.526e+04\n",
      "  model = cd_fast.enet_coordinate_descent(\n",
      "C:\\Users\\zbro1\\anaconda\\envs\\MOF\\lib\\site-packages\\sklearn\\linear_model\\_coordinate_descent.py:631: ConvergenceWarning: Objective did not converge. You might want to increase the number of iterations, check the scale of the features or consider increasing regularisation. Duality gap: 9.153e+04, tolerance: 6.469e+04\n",
      "  model = cd_fast.enet_coordinate_descent(\n",
      "C:\\Users\\zbro1\\anaconda\\envs\\MOF\\lib\\site-packages\\sklearn\\linear_model\\_coordinate_descent.py:631: ConvergenceWarning: Objective did not converge. You might want to increase the number of iterations, check the scale of the features or consider increasing regularisation. Duality gap: 1.062e+05, tolerance: 6.498e+04\n",
      "  model = cd_fast.enet_coordinate_descent(\n",
      "C:\\Users\\zbro1\\anaconda\\envs\\MOF\\lib\\site-packages\\sklearn\\linear_model\\_coordinate_descent.py:631: ConvergenceWarning: Objective did not converge. You might want to increase the number of iterations, check the scale of the features or consider increasing regularisation. Duality gap: 8.477e+04, tolerance: 6.640e+04\n",
      "  model = cd_fast.enet_coordinate_descent(\n",
      "C:\\Users\\zbro1\\anaconda\\envs\\MOF\\lib\\site-packages\\sklearn\\linear_model\\_coordinate_descent.py:631: ConvergenceWarning: Objective did not converge. You might want to increase the number of iterations, check the scale of the features or consider increasing regularisation. Duality gap: 8.608e+04, tolerance: 6.528e+04\n",
      "  model = cd_fast.enet_coordinate_descent(\n",
      "C:\\Users\\zbro1\\anaconda\\envs\\MOF\\lib\\site-packages\\sklearn\\linear_model\\_coordinate_descent.py:631: ConvergenceWarning: Objective did not converge. You might want to increase the number of iterations, check the scale of the features or consider increasing regularisation. Duality gap: 9.860e+04, tolerance: 6.526e+04\n",
      "  model = cd_fast.enet_coordinate_descent(\n",
      "C:\\Users\\zbro1\\anaconda\\envs\\MOF\\lib\\site-packages\\sklearn\\linear_model\\_coordinate_descent.py:631: ConvergenceWarning: Objective did not converge. You might want to increase the number of iterations, check the scale of the features or consider increasing regularisation. Duality gap: 7.962e+04, tolerance: 6.469e+04\n",
      "  model = cd_fast.enet_coordinate_descent(\n",
      "C:\\Users\\zbro1\\anaconda\\envs\\MOF\\lib\\site-packages\\sklearn\\linear_model\\_coordinate_descent.py:631: ConvergenceWarning: Objective did not converge. You might want to increase the number of iterations, check the scale of the features or consider increasing regularisation. Duality gap: 9.511e+04, tolerance: 6.498e+04\n",
      "  model = cd_fast.enet_coordinate_descent(\n",
      "C:\\Users\\zbro1\\anaconda\\envs\\MOF\\lib\\site-packages\\sklearn\\linear_model\\_coordinate_descent.py:631: ConvergenceWarning: Objective did not converge. You might want to increase the number of iterations, check the scale of the features or consider increasing regularisation. Duality gap: 7.338e+04, tolerance: 6.640e+04\n",
      "  model = cd_fast.enet_coordinate_descent(\n",
      "C:\\Users\\zbro1\\anaconda\\envs\\MOF\\lib\\site-packages\\sklearn\\linear_model\\_coordinate_descent.py:631: ConvergenceWarning: Objective did not converge. You might want to increase the number of iterations, check the scale of the features or consider increasing regularisation. Duality gap: 1.716e+05, tolerance: 6.528e+04\n",
      "  model = cd_fast.enet_coordinate_descent(\n",
      "C:\\Users\\zbro1\\anaconda\\envs\\MOF\\lib\\site-packages\\sklearn\\linear_model\\_coordinate_descent.py:631: ConvergenceWarning: Objective did not converge. You might want to increase the number of iterations, check the scale of the features or consider increasing regularisation. Duality gap: 1.834e+05, tolerance: 6.526e+04\n",
      "  model = cd_fast.enet_coordinate_descent(\n",
      "C:\\Users\\zbro1\\anaconda\\envs\\MOF\\lib\\site-packages\\sklearn\\linear_model\\_coordinate_descent.py:631: ConvergenceWarning: Objective did not converge. You might want to increase the number of iterations, check the scale of the features or consider increasing regularisation. Duality gap: 1.610e+05, tolerance: 6.469e+04\n",
      "  model = cd_fast.enet_coordinate_descent(\n",
      "C:\\Users\\zbro1\\anaconda\\envs\\MOF\\lib\\site-packages\\sklearn\\linear_model\\_coordinate_descent.py:631: ConvergenceWarning: Objective did not converge. You might want to increase the number of iterations, check the scale of the features or consider increasing regularisation. Duality gap: 1.624e+05, tolerance: 6.498e+04\n",
      "  model = cd_fast.enet_coordinate_descent(\n",
      "C:\\Users\\zbro1\\anaconda\\envs\\MOF\\lib\\site-packages\\sklearn\\linear_model\\_coordinate_descent.py:631: ConvergenceWarning: Objective did not converge. You might want to increase the number of iterations, check the scale of the features or consider increasing regularisation. Duality gap: 1.492e+05, tolerance: 6.640e+04\n",
      "  model = cd_fast.enet_coordinate_descent(\n",
      "C:\\Users\\zbro1\\anaconda\\envs\\MOF\\lib\\site-packages\\sklearn\\linear_model\\_coordinate_descent.py:631: ConvergenceWarning: Objective did not converge. You might want to increase the number of iterations, check the scale of the features or consider increasing regularisation. Duality gap: 6.801e+04, tolerance: 6.528e+04\n",
      "  model = cd_fast.enet_coordinate_descent(\n",
      "C:\\Users\\zbro1\\anaconda\\envs\\MOF\\lib\\site-packages\\sklearn\\linear_model\\_coordinate_descent.py:631: ConvergenceWarning: Objective did not converge. You might want to increase the number of iterations, check the scale of the features or consider increasing regularisation. Duality gap: 1.748e+05, tolerance: 6.528e+04\n",
      "  model = cd_fast.enet_coordinate_descent(\n",
      "C:\\Users\\zbro1\\anaconda\\envs\\MOF\\lib\\site-packages\\sklearn\\linear_model\\_coordinate_descent.py:631: ConvergenceWarning: Objective did not converge. You might want to increase the number of iterations, check the scale of the features or consider increasing regularisation. Duality gap: 1.873e+05, tolerance: 6.526e+04\n",
      "  model = cd_fast.enet_coordinate_descent(\n",
      "C:\\Users\\zbro1\\anaconda\\envs\\MOF\\lib\\site-packages\\sklearn\\linear_model\\_coordinate_descent.py:631: ConvergenceWarning: Objective did not converge. You might want to increase the number of iterations, check the scale of the features or consider increasing regularisation. Duality gap: 1.639e+05, tolerance: 6.469e+04\n",
      "  model = cd_fast.enet_coordinate_descent(\n",
      "C:\\Users\\zbro1\\anaconda\\envs\\MOF\\lib\\site-packages\\sklearn\\linear_model\\_coordinate_descent.py:631: ConvergenceWarning: Objective did not converge. You might want to increase the number of iterations, check the scale of the features or consider increasing regularisation. Duality gap: 1.647e+05, tolerance: 6.498e+04\n",
      "  model = cd_fast.enet_coordinate_descent(\n",
      "C:\\Users\\zbro1\\anaconda\\envs\\MOF\\lib\\site-packages\\sklearn\\linear_model\\_coordinate_descent.py:631: ConvergenceWarning: Objective did not converge. You might want to increase the number of iterations, check the scale of the features or consider increasing regularisation. Duality gap: 1.521e+05, tolerance: 6.640e+04\n",
      "  model = cd_fast.enet_coordinate_descent(\n",
      "C:\\Users\\zbro1\\anaconda\\envs\\MOF\\lib\\site-packages\\sklearn\\linear_model\\_coordinate_descent.py:631: ConvergenceWarning: Objective did not converge. You might want to increase the number of iterations, check the scale of the features or consider increasing regularisation. Duality gap: 1.095e+05, tolerance: 6.528e+04\n",
      "  model = cd_fast.enet_coordinate_descent(\n",
      "C:\\Users\\zbro1\\anaconda\\envs\\MOF\\lib\\site-packages\\sklearn\\linear_model\\_coordinate_descent.py:631: ConvergenceWarning: Objective did not converge. You might want to increase the number of iterations, check the scale of the features or consider increasing regularisation. Duality gap: 1.231e+05, tolerance: 6.526e+04\n",
      "  model = cd_fast.enet_coordinate_descent(\n"
     ]
    },
    {
     "name": "stderr",
     "output_type": "stream",
     "text": [
      "C:\\Users\\zbro1\\anaconda\\envs\\MOF\\lib\\site-packages\\sklearn\\linear_model\\_coordinate_descent.py:631: ConvergenceWarning: Objective did not converge. You might want to increase the number of iterations, check the scale of the features or consider increasing regularisation. Duality gap: 1.014e+05, tolerance: 6.469e+04\n",
      "  model = cd_fast.enet_coordinate_descent(\n",
      "C:\\Users\\zbro1\\anaconda\\envs\\MOF\\lib\\site-packages\\sklearn\\linear_model\\_coordinate_descent.py:631: ConvergenceWarning: Objective did not converge. You might want to increase the number of iterations, check the scale of the features or consider increasing regularisation. Duality gap: 1.153e+05, tolerance: 6.498e+04\n",
      "  model = cd_fast.enet_coordinate_descent(\n",
      "C:\\Users\\zbro1\\anaconda\\envs\\MOF\\lib\\site-packages\\sklearn\\linear_model\\_coordinate_descent.py:631: ConvergenceWarning: Objective did not converge. You might want to increase the number of iterations, check the scale of the features or consider increasing regularisation. Duality gap: 9.401e+04, tolerance: 6.640e+04\n",
      "  model = cd_fast.enet_coordinate_descent(\n",
      "C:\\Users\\zbro1\\anaconda\\envs\\MOF\\lib\\site-packages\\sklearn\\linear_model\\_coordinate_descent.py:631: ConvergenceWarning: Objective did not converge. You might want to increase the number of iterations, check the scale of the features or consider increasing regularisation. Duality gap: 7.651e+04, tolerance: 6.528e+04\n",
      "  model = cd_fast.enet_coordinate_descent(\n",
      "C:\\Users\\zbro1\\anaconda\\envs\\MOF\\lib\\site-packages\\sklearn\\linear_model\\_coordinate_descent.py:631: ConvergenceWarning: Objective did not converge. You might want to increase the number of iterations, check the scale of the features or consider increasing regularisation. Duality gap: 8.820e+04, tolerance: 6.526e+04\n",
      "  model = cd_fast.enet_coordinate_descent(\n",
      "C:\\Users\\zbro1\\anaconda\\envs\\MOF\\lib\\site-packages\\sklearn\\linear_model\\_coordinate_descent.py:631: ConvergenceWarning: Objective did not converge. You might want to increase the number of iterations, check the scale of the features or consider increasing regularisation. Duality gap: 7.079e+04, tolerance: 6.469e+04\n",
      "  model = cd_fast.enet_coordinate_descent(\n"
     ]
    },
    {
     "data": {
      "text/plain": [
       "{'alpha': 69.18202991034835}"
      ]
     },
     "execution_count": 44,
     "metadata": {},
     "output_type": "execute_result"
    }
   ],
   "source": [
    "parameters = {'alpha': sp_randFloat(40,80)}\n",
    "lasso = linear_model.Lasso(tol = 0.01, random_state = 15)\n",
    "rand = RandomizedSearchCV(lasso, parameters, scoring=['neg_root_mean_squared_error'],\\\n",
    "                          refit='neg_root_mean_squared_error', n_iter=60, cv=5, random_state=0)\n",
    "rand_lasso = rand.fit(X_tr, y_tr)\n",
    "rand_lasso.best_params_"
   ]
  },
  {
   "cell_type": "code",
   "execution_count": 45,
   "id": "d5acf69d",
   "metadata": {},
   "outputs": [
    {
     "data": {
      "image/png": "[encoded data removed]",
      "text/plain": [
       "<Figure size 640x480 with 1 Axes>"
      ]
     },
     "metadata": {},
     "output_type": "display_data"
    }
   ],
   "source": [
    "rand_lasso_params = pd.DataFrame(rand_lasso.cv_results_)\n",
    "plt.plot(rand_lasso_params['param_alpha'], rand_lasso_params['mean_test_neg_root_mean_squared_error'], marker='o',\\\n",
    "         linestyle='none')\n",
    "plt.title('Lasso Scoring')\n",
    "plt.xlabel('Alpha')\n",
    "plt.ylabel('Mean Negative RMSE')\n",
    "plt.show()"
   ]
  },
  {
   "cell_type": "code",
   "execution_count": 46,
   "id": "5b0fd742",
   "metadata": {},
   "outputs": [
    {
     "name": "stderr",
     "output_type": "stream",
     "text": [
      "C:\\Users\\zbro1\\anaconda\\envs\\MOF\\lib\\site-packages\\sklearn\\linear_model\\_coordinate_descent.py:631: ConvergenceWarning: Objective did not converge. You might want to increase the number of iterations, check the scale of the features or consider increasing regularisation. Duality gap: 2.190e+03, tolerance: 8.165e+02\n",
      "  model = cd_fast.enet_coordinate_descent(\n"
     ]
    },
    {
     "name": "stdout",
     "output_type": "stream",
     "text": [
      "39.6667202602123\n"
     ]
    }
   ],
   "source": [
    "lasso = linear_model.Lasso(alpha=rand_lasso.best_params_['alpha'], random_state = 15)\n",
    "lasso.fit(X_tr, y_tr)\n",
    "y_pred = lasso.predict(X_te)\n",
    "new_row = pd.DataFrame([{'Model' : 'Lasso', '% Train Data' : 10, 'MSE' : mean_squared_error(y_te, y_pred)}])\n",
    "train_scores = pd.concat([train_scores, new_row])\n",
    "print(mean_squared_error(y_te, y_pred))"
   ]
  },
  {
   "cell_type": "code",
   "execution_count": 47,
   "id": "7b5ed7b6",
   "metadata": {},
   "outputs": [
    {
     "ename": "KeyboardInterrupt",
     "evalue": "",
     "output_type": "error",
     "traceback": [
      "\u001b[1;31m---------------------------------------------------------------------------\u001b[0m",
      "\u001b[1;31mKeyboardInterrupt\u001b[0m                         Traceback (most recent call last)",
      "Cell \u001b[1;32mIn[47], line 9\u001b[0m\n\u001b[0;32m      6\u001b[0m forest \u001b[38;5;241m=\u001b[39m RandomForestRegressor(n_jobs\u001b[38;5;241m=\u001b[39m\u001b[38;5;241m-\u001b[39m\u001b[38;5;241m1\u001b[39m, random_state\u001b[38;5;241m=\u001b[39m\u001b[38;5;241m15\u001b[39m)\n\u001b[0;32m      7\u001b[0m forest_reg \u001b[38;5;241m=\u001b[39m RandomizedSearchCV(forest, parameters, scoring\u001b[38;5;241m=\u001b[39m\u001b[38;5;124m'\u001b[39m\u001b[38;5;124mneg_root_mean_squared_error\u001b[39m\u001b[38;5;124m'\u001b[39m,\\\n\u001b[0;32m      8\u001b[0m                                 refit\u001b[38;5;241m=\u001b[39m\u001b[38;5;124m'\u001b[39m\u001b[38;5;124mneg_root_mean_squared_error\u001b[39m\u001b[38;5;124m'\u001b[39m, n_iter\u001b[38;5;241m=\u001b[39m\u001b[38;5;241m60\u001b[39m, cv\u001b[38;5;241m=\u001b[39m\u001b[38;5;241m5\u001b[39m, random_state\u001b[38;5;241m=\u001b[39m\u001b[38;5;241m15\u001b[39m)\n\u001b[1;32m----> 9\u001b[0m rand_forest \u001b[38;5;241m=\u001b[39m \u001b[43mforest_reg\u001b[49m\u001b[38;5;241;43m.\u001b[39;49m\u001b[43mfit\u001b[49m\u001b[43m(\u001b[49m\u001b[43mX_tr\u001b[49m\u001b[43m,\u001b[49m\u001b[43m \u001b[49m\u001b[43my_tr\u001b[49m\u001b[43m)\u001b[49m\n\u001b[0;32m     10\u001b[0m rand_forest\u001b[38;5;241m.\u001b[39mbest_params_\n",
      "File \u001b[1;32m~\\anaconda\\envs\\MOF\\lib\\site-packages\\sklearn\\model_selection\\_search.py:874\u001b[0m, in \u001b[0;36mBaseSearchCV.fit\u001b[1;34m(self, X, y, groups, **fit_params)\u001b[0m\n\u001b[0;32m    868\u001b[0m     results \u001b[38;5;241m=\u001b[39m \u001b[38;5;28mself\u001b[39m\u001b[38;5;241m.\u001b[39m_format_results(\n\u001b[0;32m    869\u001b[0m         all_candidate_params, n_splits, all_out, all_more_results\n\u001b[0;32m    870\u001b[0m     )\n\u001b[0;32m    872\u001b[0m     \u001b[38;5;28;01mreturn\u001b[39;00m results\n\u001b[1;32m--> 874\u001b[0m \u001b[38;5;28;43mself\u001b[39;49m\u001b[38;5;241;43m.\u001b[39;49m\u001b[43m_run_search\u001b[49m\u001b[43m(\u001b[49m\u001b[43mevaluate_candidates\u001b[49m\u001b[43m)\u001b[49m\n\u001b[0;32m    876\u001b[0m \u001b[38;5;66;03m# multimetric is determined here because in the case of a callable\u001b[39;00m\n\u001b[0;32m    877\u001b[0m \u001b[38;5;66;03m# self.scoring the return type is only known after calling\u001b[39;00m\n\u001b[0;32m    878\u001b[0m first_test_score \u001b[38;5;241m=\u001b[39m all_out[\u001b[38;5;241m0\u001b[39m][\u001b[38;5;124m\"\u001b[39m\u001b[38;5;124mtest_scores\u001b[39m\u001b[38;5;124m\"\u001b[39m]\n",
      "File \u001b[1;32m~\\anaconda\\envs\\MOF\\lib\\site-packages\\sklearn\\model_selection\\_search.py:1768\u001b[0m, in \u001b[0;36mRandomizedSearchCV._run_search\u001b[1;34m(self, evaluate_candidates)\u001b[0m\n\u001b[0;32m   1766\u001b[0m \u001b[38;5;28;01mdef\u001b[39;00m \u001b[38;5;21m_run_search\u001b[39m(\u001b[38;5;28mself\u001b[39m, evaluate_candidates):\n\u001b[0;32m   1767\u001b[0m     \u001b[38;5;124;03m\"\"\"Search n_iter candidates from param_distributions\"\"\"\u001b[39;00m\n\u001b[1;32m-> 1768\u001b[0m     \u001b[43mevaluate_candidates\u001b[49m\u001b[43m(\u001b[49m\n\u001b[0;32m   1769\u001b[0m \u001b[43m        \u001b[49m\u001b[43mParameterSampler\u001b[49m\u001b[43m(\u001b[49m\n\u001b[0;32m   1770\u001b[0m \u001b[43m            \u001b[49m\u001b[38;5;28;43mself\u001b[39;49m\u001b[38;5;241;43m.\u001b[39;49m\u001b[43mparam_distributions\u001b[49m\u001b[43m,\u001b[49m\u001b[43m \u001b[49m\u001b[38;5;28;43mself\u001b[39;49m\u001b[38;5;241;43m.\u001b[39;49m\u001b[43mn_iter\u001b[49m\u001b[43m,\u001b[49m\u001b[43m \u001b[49m\u001b[43mrandom_state\u001b[49m\u001b[38;5;241;43m=\u001b[39;49m\u001b[38;5;28;43mself\u001b[39;49m\u001b[38;5;241;43m.\u001b[39;49m\u001b[43mrandom_state\u001b[49m\n\u001b[0;32m   1771\u001b[0m \u001b[43m        \u001b[49m\u001b[43m)\u001b[49m\n\u001b[0;32m   1772\u001b[0m \u001b[43m    \u001b[49m\u001b[43m)\u001b[49m\n",
      "File \u001b[1;32m~\\anaconda\\envs\\MOF\\lib\\site-packages\\sklearn\\model_selection\\_search.py:821\u001b[0m, in \u001b[0;36mBaseSearchCV.fit.<locals>.evaluate_candidates\u001b[1;34m(candidate_params, cv, more_results)\u001b[0m\n\u001b[0;32m    813\u001b[0m \u001b[38;5;28;01mif\u001b[39;00m \u001b[38;5;28mself\u001b[39m\u001b[38;5;241m.\u001b[39mverbose \u001b[38;5;241m>\u001b[39m \u001b[38;5;241m0\u001b[39m:\n\u001b[0;32m    814\u001b[0m     \u001b[38;5;28mprint\u001b[39m(\n\u001b[0;32m    815\u001b[0m         \u001b[38;5;124m\"\u001b[39m\u001b[38;5;124mFitting \u001b[39m\u001b[38;5;132;01m{0}\u001b[39;00m\u001b[38;5;124m folds for each of \u001b[39m\u001b[38;5;132;01m{1}\u001b[39;00m\u001b[38;5;124m candidates,\u001b[39m\u001b[38;5;124m\"\u001b[39m\n\u001b[0;32m    816\u001b[0m         \u001b[38;5;124m\"\u001b[39m\u001b[38;5;124m totalling \u001b[39m\u001b[38;5;132;01m{2}\u001b[39;00m\u001b[38;5;124m fits\u001b[39m\u001b[38;5;124m\"\u001b[39m\u001b[38;5;241m.\u001b[39mformat(\n\u001b[0;32m    817\u001b[0m             n_splits, n_candidates, n_candidates \u001b[38;5;241m*\u001b[39m n_splits\n\u001b[0;32m    818\u001b[0m         )\n\u001b[0;32m    819\u001b[0m     )\n\u001b[1;32m--> 821\u001b[0m out \u001b[38;5;241m=\u001b[39m \u001b[43mparallel\u001b[49m\u001b[43m(\u001b[49m\n\u001b[0;32m    822\u001b[0m \u001b[43m    \u001b[49m\u001b[43mdelayed\u001b[49m\u001b[43m(\u001b[49m\u001b[43m_fit_and_score\u001b[49m\u001b[43m)\u001b[49m\u001b[43m(\u001b[49m\n\u001b[0;32m    823\u001b[0m \u001b[43m        \u001b[49m\u001b[43mclone\u001b[49m\u001b[43m(\u001b[49m\u001b[43mbase_estimator\u001b[49m\u001b[43m)\u001b[49m\u001b[43m,\u001b[49m\n\u001b[0;32m    824\u001b[0m \u001b[43m        \u001b[49m\u001b[43mX\u001b[49m\u001b[43m,\u001b[49m\n\u001b[0;32m    825\u001b[0m \u001b[43m        \u001b[49m\u001b[43my\u001b[49m\u001b[43m,\u001b[49m\n\u001b[0;32m    826\u001b[0m \u001b[43m        \u001b[49m\u001b[43mtrain\u001b[49m\u001b[38;5;241;43m=\u001b[39;49m\u001b[43mtrain\u001b[49m\u001b[43m,\u001b[49m\n\u001b[0;32m    827\u001b[0m \u001b[43m        \u001b[49m\u001b[43mtest\u001b[49m\u001b[38;5;241;43m=\u001b[39;49m\u001b[43mtest\u001b[49m\u001b[43m,\u001b[49m\n\u001b[0;32m    828\u001b[0m \u001b[43m        \u001b[49m\u001b[43mparameters\u001b[49m\u001b[38;5;241;43m=\u001b[39;49m\u001b[43mparameters\u001b[49m\u001b[43m,\u001b[49m\n\u001b[0;32m    829\u001b[0m \u001b[43m        \u001b[49m\u001b[43msplit_progress\u001b[49m\u001b[38;5;241;43m=\u001b[39;49m\u001b[43m(\u001b[49m\u001b[43msplit_idx\u001b[49m\u001b[43m,\u001b[49m\u001b[43m \u001b[49m\u001b[43mn_splits\u001b[49m\u001b[43m)\u001b[49m\u001b[43m,\u001b[49m\n\u001b[0;32m    830\u001b[0m \u001b[43m        \u001b[49m\u001b[43mcandidate_progress\u001b[49m\u001b[38;5;241;43m=\u001b[39;49m\u001b[43m(\u001b[49m\u001b[43mcand_idx\u001b[49m\u001b[43m,\u001b[49m\u001b[43m \u001b[49m\u001b[43mn_candidates\u001b[49m\u001b[43m)\u001b[49m\u001b[43m,\u001b[49m\n\u001b[0;32m    831\u001b[0m \u001b[43m        \u001b[49m\u001b[38;5;241;43m*\u001b[39;49m\u001b[38;5;241;43m*\u001b[39;49m\u001b[43mfit_and_score_kwargs\u001b[49m\u001b[43m,\u001b[49m\n\u001b[0;32m    832\u001b[0m \u001b[43m    \u001b[49m\u001b[43m)\u001b[49m\n\u001b[0;32m    833\u001b[0m \u001b[43m    \u001b[49m\u001b[38;5;28;43;01mfor\u001b[39;49;00m\u001b[43m \u001b[49m\u001b[43m(\u001b[49m\u001b[43mcand_idx\u001b[49m\u001b[43m,\u001b[49m\u001b[43m \u001b[49m\u001b[43mparameters\u001b[49m\u001b[43m)\u001b[49m\u001b[43m,\u001b[49m\u001b[43m \u001b[49m\u001b[43m(\u001b[49m\u001b[43msplit_idx\u001b[49m\u001b[43m,\u001b[49m\u001b[43m \u001b[49m\u001b[43m(\u001b[49m\u001b[43mtrain\u001b[49m\u001b[43m,\u001b[49m\u001b[43m \u001b[49m\u001b[43mtest\u001b[49m\u001b[43m)\u001b[49m\u001b[43m)\u001b[49m\u001b[43m \u001b[49m\u001b[38;5;129;43;01min\u001b[39;49;00m\u001b[43m \u001b[49m\u001b[43mproduct\u001b[49m\u001b[43m(\u001b[49m\n\u001b[0;32m    834\u001b[0m \u001b[43m        \u001b[49m\u001b[38;5;28;43menumerate\u001b[39;49m\u001b[43m(\u001b[49m\u001b[43mcandidate_params\u001b[49m\u001b[43m)\u001b[49m\u001b[43m,\u001b[49m\u001b[43m \u001b[49m\u001b[38;5;28;43menumerate\u001b[39;49m\u001b[43m(\u001b[49m\u001b[43mcv\u001b[49m\u001b[38;5;241;43m.\u001b[39;49m\u001b[43msplit\u001b[49m\u001b[43m(\u001b[49m\u001b[43mX\u001b[49m\u001b[43m,\u001b[49m\u001b[43m \u001b[49m\u001b[43my\u001b[49m\u001b[43m,\u001b[49m\u001b[43m \u001b[49m\u001b[43mgroups\u001b[49m\u001b[43m)\u001b[49m\u001b[43m)\u001b[49m\n\u001b[0;32m    835\u001b[0m \u001b[43m    \u001b[49m\u001b[43m)\u001b[49m\n\u001b[0;32m    836\u001b[0m \u001b[43m\u001b[49m\u001b[43m)\u001b[49m\n\u001b[0;32m    838\u001b[0m \u001b[38;5;28;01mif\u001b[39;00m \u001b[38;5;28mlen\u001b[39m(out) \u001b[38;5;241m<\u001b[39m \u001b[38;5;241m1\u001b[39m:\n\u001b[0;32m    839\u001b[0m     \u001b[38;5;28;01mraise\u001b[39;00m \u001b[38;5;167;01mValueError\u001b[39;00m(\n\u001b[0;32m    840\u001b[0m         \u001b[38;5;124m\"\u001b[39m\u001b[38;5;124mNo fits were performed. \u001b[39m\u001b[38;5;124m\"\u001b[39m\n\u001b[0;32m    841\u001b[0m         \u001b[38;5;124m\"\u001b[39m\u001b[38;5;124mWas the CV iterator empty? \u001b[39m\u001b[38;5;124m\"\u001b[39m\n\u001b[0;32m    842\u001b[0m         \u001b[38;5;124m\"\u001b[39m\u001b[38;5;124mWere there no candidates?\u001b[39m\u001b[38;5;124m\"\u001b[39m\n\u001b[0;32m    843\u001b[0m     )\n",
      "File \u001b[1;32m~\\anaconda\\envs\\MOF\\lib\\site-packages\\sklearn\\utils\\parallel.py:63\u001b[0m, in \u001b[0;36mParallel.__call__\u001b[1;34m(self, iterable)\u001b[0m\n\u001b[0;32m     58\u001b[0m config \u001b[38;5;241m=\u001b[39m get_config()\n\u001b[0;32m     59\u001b[0m iterable_with_config \u001b[38;5;241m=\u001b[39m (\n\u001b[0;32m     60\u001b[0m     (_with_config(delayed_func, config), args, kwargs)\n\u001b[0;32m     61\u001b[0m     \u001b[38;5;28;01mfor\u001b[39;00m delayed_func, args, kwargs \u001b[38;5;129;01min\u001b[39;00m iterable\n\u001b[0;32m     62\u001b[0m )\n\u001b[1;32m---> 63\u001b[0m \u001b[38;5;28;01mreturn\u001b[39;00m \u001b[38;5;28;43msuper\u001b[39;49m\u001b[43m(\u001b[49m\u001b[43m)\u001b[49m\u001b[38;5;241;43m.\u001b[39;49m\u001b[38;5;21;43m__call__\u001b[39;49m\u001b[43m(\u001b[49m\u001b[43miterable_with_config\u001b[49m\u001b[43m)\u001b[49m\n",
      "File \u001b[1;32m~\\anaconda\\envs\\MOF\\lib\\site-packages\\joblib\\parallel.py:1088\u001b[0m, in \u001b[0;36mParallel.__call__\u001b[1;34m(self, iterable)\u001b[0m\n\u001b[0;32m   1085\u001b[0m \u001b[38;5;28;01mif\u001b[39;00m \u001b[38;5;28mself\u001b[39m\u001b[38;5;241m.\u001b[39mdispatch_one_batch(iterator):\n\u001b[0;32m   1086\u001b[0m     \u001b[38;5;28mself\u001b[39m\u001b[38;5;241m.\u001b[39m_iterating \u001b[38;5;241m=\u001b[39m \u001b[38;5;28mself\u001b[39m\u001b[38;5;241m.\u001b[39m_original_iterator \u001b[38;5;129;01mis\u001b[39;00m \u001b[38;5;129;01mnot\u001b[39;00m \u001b[38;5;28;01mNone\u001b[39;00m\n\u001b[1;32m-> 1088\u001b[0m \u001b[38;5;28;01mwhile\u001b[39;00m \u001b[38;5;28;43mself\u001b[39;49m\u001b[38;5;241;43m.\u001b[39;49m\u001b[43mdispatch_one_batch\u001b[49m\u001b[43m(\u001b[49m\u001b[43miterator\u001b[49m\u001b[43m)\u001b[49m:\n\u001b[0;32m   1089\u001b[0m     \u001b[38;5;28;01mpass\u001b[39;00m\n\u001b[0;32m   1091\u001b[0m \u001b[38;5;28;01mif\u001b[39;00m pre_dispatch \u001b[38;5;241m==\u001b[39m \u001b[38;5;124m\"\u001b[39m\u001b[38;5;124mall\u001b[39m\u001b[38;5;124m\"\u001b[39m \u001b[38;5;129;01mor\u001b[39;00m n_jobs \u001b[38;5;241m==\u001b[39m \u001b[38;5;241m1\u001b[39m:\n\u001b[0;32m   1092\u001b[0m     \u001b[38;5;66;03m# The iterable was consumed all at once by the above for loop.\u001b[39;00m\n\u001b[0;32m   1093\u001b[0m     \u001b[38;5;66;03m# No need to wait for async callbacks to trigger to\u001b[39;00m\n\u001b[0;32m   1094\u001b[0m     \u001b[38;5;66;03m# consumption.\u001b[39;00m\n",
      "File \u001b[1;32m~\\anaconda\\envs\\MOF\\lib\\site-packages\\joblib\\parallel.py:901\u001b[0m, in \u001b[0;36mParallel.dispatch_one_batch\u001b[1;34m(self, iterator)\u001b[0m\n\u001b[0;32m    899\u001b[0m     \u001b[38;5;28;01mreturn\u001b[39;00m \u001b[38;5;28;01mFalse\u001b[39;00m\n\u001b[0;32m    900\u001b[0m \u001b[38;5;28;01melse\u001b[39;00m:\n\u001b[1;32m--> 901\u001b[0m     \u001b[38;5;28;43mself\u001b[39;49m\u001b[38;5;241;43m.\u001b[39;49m\u001b[43m_dispatch\u001b[49m\u001b[43m(\u001b[49m\u001b[43mtasks\u001b[49m\u001b[43m)\u001b[49m\n\u001b[0;32m    902\u001b[0m     \u001b[38;5;28;01mreturn\u001b[39;00m \u001b[38;5;28;01mTrue\u001b[39;00m\n",
      "File \u001b[1;32m~\\anaconda\\envs\\MOF\\lib\\site-packages\\joblib\\parallel.py:819\u001b[0m, in \u001b[0;36mParallel._dispatch\u001b[1;34m(self, batch)\u001b[0m\n\u001b[0;32m    817\u001b[0m \u001b[38;5;28;01mwith\u001b[39;00m \u001b[38;5;28mself\u001b[39m\u001b[38;5;241m.\u001b[39m_lock:\n\u001b[0;32m    818\u001b[0m     job_idx \u001b[38;5;241m=\u001b[39m \u001b[38;5;28mlen\u001b[39m(\u001b[38;5;28mself\u001b[39m\u001b[38;5;241m.\u001b[39m_jobs)\n\u001b[1;32m--> 819\u001b[0m     job \u001b[38;5;241m=\u001b[39m \u001b[38;5;28;43mself\u001b[39;49m\u001b[38;5;241;43m.\u001b[39;49m\u001b[43m_backend\u001b[49m\u001b[38;5;241;43m.\u001b[39;49m\u001b[43mapply_async\u001b[49m\u001b[43m(\u001b[49m\u001b[43mbatch\u001b[49m\u001b[43m,\u001b[49m\u001b[43m \u001b[49m\u001b[43mcallback\u001b[49m\u001b[38;5;241;43m=\u001b[39;49m\u001b[43mcb\u001b[49m\u001b[43m)\u001b[49m\n\u001b[0;32m    820\u001b[0m     \u001b[38;5;66;03m# A job can complete so quickly than its callback is\u001b[39;00m\n\u001b[0;32m    821\u001b[0m     \u001b[38;5;66;03m# called before we get here, causing self._jobs to\u001b[39;00m\n\u001b[0;32m    822\u001b[0m     \u001b[38;5;66;03m# grow. To ensure correct results ordering, .insert is\u001b[39;00m\n\u001b[0;32m    823\u001b[0m     \u001b[38;5;66;03m# used (rather than .append) in the following line\u001b[39;00m\n\u001b[0;32m    824\u001b[0m     \u001b[38;5;28mself\u001b[39m\u001b[38;5;241m.\u001b[39m_jobs\u001b[38;5;241m.\u001b[39minsert(job_idx, job)\n",
      "File \u001b[1;32m~\\anaconda\\envs\\MOF\\lib\\site-packages\\joblib\\_parallel_backends.py:208\u001b[0m, in \u001b[0;36mSequentialBackend.apply_async\u001b[1;34m(self, func, callback)\u001b[0m\n\u001b[0;32m    206\u001b[0m \u001b[38;5;28;01mdef\u001b[39;00m \u001b[38;5;21mapply_async\u001b[39m(\u001b[38;5;28mself\u001b[39m, func, callback\u001b[38;5;241m=\u001b[39m\u001b[38;5;28;01mNone\u001b[39;00m):\n\u001b[0;32m    207\u001b[0m     \u001b[38;5;124;03m\"\"\"Schedule a func to be run\"\"\"\u001b[39;00m\n\u001b[1;32m--> 208\u001b[0m     result \u001b[38;5;241m=\u001b[39m \u001b[43mImmediateResult\u001b[49m\u001b[43m(\u001b[49m\u001b[43mfunc\u001b[49m\u001b[43m)\u001b[49m\n\u001b[0;32m    209\u001b[0m     \u001b[38;5;28;01mif\u001b[39;00m callback:\n\u001b[0;32m    210\u001b[0m         callback(result)\n",
      "File \u001b[1;32m~\\anaconda\\envs\\MOF\\lib\\site-packages\\joblib\\_parallel_backends.py:597\u001b[0m, in \u001b[0;36mImmediateResult.__init__\u001b[1;34m(self, batch)\u001b[0m\n\u001b[0;32m    594\u001b[0m \u001b[38;5;28;01mdef\u001b[39;00m \u001b[38;5;21m__init__\u001b[39m(\u001b[38;5;28mself\u001b[39m, batch):\n\u001b[0;32m    595\u001b[0m     \u001b[38;5;66;03m# Don't delay the application, to avoid keeping the input\u001b[39;00m\n\u001b[0;32m    596\u001b[0m     \u001b[38;5;66;03m# arguments in memory\u001b[39;00m\n\u001b[1;32m--> 597\u001b[0m     \u001b[38;5;28mself\u001b[39m\u001b[38;5;241m.\u001b[39mresults \u001b[38;5;241m=\u001b[39m \u001b[43mbatch\u001b[49m\u001b[43m(\u001b[49m\u001b[43m)\u001b[49m\n",
      "File \u001b[1;32m~\\anaconda\\envs\\MOF\\lib\\site-packages\\joblib\\parallel.py:288\u001b[0m, in \u001b[0;36mBatchedCalls.__call__\u001b[1;34m(self)\u001b[0m\n\u001b[0;32m    284\u001b[0m \u001b[38;5;28;01mdef\u001b[39;00m \u001b[38;5;21m__call__\u001b[39m(\u001b[38;5;28mself\u001b[39m):\n\u001b[0;32m    285\u001b[0m     \u001b[38;5;66;03m# Set the default nested backend to self._backend but do not set the\u001b[39;00m\n\u001b[0;32m    286\u001b[0m     \u001b[38;5;66;03m# change the default number of processes to -1\u001b[39;00m\n\u001b[0;32m    287\u001b[0m     \u001b[38;5;28;01mwith\u001b[39;00m parallel_backend(\u001b[38;5;28mself\u001b[39m\u001b[38;5;241m.\u001b[39m_backend, n_jobs\u001b[38;5;241m=\u001b[39m\u001b[38;5;28mself\u001b[39m\u001b[38;5;241m.\u001b[39m_n_jobs):\n\u001b[1;32m--> 288\u001b[0m         \u001b[38;5;28;01mreturn\u001b[39;00m [func(\u001b[38;5;241m*\u001b[39margs, \u001b[38;5;241m*\u001b[39m\u001b[38;5;241m*\u001b[39mkwargs)\n\u001b[0;32m    289\u001b[0m                 \u001b[38;5;28;01mfor\u001b[39;00m func, args, kwargs \u001b[38;5;129;01min\u001b[39;00m \u001b[38;5;28mself\u001b[39m\u001b[38;5;241m.\u001b[39mitems]\n",
      "File \u001b[1;32m~\\anaconda\\envs\\MOF\\lib\\site-packages\\joblib\\parallel.py:288\u001b[0m, in \u001b[0;36m<listcomp>\u001b[1;34m(.0)\u001b[0m\n\u001b[0;32m    284\u001b[0m \u001b[38;5;28;01mdef\u001b[39;00m \u001b[38;5;21m__call__\u001b[39m(\u001b[38;5;28mself\u001b[39m):\n\u001b[0;32m    285\u001b[0m     \u001b[38;5;66;03m# Set the default nested backend to self._backend but do not set the\u001b[39;00m\n\u001b[0;32m    286\u001b[0m     \u001b[38;5;66;03m# change the default number of processes to -1\u001b[39;00m\n\u001b[0;32m    287\u001b[0m     \u001b[38;5;28;01mwith\u001b[39;00m parallel_backend(\u001b[38;5;28mself\u001b[39m\u001b[38;5;241m.\u001b[39m_backend, n_jobs\u001b[38;5;241m=\u001b[39m\u001b[38;5;28mself\u001b[39m\u001b[38;5;241m.\u001b[39m_n_jobs):\n\u001b[1;32m--> 288\u001b[0m         \u001b[38;5;28;01mreturn\u001b[39;00m [func(\u001b[38;5;241m*\u001b[39margs, \u001b[38;5;241m*\u001b[39m\u001b[38;5;241m*\u001b[39mkwargs)\n\u001b[0;32m    289\u001b[0m                 \u001b[38;5;28;01mfor\u001b[39;00m func, args, kwargs \u001b[38;5;129;01min\u001b[39;00m \u001b[38;5;28mself\u001b[39m\u001b[38;5;241m.\u001b[39mitems]\n",
      "File \u001b[1;32m~\\anaconda\\envs\\MOF\\lib\\site-packages\\sklearn\\utils\\parallel.py:123\u001b[0m, in \u001b[0;36m_FuncWrapper.__call__\u001b[1;34m(self, *args, **kwargs)\u001b[0m\n\u001b[0;32m    121\u001b[0m     config \u001b[38;5;241m=\u001b[39m {}\n\u001b[0;32m    122\u001b[0m \u001b[38;5;28;01mwith\u001b[39;00m config_context(\u001b[38;5;241m*\u001b[39m\u001b[38;5;241m*\u001b[39mconfig):\n\u001b[1;32m--> 123\u001b[0m     \u001b[38;5;28;01mreturn\u001b[39;00m \u001b[38;5;28mself\u001b[39m\u001b[38;5;241m.\u001b[39mfunction(\u001b[38;5;241m*\u001b[39margs, \u001b[38;5;241m*\u001b[39m\u001b[38;5;241m*\u001b[39mkwargs)\n",
      "File \u001b[1;32m~\\anaconda\\envs\\MOF\\lib\\site-packages\\sklearn\\model_selection\\_validation.py:686\u001b[0m, in \u001b[0;36m_fit_and_score\u001b[1;34m(estimator, X, y, scorer, train, test, verbose, parameters, fit_params, return_train_score, return_parameters, return_n_test_samples, return_times, return_estimator, split_progress, candidate_progress, error_score)\u001b[0m\n\u001b[0;32m    684\u001b[0m         estimator\u001b[38;5;241m.\u001b[39mfit(X_train, \u001b[38;5;241m*\u001b[39m\u001b[38;5;241m*\u001b[39mfit_params)\n\u001b[0;32m    685\u001b[0m     \u001b[38;5;28;01melse\u001b[39;00m:\n\u001b[1;32m--> 686\u001b[0m         estimator\u001b[38;5;241m.\u001b[39mfit(X_train, y_train, \u001b[38;5;241m*\u001b[39m\u001b[38;5;241m*\u001b[39mfit_params)\n\u001b[0;32m    688\u001b[0m \u001b[38;5;28;01mexcept\u001b[39;00m \u001b[38;5;167;01mException\u001b[39;00m:\n\u001b[0;32m    689\u001b[0m     \u001b[38;5;66;03m# Note fit time as time until error\u001b[39;00m\n\u001b[0;32m    690\u001b[0m     fit_time \u001b[38;5;241m=\u001b[39m time\u001b[38;5;241m.\u001b[39mtime() \u001b[38;5;241m-\u001b[39m start_time\n",
      "File \u001b[1;32m~\\anaconda\\envs\\MOF\\lib\\site-packages\\sklearn\\ensemble\\_forest.py:473\u001b[0m, in \u001b[0;36mBaseForest.fit\u001b[1;34m(self, X, y, sample_weight)\u001b[0m\n\u001b[0;32m    462\u001b[0m trees \u001b[38;5;241m=\u001b[39m [\n\u001b[0;32m    463\u001b[0m     \u001b[38;5;28mself\u001b[39m\u001b[38;5;241m.\u001b[39m_make_estimator(append\u001b[38;5;241m=\u001b[39m\u001b[38;5;28;01mFalse\u001b[39;00m, random_state\u001b[38;5;241m=\u001b[39mrandom_state)\n\u001b[0;32m    464\u001b[0m     \u001b[38;5;28;01mfor\u001b[39;00m i \u001b[38;5;129;01min\u001b[39;00m \u001b[38;5;28mrange\u001b[39m(n_more_estimators)\n\u001b[0;32m    465\u001b[0m ]\n\u001b[0;32m    467\u001b[0m \u001b[38;5;66;03m# Parallel loop: we prefer the threading backend as the Cython code\u001b[39;00m\n\u001b[0;32m    468\u001b[0m \u001b[38;5;66;03m# for fitting the trees is internally releasing the Python GIL\u001b[39;00m\n\u001b[0;32m    469\u001b[0m \u001b[38;5;66;03m# making threading more efficient than multiprocessing in\u001b[39;00m\n\u001b[0;32m    470\u001b[0m \u001b[38;5;66;03m# that case. However, for joblib 0.12+ we respect any\u001b[39;00m\n\u001b[0;32m    471\u001b[0m \u001b[38;5;66;03m# parallel_backend contexts set at a higher level,\u001b[39;00m\n\u001b[0;32m    472\u001b[0m \u001b[38;5;66;03m# since correctness does not rely on using threads.\u001b[39;00m\n\u001b[1;32m--> 473\u001b[0m trees \u001b[38;5;241m=\u001b[39m \u001b[43mParallel\u001b[49m\u001b[43m(\u001b[49m\n\u001b[0;32m    474\u001b[0m \u001b[43m    \u001b[49m\u001b[43mn_jobs\u001b[49m\u001b[38;5;241;43m=\u001b[39;49m\u001b[38;5;28;43mself\u001b[39;49m\u001b[38;5;241;43m.\u001b[39;49m\u001b[43mn_jobs\u001b[49m\u001b[43m,\u001b[49m\n\u001b[0;32m    475\u001b[0m \u001b[43m    \u001b[49m\u001b[43mverbose\u001b[49m\u001b[38;5;241;43m=\u001b[39;49m\u001b[38;5;28;43mself\u001b[39;49m\u001b[38;5;241;43m.\u001b[39;49m\u001b[43mverbose\u001b[49m\u001b[43m,\u001b[49m\n\u001b[0;32m    476\u001b[0m \u001b[43m    \u001b[49m\u001b[43mprefer\u001b[49m\u001b[38;5;241;43m=\u001b[39;49m\u001b[38;5;124;43m\"\u001b[39;49m\u001b[38;5;124;43mthreads\u001b[39;49m\u001b[38;5;124;43m\"\u001b[39;49m\u001b[43m,\u001b[49m\n\u001b[0;32m    477\u001b[0m \u001b[43m\u001b[49m\u001b[43m)\u001b[49m\u001b[43m(\u001b[49m\n\u001b[0;32m    478\u001b[0m \u001b[43m    \u001b[49m\u001b[43mdelayed\u001b[49m\u001b[43m(\u001b[49m\u001b[43m_parallel_build_trees\u001b[49m\u001b[43m)\u001b[49m\u001b[43m(\u001b[49m\n\u001b[0;32m    479\u001b[0m \u001b[43m        \u001b[49m\u001b[43mt\u001b[49m\u001b[43m,\u001b[49m\n\u001b[0;32m    480\u001b[0m \u001b[43m        \u001b[49m\u001b[38;5;28;43mself\u001b[39;49m\u001b[38;5;241;43m.\u001b[39;49m\u001b[43mbootstrap\u001b[49m\u001b[43m,\u001b[49m\n\u001b[0;32m    481\u001b[0m \u001b[43m        \u001b[49m\u001b[43mX\u001b[49m\u001b[43m,\u001b[49m\n\u001b[0;32m    482\u001b[0m \u001b[43m        \u001b[49m\u001b[43my\u001b[49m\u001b[43m,\u001b[49m\n\u001b[0;32m    483\u001b[0m \u001b[43m        \u001b[49m\u001b[43msample_weight\u001b[49m\u001b[43m,\u001b[49m\n\u001b[0;32m    484\u001b[0m \u001b[43m        \u001b[49m\u001b[43mi\u001b[49m\u001b[43m,\u001b[49m\n\u001b[0;32m    485\u001b[0m \u001b[43m        \u001b[49m\u001b[38;5;28;43mlen\u001b[39;49m\u001b[43m(\u001b[49m\u001b[43mtrees\u001b[49m\u001b[43m)\u001b[49m\u001b[43m,\u001b[49m\n\u001b[0;32m    486\u001b[0m \u001b[43m        \u001b[49m\u001b[43mverbose\u001b[49m\u001b[38;5;241;43m=\u001b[39;49m\u001b[38;5;28;43mself\u001b[39;49m\u001b[38;5;241;43m.\u001b[39;49m\u001b[43mverbose\u001b[49m\u001b[43m,\u001b[49m\n\u001b[0;32m    487\u001b[0m \u001b[43m        \u001b[49m\u001b[43mclass_weight\u001b[49m\u001b[38;5;241;43m=\u001b[39;49m\u001b[38;5;28;43mself\u001b[39;49m\u001b[38;5;241;43m.\u001b[39;49m\u001b[43mclass_weight\u001b[49m\u001b[43m,\u001b[49m\n\u001b[0;32m    488\u001b[0m \u001b[43m        \u001b[49m\u001b[43mn_samples_bootstrap\u001b[49m\u001b[38;5;241;43m=\u001b[39;49m\u001b[43mn_samples_bootstrap\u001b[49m\u001b[43m,\u001b[49m\n\u001b[0;32m    489\u001b[0m \u001b[43m    \u001b[49m\u001b[43m)\u001b[49m\n\u001b[0;32m    490\u001b[0m \u001b[43m    \u001b[49m\u001b[38;5;28;43;01mfor\u001b[39;49;00m\u001b[43m \u001b[49m\u001b[43mi\u001b[49m\u001b[43m,\u001b[49m\u001b[43m \u001b[49m\u001b[43mt\u001b[49m\u001b[43m \u001b[49m\u001b[38;5;129;43;01min\u001b[39;49;00m\u001b[43m \u001b[49m\u001b[38;5;28;43menumerate\u001b[39;49m\u001b[43m(\u001b[49m\u001b[43mtrees\u001b[49m\u001b[43m)\u001b[49m\n\u001b[0;32m    491\u001b[0m \u001b[43m\u001b[49m\u001b[43m)\u001b[49m\n\u001b[0;32m    493\u001b[0m \u001b[38;5;66;03m# Collect newly grown trees\u001b[39;00m\n\u001b[0;32m    494\u001b[0m \u001b[38;5;28mself\u001b[39m\u001b[38;5;241m.\u001b[39mestimators_\u001b[38;5;241m.\u001b[39mextend(trees)\n",
      "File \u001b[1;32m~\\anaconda\\envs\\MOF\\lib\\site-packages\\sklearn\\utils\\parallel.py:63\u001b[0m, in \u001b[0;36mParallel.__call__\u001b[1;34m(self, iterable)\u001b[0m\n\u001b[0;32m     58\u001b[0m config \u001b[38;5;241m=\u001b[39m get_config()\n\u001b[0;32m     59\u001b[0m iterable_with_config \u001b[38;5;241m=\u001b[39m (\n\u001b[0;32m     60\u001b[0m     (_with_config(delayed_func, config), args, kwargs)\n\u001b[0;32m     61\u001b[0m     \u001b[38;5;28;01mfor\u001b[39;00m delayed_func, args, kwargs \u001b[38;5;129;01min\u001b[39;00m iterable\n\u001b[0;32m     62\u001b[0m )\n\u001b[1;32m---> 63\u001b[0m \u001b[38;5;28;01mreturn\u001b[39;00m \u001b[38;5;28;43msuper\u001b[39;49m\u001b[43m(\u001b[49m\u001b[43m)\u001b[49m\u001b[38;5;241;43m.\u001b[39;49m\u001b[38;5;21;43m__call__\u001b[39;49m\u001b[43m(\u001b[49m\u001b[43miterable_with_config\u001b[49m\u001b[43m)\u001b[49m\n",
      "File \u001b[1;32m~\\anaconda\\envs\\MOF\\lib\\site-packages\\joblib\\parallel.py:1098\u001b[0m, in \u001b[0;36mParallel.__call__\u001b[1;34m(self, iterable)\u001b[0m\n\u001b[0;32m   1095\u001b[0m     \u001b[38;5;28mself\u001b[39m\u001b[38;5;241m.\u001b[39m_iterating \u001b[38;5;241m=\u001b[39m \u001b[38;5;28;01mFalse\u001b[39;00m\n\u001b[0;32m   1097\u001b[0m \u001b[38;5;28;01mwith\u001b[39;00m \u001b[38;5;28mself\u001b[39m\u001b[38;5;241m.\u001b[39m_backend\u001b[38;5;241m.\u001b[39mretrieval_context():\n\u001b[1;32m-> 1098\u001b[0m     \u001b[38;5;28;43mself\u001b[39;49m\u001b[38;5;241;43m.\u001b[39;49m\u001b[43mretrieve\u001b[49m\u001b[43m(\u001b[49m\u001b[43m)\u001b[49m\n\u001b[0;32m   1099\u001b[0m \u001b[38;5;66;03m# Make sure that we get a last message telling us we are done\u001b[39;00m\n\u001b[0;32m   1100\u001b[0m elapsed_time \u001b[38;5;241m=\u001b[39m time\u001b[38;5;241m.\u001b[39mtime() \u001b[38;5;241m-\u001b[39m \u001b[38;5;28mself\u001b[39m\u001b[38;5;241m.\u001b[39m_start_time\n",
      "File \u001b[1;32m~\\anaconda\\envs\\MOF\\lib\\site-packages\\joblib\\parallel.py:975\u001b[0m, in \u001b[0;36mParallel.retrieve\u001b[1;34m(self)\u001b[0m\n\u001b[0;32m    973\u001b[0m \u001b[38;5;28;01mtry\u001b[39;00m:\n\u001b[0;32m    974\u001b[0m     \u001b[38;5;28;01mif\u001b[39;00m \u001b[38;5;28mgetattr\u001b[39m(\u001b[38;5;28mself\u001b[39m\u001b[38;5;241m.\u001b[39m_backend, \u001b[38;5;124m'\u001b[39m\u001b[38;5;124msupports_timeout\u001b[39m\u001b[38;5;124m'\u001b[39m, \u001b[38;5;28;01mFalse\u001b[39;00m):\n\u001b[1;32m--> 975\u001b[0m         \u001b[38;5;28mself\u001b[39m\u001b[38;5;241m.\u001b[39m_output\u001b[38;5;241m.\u001b[39mextend(\u001b[43mjob\u001b[49m\u001b[38;5;241;43m.\u001b[39;49m\u001b[43mget\u001b[49m\u001b[43m(\u001b[49m\u001b[43mtimeout\u001b[49m\u001b[38;5;241;43m=\u001b[39;49m\u001b[38;5;28;43mself\u001b[39;49m\u001b[38;5;241;43m.\u001b[39;49m\u001b[43mtimeout\u001b[49m\u001b[43m)\u001b[49m)\n\u001b[0;32m    976\u001b[0m     \u001b[38;5;28;01melse\u001b[39;00m:\n\u001b[0;32m    977\u001b[0m         \u001b[38;5;28mself\u001b[39m\u001b[38;5;241m.\u001b[39m_output\u001b[38;5;241m.\u001b[39mextend(job\u001b[38;5;241m.\u001b[39mget())\n",
      "File \u001b[1;32m~\\anaconda\\envs\\MOF\\lib\\site-packages\\joblib\\_parallel_backends.py:567\u001b[0m, in \u001b[0;36mLokyBackend.wrap_future_result\u001b[1;34m(future, timeout)\u001b[0m\n\u001b[0;32m    564\u001b[0m \u001b[38;5;124;03m\"\"\"Wrapper for Future.result to implement the same behaviour as\u001b[39;00m\n\u001b[0;32m    565\u001b[0m \u001b[38;5;124;03mAsyncResults.get from multiprocessing.\"\"\"\u001b[39;00m\n\u001b[0;32m    566\u001b[0m \u001b[38;5;28;01mtry\u001b[39;00m:\n\u001b[1;32m--> 567\u001b[0m     \u001b[38;5;28;01mreturn\u001b[39;00m \u001b[43mfuture\u001b[49m\u001b[38;5;241;43m.\u001b[39;49m\u001b[43mresult\u001b[49m\u001b[43m(\u001b[49m\u001b[43mtimeout\u001b[49m\u001b[38;5;241;43m=\u001b[39;49m\u001b[43mtimeout\u001b[49m\u001b[43m)\u001b[49m\n\u001b[0;32m    568\u001b[0m \u001b[38;5;28;01mexcept\u001b[39;00m CfTimeoutError \u001b[38;5;28;01mas\u001b[39;00m e:\n\u001b[0;32m    569\u001b[0m     \u001b[38;5;28;01mraise\u001b[39;00m \u001b[38;5;167;01mTimeoutError\u001b[39;00m \u001b[38;5;28;01mfrom\u001b[39;00m \u001b[38;5;21;01me\u001b[39;00m\n",
      "File \u001b[1;32m~\\anaconda\\envs\\MOF\\lib\\concurrent\\futures\\_base.py:453\u001b[0m, in \u001b[0;36mFuture.result\u001b[1;34m(self, timeout)\u001b[0m\n\u001b[0;32m    450\u001b[0m \u001b[38;5;28;01melif\u001b[39;00m \u001b[38;5;28mself\u001b[39m\u001b[38;5;241m.\u001b[39m_state \u001b[38;5;241m==\u001b[39m FINISHED:\n\u001b[0;32m    451\u001b[0m     \u001b[38;5;28;01mreturn\u001b[39;00m \u001b[38;5;28mself\u001b[39m\u001b[38;5;241m.\u001b[39m__get_result()\n\u001b[1;32m--> 453\u001b[0m \u001b[38;5;28;43mself\u001b[39;49m\u001b[38;5;241;43m.\u001b[39;49m\u001b[43m_condition\u001b[49m\u001b[38;5;241;43m.\u001b[39;49m\u001b[43mwait\u001b[49m\u001b[43m(\u001b[49m\u001b[43mtimeout\u001b[49m\u001b[43m)\u001b[49m\n\u001b[0;32m    455\u001b[0m \u001b[38;5;28;01mif\u001b[39;00m \u001b[38;5;28mself\u001b[39m\u001b[38;5;241m.\u001b[39m_state \u001b[38;5;129;01min\u001b[39;00m [CANCELLED, CANCELLED_AND_NOTIFIED]:\n\u001b[0;32m    456\u001b[0m     \u001b[38;5;28;01mraise\u001b[39;00m CancelledError()\n",
      "File \u001b[1;32m~\\anaconda\\envs\\MOF\\lib\\threading.py:320\u001b[0m, in \u001b[0;36mCondition.wait\u001b[1;34m(self, timeout)\u001b[0m\n\u001b[0;32m    318\u001b[0m \u001b[38;5;28;01mtry\u001b[39;00m:    \u001b[38;5;66;03m# restore state no matter what (e.g., KeyboardInterrupt)\u001b[39;00m\n\u001b[0;32m    319\u001b[0m     \u001b[38;5;28;01mif\u001b[39;00m timeout \u001b[38;5;129;01mis\u001b[39;00m \u001b[38;5;28;01mNone\u001b[39;00m:\n\u001b[1;32m--> 320\u001b[0m         \u001b[43mwaiter\u001b[49m\u001b[38;5;241;43m.\u001b[39;49m\u001b[43macquire\u001b[49m\u001b[43m(\u001b[49m\u001b[43m)\u001b[49m\n\u001b[0;32m    321\u001b[0m         gotit \u001b[38;5;241m=\u001b[39m \u001b[38;5;28;01mTrue\u001b[39;00m\n\u001b[0;32m    322\u001b[0m     \u001b[38;5;28;01melse\u001b[39;00m:\n",
      "\u001b[1;31mKeyboardInterrupt\u001b[0m: "
     ]
    }
   ],
   "source": [
    "parameters = {'max_features': sp_randFloat(0.1, 0.9),\n",
    "             'max_depth': sp_randInt(6,12),\n",
    "             'min_samples_leaf': sp_randInt(200,800),\n",
    "             'n_estimators': sp_randInt(500,1500)\n",
    "             }\n",
    "forest = RandomForestRegressor(n_jobs=-1, random_state=15)\n",
    "forest_reg = RandomizedSearchCV(forest, parameters, scoring='neg_root_mean_squared_error',\\\n",
    "                                refit='neg_root_mean_squared_error', n_iter=60, cv=5, random_state=15)\n",
    "rand_forest = forest_reg.fit(X_tr, y_tr)\n",
    "rand_forest.best_params_"
   ]
  },
  {
   "cell_type": "code",
   "execution_count": null,
   "id": "bfd53d09",
   "metadata": {},
   "outputs": [],
   "source": [
    "opt_forest = RandomForestRegressor(n_estimators=rand_forest.best_params_['n_estimators'],\\\n",
    "                                   max_features=rand_forest.best_params_['max_features'],\\\n",
    "                                   min_samples_leaf=rand_forest.best_params_['min_samples_leaf'],\\\n",
    "                                   max_depth=rand_forest.best_params_['max_depth'], n_jobs = -1, random_state=15)\n",
    "opt_forest.fit(X_tr, y_tr)\n",
    "y_pred = opt_forest.predict(X_te)\n",
    "new_row = pd.DataFrame([{'Model' : 'Random Forest', '% Train Data' : 10, 'MSE' : mean_squared_error(y_te, y_pred)}])\n",
    "train_scores = pd.concat([train_scores, new_row])\n",
    "mean_squared_error(y_te, y_pred)"
   ]
  },
  {
   "cell_type": "code",
   "execution_count": null,
   "id": "2738d7fc",
   "metadata": {},
   "outputs": [],
   "source": [
    "X_tr.columns = X_tr.columns.str.replace('[', '_')\n",
    "X_tr.columns = X_tr.columns.str.replace(']', '_')\n",
    "X_tr.columns = X_tr.columns.str.replace(' ', '_')\n",
    "X_tr.columns = X_tr.columns.str.replace(',', '_')\n",
    "X_te.columns = X_te.columns.str.replace('[', '_')\n",
    "X_te.columns = X_te.columns.str.replace(']', '_')\n",
    "X_te.columns = X_te.columns.str.replace(' ', '_')\n",
    "X_te.columns = X_te.columns.str.replace(',', '_')"
   ]
  },
  {
   "cell_type": "code",
   "execution_count": null,
   "id": "ba6ddf62",
   "metadata": {},
   "outputs": [],
   "source": [
    "xgb = XGBRegressor()\n",
    "parameters = {'n_estimators': sp_randInt(500,1000),\n",
    "             'max_depth': sp_randInt(2,12),\n",
    "             'eta': sp_randFloat(0.0001,0.99),\n",
    "             'colsample_bytree': sp_randFloat(0.01,0.99)} \n",
    "rand_xgb = RandomizedSearchCV(xgb, parameters, scoring='neg_root_mean_squared_error',\\\n",
    "                                refit='neg_root_mean_squared_error', n_iter=60, cv=5, random_state=15)\n",
    "xgbooster = rand_xgb.fit(X_tr, y_tr)\n",
    "xgbooster.best_params_"
   ]
  },
  {
   "cell_type": "code",
   "execution_count": null,
   "id": "183084a7",
   "metadata": {},
   "outputs": [],
   "source": [
    "xgb_model = XGBRegressor(n_estimators=xgbooster.best_params_['n_estimators'],\\\n",
    "                                   eta=xgbooster.best_params_['eta'],\\\n",
    "                                   colsample_bytree=xgbooster.best_params_['colsample_bytree'],\\\n",
    "                                   max_depth=xgbooster.best_params_['max_depth'])\n",
    "xgb_model.fit(X_tr, y_tr)\n",
    "y_pred = xgb_model.predict(X_te)\n",
    "new_row = pd.DataFrame([{'Model' : 'XGBoost', '% Train Data' : 10, 'MSE' : mean_squared_error(y_te, y_pred)}])\n",
    "train_scores = pd.concat([train_scores, new_row])\n",
    "mean_squared_error(y_te, y_pred)"
   ]
  },
  {
   "cell_type": "code",
   "execution_count": null,
   "id": "6e883638",
   "metadata": {},
   "outputs": [],
   "source": [
    "xgb_linear = XGBRegressor(booster = 'gblinear', verbosity = 0)\n",
    "parameters = {'reg_lambda': sp_randFloat(0,1),\n",
    "             'reg_alpha': sp_randFloat(0, 1),\n",
    "             'feature_selector': ['cyclic', 'shuffle']}\n",
    "rand_xgb_linear = RandomizedSearchCV(xgb_linear, parameters, scoring='neg_root_mean_squared_error',\\\n",
    "                                refit='neg_root_mean_squared_error', n_iter=60, cv=5, random_state=15)\n",
    "xgbooster_linear = rand_xgb_linear.fit(X_tr, y_tr)\n",
    "xgbooster_linear.best_params_"
   ]
  },
  {
   "cell_type": "code",
   "execution_count": null,
   "id": "cdc29905",
   "metadata": {},
   "outputs": [],
   "source": [
    "xgb_model_linear = XGBRegressor(booster = 'gblinear', reg_lambda = xgbooster_linear.best_params_['reg_lambda'],\\\n",
    "                                   reg_alpha=xgbooster_linear.best_params_['reg_alpha'],\\\n",
    "                                   feature_selector=xgbooster_linear.best_params_['feature_selector'])\n",
    "xgb_model_linear.fit(X_tr, y_tr)\n",
    "y_pred = xgb_model_linear.predict(X_te)\n",
    "new_row = pd.DataFrame([{'Model' : 'XGBoost Linear', '% Train Data' : 10, 'MSE' : mean_squared_error(y_te, y_pred)}])\n",
    "train_scores = pd.concat([train_scores, new_row])\n",
    "mean_squared_error(y_te, y_pred)"
   ]
  },
  {
   "cell_type": "code",
   "execution_count": null,
   "id": "a3df7dfe",
   "metadata": {},
   "outputs": [],
   "source": [
    "xgb_coord_desc = XGBRegressor(booster = 'gblinear', updater = 'coord_descent', verbosity = 0)\n",
    "parameters = {'reg_lambda': sp_randFloat(0,1),\n",
    "             'reg_alpha': sp_randFloat(0, 1),\n",
    "             'feature_selector': ['random', 'greedy', 'thrifty']}\n",
    "rand_xgb_cd = RandomizedSearchCV(xgb_coord_desc, parameters, scoring='neg_root_mean_squared_error',\\\n",
    "                                refit='neg_root_mean_squared_error', n_iter=60, cv=5, random_state=15)\n",
    "xgbooster_linear_cd = rand_xgb_cd.fit(X_tr, y_tr)\n",
    "xgbooster_linear_cd.best_params_"
   ]
  },
  {
   "cell_type": "code",
   "execution_count": null,
   "id": "18c95e30",
   "metadata": {},
   "outputs": [],
   "source": [
    "xgb_model_lcd = XGBRegressor(booster = 'gblinear', updater = 'coord_descent',\\\n",
    "                                reg_lambda = xgbooster_linear.best_params_['reg_lambda'],\\\n",
    "                                   reg_alpha=xgbooster_linear.best_params_['reg_alpha'],\\\n",
    "                                   feature_selector=xgbooster_linear.best_params_['feature_selector'])\n",
    "xgb_model_lcd.fit(X_tr, y_tr)\n",
    "y_pred = xgb_model_lcd.predict(X_te)\n",
    "new_row = pd.DataFrame([{'Model' : 'XGBoost Linear Coord Desc', '% Train Data' : 10, 'MSE' : mean_squared_error(y_te, y_pred)}])\n",
    "train_scores = pd.concat([train_scores, new_row])\n",
    "mean_squared_error(y_te, y_pred)"
   ]
  },
  {
   "cell_type": "code",
   "execution_count": null,
   "id": "3ac16e4c",
   "metadata": {},
   "outputs": [],
   "source": [
    "d_tree = tree.DecisionTreeRegressor(random_state = 12)\n",
    "parameters = {'max_depth': sp_randInt(2,10),\n",
    "             'min_samples_leaf': sp_randInt(100,5000)}\n",
    "rand_tree = RandomizedSearchCV(d_tree, parameters, scoring='neg_root_mean_squared_error',\\\n",
    "                                refit='neg_root_mean_squared_error', n_iter=60, cv=5, random_state=15)\n",
    "decision_tree = rand_tree.fit(X_tr, y_tr)\n",
    "decision_tree.best_params_"
   ]
  },
  {
   "cell_type": "code",
   "execution_count": null,
   "id": "e568ddd8",
   "metadata": {},
   "outputs": [],
   "source": [
    "decision_tree_model = tree.DecisionTreeRegressor(max_depth = decision_tree.best_params_['max_depth'],\\\n",
    "                                            min_samples_leaf = decision_tree.best_params_['min_samples_leaf'],\\\n",
    "                                            random_state = 15)\n",
    "decision_tree_model.fit(X_tr, y_tr)\n",
    "y_pred = decision_tree_model.predict(X_te)\n",
    "new_row = pd.DataFrame([{'Model' : 'Decision Tree', '% Train Data' : 10, 'MSE' : mean_squared_error(y_te, y_pred)}])\n",
    "train_scores = pd.concat([train_scores, new_row])\n",
    "mean_squared_error(y_te, y_pred)"
   ]
  },
  {
   "cell_type": "code",
   "execution_count": null,
   "id": "f03dd24b",
   "metadata": {},
   "outputs": [],
   "source": [
    "neighbors = KNeighborsRegressor()\n",
    "parameters = {'n_neighbors': sp_randInt(2,50)}\n",
    "rand_knn = RandomizedSearchCV(neighbors, parameters, scoring=['neg_root_mean_squared_error', 'neg_mean_absolute_error'],\\\n",
    "                                refit='neg_root_mean_squared_error', n_iter=15, cv=5, random_state=15)\n",
    "opt_nn = rand_knn.fit(X_tr, y_tr)\n",
    "opt_nn.best_params_"
   ]
  },
  {
   "cell_type": "code",
   "execution_count": null,
   "id": "6f8635f1",
   "metadata": {},
   "outputs": [],
   "source": [
    "knn_opt = KNeighborsRegressor(n_neighbors = opt_nn.best_params_['n_neighbors'])\n",
    "knn_opt.fit(X_tr, y_tr)\n",
    "y_pred = knn_opt.predict(X_te)\n",
    "new_row = pd.DataFrame([{'Model' : 'KNN', '% Train Data' : 10, 'MSE' : mean_squared_error(y_te, y_pred)}])\n",
    "train_scores = pd.concat([train_scores, new_row])\n",
    "mean_squared_error(y_te, y_pred)"
   ]
  },
  {
   "cell_type": "code",
   "execution_count": null,
   "id": "e280b3bf",
   "metadata": {},
   "outputs": [],
   "source": [
    "lgbm = lgb.LGBMRegressor(objective = 'regression', metric = 'mae')\n",
    "parameters = {'num_leaves': sp_randInt(10,1000),\n",
    "              'n_estimators': sp_randInt(10,1000),\n",
    "              'max_depth': sp_randInt(2,10),\n",
    "              'learning_rate': sp_randFloat(0.001,1)}\n",
    "rand_lgbm = RandomizedSearchCV(lgbm, parameters, scoring='neg_root_mean_squared_error',\\\n",
    "                                refit='neg_root_mean_squared_error', n_iter=60, cv=5, random_state=15)\n",
    "opt_lgbm = rand_lgbm.fit(X_tr, y_tr)\n",
    "opt_lgbm.best_params_"
   ]
  },
  {
   "cell_type": "code",
   "execution_count": null,
   "id": "dd2e839c",
   "metadata": {},
   "outputs": [],
   "source": [
    "lgbm_opt = lgb.LGBMRegressor(objective = 'regression', metric = 'mae', num_leaves = opt_lgbm.best_params_['num_leaves'],\\\n",
    "                             n_estimators = opt_lgbm.best_params_['n_estimators'],\\\n",
    "                             max_depth = opt_lgbm.best_params_['max_depth'],\\\n",
    "                             learning_rate = opt_lgbm.best_params_['learning_rate'])\n",
    "lgbm_opt.fit(X_tr, y_tr)\n",
    "y_pred = lgbm_opt.predict(X_te)\n",
    "new_row = pd.DataFrame([{'Model' : 'Light GBM', '% Train Data' : 10, 'MSE' : mean_squared_error(y_te, y_pred)}])\n",
    "train_scores = pd.concat([train_scores, new_row])\n",
    "mean_squared_error(y_te, y_pred)"
   ]
  },
  {
   "cell_type": "code",
   "execution_count": null,
   "id": "1bb96b28",
   "metadata": {},
   "outputs": [],
   "source": []
  }
 ],
 "metadata": {
  "kernelspec": {
   "display_name": "Python 3 (ipykernel)",
   "language": "python",
   "name": "python3"
  },
  "language_info": {
   "codemirror_mode": {
    "name": "ipython",
    "version": 3
   },
   "file_extension": ".py",
   "mimetype": "text/x-python",
   "name": "python",
   "nbconvert_exporter": "python",
   "pygments_lexer": "ipython3",
   "version": "3.10.9"
  }
 },
 "nbformat": 4,
 "nbformat_minor": 5
}
