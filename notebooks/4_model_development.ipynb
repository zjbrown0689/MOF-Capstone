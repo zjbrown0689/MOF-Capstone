{
 "cells": [
  {
   "cell_type": "markdown",
   "id": "e7e4ef2f",
   "metadata": {},
   "source": [
    "# Capturing greenhouse gases with data\n",
    "\n",
    "## Model Development\n",
    "\n",
    "### by Zachary Brown"
   ]
  },
  {
   "cell_type": "markdown",
   "id": "d4a9982b",
   "metadata": {},
   "source": [
    "Now that my dataset has been cleaned, explored, and preprocessed, it's time to begin testing a range of models to determine which can best predict the volumetric CO2 working capacity and then explore which features boost that capacity the most.\n",
    "\n",
    "I'll start by installing the necessary libraries and then importing everything we'll need."
   ]
  },
  {
   "cell_type": "code",
   "execution_count": 1,
   "id": "b59311d4",
   "metadata": {},
   "outputs": [
    {
     "name": "stdout",
     "output_type": "stream",
     "text": [
      "Requirement already satisfied: xgboost==1.7.4 in c:\\users\\zbro1\\anaconda\\envs\\mof\\lib\\site-packages (1.7.4)\n",
      "Requirement already satisfied: numpy in c:\\users\\zbro1\\anaconda\\envs\\mof\\lib\\site-packages (from xgboost==1.7.4) (1.24.2)\n",
      "Requirement already satisfied: scipy in c:\\users\\zbro1\\anaconda\\envs\\mof\\lib\\site-packages (from xgboost==1.7.4) (1.10.1)\n",
      "Requirement already satisfied: lightgbm==3.3.5 in c:\\users\\zbro1\\anaconda\\envs\\mof\\lib\\site-packages (3.3.5)\n",
      "Requirement already satisfied: scipy in c:\\users\\zbro1\\anaconda\\envs\\mof\\lib\\site-packages (from lightgbm==3.3.5) (1.10.1)\n",
      "Requirement already satisfied: numpy in c:\\users\\zbro1\\anaconda\\envs\\mof\\lib\\site-packages (from lightgbm==3.3.5) (1.24.2)\n",
      "Requirement already satisfied: scikit-learn!=0.22.0 in c:\\users\\zbro1\\anaconda\\envs\\mof\\lib\\site-packages (from lightgbm==3.3.5) (1.2.1)\n",
      "Requirement already satisfied: wheel in c:\\users\\zbro1\\anaconda\\envs\\mof\\lib\\site-packages (from lightgbm==3.3.5) (0.38.4)\n",
      "Requirement already satisfied: threadpoolctl>=2.0.0 in c:\\users\\zbro1\\anaconda\\envs\\mof\\lib\\site-packages (from scikit-learn!=0.22.0->lightgbm==3.3.5) (3.1.0)\n",
      "Requirement already satisfied: joblib>=1.1.1 in c:\\users\\zbro1\\anaconda\\envs\\mof\\lib\\site-packages (from scikit-learn!=0.22.0->lightgbm==3.3.5) (1.2.0)\n"
     ]
    }
   ],
   "source": [
    "!pip install xgboost==1.7.4\n",
    "!pip install lightgbm==3.3.5"
   ]
  },
  {
   "cell_type": "code",
   "execution_count": 2,
   "id": "7a6270f9",
   "metadata": {},
   "outputs": [],
   "source": [
    "import numpy as np\n",
    "import pandas as pd\n",
    "import matplotlib.pyplot as plt\n",
    "import seaborn as sns\n",
    "from sklearn.model_selection import train_test_split\n",
    "from sklearn.preprocessing import StandardScaler\n",
    "from sklearn.linear_model import LinearRegression\n",
    "from sklearn.dummy import DummyRegressor\n",
    "from sklearn.metrics import mean_squared_error\n",
    "from sklearn.linear_model import Ridge\n",
    "from sklearn.model_selection import RandomizedSearchCV\n",
    "from sklearn import linear_model\n",
    "from scipy.stats import uniform as sp_randFloat\n",
    "from scipy.stats import randint as sp_randInt\n",
    "from sklearn.ensemble import RandomForestRegressor\n",
    "from xgboost import XGBRegressor\n",
    "import xgboost\n",
    "from sklearn import tree\n",
    "from sklearn.neural_network import MLPRegressor\n",
    "from sklearn.neighbors import KNeighborsRegressor\n",
    "import lightgbm as lgb\n",
    "from matplotlib import rcParams"
   ]
  },
  {
   "cell_type": "code",
   "execution_count": 3,
   "id": "788daf3c",
   "metadata": {},
   "outputs": [],
   "source": [
    "sns.set_theme('notebook')\n",
    "rcParams['mathtext.default'] = 'regular'"
   ]
  },
  {
   "cell_type": "markdown",
   "id": "3d18cfe7",
   "metadata": {},
   "source": [
    "Let's start by importing the training data."
   ]
  },
  {
   "cell_type": "code",
   "execution_count": 4,
   "id": "9d4b28dc",
   "metadata": {},
   "outputs": [],
   "source": [
    "X_train = pd.read_csv('../data/processed/X_train.csv', index_col = 'filename')\n",
    "y_train = pd.read_csv('../data/processed/y_train.csv', index_col = 0)"
   ]
  },
  {
   "cell_type": "code",
   "execution_count": 5,
   "id": "33156ba5",
   "metadata": {},
   "outputs": [
    {
     "data": {
      "text/html": [
       "<div>\n",
       "<style scoped>\n",
       "    .dataframe tbody tr th:only-of-type {\n",
       "        vertical-align: middle;\n",
       "    }\n",
       "\n",
       "    .dataframe tbody tr th {\n",
       "        vertical-align: top;\n",
       "    }\n",
       "\n",
       "    .dataframe thead th {\n",
       "        text-align: right;\n",
       "    }\n",
       "</style>\n",
       "<table border=\"1\" class=\"dataframe\">\n",
       "  <thead>\n",
       "    <tr style=\"text-align: right;\">\n",
       "      <th></th>\n",
       "      <th>unit_cell_volume</th>\n",
       "      <th>Density</th>\n",
       "      <th>accessible_surface_area</th>\n",
       "      <th>volumetric_surface_area</th>\n",
       "      <th>gravimetric_surface_area</th>\n",
       "      <th>accessible_volume_per_uc</th>\n",
       "      <th>volume_fraction</th>\n",
       "      <th>grav_volume</th>\n",
       "      <th>probe_occupiable_vol</th>\n",
       "      <th>probe_occ_vol_frac</th>\n",
       "      <th>...</th>\n",
       "      <th>lc-S-0-all</th>\n",
       "      <th>lc-S-1-all</th>\n",
       "      <th>lc-S-2-all</th>\n",
       "      <th>lc-S-3-all</th>\n",
       "      <th>lc-alpha-0-all</th>\n",
       "      <th>lc-alpha-1-all</th>\n",
       "      <th>lc-alpha-2-all</th>\n",
       "      <th>lc-alpha-3-all</th>\n",
       "      <th>D_lc-chi-2-all</th>\n",
       "      <th>D_lc-S-2-all</th>\n",
       "    </tr>\n",
       "    <tr>\n",
       "      <th>filename</th>\n",
       "      <th></th>\n",
       "      <th></th>\n",
       "      <th></th>\n",
       "      <th></th>\n",
       "      <th></th>\n",
       "      <th></th>\n",
       "      <th></th>\n",
       "      <th></th>\n",
       "      <th></th>\n",
       "      <th></th>\n",
       "      <th></th>\n",
       "      <th></th>\n",
       "      <th></th>\n",
       "      <th></th>\n",
       "      <th></th>\n",
       "      <th></th>\n",
       "      <th></th>\n",
       "      <th></th>\n",
       "      <th></th>\n",
       "      <th></th>\n",
       "      <th></th>\n",
       "    </tr>\n",
       "  </thead>\n",
       "  <tbody>\n",
       "    <tr>\n",
       "      <th>DB0-m3_o25_o84_f0_fsc.sym.10.cif</th>\n",
       "      <td>1143.94</td>\n",
       "      <td>1.003360</td>\n",
       "      <td>207.585</td>\n",
       "      <td>1814.65</td>\n",
       "      <td>1808.58</td>\n",
       "      <td>137.9590</td>\n",
       "      <td>0.12060</td>\n",
       "      <td>0.120196</td>\n",
       "      <td>520.493</td>\n",
       "      <td>0.4550</td>\n",
       "      <td>...</td>\n",
       "      <td>0.547700</td>\n",
       "      <td>0.569800</td>\n",
       "      <td>0.83625</td>\n",
       "      <td>1.428350</td>\n",
       "      <td>41.425</td>\n",
       "      <td>71.755000</td>\n",
       "      <td>85.800000</td>\n",
       "      <td>185.320000</td>\n",
       "      <td>0.690</td>\n",
       "      <td>-0.030000</td>\n",
       "    </tr>\n",
       "    <tr>\n",
       "      <th>DB0-m2_o26_o27_f0_pcu.sym.20.cif</th>\n",
       "      <td>5289.09</td>\n",
       "      <td>0.330792</td>\n",
       "      <td>845.532</td>\n",
       "      <td>1598.63</td>\n",
       "      <td>4832.75</td>\n",
       "      <td>3122.8900</td>\n",
       "      <td>0.59044</td>\n",
       "      <td>1.784930</td>\n",
       "      <td>4432.260</td>\n",
       "      <td>0.8380</td>\n",
       "      <td>...</td>\n",
       "      <td>0.542767</td>\n",
       "      <td>0.759733</td>\n",
       "      <td>1.30000</td>\n",
       "      <td>1.126967</td>\n",
       "      <td>36.980</td>\n",
       "      <td>95.673333</td>\n",
       "      <td>136.635076</td>\n",
       "      <td>129.961743</td>\n",
       "      <td>1.480</td>\n",
       "      <td>0.213333</td>\n",
       "    </tr>\n",
       "    <tr>\n",
       "      <th>DB0-m3_o23_o23_f0_nbo.sym.54.cif</th>\n",
       "      <td>16203.70</td>\n",
       "      <td>0.208859</td>\n",
       "      <td>2160.230</td>\n",
       "      <td>1333.17</td>\n",
       "      <td>6383.11</td>\n",
       "      <td>11222.0000</td>\n",
       "      <td>0.69256</td>\n",
       "      <td>3.315920</td>\n",
       "      <td>13627.300</td>\n",
       "      <td>0.8410</td>\n",
       "      <td>...</td>\n",
       "      <td>0.532900</td>\n",
       "      <td>0.562100</td>\n",
       "      <td>1.09500</td>\n",
       "      <td>0.562100</td>\n",
       "      <td>28.090</td>\n",
       "      <td>59.890000</td>\n",
       "      <td>87.980000</td>\n",
       "      <td>59.890000</td>\n",
       "      <td>0.890</td>\n",
       "      <td>-0.040000</td>\n",
       "    </tr>\n",
       "    <tr>\n",
       "      <th>DB0-m3_o1_o146_f0_fsc.sym.37.cif</th>\n",
       "      <td>1661.86</td>\n",
       "      <td>0.944809</td>\n",
       "      <td>178.499</td>\n",
       "      <td>1074.10</td>\n",
       "      <td>1136.84</td>\n",
       "      <td>69.6984</td>\n",
       "      <td>0.04194</td>\n",
       "      <td>0.044390</td>\n",
       "      <td>465.320</td>\n",
       "      <td>0.2800</td>\n",
       "      <td>...</td>\n",
       "      <td>0.547700</td>\n",
       "      <td>0.858550</td>\n",
       "      <td>1.40250</td>\n",
       "      <td>1.120850</td>\n",
       "      <td>41.425</td>\n",
       "      <td>113.565000</td>\n",
       "      <td>160.962614</td>\n",
       "      <td>120.622614</td>\n",
       "      <td>1.775</td>\n",
       "      <td>0.340000</td>\n",
       "    </tr>\n",
       "    <tr>\n",
       "      <th>DB0-m29_o89_o500_f0_pts.sym.68.cif</th>\n",
       "      <td>1886.38</td>\n",
       "      <td>0.849738</td>\n",
       "      <td>290.885</td>\n",
       "      <td>1542.03</td>\n",
       "      <td>1814.71</td>\n",
       "      <td>200.5980</td>\n",
       "      <td>0.10634</td>\n",
       "      <td>0.125145</td>\n",
       "      <td>821.519</td>\n",
       "      <td>0.4355</td>\n",
       "      <td>...</td>\n",
       "      <td>0.532900</td>\n",
       "      <td>0.562100</td>\n",
       "      <td>1.09500</td>\n",
       "      <td>1.124200</td>\n",
       "      <td>28.090</td>\n",
       "      <td>59.890000</td>\n",
       "      <td>87.980000</td>\n",
       "      <td>119.780000</td>\n",
       "      <td>0.890</td>\n",
       "      <td>-0.040000</td>\n",
       "    </tr>\n",
       "  </tbody>\n",
       "</table>\n",
       "<p>5 rows × 450 columns</p>\n",
       "</div>"
      ],
      "text/plain": [
       "                                    unit_cell_volume   Density  \\\n",
       "filename                                                         \n",
       "DB0-m3_o25_o84_f0_fsc.sym.10.cif             1143.94  1.003360   \n",
       "DB0-m2_o26_o27_f0_pcu.sym.20.cif             5289.09  0.330792   \n",
       "DB0-m3_o23_o23_f0_nbo.sym.54.cif            16203.70  0.208859   \n",
       "DB0-m3_o1_o146_f0_fsc.sym.37.cif             1661.86  0.944809   \n",
       "DB0-m29_o89_o500_f0_pts.sym.68.cif           1886.38  0.849738   \n",
       "\n",
       "                                    accessible_surface_area  \\\n",
       "filename                                                      \n",
       "DB0-m3_o25_o84_f0_fsc.sym.10.cif                    207.585   \n",
       "DB0-m2_o26_o27_f0_pcu.sym.20.cif                    845.532   \n",
       "DB0-m3_o23_o23_f0_nbo.sym.54.cif                   2160.230   \n",
       "DB0-m3_o1_o146_f0_fsc.sym.37.cif                    178.499   \n",
       "DB0-m29_o89_o500_f0_pts.sym.68.cif                  290.885   \n",
       "\n",
       "                                    volumetric_surface_area  \\\n",
       "filename                                                      \n",
       "DB0-m3_o25_o84_f0_fsc.sym.10.cif                    1814.65   \n",
       "DB0-m2_o26_o27_f0_pcu.sym.20.cif                    1598.63   \n",
       "DB0-m3_o23_o23_f0_nbo.sym.54.cif                    1333.17   \n",
       "DB0-m3_o1_o146_f0_fsc.sym.37.cif                    1074.10   \n",
       "DB0-m29_o89_o500_f0_pts.sym.68.cif                  1542.03   \n",
       "\n",
       "                                    gravimetric_surface_area  \\\n",
       "filename                                                       \n",
       "DB0-m3_o25_o84_f0_fsc.sym.10.cif                     1808.58   \n",
       "DB0-m2_o26_o27_f0_pcu.sym.20.cif                     4832.75   \n",
       "DB0-m3_o23_o23_f0_nbo.sym.54.cif                     6383.11   \n",
       "DB0-m3_o1_o146_f0_fsc.sym.37.cif                     1136.84   \n",
       "DB0-m29_o89_o500_f0_pts.sym.68.cif                   1814.71   \n",
       "\n",
       "                                    accessible_volume_per_uc  volume_fraction  \\\n",
       "filename                                                                        \n",
       "DB0-m3_o25_o84_f0_fsc.sym.10.cif                    137.9590          0.12060   \n",
       "DB0-m2_o26_o27_f0_pcu.sym.20.cif                   3122.8900          0.59044   \n",
       "DB0-m3_o23_o23_f0_nbo.sym.54.cif                  11222.0000          0.69256   \n",
       "DB0-m3_o1_o146_f0_fsc.sym.37.cif                     69.6984          0.04194   \n",
       "DB0-m29_o89_o500_f0_pts.sym.68.cif                  200.5980          0.10634   \n",
       "\n",
       "                                    grav_volume  probe_occupiable_vol  \\\n",
       "filename                                                                \n",
       "DB0-m3_o25_o84_f0_fsc.sym.10.cif       0.120196               520.493   \n",
       "DB0-m2_o26_o27_f0_pcu.sym.20.cif       1.784930              4432.260   \n",
       "DB0-m3_o23_o23_f0_nbo.sym.54.cif       3.315920             13627.300   \n",
       "DB0-m3_o1_o146_f0_fsc.sym.37.cif       0.044390               465.320   \n",
       "DB0-m29_o89_o500_f0_pts.sym.68.cif     0.125145               821.519   \n",
       "\n",
       "                                    probe_occ_vol_frac  ...  lc-S-0-all  \\\n",
       "filename                                                ...               \n",
       "DB0-m3_o25_o84_f0_fsc.sym.10.cif                0.4550  ...    0.547700   \n",
       "DB0-m2_o26_o27_f0_pcu.sym.20.cif                0.8380  ...    0.542767   \n",
       "DB0-m3_o23_o23_f0_nbo.sym.54.cif                0.8410  ...    0.532900   \n",
       "DB0-m3_o1_o146_f0_fsc.sym.37.cif                0.2800  ...    0.547700   \n",
       "DB0-m29_o89_o500_f0_pts.sym.68.cif              0.4355  ...    0.532900   \n",
       "\n",
       "                                    lc-S-1-all  lc-S-2-all  lc-S-3-all  \\\n",
       "filename                                                                 \n",
       "DB0-m3_o25_o84_f0_fsc.sym.10.cif      0.569800     0.83625    1.428350   \n",
       "DB0-m2_o26_o27_f0_pcu.sym.20.cif      0.759733     1.30000    1.126967   \n",
       "DB0-m3_o23_o23_f0_nbo.sym.54.cif      0.562100     1.09500    0.562100   \n",
       "DB0-m3_o1_o146_f0_fsc.sym.37.cif      0.858550     1.40250    1.120850   \n",
       "DB0-m29_o89_o500_f0_pts.sym.68.cif    0.562100     1.09500    1.124200   \n",
       "\n",
       "                                    lc-alpha-0-all  lc-alpha-1-all  \\\n",
       "filename                                                             \n",
       "DB0-m3_o25_o84_f0_fsc.sym.10.cif            41.425       71.755000   \n",
       "DB0-m2_o26_o27_f0_pcu.sym.20.cif            36.980       95.673333   \n",
       "DB0-m3_o23_o23_f0_nbo.sym.54.cif            28.090       59.890000   \n",
       "DB0-m3_o1_o146_f0_fsc.sym.37.cif            41.425      113.565000   \n",
       "DB0-m29_o89_o500_f0_pts.sym.68.cif          28.090       59.890000   \n",
       "\n",
       "                                    lc-alpha-2-all  lc-alpha-3-all  \\\n",
       "filename                                                             \n",
       "DB0-m3_o25_o84_f0_fsc.sym.10.cif         85.800000      185.320000   \n",
       "DB0-m2_o26_o27_f0_pcu.sym.20.cif        136.635076      129.961743   \n",
       "DB0-m3_o23_o23_f0_nbo.sym.54.cif         87.980000       59.890000   \n",
       "DB0-m3_o1_o146_f0_fsc.sym.37.cif        160.962614      120.622614   \n",
       "DB0-m29_o89_o500_f0_pts.sym.68.cif       87.980000      119.780000   \n",
       "\n",
       "                                    D_lc-chi-2-all  D_lc-S-2-all  \n",
       "filename                                                          \n",
       "DB0-m3_o25_o84_f0_fsc.sym.10.cif             0.690     -0.030000  \n",
       "DB0-m2_o26_o27_f0_pcu.sym.20.cif             1.480      0.213333  \n",
       "DB0-m3_o23_o23_f0_nbo.sym.54.cif             0.890     -0.040000  \n",
       "DB0-m3_o1_o146_f0_fsc.sym.37.cif             1.775      0.340000  \n",
       "DB0-m29_o89_o500_f0_pts.sym.68.cif           0.890     -0.040000  \n",
       "\n",
       "[5 rows x 450 columns]"
      ]
     },
     "execution_count": 5,
     "metadata": {},
     "output_type": "execute_result"
    }
   ],
   "source": [
    "X_train.head()"
   ]
  },
  {
   "cell_type": "code",
   "execution_count": 6,
   "id": "6c639844",
   "metadata": {},
   "outputs": [
    {
     "data": {
      "text/html": [
       "<div>\n",
       "<style scoped>\n",
       "    .dataframe tbody tr th:only-of-type {\n",
       "        vertical-align: middle;\n",
       "    }\n",
       "\n",
       "    .dataframe tbody tr th {\n",
       "        vertical-align: top;\n",
       "    }\n",
       "\n",
       "    .dataframe thead th {\n",
       "        text-align: right;\n",
       "    }\n",
       "</style>\n",
       "<table border=\"1\" class=\"dataframe\">\n",
       "  <thead>\n",
       "    <tr style=\"text-align: right;\">\n",
       "      <th></th>\n",
       "      <th>0</th>\n",
       "    </tr>\n",
       "  </thead>\n",
       "  <tbody>\n",
       "    <tr>\n",
       "      <th>0</th>\n",
       "      <td>82.851179</td>\n",
       "    </tr>\n",
       "    <tr>\n",
       "      <th>1</th>\n",
       "      <td>1.141462</td>\n",
       "    </tr>\n",
       "    <tr>\n",
       "      <th>2</th>\n",
       "      <td>0.623254</td>\n",
       "    </tr>\n",
       "    <tr>\n",
       "      <th>3</th>\n",
       "      <td>32.874921</td>\n",
       "    </tr>\n",
       "    <tr>\n",
       "      <th>4</th>\n",
       "      <td>20.352463</td>\n",
       "    </tr>\n",
       "  </tbody>\n",
       "</table>\n",
       "</div>"
      ],
      "text/plain": [
       "           0\n",
       "0  82.851179\n",
       "1   1.141462\n",
       "2   0.623254\n",
       "3  32.874921\n",
       "4  20.352463"
      ]
     },
     "execution_count": 6,
     "metadata": {},
     "output_type": "execute_result"
    }
   ],
   "source": [
    "y_train.head()"
   ]
  },
  {
   "cell_type": "markdown",
   "id": "3b830008",
   "metadata": {},
   "source": [
    "Now I want to perform an initial train/test split using just 10% of this data to train initial models so I can get a quick feel for how well each model will perform."
   ]
  },
  {
   "cell_type": "code",
   "execution_count": 7,
   "id": "bcf6578c",
   "metadata": {},
   "outputs": [],
   "source": [
    "X_tr, X_te, y_tr, y_te = train_test_split(X_train, y_train, test_size=0.9, random_state=15)"
   ]
  },
  {
   "cell_type": "code",
   "execution_count": 8,
   "id": "c906e9cc",
   "metadata": {},
   "outputs": [
    {
     "data": {
      "text/plain": [
       "((20475, 450), (184275, 450), (20475, 1), (184275, 1))"
      ]
     },
     "execution_count": 8,
     "metadata": {},
     "output_type": "execute_result"
    }
   ],
   "source": [
    "X_tr.shape, X_te.shape, y_tr.shape, y_te.shape"
   ]
  },
  {
   "cell_type": "code",
   "execution_count": 9,
   "id": "419d73a3",
   "metadata": {},
   "outputs": [],
   "source": [
    "# Reshape y_train for model fitting\n",
    "y_tr = y_tr.values.ravel()\n",
    "y_te = y_te.values.ravel()"
   ]
  },
  {
   "cell_type": "code",
   "execution_count": 10,
   "id": "23ff0cc8",
   "metadata": {},
   "outputs": [
    {
     "data": {
      "text/plain": [
       "((20475,), (184275,))"
      ]
     },
     "execution_count": 10,
     "metadata": {},
     "output_type": "execute_result"
    }
   ],
   "source": [
    "y_tr.shape, y_te.shape"
   ]
  },
  {
   "cell_type": "markdown",
   "id": "b11f0c5e",
   "metadata": {},
   "source": [
    "I'm going to replace some characters that may be in the datasets so they don't cause errors with XGBoost."
   ]
  },
  {
   "cell_type": "code",
   "execution_count": 27,
   "id": "2738d7fc",
   "metadata": {},
   "outputs": [
    {
     "name": "stderr",
     "output_type": "stream",
     "text": [
      "C:\\Users\\zbro1\\AppData\\Local\\Temp\\ipykernel_2388\\4225583205.py:1: FutureWarning: The default value of regex will change from True to False in a future version. In addition, single character regular expressions will *not* be treated as literal strings when regex=True.\n",
      "  X_tr.columns = X_tr.columns.str.replace('[', '_')\n",
      "C:\\Users\\zbro1\\AppData\\Local\\Temp\\ipykernel_2388\\4225583205.py:2: FutureWarning: The default value of regex will change from True to False in a future version. In addition, single character regular expressions will *not* be treated as literal strings when regex=True.\n",
      "  X_tr.columns = X_tr.columns.str.replace(']', '_')\n",
      "C:\\Users\\zbro1\\AppData\\Local\\Temp\\ipykernel_2388\\4225583205.py:5: FutureWarning: The default value of regex will change from True to False in a future version. In addition, single character regular expressions will *not* be treated as literal strings when regex=True.\n",
      "  X_te.columns = X_te.columns.str.replace('[', '_')\n",
      "C:\\Users\\zbro1\\AppData\\Local\\Temp\\ipykernel_2388\\4225583205.py:6: FutureWarning: The default value of regex will change from True to False in a future version. In addition, single character regular expressions will *not* be treated as literal strings when regex=True.\n",
      "  X_te.columns = X_te.columns.str.replace(']', '_')\n"
     ]
    }
   ],
   "source": [
    "X_tr.columns = X_tr.columns.str.replace('[', '_')\n",
    "X_tr.columns = X_tr.columns.str.replace(']', '_')\n",
    "X_tr.columns = X_tr.columns.str.replace(' ', '_')\n",
    "X_tr.columns = X_tr.columns.str.replace(',', '_')\n",
    "X_te.columns = X_te.columns.str.replace('[', '_')\n",
    "X_te.columns = X_te.columns.str.replace(']', '_')\n",
    "X_te.columns = X_te.columns.str.replace(' ', '_')\n",
    "X_te.columns = X_te.columns.str.replace(',', '_')"
   ]
  },
  {
   "cell_type": "markdown",
   "id": "67e72890",
   "metadata": {},
   "source": [
    "Now I'm ready to start making some models. I'll begin with dummy models using mean and median to set a baseline to determine whether the other models are any good at all. I'll also build a dataframe called train_scores to keep track of the model scores so I can plot my progress as I go. "
   ]
  },
  {
   "cell_type": "code",
   "execution_count": 11,
   "id": "5c7e1a51",
   "metadata": {},
   "outputs": [
    {
     "name": "stdout",
     "output_type": "stream",
     "text": [
      "408.04907666419814\n"
     ]
    }
   ],
   "source": [
    "dummy_mean = DummyRegressor(strategy=\"mean\")\n",
    "dummy_mean.fit(X_tr, y_tr)\n",
    "y_pred = dummy_mean.predict(X_te)\n",
    "train_scores = pd.DataFrame([{'Model' : 'Mean Dummy Regressor', '% Train Data' : 10, 'RMSE' : mean_squared_error(y_te, y_pred)}])\n",
    "print(mean_squared_error(y_te, y_pred))"
   ]
  },
  {
   "cell_type": "code",
   "execution_count": 12,
   "id": "aa7e0a3b",
   "metadata": {},
   "outputs": [
    {
     "name": "stdout",
     "output_type": "stream",
     "text": [
      "478.3062211582237\n"
     ]
    }
   ],
   "source": [
    "dummy_median = DummyRegressor(strategy=\"median\")\n",
    "dummy_median.fit(X_tr, y_tr)\n",
    "y_pred = dummy_median.predict(X_te)\n",
    "new_row = pd.DataFrame([{'Model' : 'Median Dummy Regressor', '% Train Data' : 10, 'RMSE' : mean_squared_error(y_te, y_pred)}])\n",
    "train_scores = pd.concat([train_scores, new_row])\n",
    "print(mean_squared_error(y_te, y_pred))"
   ]
  },
  {
   "cell_type": "code",
   "execution_count": 13,
   "id": "3315d92c",
   "metadata": {},
   "outputs": [
    {
     "data": {
      "text/html": [
       "<div>\n",
       "<style scoped>\n",
       "    .dataframe tbody tr th:only-of-type {\n",
       "        vertical-align: middle;\n",
       "    }\n",
       "\n",
       "    .dataframe tbody tr th {\n",
       "        vertical-align: top;\n",
       "    }\n",
       "\n",
       "    .dataframe thead th {\n",
       "        text-align: right;\n",
       "    }\n",
       "</style>\n",
       "<table border=\"1\" class=\"dataframe\">\n",
       "  <thead>\n",
       "    <tr style=\"text-align: right;\">\n",
       "      <th></th>\n",
       "      <th>Model</th>\n",
       "      <th>% Train Data</th>\n",
       "      <th>MSE</th>\n",
       "    </tr>\n",
       "  </thead>\n",
       "  <tbody>\n",
       "    <tr>\n",
       "      <th>0</th>\n",
       "      <td>Mean Dummy Regressor</td>\n",
       "      <td>10</td>\n",
       "      <td>408.049077</td>\n",
       "    </tr>\n",
       "    <tr>\n",
       "      <th>0</th>\n",
       "      <td>Median Dummy Regressor</td>\n",
       "      <td>10</td>\n",
       "      <td>478.306221</td>\n",
       "    </tr>\n",
       "  </tbody>\n",
       "</table>\n",
       "</div>"
      ],
      "text/plain": [
       "                    Model  % Train Data         MSE\n",
       "0    Mean Dummy Regressor            10  408.049077\n",
       "0  Median Dummy Regressor            10  478.306221"
      ]
     },
     "execution_count": 13,
     "metadata": {},
     "output_type": "execute_result"
    }
   ],
   "source": [
    "train_scores"
   ]
  },
  {
   "cell_type": "markdown",
   "id": "1d500005",
   "metadata": {},
   "source": [
    "Now I'll start with an OLS regressor, then ridge and lasso."
   ]
  },
  {
   "cell_type": "code",
   "execution_count": 14,
   "id": "fcf8d3d5",
   "metadata": {},
   "outputs": [
    {
     "name": "stdout",
     "output_type": "stream",
     "text": [
      "405.45832716213954\n"
     ]
    }
   ],
   "source": [
    "ols = LinearRegression()\n",
    "ols.fit(X_tr, y_tr)\n",
    "y_pred = ols.predict(X_te)\n",
    "new_row = pd.DataFrame([{'Model' : 'OLS', '% Train Data' : 10, 'RMSE' : mean_squared_error(y_te, y_pred)}])\n",
    "train_scores = pd.concat([train_scores, new_row])\n",
    "print(mean_squared_error(y_te, y_pred))"
   ]
  },
  {
   "cell_type": "markdown",
   "id": "fd4982aa",
   "metadata": {},
   "source": [
    "For the rest of the models I'm exploring I'll need to do some hyperparameter tuning. Before spending that much time on tuning I'll create a model of each using the default parameters just to see how they score."
   ]
  },
  {
   "cell_type": "code",
   "execution_count": 28,
   "id": "d7fa05a8",
   "metadata": {},
   "outputs": [
    {
     "name": "stdout",
     "output_type": "stream",
     "text": [
      "488.86755363408946\n"
     ]
    }
   ],
   "source": [
    "ridge=Ridge(random_state = 15)\n",
    "ridge.fit(X_tr, y_tr)\n",
    "y_pred = ridge.predict(X_te)\n",
    "new_row = pd.DataFrame([{'Model' : 'Ridge Default', '% Train Data' : 10, 'RMSE' : mean_squared_error(y_te, y_pred)}])\n",
    "train_scores = pd.concat([train_scores, new_row])\n",
    "print(mean_squared_error(y_te, y_pred))"
   ]
  },
  {
   "cell_type": "code",
   "execution_count": 30,
   "id": "444af954",
   "metadata": {},
   "outputs": [
    {
     "name": "stdout",
     "output_type": "stream",
     "text": [
      "651.8153922270997\n"
     ]
    },
    {
     "name": "stderr",
     "output_type": "stream",
     "text": [
      "C:\\Users\\zbro1\\anaconda\\envs\\MOF\\lib\\site-packages\\sklearn\\linear_model\\_coordinate_descent.py:631: ConvergenceWarning: Objective did not converge. You might want to increase the number of iterations, check the scale of the features or consider increasing regularisation. Duality gap: 8.349e+05, tolerance: 8.481e+02\n",
      "  model = cd_fast.enet_coordinate_descent(\n"
     ]
    }
   ],
   "source": [
    "lasso=linear_model.Lasso(random_state = 15)\n",
    "lasso.fit(X_tr, y_tr)\n",
    "y_pred = lasso.predict(X_te)\n",
    "new_row = pd.DataFrame([{'Model' : 'Lasso Default', '% Train Data' : 10, 'RMSE' : mean_squared_error(y_te, y_pred)}])\n",
    "train_scores = pd.concat([train_scores, new_row])\n",
    "print(mean_squared_error(y_te, y_pred))"
   ]
  },
  {
   "cell_type": "code",
   "execution_count": 31,
   "id": "fa1bdfbe",
   "metadata": {},
   "outputs": [
    {
     "data": {
      "text/plain": [
       "9.202145352744651"
      ]
     },
     "execution_count": 31,
     "metadata": {},
     "output_type": "execute_result"
    }
   ],
   "source": [
    "forest = RandomForestRegressor(max_depth=10, n_jobs = -1, random_state=15)\n",
    "forest.fit(X_tr, y_tr)\n",
    "y_pred = forest.predict(X_te)\n",
    "new_row = pd.DataFrame([{'Model' : 'Random Forest Default', '% Train Data' : 10, 'RMSE' : mean_squared_error(y_te, y_pred)}])\n",
    "train_scores = pd.concat([train_scores, new_row])\n",
    "mean_squared_error(y_te, y_pred)"
   ]
  },
  {
   "cell_type": "code",
   "execution_count": 32,
   "id": "ebdfdedf",
   "metadata": {},
   "outputs": [
    {
     "data": {
      "text/plain": [
       "8.593579805487447"
      ]
     },
     "execution_count": 32,
     "metadata": {},
     "output_type": "execute_result"
    }
   ],
   "source": [
    "xgb = XGBRegressor(max_depth=10, seed=15)\n",
    "xgb.fit(X_tr, y_tr)\n",
    "y_pred = xgb.predict(X_te)\n",
    "new_row = pd.DataFrame([{'Model' : 'XGBoost Default', '% Train Data' : 10, 'RMSE' : mean_squared_error(y_te, y_pred)}])\n",
    "train_scores = pd.concat([train_scores, new_row])\n",
    "mean_squared_error(y_te, y_pred)"
   ]
  },
  {
   "cell_type": "code",
   "execution_count": 33,
   "id": "4cfa3aa0",
   "metadata": {},
   "outputs": [
    {
     "data": {
      "text/plain": [
       "519.3725604787402"
      ]
     },
     "execution_count": 33,
     "metadata": {},
     "output_type": "execute_result"
    }
   ],
   "source": [
    "xgb_linear = XGBRegressor(booster = 'gblinear', seed=15)\n",
    "xgb_linear.fit(X_tr, y_tr)\n",
    "y_pred = xgb_linear.predict(X_te)\n",
    "new_row = pd.DataFrame([{'Model' : 'XGBoost Linear Default', '% Train Data' : 10, 'RMSE' : mean_squared_error(y_te, y_pred)}])\n",
    "train_scores = pd.concat([train_scores, new_row])\n",
    "mean_squared_error(y_te, y_pred)"
   ]
  },
  {
   "cell_type": "code",
   "execution_count": 34,
   "id": "05347e0a",
   "metadata": {},
   "outputs": [
    {
     "data": {
      "text/plain": [
       "514.7229276670863"
      ]
     },
     "execution_count": 34,
     "metadata": {},
     "output_type": "execute_result"
    }
   ],
   "source": [
    "xgb_linear_lcd = XGBRegressor(booster = 'gblinear', updater = 'coord_descent', seed=15)\n",
    "xgb_linear_lcd.fit(X_tr, y_tr)\n",
    "y_pred = xgb_linear_lcd.predict(X_te)\n",
    "new_row = pd.DataFrame([{'Model' : 'XGBoost Linear Coord Desc Default', '% Train Data' : 10,\\\n",
    "                         'RMSE' : mean_squared_error(y_te, y_pred)}])\n",
    "train_scores = pd.concat([train_scores, new_row])\n",
    "mean_squared_error(y_te, y_pred)"
   ]
  },
  {
   "cell_type": "code",
   "execution_count": 35,
   "id": "1b5e47b6",
   "metadata": {},
   "outputs": [
    {
     "data": {
      "text/plain": [
       "16.987966030357054"
      ]
     },
     "execution_count": 35,
     "metadata": {},
     "output_type": "execute_result"
    }
   ],
   "source": [
    "tree = tree.DecisionTreeRegressor(max_depth = 10, random_state = 15)\n",
    "tree.fit(X_tr, y_tr)\n",
    "y_pred = tree.predict(X_te)\n",
    "new_row = pd.DataFrame([{'Model' : 'Decision Tree Default', '% Train Data' : 10, 'RMSE' : mean_squared_error(y_te, y_pred)}])\n",
    "train_scores = pd.concat([train_scores, new_row])\n",
    "mean_squared_error(y_te, y_pred)"
   ]
  },
  {
   "cell_type": "code",
   "execution_count": 37,
   "id": "b5d065e6",
   "metadata": {},
   "outputs": [
    {
     "data": {
      "text/plain": [
       "19.887800455841536"
      ]
     },
     "execution_count": 37,
     "metadata": {},
     "output_type": "execute_result"
    }
   ],
   "source": [
    "knn = KNeighborsRegressor(n_jobs = -1)\n",
    "knn.fit(X_tr, y_tr)\n",
    "y_pred = knn.predict(X_te)\n",
    "new_row = pd.DataFrame([{'Model' : 'KNN Default', '% Train Data' : 10, 'RMSE' : mean_squared_error(y_te, y_pred)}])\n",
    "train_scores = pd.concat([train_scores, new_row])\n",
    "mean_squared_error(y_te, y_pred)"
   ]
  },
  {
   "cell_type": "code",
   "execution_count": 38,
   "id": "5ccf2494",
   "metadata": {},
   "outputs": [
    {
     "data": {
      "text/plain": [
       "7.116764742236408"
      ]
     },
     "execution_count": 38,
     "metadata": {},
     "output_type": "execute_result"
    }
   ],
   "source": [
    "lgbm = lgb.LGBMRegressor(objective = 'regression', metric = 'rmse', max_depth = 10, data_random_seed = 15)\n",
    "lgbm.fit(X_tr, y_tr)\n",
    "y_pred = lgbm.predict(X_te)\n",
    "new_row = pd.DataFrame([{'Model' : 'Light GBM Default', '% Train Data' : 10, 'RMSE' : mean_squared_error(y_te, y_pred)}])\n",
    "train_scores = pd.concat([train_scores, new_row])\n",
    "mean_squared_error(y_te, y_pred)"
   ]
  },
  {
   "cell_type": "markdown",
   "id": "eb8480c2",
   "metadata": {},
   "source": [
    "Now I'm going to plot these default model scores with 10% training data to see how they compare against one another. For reference the dummy models were in the 400s."
   ]
  },
  {
   "cell_type": "code",
   "execution_count": 44,
   "id": "63a56377",
   "metadata": {},
   "outputs": [],
   "source": [
    "defaults = train_scores[['Default' in x for x in train_scores['Model'].unique()]]"
   ]
  },
  {
   "cell_type": "code",
   "execution_count": 47,
   "id": "d6e8abf0",
   "metadata": {},
   "outputs": [
    {
     "data": {
      "image/png": "[encoded data removed]",
      "text/plain": [
       "<Figure size 640x480 with 1 Axes>"
      ]
     },
     "metadata": {},
     "output_type": "display_data"
    }
   ],
   "source": [
    "sns.barplot(data=defaults, x='Model', y='MSE')\n",
    "plt.set(xlabel=None)\n",
    "plt.ylabel('RMSE', fontsize = 14)\n",
    "plt.title('Default Model Scores with 10% Train Data', fontsize = 18)\n",
    "plt.xticks(rotation=45, ha='right')\n",
    "plt.savefig('../figures/default_10_models.png',dpi=1200, bbox_inches='tight')\n",
    "plt.show()"
   ]
  },
  {
   "cell_type": "markdown",
   "id": "891c3fc0",
   "metadata": {},
   "source": [
    "Next, to confirm that those with the lowest scores are truly the best, I'll prepare an 80% training data split and make a fresh set of default models, but this time trained with 8 times more data. "
   ]
  },
  {
   "cell_type": "code",
   "execution_count": null,
   "id": "10df1a22",
   "metadata": {},
   "outputs": [],
   "source": [
    "# Train/test split with new variables for the 80% train splits\n",
    "X_tr8, X_te8, y_tr8, y_te8 = train_test_split(X_train, y_train, test_size=0.2, random_state=15)"
   ]
  },
  {
   "cell_type": "code",
   "execution_count": null,
   "id": "6cabf720",
   "metadata": {},
   "outputs": [],
   "source": [
    "dummy_mean = DummyRegressor(strategy=\"mean\")\n",
    "dummy_mean.fit(X_tr8, y_tr8)\n",
    "y_pred = dummy_mean.predict(X_te8)\n",
    "train_scores = pd.DataFrame([{'Model' : 'Mean Dummy Regressor', '% Train Data' : 80,\\\n",
    "                              'RMSE' : mean_squared_error(y_te8, y_pred)}])\n",
    "print(mean_squared_error(y_te8, y_pred))"
   ]
  },
  {
   "cell_type": "code",
   "execution_count": null,
   "id": "98fa1b78",
   "metadata": {},
   "outputs": [],
   "source": [
    "dummy_median = DummyRegressor(strategy=\"median\")\n",
    "dummy_median.fit(X_tr8, y_tr8)\n",
    "y_pred = dummy_median.predict(X_te8)\n",
    "new_row = pd.DataFrame([{'Model' : 'Median Dummy Regressor', '% Train Data' : 80, 'RMSE' : mean_squared_error(y_te8, y_pred)}])\n",
    "train_scores = pd.concat([train_scores, new_row])\n",
    "print(mean_squared_error(y_te8, y_pred))"
   ]
  },
  {
   "cell_type": "code",
   "execution_count": null,
   "id": "2d76820c",
   "metadata": {},
   "outputs": [],
   "source": [
    "ols = LinearRegression()\n",
    "ols.fit(X_tr8, y_tr8)\n",
    "y_pred = ols.predict(X_te8)\n",
    "new_row = pd.DataFrame([{'Model' : 'OLS', '% Train Data' : 80, 'RMSE' : mean_squared_error(y_te8, y_pred)}])\n",
    "train_scores = pd.concat([train_scores, new_row])\n",
    "print(mean_squared_error(y_te8, y_pred))"
   ]
  },
  {
   "cell_type": "code",
   "execution_count": null,
   "id": "09c2f189",
   "metadata": {},
   "outputs": [],
   "source": [
    "ridge=Ridge(random_state = 15)\n",
    "ridge.fit(X_tr8, y_tr8)\n",
    "y_pred = ridge.predict(X_te8)\n",
    "new_row = pd.DataFrame([{'Model' : 'Ridge Default', '% Train Data' : 80, 'RMSE' : mean_squared_error(y_te8, y_pred)}])\n",
    "train_scores = pd.concat([train_scores, new_row])\n",
    "print(mean_squared_error(y_te8, y_pred))"
   ]
  },
  {
   "cell_type": "code",
   "execution_count": null,
   "id": "61396501",
   "metadata": {},
   "outputs": [],
   "source": [
    "lasso=linear_model.Lasso(random_state = 15)\n",
    "lasso.fit(X_tr8, y_tr8)\n",
    "y_pred = lasso.predict(X_te8)\n",
    "new_row = pd.DataFrame([{'Model' : 'Lasso Default', '% Train Data' : 80, 'RMSE' : mean_squared_error(y_te8, y_pred)}])\n",
    "train_scores = pd.concat([train_scores, new_row])\n",
    "print(mean_squared_error(y_te8, y_pred))"
   ]
  },
  {
   "cell_type": "code",
   "execution_count": null,
   "id": "e8b38f72",
   "metadata": {},
   "outputs": [],
   "source": [
    "forest = RandomForestRegressor(max_depth=10, n_jobs = -1, random_state=15)\n",
    "forest.fit(X_tr8, y_tr8)\n",
    "y_pred = forest.predict(X_te8)\n",
    "new_row = pd.DataFrame([{'Model' : 'Random Forest Default', '% Train Data' : 80, 'RMSE' : mean_squared_error(y_te8, y_pred)}])\n",
    "train_scores = pd.concat([train_scores, new_row])\n",
    "mean_squared_error(y_te8, y_pred)"
   ]
  },
  {
   "cell_type": "code",
   "execution_count": null,
   "id": "3dda8560",
   "metadata": {},
   "outputs": [],
   "source": [
    "xgb = XGBRegressor(max_depth=10, seed=15)\n",
    "xgb.fit(X_tr8, y_tr8)\n",
    "y_pred = xgb.predict(X_te8)\n",
    "new_row = pd.DataFrame([{'Model' : 'XGBoost Default', '% Train Data' : 80, 'RMSE' : mean_squared_error(y_te8, y_pred)}])\n",
    "train_scores = pd.concat([train_scores, new_row])\n",
    "mean_squared_error(y_te8, y_pred)"
   ]
  },
  {
   "cell_type": "code",
   "execution_count": null,
   "id": "5d4cb68a",
   "metadata": {},
   "outputs": [],
   "source": [
    "xgb_linear = XGBRegressor(booster = 'gblinear', seed=15)\n",
    "xgb_linear.fit(X_tr8, y_tr8)\n",
    "y_pred = xgb_linear.predict(X_te8)\n",
    "new_row = pd.DataFrame([{'Model' : 'XGBoost Linear Default', '% Train Data' : 80, 'RMSE' : mean_squared_error(y_te8, y_pred)}])\n",
    "train_scores = pd.concat([train_scores, new_row])\n",
    "mean_squared_error(y_te8, y_pred)"
   ]
  },
  {
   "cell_type": "code",
   "execution_count": null,
   "id": "e3726940",
   "metadata": {},
   "outputs": [],
   "source": [
    "xgb_linear_lcd = XGBRegressor(booster = 'gblinear', updater = 'coord_descent', seed=15)\n",
    "xgb_linear_lcd.fit(X_tr8, y_tr8)\n",
    "y_pred = xgb_linear_lcd.predict(X_te8)\n",
    "new_row = pd.DataFrame([{'Model' : 'XGBoost Linear Coord Desc Default', '% Train Data' : 80,\\\n",
    "                         'RMSE' : mean_squared_error(y_te8, y_pred)}])\n",
    "train_scores = pd.concat([train_scores, new_row])\n",
    "mean_squared_error(y_te8, y_pred)"
   ]
  },
  {
   "cell_type": "code",
   "execution_count": null,
   "id": "b76e8c37",
   "metadata": {},
   "outputs": [],
   "source": [
    "tree = tree.DecisionTreeRegressor(max_depth = 10, random_state = 15)\n",
    "tree.fit(X_tr8, y_tr8)\n",
    "y_pred = tree.predict(X_te8)\n",
    "new_row = pd.DataFrame([{'Model' : 'Decision Tree Default', '% Train Data' : 80, 'RMSE' : mean_squared_error(y_te8, y_pred)}])\n",
    "train_scores = pd.concat([train_scores, new_row])\n",
    "mean_squared_error(y_te8, y_pred)"
   ]
  },
  {
   "cell_type": "code",
   "execution_count": null,
   "id": "a93454e0",
   "metadata": {},
   "outputs": [],
   "source": [
    "knn = KNeighborsRegressor(n_jobs = -1)\n",
    "knn.fit(X_tr8, y_tr8)\n",
    "y_pred = knn.predict(X_te8)\n",
    "new_row = pd.DataFrame([{'Model' : 'KNN Default', '% Train Data' : 80, 'RMSE' : mean_squared_error(y_te8, y_pred)}])\n",
    "train_scores = pd.concat([train_scores, new_row])\n",
    "mean_squared_error(y_te8, y_pred)"
   ]
  },
  {
   "cell_type": "code",
   "execution_count": null,
   "id": "be22a696",
   "metadata": {},
   "outputs": [],
   "source": [
    "lgbm = lgb.LGBMRegressor(objective = 'regression', metric = 'rmse', max_depth = 10, data_random_seed = 15)\n",
    "lgbm.fit(X_tr8, y_tr8)\n",
    "y_pred = lgbm.predict(X_te8)\n",
    "new_row = pd.DataFrame([{'Model' : 'Light GBM Default', '% Train Data' : 80, 'RMSE' : mean_squared_error(y_te8, y_pred)}])\n",
    "train_scores = pd.concat([train_scores, new_row])\n",
    "mean_squared_error(y_te8, y_pred)"
   ]
  },
  {
   "cell_type": "markdown",
   "id": "eafc8078",
   "metadata": {},
   "source": [
    "Now I'll update my graph of model RMSE setting the 10% and 80% train data models next to each other to see if the same trends persist. "
   ]
  },
  {
   "cell_type": "code",
   "execution_count": null,
   "id": "1fc489d1",
   "metadata": {},
   "outputs": [],
   "source": [
    "defaults = train_scores[['Default' in x for x in train_scores['Model'].unique()]]"
   ]
  },
  {
   "cell_type": "code",
   "execution_count": null,
   "id": "df4bcfae",
   "metadata": {},
   "outputs": [],
   "source": [
    "sns.barplot(data=defaults, x='Model', y='MSE', hue = '% Train Data')\n",
    "plt.set(xlabel=None)\n",
    "plt.ylabel('RMSE', fontsize = 14)\n",
    "plt.title('Default Model Scores with 10% Train Data', fontsize = 18)\n",
    "plt.xticks(rotation=45, ha='right')\n",
    "plt.savefig('../figures/default_80_models.png',dpi=1200, bbox_inches='tight')\n",
    "plt.show()"
   ]
  },
  {
   "cell_type": "markdown",
   "id": "c330b61b",
   "metadata": {},
   "source": [
    "Ok, now that I've got an idea of which models are likely to be the best performers I'll go ahead and do some hyperparameter tuning on the top performers using 10% train data."
   ]
  },
  {
   "cell_type": "code",
   "execution_count": 15,
   "id": "11bfd5e3",
   "metadata": {},
   "outputs": [
    {
     "data": {
      "text/plain": [
       "{'alpha': 0.5444099693120762}"
      ]
     },
     "execution_count": 15,
     "metadata": {},
     "output_type": "execute_result"
    }
   ],
   "source": [
    "parameters = {'alpha': sp_randFloat(0.1,100)}\n",
    "ridge = Ridge(random_state = 15)\n",
    "ridge_reg = RandomizedSearchCV(ridge, parameters,scoring=['neg_root_mean_squared_error'],\\\n",
    "                               refit='neg_root_mean_squared_error', n_iter=60, cv=5)\n",
    "random_ridge = ridge_reg.fit(X_tr, y_tr)\n",
    "random_ridge.best_params_"
   ]
  },
  {
   "cell_type": "markdown",
   "id": "f78dbcea",
   "metadata": {},
   "source": [
    "I want to confirm that I'm finding a good spot for the alpha and make sure I don't need to adjust my bounds, so I'm going to plot the alphas against RMSE from the random search, and possible rerun it with a new range. I'll need to call the column names to know which ones I want to plot."
   ]
  },
  {
   "cell_type": "code",
   "execution_count": 16,
   "id": "e9a2d57d",
   "metadata": {},
   "outputs": [
    {
     "data": {
      "text/plain": [
       "Index(['mean_fit_time', 'std_fit_time', 'mean_score_time', 'std_score_time',\n",
       "       'param_alpha', 'params', 'split0_test_neg_root_mean_squared_error',\n",
       "       'split1_test_neg_root_mean_squared_error',\n",
       "       'split2_test_neg_root_mean_squared_error',\n",
       "       'split3_test_neg_root_mean_squared_error',\n",
       "       'split4_test_neg_root_mean_squared_error',\n",
       "       'mean_test_neg_root_mean_squared_error',\n",
       "       'std_test_neg_root_mean_squared_error',\n",
       "       'rank_test_neg_root_mean_squared_error'],\n",
       "      dtype='object')"
      ]
     },
     "execution_count": 16,
     "metadata": {},
     "output_type": "execute_result"
    }
   ],
   "source": [
    "random_ridge_results = pd.DataFrame(random_ridge.cv_results_)\n",
    "random_ridge_results.columns"
   ]
  },
  {
   "cell_type": "code",
   "execution_count": 17,
   "id": "db085a6c",
   "metadata": {},
   "outputs": [
    {
     "data": {
      "image/png": "[encoded data removed]",
      "text/plain": [
       "<Figure size 640x480 with 1 Axes>"
      ]
     },
     "metadata": {},
     "output_type": "display_data"
    }
   ],
   "source": [
    "plt.plot(random_ridge_results['param_alpha'], random_ridge_results['mean_test_neg_root_mean_squared_error'], marker='o',\\\n",
    "         linestyle='none')\n",
    "plt.title('Ridge Scoring')\n",
    "plt.xlabel('Alpha')\n",
    "plt.ylabel('Mean Negative RMSE')\n",
    "plt.show()"
   ]
  },
  {
   "cell_type": "markdown",
   "id": "cc824a30",
   "metadata": {},
   "source": [
    "So there's not a big change in RMSE, but I definitely want to move to smaller values."
   ]
  },
  {
   "cell_type": "code",
   "execution_count": 18,
   "id": "a43e1cc1",
   "metadata": {},
   "outputs": [
    {
     "data": {
      "text/plain": [
       "{'alpha': 0.0077743818514870435}"
      ]
     },
     "execution_count": 18,
     "metadata": {},
     "output_type": "execute_result"
    }
   ],
   "source": [
    "parameters = {'alpha': sp_randFloat(0.001,5)}\n",
    "ridge = Ridge(random_state = 15)\n",
    "ridge_reg = RandomizedSearchCV(ridge, parameters,scoring=['neg_root_mean_squared_error'],\\\n",
    "                               refit='neg_root_mean_squared_error', n_iter=60, cv=5)\n",
    "random_ridge = ridge_reg.fit(X_tr, y_tr)\n",
    "random_ridge.best_params_"
   ]
  },
  {
   "cell_type": "code",
   "execution_count": 19,
   "id": "11646d96",
   "metadata": {},
   "outputs": [
    {
     "data": {
      "image/png": "[encoded data removed]",
      "text/plain": [
       "<Figure size 640x480 with 1 Axes>"
      ]
     },
     "metadata": {},
     "output_type": "display_data"
    }
   ],
   "source": [
    "random_ridge_results = pd.DataFrame(random_ridge.cv_results_)\n",
    "plt.plot(random_ridge_results['param_alpha'], random_ridge_results['mean_test_neg_root_mean_squared_error'], marker='o',\\\n",
    "         linestyle='none')\n",
    "plt.title('Ridge Scoring')\n",
    "plt.xlabel('Alpha')\n",
    "plt.ylabel('Mean Negative RMSE')\n",
    "plt.show()"
   ]
  },
  {
   "cell_type": "markdown",
   "id": "c6729f0d",
   "metadata": {},
   "source": [
    "That's good enough for right now, let's add this to the results dataframe and move on."
   ]
  },
  {
   "cell_type": "code",
   "execution_count": 20,
   "id": "d52fb67c",
   "metadata": {
    "scrolled": true
   },
   "outputs": [
    {
     "name": "stdout",
     "output_type": "stream",
     "text": [
      "457.7423091028\n"
     ]
    }
   ],
   "source": [
    "ridge=Ridge(alpha=random_ridge.best_params_['alpha'], random_state = 15)\n",
    "ridge.fit(X_tr, y_tr)\n",
    "y_pred = ridge.predict(X_te)\n",
    "new_row = pd.DataFrame([{'Model' : 'Ridge', '% Train Data' : 10, 'MSE' : mean_squared_error(y_te, y_pred)}])\n",
    "train_scores = pd.concat([train_scores, new_row])\n",
    "print(mean_squared_error(y_te, y_pred))"
   ]
  },
  {
   "cell_type": "markdown",
   "id": "52fec428",
   "metadata": {},
   "source": [
    "On to lasso regression."
   ]
  },
  {
   "cell_type": "code",
   "execution_count": 21,
   "id": "ee1384f9",
   "metadata": {},
   "outputs": [
    {
     "data": {
      "text/plain": [
       "{'alpha': 41.503184034908415}"
      ]
     },
     "execution_count": 21,
     "metadata": {},
     "output_type": "execute_result"
    }
   ],
   "source": [
    "parameters = {'alpha': sp_randFloat(40,80)}\n",
    "lasso = linear_model.Lasso(tol = 0.01, random_state = 15)\n",
    "rand = RandomizedSearchCV(lasso, parameters, scoring=['neg_root_mean_squared_error'],\\\n",
    "                          refit='neg_root_mean_squared_error', n_iter=60, cv=5, random_state=0)\n",
    "rand_lasso = rand.fit(X_tr, y_tr)\n",
    "rand_lasso.best_params_"
   ]
  },
  {
   "cell_type": "code",
   "execution_count": 22,
   "id": "d5acf69d",
   "metadata": {},
   "outputs": [
    {
     "data": {
      "image/png": "[encoded data removed]",
      "text/plain": [
       "<Figure size 640x480 with 1 Axes>"
      ]
     },
     "metadata": {},
     "output_type": "display_data"
    }
   ],
   "source": [
    "rand_lasso_params = pd.DataFrame(rand_lasso.cv_results_)\n",
    "plt.plot(rand_lasso_params['param_alpha'], rand_lasso_params['mean_test_neg_root_mean_squared_error'], marker='o',\\\n",
    "         linestyle='none')\n",
    "plt.title('Lasso Scoring')\n",
    "plt.xlabel('Alpha')\n",
    "plt.ylabel('Mean Negative RMSE')\n",
    "plt.show()"
   ]
  },
  {
   "cell_type": "code",
   "execution_count": 23,
   "id": "5b0fd742",
   "metadata": {},
   "outputs": [
    {
     "name": "stdout",
     "output_type": "stream",
     "text": [
      "736.5861064872582\n"
     ]
    },
    {
     "name": "stderr",
     "output_type": "stream",
     "text": [
      "C:\\Users\\zbro1\\anaconda\\envs\\MOF\\lib\\site-packages\\sklearn\\linear_model\\_coordinate_descent.py:631: ConvergenceWarning: Objective did not converge. You might want to increase the number of iterations, check the scale of the features or consider increasing regularisation. Duality gap: 1.260e+04, tolerance: 8.481e+02\n",
      "  model = cd_fast.enet_coordinate_descent(\n"
     ]
    }
   ],
   "source": [
    "lasso = linear_model.Lasso(alpha=rand_lasso.best_params_['alpha'], random_state = 15)\n",
    "lasso.fit(X_tr, y_tr)\n",
    "y_pred = lasso.predict(X_te)\n",
    "new_row = pd.DataFrame([{'Model' : 'Lasso', '% Train Data' : 10, 'MSE' : mean_squared_error(y_te, y_pred)}])\n",
    "train_scores = pd.concat([train_scores, new_row])\n",
    "print(mean_squared_error(y_te, y_pred))"
   ]
  },
  {
   "cell_type": "code",
   "execution_count": null,
   "id": "7b5ed7b6",
   "metadata": {},
   "outputs": [],
   "source": [
    "parameters = {'max_features': sp_randFloat(0.1, 0.9),\n",
    "             'max_depth': sp_randInt(3,8),\n",
    "             'min_samples_leaf': sp_randInt(200,800),\n",
    "             'n_estimators': sp_randInt(500,1000)\n",
    "             }\n",
    "forest = RandomForestRegressor(n_jobs=-1, random_state=15)\n",
    "forest_reg = RandomizedSearchCV(forest, parameters, scoring='neg_root_mean_squared_error',\\\n",
    "                                refit='neg_root_mean_squared_error', n_iter=10, cv=5, random_state=15)\n",
    "rand_forest = forest_reg.fit(X_tr, y_tr)\n",
    "rand_forest.best_params_"
   ]
  },
  {
   "cell_type": "code",
   "execution_count": null,
   "id": "bfd53d09",
   "metadata": {},
   "outputs": [],
   "source": [
    "opt_forest = RandomForestRegressor(n_estimators=rand_forest.best_params_['n_estimators'],\\\n",
    "                                   max_features=rand_forest.best_params_['max_features'],\\\n",
    "                                   min_samples_leaf=rand_forest.best_params_['min_samples_leaf'],\\\n",
    "                                   max_depth=rand_forest.best_params_['max_depth'], n_jobs = -1, random_state=15)\n",
    "opt_forest.fit(X_tr, y_tr)\n",
    "y_pred = opt_forest.predict(X_te)\n",
    "new_row = pd.DataFrame([{'Model' : 'Random Forest', '% Train Data' : 10, 'MSE' : mean_squared_error(y_te, y_pred)}])\n",
    "train_scores = pd.concat([train_scores, new_row])\n",
    "mean_squared_error(y_te, y_pred)"
   ]
  },
  {
   "cell_type": "code",
   "execution_count": 26,
   "id": "ba6ddf62",
   "metadata": {},
   "outputs": [
    {
     "ename": "KeyboardInterrupt",
     "evalue": "",
     "output_type": "error",
     "traceback": [
      "\u001b[1;31m---------------------------------------------------------------------------\u001b[0m",
      "\u001b[1;31mKeyboardInterrupt\u001b[0m                         Traceback (most recent call last)",
      "Cell \u001b[1;32mIn[26], line 8\u001b[0m\n\u001b[0;32m      2\u001b[0m parameters \u001b[38;5;241m=\u001b[39m {\u001b[38;5;124m'\u001b[39m\u001b[38;5;124mn_estimators\u001b[39m\u001b[38;5;124m'\u001b[39m: sp_randInt(\u001b[38;5;241m500\u001b[39m,\u001b[38;5;241m1000\u001b[39m),\n\u001b[0;32m      3\u001b[0m              \u001b[38;5;124m'\u001b[39m\u001b[38;5;124mmax_depth\u001b[39m\u001b[38;5;124m'\u001b[39m: sp_randInt(\u001b[38;5;241m2\u001b[39m,\u001b[38;5;241m9\u001b[39m),\n\u001b[0;32m      4\u001b[0m              \u001b[38;5;124m'\u001b[39m\u001b[38;5;124meta\u001b[39m\u001b[38;5;124m'\u001b[39m: sp_randFloat(\u001b[38;5;241m0.0001\u001b[39m,\u001b[38;5;241m0.99\u001b[39m),\n\u001b[0;32m      5\u001b[0m              \u001b[38;5;124m'\u001b[39m\u001b[38;5;124mcolsample_bytree\u001b[39m\u001b[38;5;124m'\u001b[39m: sp_randFloat(\u001b[38;5;241m0.01\u001b[39m,\u001b[38;5;241m0.99\u001b[39m)} \n\u001b[0;32m      6\u001b[0m rand_xgb \u001b[38;5;241m=\u001b[39m RandomizedSearchCV(xgb, parameters, scoring\u001b[38;5;241m=\u001b[39m\u001b[38;5;124m'\u001b[39m\u001b[38;5;124mneg_root_mean_squared_error\u001b[39m\u001b[38;5;124m'\u001b[39m,\\\n\u001b[0;32m      7\u001b[0m                                 refit\u001b[38;5;241m=\u001b[39m\u001b[38;5;124m'\u001b[39m\u001b[38;5;124mneg_root_mean_squared_error\u001b[39m\u001b[38;5;124m'\u001b[39m, n_iter\u001b[38;5;241m=\u001b[39m\u001b[38;5;241m15\u001b[39m, cv\u001b[38;5;241m=\u001b[39m\u001b[38;5;241m5\u001b[39m, random_state\u001b[38;5;241m=\u001b[39m\u001b[38;5;241m15\u001b[39m)\n\u001b[1;32m----> 8\u001b[0m xgbooster \u001b[38;5;241m=\u001b[39m \u001b[43mrand_xgb\u001b[49m\u001b[38;5;241;43m.\u001b[39;49m\u001b[43mfit\u001b[49m\u001b[43m(\u001b[49m\u001b[43mX_tr\u001b[49m\u001b[43m,\u001b[49m\u001b[43m \u001b[49m\u001b[43my_tr\u001b[49m\u001b[43m)\u001b[49m\n\u001b[0;32m      9\u001b[0m xgbooster\u001b[38;5;241m.\u001b[39mbest_params_\n",
      "File \u001b[1;32m~\\anaconda\\envs\\MOF\\lib\\site-packages\\sklearn\\model_selection\\_search.py:874\u001b[0m, in \u001b[0;36mBaseSearchCV.fit\u001b[1;34m(self, X, y, groups, **fit_params)\u001b[0m\n\u001b[0;32m    868\u001b[0m     results \u001b[38;5;241m=\u001b[39m \u001b[38;5;28mself\u001b[39m\u001b[38;5;241m.\u001b[39m_format_results(\n\u001b[0;32m    869\u001b[0m         all_candidate_params, n_splits, all_out, all_more_results\n\u001b[0;32m    870\u001b[0m     )\n\u001b[0;32m    872\u001b[0m     \u001b[38;5;28;01mreturn\u001b[39;00m results\n\u001b[1;32m--> 874\u001b[0m \u001b[38;5;28;43mself\u001b[39;49m\u001b[38;5;241;43m.\u001b[39;49m\u001b[43m_run_search\u001b[49m\u001b[43m(\u001b[49m\u001b[43mevaluate_candidates\u001b[49m\u001b[43m)\u001b[49m\n\u001b[0;32m    876\u001b[0m \u001b[38;5;66;03m# multimetric is determined here because in the case of a callable\u001b[39;00m\n\u001b[0;32m    877\u001b[0m \u001b[38;5;66;03m# self.scoring the return type is only known after calling\u001b[39;00m\n\u001b[0;32m    878\u001b[0m first_test_score \u001b[38;5;241m=\u001b[39m all_out[\u001b[38;5;241m0\u001b[39m][\u001b[38;5;124m\"\u001b[39m\u001b[38;5;124mtest_scores\u001b[39m\u001b[38;5;124m\"\u001b[39m]\n",
      "File \u001b[1;32m~\\anaconda\\envs\\MOF\\lib\\site-packages\\sklearn\\model_selection\\_search.py:1768\u001b[0m, in \u001b[0;36mRandomizedSearchCV._run_search\u001b[1;34m(self, evaluate_candidates)\u001b[0m\n\u001b[0;32m   1766\u001b[0m \u001b[38;5;28;01mdef\u001b[39;00m \u001b[38;5;21m_run_search\u001b[39m(\u001b[38;5;28mself\u001b[39m, evaluate_candidates):\n\u001b[0;32m   1767\u001b[0m     \u001b[38;5;124;03m\"\"\"Search n_iter candidates from param_distributions\"\"\"\u001b[39;00m\n\u001b[1;32m-> 1768\u001b[0m     \u001b[43mevaluate_candidates\u001b[49m\u001b[43m(\u001b[49m\n\u001b[0;32m   1769\u001b[0m \u001b[43m        \u001b[49m\u001b[43mParameterSampler\u001b[49m\u001b[43m(\u001b[49m\n\u001b[0;32m   1770\u001b[0m \u001b[43m            \u001b[49m\u001b[38;5;28;43mself\u001b[39;49m\u001b[38;5;241;43m.\u001b[39;49m\u001b[43mparam_distributions\u001b[49m\u001b[43m,\u001b[49m\u001b[43m \u001b[49m\u001b[38;5;28;43mself\u001b[39;49m\u001b[38;5;241;43m.\u001b[39;49m\u001b[43mn_iter\u001b[49m\u001b[43m,\u001b[49m\u001b[43m \u001b[49m\u001b[43mrandom_state\u001b[49m\u001b[38;5;241;43m=\u001b[39;49m\u001b[38;5;28;43mself\u001b[39;49m\u001b[38;5;241;43m.\u001b[39;49m\u001b[43mrandom_state\u001b[49m\n\u001b[0;32m   1771\u001b[0m \u001b[43m        \u001b[49m\u001b[43m)\u001b[49m\n\u001b[0;32m   1772\u001b[0m \u001b[43m    \u001b[49m\u001b[43m)\u001b[49m\n",
      "File \u001b[1;32m~\\anaconda\\envs\\MOF\\lib\\site-packages\\sklearn\\model_selection\\_search.py:821\u001b[0m, in \u001b[0;36mBaseSearchCV.fit.<locals>.evaluate_candidates\u001b[1;34m(candidate_params, cv, more_results)\u001b[0m\n\u001b[0;32m    813\u001b[0m \u001b[38;5;28;01mif\u001b[39;00m \u001b[38;5;28mself\u001b[39m\u001b[38;5;241m.\u001b[39mverbose \u001b[38;5;241m>\u001b[39m \u001b[38;5;241m0\u001b[39m:\n\u001b[0;32m    814\u001b[0m     \u001b[38;5;28mprint\u001b[39m(\n\u001b[0;32m    815\u001b[0m         \u001b[38;5;124m\"\u001b[39m\u001b[38;5;124mFitting \u001b[39m\u001b[38;5;132;01m{0}\u001b[39;00m\u001b[38;5;124m folds for each of \u001b[39m\u001b[38;5;132;01m{1}\u001b[39;00m\u001b[38;5;124m candidates,\u001b[39m\u001b[38;5;124m\"\u001b[39m\n\u001b[0;32m    816\u001b[0m         \u001b[38;5;124m\"\u001b[39m\u001b[38;5;124m totalling \u001b[39m\u001b[38;5;132;01m{2}\u001b[39;00m\u001b[38;5;124m fits\u001b[39m\u001b[38;5;124m\"\u001b[39m\u001b[38;5;241m.\u001b[39mformat(\n\u001b[0;32m    817\u001b[0m             n_splits, n_candidates, n_candidates \u001b[38;5;241m*\u001b[39m n_splits\n\u001b[0;32m    818\u001b[0m         )\n\u001b[0;32m    819\u001b[0m     )\n\u001b[1;32m--> 821\u001b[0m out \u001b[38;5;241m=\u001b[39m \u001b[43mparallel\u001b[49m\u001b[43m(\u001b[49m\n\u001b[0;32m    822\u001b[0m \u001b[43m    \u001b[49m\u001b[43mdelayed\u001b[49m\u001b[43m(\u001b[49m\u001b[43m_fit_and_score\u001b[49m\u001b[43m)\u001b[49m\u001b[43m(\u001b[49m\n\u001b[0;32m    823\u001b[0m \u001b[43m        \u001b[49m\u001b[43mclone\u001b[49m\u001b[43m(\u001b[49m\u001b[43mbase_estimator\u001b[49m\u001b[43m)\u001b[49m\u001b[43m,\u001b[49m\n\u001b[0;32m    824\u001b[0m \u001b[43m        \u001b[49m\u001b[43mX\u001b[49m\u001b[43m,\u001b[49m\n\u001b[0;32m    825\u001b[0m \u001b[43m        \u001b[49m\u001b[43my\u001b[49m\u001b[43m,\u001b[49m\n\u001b[0;32m    826\u001b[0m \u001b[43m        \u001b[49m\u001b[43mtrain\u001b[49m\u001b[38;5;241;43m=\u001b[39;49m\u001b[43mtrain\u001b[49m\u001b[43m,\u001b[49m\n\u001b[0;32m    827\u001b[0m \u001b[43m        \u001b[49m\u001b[43mtest\u001b[49m\u001b[38;5;241;43m=\u001b[39;49m\u001b[43mtest\u001b[49m\u001b[43m,\u001b[49m\n\u001b[0;32m    828\u001b[0m \u001b[43m        \u001b[49m\u001b[43mparameters\u001b[49m\u001b[38;5;241;43m=\u001b[39;49m\u001b[43mparameters\u001b[49m\u001b[43m,\u001b[49m\n\u001b[0;32m    829\u001b[0m \u001b[43m        \u001b[49m\u001b[43msplit_progress\u001b[49m\u001b[38;5;241;43m=\u001b[39;49m\u001b[43m(\u001b[49m\u001b[43msplit_idx\u001b[49m\u001b[43m,\u001b[49m\u001b[43m \u001b[49m\u001b[43mn_splits\u001b[49m\u001b[43m)\u001b[49m\u001b[43m,\u001b[49m\n\u001b[0;32m    830\u001b[0m \u001b[43m        \u001b[49m\u001b[43mcandidate_progress\u001b[49m\u001b[38;5;241;43m=\u001b[39;49m\u001b[43m(\u001b[49m\u001b[43mcand_idx\u001b[49m\u001b[43m,\u001b[49m\u001b[43m \u001b[49m\u001b[43mn_candidates\u001b[49m\u001b[43m)\u001b[49m\u001b[43m,\u001b[49m\n\u001b[0;32m    831\u001b[0m \u001b[43m        \u001b[49m\u001b[38;5;241;43m*\u001b[39;49m\u001b[38;5;241;43m*\u001b[39;49m\u001b[43mfit_and_score_kwargs\u001b[49m\u001b[43m,\u001b[49m\n\u001b[0;32m    832\u001b[0m \u001b[43m    \u001b[49m\u001b[43m)\u001b[49m\n\u001b[0;32m    833\u001b[0m \u001b[43m    \u001b[49m\u001b[38;5;28;43;01mfor\u001b[39;49;00m\u001b[43m \u001b[49m\u001b[43m(\u001b[49m\u001b[43mcand_idx\u001b[49m\u001b[43m,\u001b[49m\u001b[43m \u001b[49m\u001b[43mparameters\u001b[49m\u001b[43m)\u001b[49m\u001b[43m,\u001b[49m\u001b[43m \u001b[49m\u001b[43m(\u001b[49m\u001b[43msplit_idx\u001b[49m\u001b[43m,\u001b[49m\u001b[43m \u001b[49m\u001b[43m(\u001b[49m\u001b[43mtrain\u001b[49m\u001b[43m,\u001b[49m\u001b[43m \u001b[49m\u001b[43mtest\u001b[49m\u001b[43m)\u001b[49m\u001b[43m)\u001b[49m\u001b[43m \u001b[49m\u001b[38;5;129;43;01min\u001b[39;49;00m\u001b[43m \u001b[49m\u001b[43mproduct\u001b[49m\u001b[43m(\u001b[49m\n\u001b[0;32m    834\u001b[0m \u001b[43m        \u001b[49m\u001b[38;5;28;43menumerate\u001b[39;49m\u001b[43m(\u001b[49m\u001b[43mcandidate_params\u001b[49m\u001b[43m)\u001b[49m\u001b[43m,\u001b[49m\u001b[43m \u001b[49m\u001b[38;5;28;43menumerate\u001b[39;49m\u001b[43m(\u001b[49m\u001b[43mcv\u001b[49m\u001b[38;5;241;43m.\u001b[39;49m\u001b[43msplit\u001b[49m\u001b[43m(\u001b[49m\u001b[43mX\u001b[49m\u001b[43m,\u001b[49m\u001b[43m \u001b[49m\u001b[43my\u001b[49m\u001b[43m,\u001b[49m\u001b[43m \u001b[49m\u001b[43mgroups\u001b[49m\u001b[43m)\u001b[49m\u001b[43m)\u001b[49m\n\u001b[0;32m    835\u001b[0m \u001b[43m    \u001b[49m\u001b[43m)\u001b[49m\n\u001b[0;32m    836\u001b[0m \u001b[43m\u001b[49m\u001b[43m)\u001b[49m\n\u001b[0;32m    838\u001b[0m \u001b[38;5;28;01mif\u001b[39;00m \u001b[38;5;28mlen\u001b[39m(out) \u001b[38;5;241m<\u001b[39m \u001b[38;5;241m1\u001b[39m:\n\u001b[0;32m    839\u001b[0m     \u001b[38;5;28;01mraise\u001b[39;00m \u001b[38;5;167;01mValueError\u001b[39;00m(\n\u001b[0;32m    840\u001b[0m         \u001b[38;5;124m\"\u001b[39m\u001b[38;5;124mNo fits were performed. \u001b[39m\u001b[38;5;124m\"\u001b[39m\n\u001b[0;32m    841\u001b[0m         \u001b[38;5;124m\"\u001b[39m\u001b[38;5;124mWas the CV iterator empty? \u001b[39m\u001b[38;5;124m\"\u001b[39m\n\u001b[0;32m    842\u001b[0m         \u001b[38;5;124m\"\u001b[39m\u001b[38;5;124mWere there no candidates?\u001b[39m\u001b[38;5;124m\"\u001b[39m\n\u001b[0;32m    843\u001b[0m     )\n",
      "File \u001b[1;32m~\\anaconda\\envs\\MOF\\lib\\site-packages\\sklearn\\utils\\parallel.py:63\u001b[0m, in \u001b[0;36mParallel.__call__\u001b[1;34m(self, iterable)\u001b[0m\n\u001b[0;32m     58\u001b[0m config \u001b[38;5;241m=\u001b[39m get_config()\n\u001b[0;32m     59\u001b[0m iterable_with_config \u001b[38;5;241m=\u001b[39m (\n\u001b[0;32m     60\u001b[0m     (_with_config(delayed_func, config), args, kwargs)\n\u001b[0;32m     61\u001b[0m     \u001b[38;5;28;01mfor\u001b[39;00m delayed_func, args, kwargs \u001b[38;5;129;01min\u001b[39;00m iterable\n\u001b[0;32m     62\u001b[0m )\n\u001b[1;32m---> 63\u001b[0m \u001b[38;5;28;01mreturn\u001b[39;00m \u001b[38;5;28;43msuper\u001b[39;49m\u001b[43m(\u001b[49m\u001b[43m)\u001b[49m\u001b[38;5;241;43m.\u001b[39;49m\u001b[38;5;21;43m__call__\u001b[39;49m\u001b[43m(\u001b[49m\u001b[43miterable_with_config\u001b[49m\u001b[43m)\u001b[49m\n",
      "File \u001b[1;32m~\\anaconda\\envs\\MOF\\lib\\site-packages\\joblib\\parallel.py:1088\u001b[0m, in \u001b[0;36mParallel.__call__\u001b[1;34m(self, iterable)\u001b[0m\n\u001b[0;32m   1085\u001b[0m \u001b[38;5;28;01mif\u001b[39;00m \u001b[38;5;28mself\u001b[39m\u001b[38;5;241m.\u001b[39mdispatch_one_batch(iterator):\n\u001b[0;32m   1086\u001b[0m     \u001b[38;5;28mself\u001b[39m\u001b[38;5;241m.\u001b[39m_iterating \u001b[38;5;241m=\u001b[39m \u001b[38;5;28mself\u001b[39m\u001b[38;5;241m.\u001b[39m_original_iterator \u001b[38;5;129;01mis\u001b[39;00m \u001b[38;5;129;01mnot\u001b[39;00m \u001b[38;5;28;01mNone\u001b[39;00m\n\u001b[1;32m-> 1088\u001b[0m \u001b[38;5;28;01mwhile\u001b[39;00m \u001b[38;5;28;43mself\u001b[39;49m\u001b[38;5;241;43m.\u001b[39;49m\u001b[43mdispatch_one_batch\u001b[49m\u001b[43m(\u001b[49m\u001b[43miterator\u001b[49m\u001b[43m)\u001b[49m:\n\u001b[0;32m   1089\u001b[0m     \u001b[38;5;28;01mpass\u001b[39;00m\n\u001b[0;32m   1091\u001b[0m \u001b[38;5;28;01mif\u001b[39;00m pre_dispatch \u001b[38;5;241m==\u001b[39m \u001b[38;5;124m\"\u001b[39m\u001b[38;5;124mall\u001b[39m\u001b[38;5;124m\"\u001b[39m \u001b[38;5;129;01mor\u001b[39;00m n_jobs \u001b[38;5;241m==\u001b[39m \u001b[38;5;241m1\u001b[39m:\n\u001b[0;32m   1092\u001b[0m     \u001b[38;5;66;03m# The iterable was consumed all at once by the above for loop.\u001b[39;00m\n\u001b[0;32m   1093\u001b[0m     \u001b[38;5;66;03m# No need to wait for async callbacks to trigger to\u001b[39;00m\n\u001b[0;32m   1094\u001b[0m     \u001b[38;5;66;03m# consumption.\u001b[39;00m\n",
      "File \u001b[1;32m~\\anaconda\\envs\\MOF\\lib\\site-packages\\joblib\\parallel.py:901\u001b[0m, in \u001b[0;36mParallel.dispatch_one_batch\u001b[1;34m(self, iterator)\u001b[0m\n\u001b[0;32m    899\u001b[0m     \u001b[38;5;28;01mreturn\u001b[39;00m \u001b[38;5;28;01mFalse\u001b[39;00m\n\u001b[0;32m    900\u001b[0m \u001b[38;5;28;01melse\u001b[39;00m:\n\u001b[1;32m--> 901\u001b[0m     \u001b[38;5;28;43mself\u001b[39;49m\u001b[38;5;241;43m.\u001b[39;49m\u001b[43m_dispatch\u001b[49m\u001b[43m(\u001b[49m\u001b[43mtasks\u001b[49m\u001b[43m)\u001b[49m\n\u001b[0;32m    902\u001b[0m     \u001b[38;5;28;01mreturn\u001b[39;00m \u001b[38;5;28;01mTrue\u001b[39;00m\n",
      "File \u001b[1;32m~\\anaconda\\envs\\MOF\\lib\\site-packages\\joblib\\parallel.py:819\u001b[0m, in \u001b[0;36mParallel._dispatch\u001b[1;34m(self, batch)\u001b[0m\n\u001b[0;32m    817\u001b[0m \u001b[38;5;28;01mwith\u001b[39;00m \u001b[38;5;28mself\u001b[39m\u001b[38;5;241m.\u001b[39m_lock:\n\u001b[0;32m    818\u001b[0m     job_idx \u001b[38;5;241m=\u001b[39m \u001b[38;5;28mlen\u001b[39m(\u001b[38;5;28mself\u001b[39m\u001b[38;5;241m.\u001b[39m_jobs)\n\u001b[1;32m--> 819\u001b[0m     job \u001b[38;5;241m=\u001b[39m \u001b[38;5;28;43mself\u001b[39;49m\u001b[38;5;241;43m.\u001b[39;49m\u001b[43m_backend\u001b[49m\u001b[38;5;241;43m.\u001b[39;49m\u001b[43mapply_async\u001b[49m\u001b[43m(\u001b[49m\u001b[43mbatch\u001b[49m\u001b[43m,\u001b[49m\u001b[43m \u001b[49m\u001b[43mcallback\u001b[49m\u001b[38;5;241;43m=\u001b[39;49m\u001b[43mcb\u001b[49m\u001b[43m)\u001b[49m\n\u001b[0;32m    820\u001b[0m     \u001b[38;5;66;03m# A job can complete so quickly than its callback is\u001b[39;00m\n\u001b[0;32m    821\u001b[0m     \u001b[38;5;66;03m# called before we get here, causing self._jobs to\u001b[39;00m\n\u001b[0;32m    822\u001b[0m     \u001b[38;5;66;03m# grow. To ensure correct results ordering, .insert is\u001b[39;00m\n\u001b[0;32m    823\u001b[0m     \u001b[38;5;66;03m# used (rather than .append) in the following line\u001b[39;00m\n\u001b[0;32m    824\u001b[0m     \u001b[38;5;28mself\u001b[39m\u001b[38;5;241m.\u001b[39m_jobs\u001b[38;5;241m.\u001b[39minsert(job_idx, job)\n",
      "File \u001b[1;32m~\\anaconda\\envs\\MOF\\lib\\site-packages\\joblib\\_parallel_backends.py:208\u001b[0m, in \u001b[0;36mSequentialBackend.apply_async\u001b[1;34m(self, func, callback)\u001b[0m\n\u001b[0;32m    206\u001b[0m \u001b[38;5;28;01mdef\u001b[39;00m \u001b[38;5;21mapply_async\u001b[39m(\u001b[38;5;28mself\u001b[39m, func, callback\u001b[38;5;241m=\u001b[39m\u001b[38;5;28;01mNone\u001b[39;00m):\n\u001b[0;32m    207\u001b[0m     \u001b[38;5;124;03m\"\"\"Schedule a func to be run\"\"\"\u001b[39;00m\n\u001b[1;32m--> 208\u001b[0m     result \u001b[38;5;241m=\u001b[39m \u001b[43mImmediateResult\u001b[49m\u001b[43m(\u001b[49m\u001b[43mfunc\u001b[49m\u001b[43m)\u001b[49m\n\u001b[0;32m    209\u001b[0m     \u001b[38;5;28;01mif\u001b[39;00m callback:\n\u001b[0;32m    210\u001b[0m         callback(result)\n",
      "File \u001b[1;32m~\\anaconda\\envs\\MOF\\lib\\site-packages\\joblib\\_parallel_backends.py:597\u001b[0m, in \u001b[0;36mImmediateResult.__init__\u001b[1;34m(self, batch)\u001b[0m\n\u001b[0;32m    594\u001b[0m \u001b[38;5;28;01mdef\u001b[39;00m \u001b[38;5;21m__init__\u001b[39m(\u001b[38;5;28mself\u001b[39m, batch):\n\u001b[0;32m    595\u001b[0m     \u001b[38;5;66;03m# Don't delay the application, to avoid keeping the input\u001b[39;00m\n\u001b[0;32m    596\u001b[0m     \u001b[38;5;66;03m# arguments in memory\u001b[39;00m\n\u001b[1;32m--> 597\u001b[0m     \u001b[38;5;28mself\u001b[39m\u001b[38;5;241m.\u001b[39mresults \u001b[38;5;241m=\u001b[39m \u001b[43mbatch\u001b[49m\u001b[43m(\u001b[49m\u001b[43m)\u001b[49m\n",
      "File \u001b[1;32m~\\anaconda\\envs\\MOF\\lib\\site-packages\\joblib\\parallel.py:288\u001b[0m, in \u001b[0;36mBatchedCalls.__call__\u001b[1;34m(self)\u001b[0m\n\u001b[0;32m    284\u001b[0m \u001b[38;5;28;01mdef\u001b[39;00m \u001b[38;5;21m__call__\u001b[39m(\u001b[38;5;28mself\u001b[39m):\n\u001b[0;32m    285\u001b[0m     \u001b[38;5;66;03m# Set the default nested backend to self._backend but do not set the\u001b[39;00m\n\u001b[0;32m    286\u001b[0m     \u001b[38;5;66;03m# change the default number of processes to -1\u001b[39;00m\n\u001b[0;32m    287\u001b[0m     \u001b[38;5;28;01mwith\u001b[39;00m parallel_backend(\u001b[38;5;28mself\u001b[39m\u001b[38;5;241m.\u001b[39m_backend, n_jobs\u001b[38;5;241m=\u001b[39m\u001b[38;5;28mself\u001b[39m\u001b[38;5;241m.\u001b[39m_n_jobs):\n\u001b[1;32m--> 288\u001b[0m         \u001b[38;5;28;01mreturn\u001b[39;00m [func(\u001b[38;5;241m*\u001b[39margs, \u001b[38;5;241m*\u001b[39m\u001b[38;5;241m*\u001b[39mkwargs)\n\u001b[0;32m    289\u001b[0m                 \u001b[38;5;28;01mfor\u001b[39;00m func, args, kwargs \u001b[38;5;129;01min\u001b[39;00m \u001b[38;5;28mself\u001b[39m\u001b[38;5;241m.\u001b[39mitems]\n",
      "File \u001b[1;32m~\\anaconda\\envs\\MOF\\lib\\site-packages\\joblib\\parallel.py:288\u001b[0m, in \u001b[0;36m<listcomp>\u001b[1;34m(.0)\u001b[0m\n\u001b[0;32m    284\u001b[0m \u001b[38;5;28;01mdef\u001b[39;00m \u001b[38;5;21m__call__\u001b[39m(\u001b[38;5;28mself\u001b[39m):\n\u001b[0;32m    285\u001b[0m     \u001b[38;5;66;03m# Set the default nested backend to self._backend but do not set the\u001b[39;00m\n\u001b[0;32m    286\u001b[0m     \u001b[38;5;66;03m# change the default number of processes to -1\u001b[39;00m\n\u001b[0;32m    287\u001b[0m     \u001b[38;5;28;01mwith\u001b[39;00m parallel_backend(\u001b[38;5;28mself\u001b[39m\u001b[38;5;241m.\u001b[39m_backend, n_jobs\u001b[38;5;241m=\u001b[39m\u001b[38;5;28mself\u001b[39m\u001b[38;5;241m.\u001b[39m_n_jobs):\n\u001b[1;32m--> 288\u001b[0m         \u001b[38;5;28;01mreturn\u001b[39;00m [func(\u001b[38;5;241m*\u001b[39margs, \u001b[38;5;241m*\u001b[39m\u001b[38;5;241m*\u001b[39mkwargs)\n\u001b[0;32m    289\u001b[0m                 \u001b[38;5;28;01mfor\u001b[39;00m func, args, kwargs \u001b[38;5;129;01min\u001b[39;00m \u001b[38;5;28mself\u001b[39m\u001b[38;5;241m.\u001b[39mitems]\n",
      "File \u001b[1;32m~\\anaconda\\envs\\MOF\\lib\\site-packages\\sklearn\\utils\\parallel.py:123\u001b[0m, in \u001b[0;36m_FuncWrapper.__call__\u001b[1;34m(self, *args, **kwargs)\u001b[0m\n\u001b[0;32m    121\u001b[0m     config \u001b[38;5;241m=\u001b[39m {}\n\u001b[0;32m    122\u001b[0m \u001b[38;5;28;01mwith\u001b[39;00m config_context(\u001b[38;5;241m*\u001b[39m\u001b[38;5;241m*\u001b[39mconfig):\n\u001b[1;32m--> 123\u001b[0m     \u001b[38;5;28;01mreturn\u001b[39;00m \u001b[38;5;28mself\u001b[39m\u001b[38;5;241m.\u001b[39mfunction(\u001b[38;5;241m*\u001b[39margs, \u001b[38;5;241m*\u001b[39m\u001b[38;5;241m*\u001b[39mkwargs)\n",
      "File \u001b[1;32m~\\anaconda\\envs\\MOF\\lib\\site-packages\\sklearn\\model_selection\\_validation.py:686\u001b[0m, in \u001b[0;36m_fit_and_score\u001b[1;34m(estimator, X, y, scorer, train, test, verbose, parameters, fit_params, return_train_score, return_parameters, return_n_test_samples, return_times, return_estimator, split_progress, candidate_progress, error_score)\u001b[0m\n\u001b[0;32m    684\u001b[0m         estimator\u001b[38;5;241m.\u001b[39mfit(X_train, \u001b[38;5;241m*\u001b[39m\u001b[38;5;241m*\u001b[39mfit_params)\n\u001b[0;32m    685\u001b[0m     \u001b[38;5;28;01melse\u001b[39;00m:\n\u001b[1;32m--> 686\u001b[0m         estimator\u001b[38;5;241m.\u001b[39mfit(X_train, y_train, \u001b[38;5;241m*\u001b[39m\u001b[38;5;241m*\u001b[39mfit_params)\n\u001b[0;32m    688\u001b[0m \u001b[38;5;28;01mexcept\u001b[39;00m \u001b[38;5;167;01mException\u001b[39;00m:\n\u001b[0;32m    689\u001b[0m     \u001b[38;5;66;03m# Note fit time as time until error\u001b[39;00m\n\u001b[0;32m    690\u001b[0m     fit_time \u001b[38;5;241m=\u001b[39m time\u001b[38;5;241m.\u001b[39mtime() \u001b[38;5;241m-\u001b[39m start_time\n",
      "File \u001b[1;32m~\\anaconda\\envs\\MOF\\lib\\site-packages\\xgboost\\core.py:620\u001b[0m, in \u001b[0;36mrequire_keyword_args.<locals>.throw_if.<locals>.inner_f\u001b[1;34m(*args, **kwargs)\u001b[0m\n\u001b[0;32m    618\u001b[0m \u001b[38;5;28;01mfor\u001b[39;00m k, arg \u001b[38;5;129;01min\u001b[39;00m \u001b[38;5;28mzip\u001b[39m(sig\u001b[38;5;241m.\u001b[39mparameters, args):\n\u001b[0;32m    619\u001b[0m     kwargs[k] \u001b[38;5;241m=\u001b[39m arg\n\u001b[1;32m--> 620\u001b[0m \u001b[38;5;28;01mreturn\u001b[39;00m func(\u001b[38;5;241m*\u001b[39m\u001b[38;5;241m*\u001b[39mkwargs)\n",
      "File \u001b[1;32m~\\anaconda\\envs\\MOF\\lib\\site-packages\\xgboost\\sklearn.py:1025\u001b[0m, in \u001b[0;36mXGBModel.fit\u001b[1;34m(self, X, y, sample_weight, base_margin, eval_set, eval_metric, early_stopping_rounds, verbose, xgb_model, sample_weight_eval_set, base_margin_eval_set, feature_weights, callbacks)\u001b[0m\n\u001b[0;32m   1014\u001b[0m     obj \u001b[38;5;241m=\u001b[39m \u001b[38;5;28;01mNone\u001b[39;00m\n\u001b[0;32m   1016\u001b[0m (\n\u001b[0;32m   1017\u001b[0m     model,\n\u001b[0;32m   1018\u001b[0m     metric,\n\u001b[1;32m   (...)\u001b[0m\n\u001b[0;32m   1023\u001b[0m     xgb_model, eval_metric, params, early_stopping_rounds, callbacks\n\u001b[0;32m   1024\u001b[0m )\n\u001b[1;32m-> 1025\u001b[0m \u001b[38;5;28mself\u001b[39m\u001b[38;5;241m.\u001b[39m_Booster \u001b[38;5;241m=\u001b[39m \u001b[43mtrain\u001b[49m\u001b[43m(\u001b[49m\n\u001b[0;32m   1026\u001b[0m \u001b[43m    \u001b[49m\u001b[43mparams\u001b[49m\u001b[43m,\u001b[49m\n\u001b[0;32m   1027\u001b[0m \u001b[43m    \u001b[49m\u001b[43mtrain_dmatrix\u001b[49m\u001b[43m,\u001b[49m\n\u001b[0;32m   1028\u001b[0m \u001b[43m    \u001b[49m\u001b[38;5;28;43mself\u001b[39;49m\u001b[38;5;241;43m.\u001b[39;49m\u001b[43mget_num_boosting_rounds\u001b[49m\u001b[43m(\u001b[49m\u001b[43m)\u001b[49m\u001b[43m,\u001b[49m\n\u001b[0;32m   1029\u001b[0m \u001b[43m    \u001b[49m\u001b[43mevals\u001b[49m\u001b[38;5;241;43m=\u001b[39;49m\u001b[43mevals\u001b[49m\u001b[43m,\u001b[49m\n\u001b[0;32m   1030\u001b[0m \u001b[43m    \u001b[49m\u001b[43mearly_stopping_rounds\u001b[49m\u001b[38;5;241;43m=\u001b[39;49m\u001b[43mearly_stopping_rounds\u001b[49m\u001b[43m,\u001b[49m\n\u001b[0;32m   1031\u001b[0m \u001b[43m    \u001b[49m\u001b[43mevals_result\u001b[49m\u001b[38;5;241;43m=\u001b[39;49m\u001b[43mevals_result\u001b[49m\u001b[43m,\u001b[49m\n\u001b[0;32m   1032\u001b[0m \u001b[43m    \u001b[49m\u001b[43mobj\u001b[49m\u001b[38;5;241;43m=\u001b[39;49m\u001b[43mobj\u001b[49m\u001b[43m,\u001b[49m\n\u001b[0;32m   1033\u001b[0m \u001b[43m    \u001b[49m\u001b[43mcustom_metric\u001b[49m\u001b[38;5;241;43m=\u001b[39;49m\u001b[43mmetric\u001b[49m\u001b[43m,\u001b[49m\n\u001b[0;32m   1034\u001b[0m \u001b[43m    \u001b[49m\u001b[43mverbose_eval\u001b[49m\u001b[38;5;241;43m=\u001b[39;49m\u001b[43mverbose\u001b[49m\u001b[43m,\u001b[49m\n\u001b[0;32m   1035\u001b[0m \u001b[43m    \u001b[49m\u001b[43mxgb_model\u001b[49m\u001b[38;5;241;43m=\u001b[39;49m\u001b[43mmodel\u001b[49m\u001b[43m,\u001b[49m\n\u001b[0;32m   1036\u001b[0m \u001b[43m    \u001b[49m\u001b[43mcallbacks\u001b[49m\u001b[38;5;241;43m=\u001b[39;49m\u001b[43mcallbacks\u001b[49m\u001b[43m,\u001b[49m\n\u001b[0;32m   1037\u001b[0m \u001b[43m\u001b[49m\u001b[43m)\u001b[49m\n\u001b[0;32m   1039\u001b[0m \u001b[38;5;28mself\u001b[39m\u001b[38;5;241m.\u001b[39m_set_evaluation_result(evals_result)\n\u001b[0;32m   1040\u001b[0m \u001b[38;5;28;01mreturn\u001b[39;00m \u001b[38;5;28mself\u001b[39m\n",
      "File \u001b[1;32m~\\anaconda\\envs\\MOF\\lib\\site-packages\\xgboost\\core.py:620\u001b[0m, in \u001b[0;36mrequire_keyword_args.<locals>.throw_if.<locals>.inner_f\u001b[1;34m(*args, **kwargs)\u001b[0m\n\u001b[0;32m    618\u001b[0m \u001b[38;5;28;01mfor\u001b[39;00m k, arg \u001b[38;5;129;01min\u001b[39;00m \u001b[38;5;28mzip\u001b[39m(sig\u001b[38;5;241m.\u001b[39mparameters, args):\n\u001b[0;32m    619\u001b[0m     kwargs[k] \u001b[38;5;241m=\u001b[39m arg\n\u001b[1;32m--> 620\u001b[0m \u001b[38;5;28;01mreturn\u001b[39;00m func(\u001b[38;5;241m*\u001b[39m\u001b[38;5;241m*\u001b[39mkwargs)\n",
      "File \u001b[1;32m~\\anaconda\\envs\\MOF\\lib\\site-packages\\xgboost\\training.py:185\u001b[0m, in \u001b[0;36mtrain\u001b[1;34m(params, dtrain, num_boost_round, evals, obj, feval, maximize, early_stopping_rounds, evals_result, verbose_eval, xgb_model, callbacks, custom_metric)\u001b[0m\n\u001b[0;32m    183\u001b[0m \u001b[38;5;28;01mif\u001b[39;00m cb_container\u001b[38;5;241m.\u001b[39mbefore_iteration(bst, i, dtrain, evals):\n\u001b[0;32m    184\u001b[0m     \u001b[38;5;28;01mbreak\u001b[39;00m\n\u001b[1;32m--> 185\u001b[0m \u001b[43mbst\u001b[49m\u001b[38;5;241;43m.\u001b[39;49m\u001b[43mupdate\u001b[49m\u001b[43m(\u001b[49m\u001b[43mdtrain\u001b[49m\u001b[43m,\u001b[49m\u001b[43m \u001b[49m\u001b[43mi\u001b[49m\u001b[43m,\u001b[49m\u001b[43m \u001b[49m\u001b[43mobj\u001b[49m\u001b[43m)\u001b[49m\n\u001b[0;32m    186\u001b[0m \u001b[38;5;28;01mif\u001b[39;00m cb_container\u001b[38;5;241m.\u001b[39mafter_iteration(bst, i, dtrain, evals):\n\u001b[0;32m    187\u001b[0m     \u001b[38;5;28;01mbreak\u001b[39;00m\n",
      "File \u001b[1;32m~\\anaconda\\envs\\MOF\\lib\\site-packages\\xgboost\\core.py:1918\u001b[0m, in \u001b[0;36mBooster.update\u001b[1;34m(self, dtrain, iteration, fobj)\u001b[0m\n\u001b[0;32m   1915\u001b[0m \u001b[38;5;28mself\u001b[39m\u001b[38;5;241m.\u001b[39m_validate_dmatrix_features(dtrain)\n\u001b[0;32m   1917\u001b[0m \u001b[38;5;28;01mif\u001b[39;00m fobj \u001b[38;5;129;01mis\u001b[39;00m \u001b[38;5;28;01mNone\u001b[39;00m:\n\u001b[1;32m-> 1918\u001b[0m     _check_call(\u001b[43m_LIB\u001b[49m\u001b[38;5;241;43m.\u001b[39;49m\u001b[43mXGBoosterUpdateOneIter\u001b[49m\u001b[43m(\u001b[49m\u001b[38;5;28;43mself\u001b[39;49m\u001b[38;5;241;43m.\u001b[39;49m\u001b[43mhandle\u001b[49m\u001b[43m,\u001b[49m\n\u001b[0;32m   1919\u001b[0m \u001b[43m                                            \u001b[49m\u001b[43mctypes\u001b[49m\u001b[38;5;241;43m.\u001b[39;49m\u001b[43mc_int\u001b[49m\u001b[43m(\u001b[49m\u001b[43miteration\u001b[49m\u001b[43m)\u001b[49m\u001b[43m,\u001b[49m\n\u001b[0;32m   1920\u001b[0m \u001b[43m                                            \u001b[49m\u001b[43mdtrain\u001b[49m\u001b[38;5;241;43m.\u001b[39;49m\u001b[43mhandle\u001b[49m\u001b[43m)\u001b[49m)\n\u001b[0;32m   1921\u001b[0m \u001b[38;5;28;01melse\u001b[39;00m:\n\u001b[0;32m   1922\u001b[0m     pred \u001b[38;5;241m=\u001b[39m \u001b[38;5;28mself\u001b[39m\u001b[38;5;241m.\u001b[39mpredict(dtrain, output_margin\u001b[38;5;241m=\u001b[39m\u001b[38;5;28;01mTrue\u001b[39;00m, training\u001b[38;5;241m=\u001b[39m\u001b[38;5;28;01mTrue\u001b[39;00m)\n",
      "\u001b[1;31mKeyboardInterrupt\u001b[0m: "
     ]
    }
   ],
   "source": [
    "xgb = XGBRegressor()\n",
    "parameters = {'n_estimators': sp_randInt(500,1000),\n",
    "             'max_depth': sp_randInt(2,9),\n",
    "             'eta': sp_randFloat(0.0001,0.99),\n",
    "             'colsample_bytree': sp_randFloat(0.01,0.99)} \n",
    "rand_xgb = RandomizedSearchCV(xgb, parameters, scoring='neg_root_mean_squared_error',\\\n",
    "                                refit='neg_root_mean_squared_error', n_iter=10, cv=5, random_state=15)\n",
    "xgbooster = rand_xgb.fit(X_tr, y_tr)\n",
    "xgbooster.best_params_"
   ]
  },
  {
   "cell_type": "code",
   "execution_count": null,
   "id": "183084a7",
   "metadata": {},
   "outputs": [],
   "source": [
    "xgb_model = XGBRegressor(n_estimators=xgbooster.best_params_['n_estimators'],\\\n",
    "                                   eta=xgbooster.best_params_['eta'],\\\n",
    "                                   colsample_bytree=xgbooster.best_params_['colsample_bytree'],\\\n",
    "                                   max_depth=xgbooster.best_params_['max_depth'])\n",
    "xgb_model.fit(X_tr, y_tr)\n",
    "y_pred = xgb_model.predict(X_te)\n",
    "new_row = pd.DataFrame([{'Model' : 'XGBoost', '% Train Data' : 10, 'MSE' : mean_squared_error(y_te, y_pred)}])\n",
    "train_scores = pd.concat([train_scores, new_row])\n",
    "mean_squared_error(y_te, y_pred)"
   ]
  },
  {
   "cell_type": "code",
   "execution_count": null,
   "id": "6e883638",
   "metadata": {},
   "outputs": [],
   "source": [
    "xgb_linear = XGBRegressor(booster = 'gblinear', verbosity = 0)\n",
    "parameters = {'reg_lambda': sp_randFloat(0,1),\n",
    "             'reg_alpha': sp_randFloat(0, 1),\n",
    "             'feature_selector': ['cyclic', 'shuffle']}\n",
    "rand_xgb_linear = RandomizedSearchCV(xgb_linear, parameters, scoring='neg_root_mean_squared_error',\\\n",
    "                                refit='neg_root_mean_squared_error', n_iter=10, cv=5, random_state=15)\n",
    "xgbooster_linear = rand_xgb_linear.fit(X_tr, y_tr)\n",
    "xgbooster_linear.best_params_"
   ]
  },
  {
   "cell_type": "code",
   "execution_count": null,
   "id": "cdc29905",
   "metadata": {},
   "outputs": [],
   "source": [
    "xgb_model_linear = XGBRegressor(booster = 'gblinear', reg_lambda = xgbooster_linear.best_params_['reg_lambda'],\\\n",
    "                                   reg_alpha=xgbooster_linear.best_params_['reg_alpha'],\\\n",
    "                                   feature_selector=xgbooster_linear.best_params_['feature_selector'])\n",
    "xgb_model_linear.fit(X_tr, y_tr)\n",
    "y_pred = xgb_model_linear.predict(X_te)\n",
    "new_row = pd.DataFrame([{'Model' : 'XGBoost Linear', '% Train Data' : 10, 'MSE' : mean_squared_error(y_te, y_pred)}])\n",
    "train_scores = pd.concat([train_scores, new_row])\n",
    "mean_squared_error(y_te, y_pred)"
   ]
  },
  {
   "cell_type": "code",
   "execution_count": null,
   "id": "a3df7dfe",
   "metadata": {},
   "outputs": [],
   "source": [
    "xgb_coord_desc = XGBRegressor(booster = 'gblinear', updater = 'coord_descent', verbosity = 0)\n",
    "parameters = {'reg_lambda': sp_randFloat(0,1),\n",
    "             'reg_alpha': sp_randFloat(0, 1),\n",
    "             'feature_selector': ['random', 'greedy', 'thrifty']}\n",
    "rand_xgb_cd = RandomizedSearchCV(xgb_coord_desc, parameters, scoring='neg_root_mean_squared_error',\\\n",
    "                                refit='neg_root_mean_squared_error', n_iter=10, cv=5, random_state=15)\n",
    "xgbooster_linear_cd = rand_xgb_cd.fit(X_tr, y_tr)\n",
    "xgbooster_linear_cd.best_params_"
   ]
  },
  {
   "cell_type": "code",
   "execution_count": null,
   "id": "18c95e30",
   "metadata": {},
   "outputs": [],
   "source": [
    "xgb_model_lcd = XGBRegressor(booster = 'gblinear', updater = 'coord_descent',\\\n",
    "                                reg_lambda = xgbooster_linear.best_params_['reg_lambda'],\\\n",
    "                                   reg_alpha=xgbooster_linear.best_params_['reg_alpha'],\\\n",
    "                                   feature_selector=xgbooster_linear.best_params_['feature_selector'])\n",
    "xgb_model_lcd.fit(X_tr, y_tr)\n",
    "y_pred = xgb_model_lcd.predict(X_te)\n",
    "new_row = pd.DataFrame([{'Model' : 'XGBoost Linear Coord Desc', '% Train Data' : 10, 'MSE' : mean_squared_error(y_te, y_pred)}])\n",
    "train_scores = pd.concat([train_scores, new_row])\n",
    "mean_squared_error(y_te, y_pred)"
   ]
  },
  {
   "cell_type": "code",
   "execution_count": null,
   "id": "3ac16e4c",
   "metadata": {},
   "outputs": [],
   "source": [
    "d_tree = tree.DecisionTreeRegressor(random_state = 12)\n",
    "parameters = {'max_depth': sp_randInt(2,8),\n",
    "             'min_samples_leaf': sp_randInt(100,5000)}\n",
    "rand_tree = RandomizedSearchCV(d_tree, parameters, scoring='neg_root_mean_squared_error',\\\n",
    "                                refit='neg_root_mean_squared_error', n_iter=10, cv=5, random_state=15)\n",
    "decision_tree = rand_tree.fit(X_tr, y_tr)\n",
    "decision_tree.best_params_"
   ]
  },
  {
   "cell_type": "code",
   "execution_count": null,
   "id": "e568ddd8",
   "metadata": {},
   "outputs": [],
   "source": [
    "decision_tree_model = tree.DecisionTreeRegressor(max_depth = decision_tree.best_params_['max_depth'],\\\n",
    "                                            min_samples_leaf = decision_tree.best_params_['min_samples_leaf'],\\\n",
    "                                            random_state = 15)\n",
    "decision_tree_model.fit(X_tr, y_tr)\n",
    "y_pred = decision_tree_model.predict(X_te)\n",
    "new_row = pd.DataFrame([{'Model' : 'Decision Tree', '% Train Data' : 10, 'MSE' : mean_squared_error(y_te, y_pred)}])\n",
    "train_scores = pd.concat([train_scores, new_row])\n",
    "mean_squared_error(y_te, y_pred)"
   ]
  },
  {
   "cell_type": "code",
   "execution_count": null,
   "id": "f03dd24b",
   "metadata": {},
   "outputs": [],
   "source": [
    "neighbors = KNeighborsRegressor()\n",
    "parameters = {'n_neighbors': sp_randInt(10,100)}\n",
    "rand_knn = RandomizedSearchCV(neighbors, parameters, scoring=['neg_root_mean_squared_error', 'neg_mean_absolute_error'],\\\n",
    "                                refit='neg_root_mean_squared_error', n_iter=10, cv=5, random_state=15)\n",
    "opt_nn = rand_knn.fit(X_tr, y_tr)\n",
    "opt_nn.best_params_"
   ]
  },
  {
   "cell_type": "code",
   "execution_count": null,
   "id": "6f8635f1",
   "metadata": {},
   "outputs": [],
   "source": [
    "knn_opt = KNeighborsRegressor(n_neighbors = opt_nn.best_params_['n_neighbors'])\n",
    "knn_opt.fit(X_tr, y_tr)\n",
    "y_pred = knn_opt.predict(X_te)\n",
    "new_row = pd.DataFrame([{'Model' : 'KNN', '% Train Data' : 10, 'MSE' : mean_squared_error(y_te, y_pred)}])\n",
    "train_scores = pd.concat([train_scores, new_row])\n",
    "mean_squared_error(y_te, y_pred)"
   ]
  },
  {
   "cell_type": "code",
   "execution_count": null,
   "id": "e280b3bf",
   "metadata": {},
   "outputs": [],
   "source": [
    "lgbm = lgb.LGBMRegressor(objective = 'regression', metric = 'mae')\n",
    "parameters = {'num_leaves': sp_randInt(10,1000),\n",
    "              'n_estimators': sp_randInt(10,1000),\n",
    "              'max_depth': sp_randInt(2,10),\n",
    "              'learning_rate': sp_randFloat(0.001,1)}\n",
    "rand_lgbm = RandomizedSearchCV(lgbm, parameters, scoring='neg_root_mean_squared_error',\\\n",
    "                                refit='neg_root_mean_squared_error', n_iter=10, cv=5, random_state=15)\n",
    "opt_lgbm = rand_lgbm.fit(X_tr, y_tr)\n",
    "opt_lgbm.best_params_"
   ]
  },
  {
   "cell_type": "code",
   "execution_count": null,
   "id": "dd2e839c",
   "metadata": {},
   "outputs": [],
   "source": [
    "lgbm_opt = lgb.LGBMRegressor(objective = 'regression', metric = 'mae', num_leaves = opt_lgbm.best_params_['num_leaves'],\\\n",
    "                             n_estimators = opt_lgbm.best_params_['n_estimators'],\\\n",
    "                             max_depth = opt_lgbm.best_params_['max_depth'],\\\n",
    "                             learning_rate = opt_lgbm.best_params_['learning_rate'])\n",
    "lgbm_opt.fit(X_tr, y_tr)\n",
    "y_pred = lgbm_opt.predict(X_te)\n",
    "new_row = pd.DataFrame([{'Model' : 'Light GBM', '% Train Data' : 10, 'MSE' : mean_squared_error(y_te, y_pred)}])\n",
    "train_scores = pd.concat([train_scores, new_row])\n",
    "mean_squared_error(y_te, y_pred)"
   ]
  },
  {
   "cell_type": "code",
   "execution_count": null,
   "id": "1bb96b28",
   "metadata": {},
   "outputs": [],
   "source": []
  }
 ],
 "metadata": {
  "kernelspec": {
   "display_name": "Python 3 (ipykernel)",
   "language": "python",
   "name": "python3"
  },
  "language_info": {
   "codemirror_mode": {
    "name": "ipython",
    "version": 3
   },
   "file_extension": ".py",
   "mimetype": "text/x-python",
   "name": "python",
   "nbconvert_exporter": "python",
   "pygments_lexer": "ipython3",
   "version": "3.10.9"
  }
 },
 "nbformat": 4,
 "nbformat_minor": 5
}
