{
 "cells": [
  {
   "cell_type": "markdown",
   "id": "5830568b",
   "metadata": {},
   "source": [
    "# Capturing greenhouse gases with data\n",
    "\n",
    "## Data Wrangling\n",
    "\n",
    "### by Zachary Brown"
   ]
  },
  {
   "cell_type": "markdown",
   "id": "3dbd72e1",
   "metadata": {},
   "source": [
    "The goal of this project was originally to merge two MOF databases to determine what chemical properties increase the CO2 capacity of a metal-organic framework (MOF). Those two databases only had 30 entries with the same MOF identifiers, so instead I will be using the [ARC MOF database](https://zenodo.org/record/7600474#.Y_ofvXbMKM8) which has over 200,000 theoretical MOFs and has both chemical properties and gas adsorption predictions included.\n",
    "\n",
    "Some key terms that are used throughout this dataset and project include RDF - radial distribution functions (calculated for electronegativity, atomic hardness, van der Waals volume, dipole polarizability, atomic mass, and none), RAC - revised autocorrelations (calculated for electronegativity, nuclear charge, atom identity, connectivity and covalent radii), \n",
    "\n",
    "First we'll install the necessary libraries and import them."
   ]
  },
  {
   "cell_type": "code",
   "execution_count": 1,
   "id": "c0c81548",
   "metadata": {},
   "outputs": [
    {
     "name": "stdout",
     "output_type": "stream",
     "text": [
      "Requirement already satisfied: numpy==1.24.2 in c:\\users\\zjbro\\anaconda3\\envs\\mof\\lib\\site-packages (1.24.2)\n",
      "Requirement already satisfied: pandas==1.5.3 in c:\\users\\zjbro\\anaconda3\\envs\\mof\\lib\\site-packages (1.5.3)\n",
      "Requirement already satisfied: pytz>=2020.1 in c:\\users\\zjbro\\anaconda3\\envs\\mof\\lib\\site-packages (from pandas==1.5.3) (2022.7.1)\n",
      "Requirement already satisfied: numpy>=1.20.3 in c:\\users\\zjbro\\anaconda3\\envs\\mof\\lib\\site-packages (from pandas==1.5.3) (1.24.2)\n",
      "Requirement already satisfied: python-dateutil>=2.8.1 in c:\\users\\zjbro\\anaconda3\\envs\\mof\\lib\\site-packages (from pandas==1.5.3) (2.8.2)\n",
      "Requirement already satisfied: six>=1.5 in c:\\users\\zjbro\\anaconda3\\envs\\mof\\lib\\site-packages (from python-dateutil>=2.8.1->pandas==1.5.3) (1.16.0)\n",
      "Requirement already satisfied: requests==2.28.2 in c:\\users\\zjbro\\anaconda3\\envs\\mof\\lib\\site-packages (2.28.2)\n",
      "Requirement already satisfied: idna<4,>=2.5 in c:\\users\\zjbro\\anaconda3\\envs\\mof\\lib\\site-packages (from requests==2.28.2) (3.4)\n",
      "Requirement already satisfied: charset-normalizer<4,>=2 in c:\\users\\zjbro\\anaconda3\\envs\\mof\\lib\\site-packages (from requests==2.28.2) (3.0.1)\n",
      "Requirement already satisfied: urllib3<1.27,>=1.21.1 in c:\\users\\zjbro\\anaconda3\\envs\\mof\\lib\\site-packages (from requests==2.28.2) (1.26.14)\n",
      "Requirement already satisfied: certifi>=2017.4.17 in c:\\users\\zjbro\\anaconda3\\envs\\mof\\lib\\site-packages (from requests==2.28.2) (2022.12.7)\n",
      "Collecting matplotlib==3.7.0\n",
      "  Downloading matplotlib-3.7.0-cp39-cp39-win_amd64.whl (7.6 MB)\n",
      "     ---------------------------------------- 7.6/7.6 MB 7.0 MB/s eta 0:00:00\n",
      "Requirement already satisfied: packaging>=20.0 in c:\\users\\zjbro\\anaconda3\\envs\\mof\\lib\\site-packages (from matplotlib==3.7.0) (22.0)\n",
      "Collecting pillow>=6.2.0\n",
      "  Downloading Pillow-9.4.0-cp39-cp39-win_amd64.whl (2.5 MB)\n",
      "     ---------------------------------------- 2.5/2.5 MB 10.0 MB/s eta 0:00:00\n",
      "Requirement already satisfied: python-dateutil>=2.7 in c:\\users\\zjbro\\anaconda3\\envs\\mof\\lib\\site-packages (from matplotlib==3.7.0) (2.8.2)\n",
      "Collecting fonttools>=4.22.0\n",
      "  Downloading fonttools-4.38.0-py3-none-any.whl (965 kB)\n",
      "     ------------------------------------- 965.4/965.4 kB 10.2 MB/s eta 0:00:00\n",
      "Collecting kiwisolver>=1.0.1\n",
      "  Downloading kiwisolver-1.4.4-cp39-cp39-win_amd64.whl (55 kB)\n",
      "     ---------------------------------------- 55.4/55.4 kB 1.5 MB/s eta 0:00:00\n",
      "Collecting importlib-resources>=3.2.0\n",
      "  Downloading importlib_resources-5.12.0-py3-none-any.whl (36 kB)\n",
      "Collecting contourpy>=1.0.1\n",
      "  Downloading contourpy-1.0.7-cp39-cp39-win_amd64.whl (160 kB)\n",
      "     ------------------------------------- 160.2/160.2 kB 10.0 MB/s eta 0:00:00\n",
      "Collecting cycler>=0.10\n",
      "  Downloading cycler-0.11.0-py3-none-any.whl (6.4 kB)\n",
      "Requirement already satisfied: numpy>=1.20 in c:\\users\\zjbro\\anaconda3\\envs\\mof\\lib\\site-packages (from matplotlib==3.7.0) (1.24.2)\n",
      "Collecting pyparsing>=2.3.1\n",
      "  Downloading pyparsing-3.0.9-py3-none-any.whl (98 kB)\n",
      "     ---------------------------------------- 98.3/98.3 kB 5.5 MB/s eta 0:00:00\n",
      "Collecting zipp>=3.1.0\n",
      "  Downloading zipp-3.15.0-py3-none-any.whl (6.8 kB)\n",
      "Requirement already satisfied: six>=1.5 in c:\\users\\zjbro\\anaconda3\\envs\\mof\\lib\\site-packages (from python-dateutil>=2.7->matplotlib==3.7.0) (1.16.0)\n",
      "Installing collected packages: zipp, pyparsing, pillow, kiwisolver, fonttools, cycler, contourpy, importlib-resources, matplotlib\n",
      "Successfully installed contourpy-1.0.7 cycler-0.11.0 fonttools-4.38.0 importlib-resources-5.12.0 kiwisolver-1.4.4 matplotlib-3.7.0 pillow-9.4.0 pyparsing-3.0.9 zipp-3.15.0\n"
     ]
    }
   ],
   "source": [
    "!pip install numpy==1.24.2\n",
    "!pip install pandas==1.5.3\n",
    "!pip install requests==2.28.2\n",
    "!pip install matplotlib==3.7.0"
   ]
  },
  {
   "cell_type": "code",
   "execution_count": 2,
   "id": "1ee2171c",
   "metadata": {},
   "outputs": [],
   "source": [
    "import numpy as np\n",
    "import pandas as pd\n",
    "import requests\n",
    "import matplotlib.pyplot as plt"
   ]
  },
  {
   "cell_type": "markdown",
   "id": "f46ab417",
   "metadata": {},
   "source": [
    "Now I'll start by downloading the topology dataset, which describes the geometric topology of the MOFs."
   ]
  },
  {
   "cell_type": "code",
   "execution_count": 3,
   "id": "059b80ed",
   "metadata": {},
   "outputs": [
    {
     "data": {
      "text/plain": [
       "11683716"
      ]
     },
     "execution_count": 3,
     "metadata": {},
     "output_type": "execute_result"
    }
   ],
   "source": [
    "url = 'https://zenodo.org/record/7600474/files/all_topology_lists.csv?download=1'\n",
    "r = requests.get(url, allow_redirects=True)\n",
    "open('../data/raw/topology.csv', 'wb').write(r.content)"
   ]
  },
  {
   "cell_type": "code",
   "execution_count": 4,
   "id": "bffe7881",
   "metadata": {},
   "outputs": [
    {
     "name": "stderr",
     "output_type": "stream",
     "text": [
      "C:\\Users\\Zjbro\\AppData\\Local\\Temp\\ipykernel_6412\\102696264.py:1: DtypeWarning: Columns (1) have mixed types. Specify dtype option on import or set low_memory=False.\n",
      "  top = pd.read_csv('../data/raw/topology.csv')\n"
     ]
    },
    {
     "data": {
      "text/html": [
       "<div>\n",
       "<style scoped>\n",
       "    .dataframe tbody tr th:only-of-type {\n",
       "        vertical-align: middle;\n",
       "    }\n",
       "\n",
       "    .dataframe tbody tr th {\n",
       "        vertical-align: top;\n",
       "    }\n",
       "\n",
       "    .dataframe thead th {\n",
       "        text-align: right;\n",
       "    }\n",
       "</style>\n",
       "<table border=\"1\" class=\"dataframe\">\n",
       "  <thead>\n",
       "    <tr style=\"text-align: right;\">\n",
       "      <th></th>\n",
       "      <th>Name</th>\n",
       "      <th>filename</th>\n",
       "      <th>Crystalnet</th>\n",
       "      <th>likely topology</th>\n",
       "    </tr>\n",
       "  </thead>\n",
       "  <tbody>\n",
       "    <tr>\n",
       "      <th>0</th>\n",
       "      <td>DB0-m12_o10_bcu.cif</td>\n",
       "      <td>bcu</td>\n",
       "      <td>bcu</td>\n",
       "      <td>bcu</td>\n",
       "    </tr>\n",
       "    <tr>\n",
       "      <th>1</th>\n",
       "      <td>DB0-m12_o12_bcu.cif</td>\n",
       "      <td>bcu</td>\n",
       "      <td>bcu</td>\n",
       "      <td>bcu</td>\n",
       "    </tr>\n",
       "    <tr>\n",
       "      <th>2</th>\n",
       "      <td>DB0-m12_o13_bcu.cif</td>\n",
       "      <td>bcu</td>\n",
       "      <td>bcu</td>\n",
       "      <td>bcu</td>\n",
       "    </tr>\n",
       "    <tr>\n",
       "      <th>3</th>\n",
       "      <td>DB0-m12_o14_bcu.cif</td>\n",
       "      <td>bcu</td>\n",
       "      <td>bcu</td>\n",
       "      <td>bcu</td>\n",
       "    </tr>\n",
       "    <tr>\n",
       "      <th>4</th>\n",
       "      <td>DB0-m12_o14_o22_f0_bcu.cif</td>\n",
       "      <td>bcu</td>\n",
       "      <td>bcu</td>\n",
       "      <td>bcu</td>\n",
       "    </tr>\n",
       "  </tbody>\n",
       "</table>\n",
       "</div>"
      ],
      "text/plain": [
       "                         Name filename Crystalnet likely topology\n",
       "0         DB0-m12_o10_bcu.cif      bcu        bcu             bcu\n",
       "1         DB0-m12_o12_bcu.cif      bcu        bcu             bcu\n",
       "2         DB0-m12_o13_bcu.cif      bcu        bcu             bcu\n",
       "3         DB0-m12_o14_bcu.cif      bcu        bcu             bcu\n",
       "4  DB0-m12_o14_o22_f0_bcu.cif      bcu        bcu             bcu"
      ]
     },
     "execution_count": 4,
     "metadata": {},
     "output_type": "execute_result"
    }
   ],
   "source": [
    "top = pd.read_csv('../data/raw/topology.csv')\n",
    "top.head()"
   ]
  },
  {
   "cell_type": "code",
   "execution_count": 5,
   "id": "f23b1c52",
   "metadata": {
    "scrolled": true
   },
   "outputs": [
    {
     "data": {
      "text/plain": [
       "(264225, 4)"
      ]
     },
     "execution_count": 5,
     "metadata": {},
     "output_type": "execute_result"
    }
   ],
   "source": [
    "top.shape"
   ]
  },
  {
   "cell_type": "markdown",
   "id": "bf4fcfa7",
   "metadata": {},
   "source": [
    "To join this dataframe with future ones I'll need to set the 'Name' column as the index, so I'll do that and then download the geometry dataset which has geometric properties of the MOFs."
   ]
  },
  {
   "cell_type": "code",
   "execution_count": 6,
   "id": "4ddaa621",
   "metadata": {},
   "outputs": [],
   "source": [
    "top.set_index('Name', inplace=True)"
   ]
  },
  {
   "cell_type": "code",
   "execution_count": 7,
   "id": "f837b0d7",
   "metadata": {},
   "outputs": [
    {
     "data": {
      "text/plain": [
       "110395714"
      ]
     },
     "execution_count": 7,
     "metadata": {},
     "output_type": "execute_result"
    }
   ],
   "source": [
    "url = 'https://zenodo.org/record/7600474/files/geometric_properties.csv?download=1'\n",
    "r = requests.get(url, allow_redirects=True)\n",
    "open('../data/raw/geom.csv', 'wb').write(r.content)"
   ]
  },
  {
   "cell_type": "code",
   "execution_count": 8,
   "id": "bc37a50a",
   "metadata": {},
   "outputs": [
    {
     "data": {
      "text/html": [
       "<div>\n",
       "<style scoped>\n",
       "    .dataframe tbody tr th:only-of-type {\n",
       "        vertical-align: middle;\n",
       "    }\n",
       "\n",
       "    .dataframe tbody tr th {\n",
       "        vertical-align: top;\n",
       "    }\n",
       "\n",
       "    .dataframe thead th {\n",
       "        text-align: right;\n",
       "    }\n",
       "</style>\n",
       "<table border=\"1\" class=\"dataframe\">\n",
       "  <thead>\n",
       "    <tr style=\"text-align: right;\">\n",
       "      <th></th>\n",
       "      <th>Unnamed: 0</th>\n",
       "      <th>filename</th>\n",
       "      <th>UC_volume</th>\n",
       "      <th>Density</th>\n",
       "      <th>ASA</th>\n",
       "      <th>vASA</th>\n",
       "      <th>gASA</th>\n",
       "      <th>NASA</th>\n",
       "      <th>gNASA</th>\n",
       "      <th>vNASA</th>\n",
       "      <th>...</th>\n",
       "      <th>NPOAVA</th>\n",
       "      <th>NPOAVAf</th>\n",
       "      <th>NPOAVAg</th>\n",
       "      <th>Di</th>\n",
       "      <th>Df</th>\n",
       "      <th>Dif</th>\n",
       "      <th>ARC-MOF</th>\n",
       "      <th>DB_num</th>\n",
       "      <th>order_geo</th>\n",
       "      <th>bool_geo</th>\n",
       "    </tr>\n",
       "  </thead>\n",
       "  <tbody>\n",
       "    <tr>\n",
       "      <th>0</th>\n",
       "      <td>0</td>\n",
       "      <td>DB0-m2_o1_o10_f0_pcu.sym.66.cif</td>\n",
       "      <td>901.788</td>\n",
       "      <td>1.233220</td>\n",
       "      <td>87.4832</td>\n",
       "      <td>970.108</td>\n",
       "      <td>786.644</td>\n",
       "      <td>0.0</td>\n",
       "      <td>0.0</td>\n",
       "      <td>0.0</td>\n",
       "      <td>...</td>\n",
       "      <td>0.0</td>\n",
       "      <td>0.0</td>\n",
       "      <td>0.0</td>\n",
       "      <td>5.41813</td>\n",
       "      <td>4.36524</td>\n",
       "      <td>5.39798</td>\n",
       "      <td>True</td>\n",
       "      <td>DB0</td>\n",
       "      <td>0</td>\n",
       "      <td>True</td>\n",
       "    </tr>\n",
       "    <tr>\n",
       "      <th>1</th>\n",
       "      <td>1</td>\n",
       "      <td>DB0-m28_o161_o113_f0_pts.cif</td>\n",
       "      <td>8183.190</td>\n",
       "      <td>0.389995</td>\n",
       "      <td>1749.5500</td>\n",
       "      <td>2137.970</td>\n",
       "      <td>5482.050</td>\n",
       "      <td>0.0</td>\n",
       "      <td>0.0</td>\n",
       "      <td>0.0</td>\n",
       "      <td>...</td>\n",
       "      <td>0.0</td>\n",
       "      <td>0.0</td>\n",
       "      <td>0.0</td>\n",
       "      <td>16.83322</td>\n",
       "      <td>15.07954</td>\n",
       "      <td>16.80076</td>\n",
       "      <td>False</td>\n",
       "      <td>DB0</td>\n",
       "      <td>1</td>\n",
       "      <td>True</td>\n",
       "    </tr>\n",
       "    <tr>\n",
       "      <th>2</th>\n",
       "      <td>2</td>\n",
       "      <td>DB1-Zn2O8N2-irmof20_A-irmof8_A_No13.cif</td>\n",
       "      <td>3853.140</td>\n",
       "      <td>0.652434</td>\n",
       "      <td>824.5020</td>\n",
       "      <td>2139.820</td>\n",
       "      <td>3279.750</td>\n",
       "      <td>0.0</td>\n",
       "      <td>0.0</td>\n",
       "      <td>0.0</td>\n",
       "      <td>...</td>\n",
       "      <td>0.0</td>\n",
       "      <td>0.0</td>\n",
       "      <td>0.0</td>\n",
       "      <td>11.24255</td>\n",
       "      <td>9.36124</td>\n",
       "      <td>11.24255</td>\n",
       "      <td>False</td>\n",
       "      <td>DB1</td>\n",
       "      <td>2</td>\n",
       "      <td>True</td>\n",
       "    </tr>\n",
       "    <tr>\n",
       "      <th>3</th>\n",
       "      <td>3</td>\n",
       "      <td>DB1-Zn4O13-BDC_A-irmof6_A_No267.cif</td>\n",
       "      <td>16975.800</td>\n",
       "      <td>0.815191</td>\n",
       "      <td>3234.8600</td>\n",
       "      <td>1905.570</td>\n",
       "      <td>2337.570</td>\n",
       "      <td>0.0</td>\n",
       "      <td>0.0</td>\n",
       "      <td>0.0</td>\n",
       "      <td>...</td>\n",
       "      <td>0.0</td>\n",
       "      <td>0.0</td>\n",
       "      <td>0.0</td>\n",
       "      <td>14.96430</td>\n",
       "      <td>6.83319</td>\n",
       "      <td>14.95745</td>\n",
       "      <td>False</td>\n",
       "      <td>DB1</td>\n",
       "      <td>3</td>\n",
       "      <td>True</td>\n",
       "    </tr>\n",
       "    <tr>\n",
       "      <th>4</th>\n",
       "      <td>4</td>\n",
       "      <td>DB0-m15_o27_aww.cif</td>\n",
       "      <td>236848.000</td>\n",
       "      <td>0.127610</td>\n",
       "      <td>17612.1000</td>\n",
       "      <td>743.601</td>\n",
       "      <td>5827.130</td>\n",
       "      <td>0.0</td>\n",
       "      <td>0.0</td>\n",
       "      <td>0.0</td>\n",
       "      <td>...</td>\n",
       "      <td>0.0</td>\n",
       "      <td>0.0</td>\n",
       "      <td>0.0</td>\n",
       "      <td>48.43682</td>\n",
       "      <td>38.41622</td>\n",
       "      <td>48.43682</td>\n",
       "      <td>False</td>\n",
       "      <td>DB0</td>\n",
       "      <td>4</td>\n",
       "      <td>True</td>\n",
       "    </tr>\n",
       "  </tbody>\n",
       "</table>\n",
       "<p>5 rows × 29 columns</p>\n",
       "</div>"
      ],
      "text/plain": [
       "   Unnamed: 0                                 filename   UC_volume   Density  \\\n",
       "0           0          DB0-m2_o1_o10_f0_pcu.sym.66.cif     901.788  1.233220   \n",
       "1           1             DB0-m28_o161_o113_f0_pts.cif    8183.190  0.389995   \n",
       "2           2  DB1-Zn2O8N2-irmof20_A-irmof8_A_No13.cif    3853.140  0.652434   \n",
       "3           3      DB1-Zn4O13-BDC_A-irmof6_A_No267.cif   16975.800  0.815191   \n",
       "4           4                      DB0-m15_o27_aww.cif  236848.000  0.127610   \n",
       "\n",
       "          ASA      vASA      gASA  NASA  gNASA  vNASA  ...  NPOAVA  NPOAVAf  \\\n",
       "0     87.4832   970.108   786.644   0.0    0.0    0.0  ...     0.0      0.0   \n",
       "1   1749.5500  2137.970  5482.050   0.0    0.0    0.0  ...     0.0      0.0   \n",
       "2    824.5020  2139.820  3279.750   0.0    0.0    0.0  ...     0.0      0.0   \n",
       "3   3234.8600  1905.570  2337.570   0.0    0.0    0.0  ...     0.0      0.0   \n",
       "4  17612.1000   743.601  5827.130   0.0    0.0    0.0  ...     0.0      0.0   \n",
       "\n",
       "   NPOAVAg        Di        Df       Dif  ARC-MOF  DB_num  order_geo  bool_geo  \n",
       "0      0.0   5.41813   4.36524   5.39798     True     DB0          0      True  \n",
       "1      0.0  16.83322  15.07954  16.80076    False     DB0          1      True  \n",
       "2      0.0  11.24255   9.36124  11.24255    False     DB1          2      True  \n",
       "3      0.0  14.96430   6.83319  14.95745    False     DB1          3      True  \n",
       "4      0.0  48.43682  38.41622  48.43682    False     DB0          4      True  \n",
       "\n",
       "[5 rows x 29 columns]"
      ]
     },
     "execution_count": 8,
     "metadata": {},
     "output_type": "execute_result"
    }
   ],
   "source": [
    "geo = pd.read_csv('../data/raw/geom.csv')\n",
    "geo.head()"
   ]
  },
  {
   "cell_type": "code",
   "execution_count": 9,
   "id": "93fcd84c",
   "metadata": {},
   "outputs": [
    {
     "data": {
      "text/plain": [
       "(521316, 29)"
      ]
     },
     "execution_count": 9,
     "metadata": {},
     "output_type": "execute_result"
    }
   ],
   "source": [
    "geo.shape"
   ]
  },
  {
   "cell_type": "code",
   "execution_count": 10,
   "id": "44c27079",
   "metadata": {},
   "outputs": [
    {
     "data": {
      "text/plain": [
       "Index(['Unnamed: 0', 'filename', 'UC_volume', 'Density', 'ASA', 'vASA', 'gASA',\n",
       "       'NASA', 'gNASA', 'vNASA', 'AVA', 'AVAf', 'AVAg', 'NAVA', 'NAVAf',\n",
       "       'NAVAg', 'POAVA', 'POAVAf', 'POAVAg', 'NPOAVA', 'NPOAVAf', 'NPOAVAg',\n",
       "       'Di', 'Df', 'Dif', 'ARC-MOF', 'DB_num', 'order_geo', 'bool_geo'],\n",
       "      dtype='object')"
      ]
     },
     "execution_count": 10,
     "metadata": {},
     "output_type": "execute_result"
    }
   ],
   "source": [
    "geo.columns"
   ]
  },
  {
   "cell_type": "markdown",
   "id": "44218176",
   "metadata": {},
   "source": [
    "These column headers aren't particularly insightful, so I'm going to reference the journal article to rename these to something more useful."
   ]
  },
  {
   "cell_type": "code",
   "execution_count": 11,
   "id": "9e0277bb",
   "metadata": {},
   "outputs": [],
   "source": [
    "geo.rename(columns={'UC_volume':'unit_cell_volume', 'ASA':'accessible_surface_area', 'vASA':'volumetric_surface_area',\\\n",
    " 'gASA':'gravimetric_surface_area', 'NASA':'inaccessible_surface_area', 'gNASA':'inac_grav_surf_area',\\\n",
    " 'vNASA':'inac_vol_surf_area', 'AVA':'accessible_volume_per_uc', 'AVAf':'volume_fraction', 'AVAg':'grav_volume',\\\n",
    " 'NAVA':'inac_vol', 'NAVAf':'inac_vol_frac', 'NAVAg':'inac_grav_vol', 'POAVA':'probe_occupiable_vol',\\\n",
    " 'POAVAf':'probe_occ_vol_frac', 'POAVAg':'grav_probe_occ_vol', 'NPOAVA':'inac_probe_occ_vol',\\\n",
    " 'NPOAVAf':'inac_probe_occ_vol_frac', 'NPOAVAg':'inac_probe_occ_grav_vol', 'Di':'largest_cav_diameter',\\\n",
    " 'Df':'pore_limiting_diameter', 'Dif':'largest_free_sphere_path_diam'},\n",
    "           inplace=True)"
   ]
  },
  {
   "cell_type": "code",
   "execution_count": 12,
   "id": "4f2f4c5a",
   "metadata": {},
   "outputs": [
    {
     "data": {
      "text/plain": [
       "Index(['Unnamed: 0', 'filename', 'unit_cell_volume', 'Density',\n",
       "       'accessible_surface_area', 'volumetric_surface_area',\n",
       "       'gravimetric_surface_area', 'inaccessible_surface_area',\n",
       "       'inac_grav_surf_area', 'inac_vol_surf_area', 'accessible_volume_per_uc',\n",
       "       'volume_fraction', 'grav_volume', 'inac_vol', 'inac_vol_frac',\n",
       "       'inac_grav_vol', 'probe_occupiable_vol', 'probe_occ_vol_frac',\n",
       "       'grav_probe_occ_vol', 'inac_probe_occ_vol', 'inac_probe_occ_vol_frac',\n",
       "       'inac_probe_occ_grav_vol', 'largest_cav_diameter',\n",
       "       'pore_limiting_diameter', 'largest_free_sphere_path_diam', 'ARC-MOF',\n",
       "       'DB_num', 'order_geo', 'bool_geo'],\n",
       "      dtype='object')"
      ]
     },
     "execution_count": 12,
     "metadata": {},
     "output_type": "execute_result"
    }
   ],
   "source": [
    "geo.columns"
   ]
  },
  {
   "cell_type": "markdown",
   "id": "2e272e68",
   "metadata": {},
   "source": [
    "I don't care which database ARC-MOF drew these from, so I'm going to drop 'ARC-MOF' and 'DB_num'."
   ]
  },
  {
   "cell_type": "code",
   "execution_count": 13,
   "id": "f80a6a17",
   "metadata": {},
   "outputs": [
    {
     "data": {
      "text/plain": [
       "(521316, 27)"
      ]
     },
     "execution_count": 13,
     "metadata": {},
     "output_type": "execute_result"
    }
   ],
   "source": [
    "geo.drop(columns=['ARC-MOF', 'DB_num'], inplace=True)\n",
    "geo.shape"
   ]
  },
  {
   "cell_type": "markdown",
   "id": "15c84103",
   "metadata": {},
   "source": [
    "Now I'll join the geometry and topology dataframes."
   ]
  },
  {
   "cell_type": "code",
   "execution_count": 14,
   "id": "def1023e",
   "metadata": {},
   "outputs": [],
   "source": [
    "geo_top = geo.join(other = top, on = 'filename', how = 'inner', lsuffix='_geo', rsuffix='_top')"
   ]
  },
  {
   "cell_type": "code",
   "execution_count": 15,
   "id": "c33ea205",
   "metadata": {},
   "outputs": [
    {
     "data": {
      "text/plain": [
       "(263744, 31)"
      ]
     },
     "execution_count": 15,
     "metadata": {},
     "output_type": "execute_result"
    }
   ],
   "source": [
    "geo_top.shape"
   ]
  },
  {
   "cell_type": "code",
   "execution_count": 16,
   "id": "da7f8e58",
   "metadata": {},
   "outputs": [
    {
     "data": {
      "text/html": [
       "<div>\n",
       "<style scoped>\n",
       "    .dataframe tbody tr th:only-of-type {\n",
       "        vertical-align: middle;\n",
       "    }\n",
       "\n",
       "    .dataframe tbody tr th {\n",
       "        vertical-align: top;\n",
       "    }\n",
       "\n",
       "    .dataframe thead th {\n",
       "        text-align: right;\n",
       "    }\n",
       "</style>\n",
       "<table border=\"1\" class=\"dataframe\">\n",
       "  <thead>\n",
       "    <tr style=\"text-align: right;\">\n",
       "      <th></th>\n",
       "      <th>filename</th>\n",
       "      <th>Unnamed: 0</th>\n",
       "      <th>filename_geo</th>\n",
       "      <th>unit_cell_volume</th>\n",
       "      <th>Density</th>\n",
       "      <th>accessible_surface_area</th>\n",
       "      <th>volumetric_surface_area</th>\n",
       "      <th>gravimetric_surface_area</th>\n",
       "      <th>inaccessible_surface_area</th>\n",
       "      <th>inac_grav_surf_area</th>\n",
       "      <th>...</th>\n",
       "      <th>inac_probe_occ_vol_frac</th>\n",
       "      <th>inac_probe_occ_grav_vol</th>\n",
       "      <th>largest_cav_diameter</th>\n",
       "      <th>pore_limiting_diameter</th>\n",
       "      <th>largest_free_sphere_path_diam</th>\n",
       "      <th>order_geo</th>\n",
       "      <th>bool_geo</th>\n",
       "      <th>filename_top</th>\n",
       "      <th>Crystalnet</th>\n",
       "      <th>likely topology</th>\n",
       "    </tr>\n",
       "  </thead>\n",
       "  <tbody>\n",
       "    <tr>\n",
       "      <th>0</th>\n",
       "      <td>DB0-m2_o1_o10_f0_pcu.sym.66.cif</td>\n",
       "      <td>0</td>\n",
       "      <td>DB0-m2_o1_o10_f0_pcu.sym.66.cif</td>\n",
       "      <td>901.788</td>\n",
       "      <td>1.233220</td>\n",
       "      <td>87.4832</td>\n",
       "      <td>970.108</td>\n",
       "      <td>786.644</td>\n",
       "      <td>0.000000</td>\n",
       "      <td>0.000000</td>\n",
       "      <td>...</td>\n",
       "      <td>0.0</td>\n",
       "      <td>0.0</td>\n",
       "      <td>5.41813</td>\n",
       "      <td>4.36524</td>\n",
       "      <td>5.39798</td>\n",
       "      <td>0</td>\n",
       "      <td>True</td>\n",
       "      <td>pcu</td>\n",
       "      <td>pcu</td>\n",
       "      <td>pcu</td>\n",
       "    </tr>\n",
       "    <tr>\n",
       "      <th>6</th>\n",
       "      <td>DB0-m3_o23_o23_f0_pcu.sym.74.cif</td>\n",
       "      <td>6</td>\n",
       "      <td>DB0-m3_o23_o23_f0_pcu.sym.74.cif</td>\n",
       "      <td>7545.840</td>\n",
       "      <td>0.537679</td>\n",
       "      <td>1566.3300</td>\n",
       "      <td>2075.750</td>\n",
       "      <td>3860.570</td>\n",
       "      <td>0.000000</td>\n",
       "      <td>0.000000</td>\n",
       "      <td>...</td>\n",
       "      <td>0.0</td>\n",
       "      <td>0.0</td>\n",
       "      <td>10.43731</td>\n",
       "      <td>9.91429</td>\n",
       "      <td>10.43731</td>\n",
       "      <td>6</td>\n",
       "      <td>True</td>\n",
       "      <td>pcu</td>\n",
       "      <td>pcu</td>\n",
       "      <td>pcu</td>\n",
       "    </tr>\n",
       "    <tr>\n",
       "      <th>7</th>\n",
       "      <td>DB0-m2_o8_o25_f0_pcu.sym.91.cif</td>\n",
       "      <td>7</td>\n",
       "      <td>DB0-m2_o8_o25_f0_pcu.sym.91.cif</td>\n",
       "      <td>4172.230</td>\n",
       "      <td>0.371648</td>\n",
       "      <td>771.9300</td>\n",
       "      <td>1850.160</td>\n",
       "      <td>4978.270</td>\n",
       "      <td>0.000000</td>\n",
       "      <td>0.000000</td>\n",
       "      <td>...</td>\n",
       "      <td>0.0</td>\n",
       "      <td>0.0</td>\n",
       "      <td>12.93441</td>\n",
       "      <td>11.01397</td>\n",
       "      <td>12.93441</td>\n",
       "      <td>7</td>\n",
       "      <td>True</td>\n",
       "      <td>pcu</td>\n",
       "      <td>pcu</td>\n",
       "      <td>pcu</td>\n",
       "    </tr>\n",
       "    <tr>\n",
       "      <th>8</th>\n",
       "      <td>DB0-m29_o82_o46_f0_pts.sym.1.cif</td>\n",
       "      <td>8</td>\n",
       "      <td>DB0-m29_o82_o46_f0_pts.sym.1.cif</td>\n",
       "      <td>1715.110</td>\n",
       "      <td>0.786327</td>\n",
       "      <td>378.9050</td>\n",
       "      <td>2209.230</td>\n",
       "      <td>2809.550</td>\n",
       "      <td>0.000000</td>\n",
       "      <td>0.000000</td>\n",
       "      <td>...</td>\n",
       "      <td>0.0</td>\n",
       "      <td>0.0</td>\n",
       "      <td>8.35282</td>\n",
       "      <td>5.44658</td>\n",
       "      <td>7.30192</td>\n",
       "      <td>8</td>\n",
       "      <td>True</td>\n",
       "      <td>pts</td>\n",
       "      <td>pts</td>\n",
       "      <td>pts</td>\n",
       "    </tr>\n",
       "    <tr>\n",
       "      <th>10</th>\n",
       "      <td>DB0-m29_o99_o470_f0_pts.sym.128.cif</td>\n",
       "      <td>10</td>\n",
       "      <td>DB0-m29_o99_o470_f0_pts.sym.128.cif</td>\n",
       "      <td>2552.970</td>\n",
       "      <td>0.754924</td>\n",
       "      <td>419.5890</td>\n",
       "      <td>1643.530</td>\n",
       "      <td>2177.080</td>\n",
       "      <td>0.164038</td>\n",
       "      <td>0.642539</td>\n",
       "      <td>...</td>\n",
       "      <td>0.0</td>\n",
       "      <td>0.0</td>\n",
       "      <td>7.57868</td>\n",
       "      <td>4.51994</td>\n",
       "      <td>7.57868</td>\n",
       "      <td>10</td>\n",
       "      <td>True</td>\n",
       "      <td>pts</td>\n",
       "      <td>pts</td>\n",
       "      <td>pts</td>\n",
       "    </tr>\n",
       "  </tbody>\n",
       "</table>\n",
       "<p>5 rows × 31 columns</p>\n",
       "</div>"
      ],
      "text/plain": [
       "                               filename  Unnamed: 0  \\\n",
       "0       DB0-m2_o1_o10_f0_pcu.sym.66.cif           0   \n",
       "6      DB0-m3_o23_o23_f0_pcu.sym.74.cif           6   \n",
       "7       DB0-m2_o8_o25_f0_pcu.sym.91.cif           7   \n",
       "8      DB0-m29_o82_o46_f0_pts.sym.1.cif           8   \n",
       "10  DB0-m29_o99_o470_f0_pts.sym.128.cif          10   \n",
       "\n",
       "                           filename_geo  unit_cell_volume   Density  \\\n",
       "0       DB0-m2_o1_o10_f0_pcu.sym.66.cif           901.788  1.233220   \n",
       "6      DB0-m3_o23_o23_f0_pcu.sym.74.cif          7545.840  0.537679   \n",
       "7       DB0-m2_o8_o25_f0_pcu.sym.91.cif          4172.230  0.371648   \n",
       "8      DB0-m29_o82_o46_f0_pts.sym.1.cif          1715.110  0.786327   \n",
       "10  DB0-m29_o99_o470_f0_pts.sym.128.cif          2552.970  0.754924   \n",
       "\n",
       "    accessible_surface_area  volumetric_surface_area  \\\n",
       "0                   87.4832                  970.108   \n",
       "6                 1566.3300                 2075.750   \n",
       "7                  771.9300                 1850.160   \n",
       "8                  378.9050                 2209.230   \n",
       "10                 419.5890                 1643.530   \n",
       "\n",
       "    gravimetric_surface_area  inaccessible_surface_area  inac_grav_surf_area  \\\n",
       "0                    786.644                   0.000000             0.000000   \n",
       "6                   3860.570                   0.000000             0.000000   \n",
       "7                   4978.270                   0.000000             0.000000   \n",
       "8                   2809.550                   0.000000             0.000000   \n",
       "10                  2177.080                   0.164038             0.642539   \n",
       "\n",
       "    ...  inac_probe_occ_vol_frac  inac_probe_occ_grav_vol  \\\n",
       "0   ...                      0.0                      0.0   \n",
       "6   ...                      0.0                      0.0   \n",
       "7   ...                      0.0                      0.0   \n",
       "8   ...                      0.0                      0.0   \n",
       "10  ...                      0.0                      0.0   \n",
       "\n",
       "    largest_cav_diameter  pore_limiting_diameter  \\\n",
       "0                5.41813                 4.36524   \n",
       "6               10.43731                 9.91429   \n",
       "7               12.93441                11.01397   \n",
       "8                8.35282                 5.44658   \n",
       "10               7.57868                 4.51994   \n",
       "\n",
       "    largest_free_sphere_path_diam  order_geo  bool_geo  filename_top  \\\n",
       "0                         5.39798          0      True           pcu   \n",
       "6                        10.43731          6      True           pcu   \n",
       "7                        12.93441          7      True           pcu   \n",
       "8                         7.30192          8      True           pts   \n",
       "10                        7.57868         10      True           pts   \n",
       "\n",
       "    Crystalnet  likely topology  \n",
       "0          pcu              pcu  \n",
       "6          pcu              pcu  \n",
       "7          pcu              pcu  \n",
       "8          pts              pts  \n",
       "10         pts              pts  \n",
       "\n",
       "[5 rows x 31 columns]"
      ]
     },
     "execution_count": 16,
     "metadata": {},
     "output_type": "execute_result"
    }
   ],
   "source": [
    "geo_top.head()"
   ]
  },
  {
   "cell_type": "markdown",
   "id": "67182602",
   "metadata": {},
   "source": [
    "Let's clean it up a little and drop the 'Unnamed:0' and 'filename_geo' columns."
   ]
  },
  {
   "cell_type": "code",
   "execution_count": 17,
   "id": "0711d5da",
   "metadata": {},
   "outputs": [
    {
     "data": {
      "text/html": [
       "<div>\n",
       "<style scoped>\n",
       "    .dataframe tbody tr th:only-of-type {\n",
       "        vertical-align: middle;\n",
       "    }\n",
       "\n",
       "    .dataframe tbody tr th {\n",
       "        vertical-align: top;\n",
       "    }\n",
       "\n",
       "    .dataframe thead th {\n",
       "        text-align: right;\n",
       "    }\n",
       "</style>\n",
       "<table border=\"1\" class=\"dataframe\">\n",
       "  <thead>\n",
       "    <tr style=\"text-align: right;\">\n",
       "      <th></th>\n",
       "      <th>filename</th>\n",
       "      <th>unit_cell_volume</th>\n",
       "      <th>Density</th>\n",
       "      <th>accessible_surface_area</th>\n",
       "      <th>volumetric_surface_area</th>\n",
       "      <th>gravimetric_surface_area</th>\n",
       "      <th>inaccessible_surface_area</th>\n",
       "      <th>inac_grav_surf_area</th>\n",
       "      <th>inac_vol_surf_area</th>\n",
       "      <th>accessible_volume_per_uc</th>\n",
       "      <th>...</th>\n",
       "      <th>inac_probe_occ_vol_frac</th>\n",
       "      <th>inac_probe_occ_grav_vol</th>\n",
       "      <th>largest_cav_diameter</th>\n",
       "      <th>pore_limiting_diameter</th>\n",
       "      <th>largest_free_sphere_path_diam</th>\n",
       "      <th>order_geo</th>\n",
       "      <th>bool_geo</th>\n",
       "      <th>filename_top</th>\n",
       "      <th>Crystalnet</th>\n",
       "      <th>likely topology</th>\n",
       "    </tr>\n",
       "  </thead>\n",
       "  <tbody>\n",
       "    <tr>\n",
       "      <th>0</th>\n",
       "      <td>DB0-m2_o1_o10_f0_pcu.sym.66.cif</td>\n",
       "      <td>901.788</td>\n",
       "      <td>1.233220</td>\n",
       "      <td>87.4832</td>\n",
       "      <td>970.108</td>\n",
       "      <td>786.644</td>\n",
       "      <td>0.000000</td>\n",
       "      <td>0.000000</td>\n",
       "      <td>0.000000</td>\n",
       "      <td>26.0256</td>\n",
       "      <td>...</td>\n",
       "      <td>0.0</td>\n",
       "      <td>0.0</td>\n",
       "      <td>5.41813</td>\n",
       "      <td>4.36524</td>\n",
       "      <td>5.39798</td>\n",
       "      <td>0</td>\n",
       "      <td>True</td>\n",
       "      <td>pcu</td>\n",
       "      <td>pcu</td>\n",
       "      <td>pcu</td>\n",
       "    </tr>\n",
       "    <tr>\n",
       "      <th>6</th>\n",
       "      <td>DB0-m3_o23_o23_f0_pcu.sym.74.cif</td>\n",
       "      <td>7545.840</td>\n",
       "      <td>0.537679</td>\n",
       "      <td>1566.3300</td>\n",
       "      <td>2075.750</td>\n",
       "      <td>3860.570</td>\n",
       "      <td>0.000000</td>\n",
       "      <td>0.000000</td>\n",
       "      <td>0.000000</td>\n",
       "      <td>2364.4100</td>\n",
       "      <td>...</td>\n",
       "      <td>0.0</td>\n",
       "      <td>0.0</td>\n",
       "      <td>10.43731</td>\n",
       "      <td>9.91429</td>\n",
       "      <td>10.43731</td>\n",
       "      <td>6</td>\n",
       "      <td>True</td>\n",
       "      <td>pcu</td>\n",
       "      <td>pcu</td>\n",
       "      <td>pcu</td>\n",
       "    </tr>\n",
       "    <tr>\n",
       "      <th>7</th>\n",
       "      <td>DB0-m2_o8_o25_f0_pcu.sym.91.cif</td>\n",
       "      <td>4172.230</td>\n",
       "      <td>0.371648</td>\n",
       "      <td>771.9300</td>\n",
       "      <td>1850.160</td>\n",
       "      <td>4978.270</td>\n",
       "      <td>0.000000</td>\n",
       "      <td>0.000000</td>\n",
       "      <td>0.000000</td>\n",
       "      <td>2102.0500</td>\n",
       "      <td>...</td>\n",
       "      <td>0.0</td>\n",
       "      <td>0.0</td>\n",
       "      <td>12.93441</td>\n",
       "      <td>11.01397</td>\n",
       "      <td>12.93441</td>\n",
       "      <td>7</td>\n",
       "      <td>True</td>\n",
       "      <td>pcu</td>\n",
       "      <td>pcu</td>\n",
       "      <td>pcu</td>\n",
       "    </tr>\n",
       "    <tr>\n",
       "      <th>8</th>\n",
       "      <td>DB0-m29_o82_o46_f0_pts.sym.1.cif</td>\n",
       "      <td>1715.110</td>\n",
       "      <td>0.786327</td>\n",
       "      <td>378.9050</td>\n",
       "      <td>2209.230</td>\n",
       "      <td>2809.550</td>\n",
       "      <td>0.000000</td>\n",
       "      <td>0.000000</td>\n",
       "      <td>0.000000</td>\n",
       "      <td>281.5860</td>\n",
       "      <td>...</td>\n",
       "      <td>0.0</td>\n",
       "      <td>0.0</td>\n",
       "      <td>8.35282</td>\n",
       "      <td>5.44658</td>\n",
       "      <td>7.30192</td>\n",
       "      <td>8</td>\n",
       "      <td>True</td>\n",
       "      <td>pts</td>\n",
       "      <td>pts</td>\n",
       "      <td>pts</td>\n",
       "    </tr>\n",
       "    <tr>\n",
       "      <th>10</th>\n",
       "      <td>DB0-m29_o99_o470_f0_pts.sym.128.cif</td>\n",
       "      <td>2552.970</td>\n",
       "      <td>0.754924</td>\n",
       "      <td>419.5890</td>\n",
       "      <td>1643.530</td>\n",
       "      <td>2177.080</td>\n",
       "      <td>0.164038</td>\n",
       "      <td>0.642539</td>\n",
       "      <td>0.851131</td>\n",
       "      <td>268.4700</td>\n",
       "      <td>...</td>\n",
       "      <td>0.0</td>\n",
       "      <td>0.0</td>\n",
       "      <td>7.57868</td>\n",
       "      <td>4.51994</td>\n",
       "      <td>7.57868</td>\n",
       "      <td>10</td>\n",
       "      <td>True</td>\n",
       "      <td>pts</td>\n",
       "      <td>pts</td>\n",
       "      <td>pts</td>\n",
       "    </tr>\n",
       "    <tr>\n",
       "      <th>...</th>\n",
       "      <td>...</td>\n",
       "      <td>...</td>\n",
       "      <td>...</td>\n",
       "      <td>...</td>\n",
       "      <td>...</td>\n",
       "      <td>...</td>\n",
       "      <td>...</td>\n",
       "      <td>...</td>\n",
       "      <td>...</td>\n",
       "      <td>...</td>\n",
       "      <td>...</td>\n",
       "      <td>...</td>\n",
       "      <td>...</td>\n",
       "      <td>...</td>\n",
       "      <td>...</td>\n",
       "      <td>...</td>\n",
       "      <td>...</td>\n",
       "      <td>...</td>\n",
       "      <td>...</td>\n",
       "      <td>...</td>\n",
       "      <td>...</td>\n",
       "    </tr>\n",
       "    <tr>\n",
       "      <th>521302</th>\n",
       "      <td>DB0-m2_o12_o16_f0_pcu.sym.10.cif</td>\n",
       "      <td>1358.680</td>\n",
       "      <td>0.754709</td>\n",
       "      <td>290.7150</td>\n",
       "      <td>2139.690</td>\n",
       "      <td>2835.120</td>\n",
       "      <td>0.000000</td>\n",
       "      <td>0.000000</td>\n",
       "      <td>0.000000</td>\n",
       "      <td>189.8350</td>\n",
       "      <td>...</td>\n",
       "      <td>0.0</td>\n",
       "      <td>0.0</td>\n",
       "      <td>7.52873</td>\n",
       "      <td>5.74171</td>\n",
       "      <td>7.44496</td>\n",
       "      <td>100001</td>\n",
       "      <td>False</td>\n",
       "      <td>pcu</td>\n",
       "      <td>pcu</td>\n",
       "      <td>pcu</td>\n",
       "    </tr>\n",
       "    <tr>\n",
       "      <th>521304</th>\n",
       "      <td>DB0-m3_o160_o480_f0_fsc.sym.50.cif</td>\n",
       "      <td>1243.540</td>\n",
       "      <td>0.972493</td>\n",
       "      <td>216.3000</td>\n",
       "      <td>1739.390</td>\n",
       "      <td>1788.590</td>\n",
       "      <td>0.000000</td>\n",
       "      <td>0.000000</td>\n",
       "      <td>0.000000</td>\n",
       "      <td>154.4720</td>\n",
       "      <td>...</td>\n",
       "      <td>0.0</td>\n",
       "      <td>0.0</td>\n",
       "      <td>7.86425</td>\n",
       "      <td>5.25972</td>\n",
       "      <td>7.85850</td>\n",
       "      <td>100001</td>\n",
       "      <td>False</td>\n",
       "      <td>fsc</td>\n",
       "      <td>fsc</td>\n",
       "      <td>fsc</td>\n",
       "    </tr>\n",
       "    <tr>\n",
       "      <th>521310</th>\n",
       "      <td>DB0-m3_o7_o15_f0_pcu.sym.26.cif</td>\n",
       "      <td>3245.820</td>\n",
       "      <td>0.460190</td>\n",
       "      <td>607.9870</td>\n",
       "      <td>1873.140</td>\n",
       "      <td>4070.370</td>\n",
       "      <td>0.000000</td>\n",
       "      <td>0.000000</td>\n",
       "      <td>0.000000</td>\n",
       "      <td>1383.1700</td>\n",
       "      <td>...</td>\n",
       "      <td>0.0</td>\n",
       "      <td>0.0</td>\n",
       "      <td>14.76229</td>\n",
       "      <td>10.91728</td>\n",
       "      <td>14.76229</td>\n",
       "      <td>100001</td>\n",
       "      <td>False</td>\n",
       "      <td>pcu</td>\n",
       "      <td>pcu</td>\n",
       "      <td>pcu</td>\n",
       "    </tr>\n",
       "    <tr>\n",
       "      <th>521311</th>\n",
       "      <td>DB0-m2_o9_o11_f0_nbo.sym.43.cif</td>\n",
       "      <td>5025.910</td>\n",
       "      <td>0.784130</td>\n",
       "      <td>842.4600</td>\n",
       "      <td>1676.240</td>\n",
       "      <td>2137.700</td>\n",
       "      <td>0.000000</td>\n",
       "      <td>0.000000</td>\n",
       "      <td>0.000000</td>\n",
       "      <td>799.8230</td>\n",
       "      <td>...</td>\n",
       "      <td>0.0</td>\n",
       "      <td>0.0</td>\n",
       "      <td>9.80754</td>\n",
       "      <td>4.61436</td>\n",
       "      <td>9.34008</td>\n",
       "      <td>100001</td>\n",
       "      <td>False</td>\n",
       "      <td>nbo</td>\n",
       "      <td>nbo</td>\n",
       "      <td>nbo</td>\n",
       "    </tr>\n",
       "    <tr>\n",
       "      <th>521313</th>\n",
       "      <td>DB3-lvtb_sym_5_mc_2_sym_5_on_9_L_12_FGB_4__.cif</td>\n",
       "      <td>9646.910</td>\n",
       "      <td>1.338450</td>\n",
       "      <td>1669.3600</td>\n",
       "      <td>1730.460</td>\n",
       "      <td>1292.880</td>\n",
       "      <td>0.000000</td>\n",
       "      <td>0.000000</td>\n",
       "      <td>0.000000</td>\n",
       "      <td>2424.2700</td>\n",
       "      <td>...</td>\n",
       "      <td>0.0</td>\n",
       "      <td>0.0</td>\n",
       "      <td>9.74223</td>\n",
       "      <td>8.71160</td>\n",
       "      <td>9.74223</td>\n",
       "      <td>100001</td>\n",
       "      <td>False</td>\n",
       "      <td>NaN</td>\n",
       "      <td>lvt</td>\n",
       "      <td>lvt</td>\n",
       "    </tr>\n",
       "  </tbody>\n",
       "</table>\n",
       "<p>263744 rows × 29 columns</p>\n",
       "</div>"
      ],
      "text/plain": [
       "                                               filename  unit_cell_volume  \\\n",
       "0                       DB0-m2_o1_o10_f0_pcu.sym.66.cif           901.788   \n",
       "6                      DB0-m3_o23_o23_f0_pcu.sym.74.cif          7545.840   \n",
       "7                       DB0-m2_o8_o25_f0_pcu.sym.91.cif          4172.230   \n",
       "8                      DB0-m29_o82_o46_f0_pts.sym.1.cif          1715.110   \n",
       "10                  DB0-m29_o99_o470_f0_pts.sym.128.cif          2552.970   \n",
       "...                                                 ...               ...   \n",
       "521302                 DB0-m2_o12_o16_f0_pcu.sym.10.cif          1358.680   \n",
       "521304               DB0-m3_o160_o480_f0_fsc.sym.50.cif          1243.540   \n",
       "521310                  DB0-m3_o7_o15_f0_pcu.sym.26.cif          3245.820   \n",
       "521311                  DB0-m2_o9_o11_f0_nbo.sym.43.cif          5025.910   \n",
       "521313  DB3-lvtb_sym_5_mc_2_sym_5_on_9_L_12_FGB_4__.cif          9646.910   \n",
       "\n",
       "         Density  accessible_surface_area  volumetric_surface_area  \\\n",
       "0       1.233220                  87.4832                  970.108   \n",
       "6       0.537679                1566.3300                 2075.750   \n",
       "7       0.371648                 771.9300                 1850.160   \n",
       "8       0.786327                 378.9050                 2209.230   \n",
       "10      0.754924                 419.5890                 1643.530   \n",
       "...          ...                      ...                      ...   \n",
       "521302  0.754709                 290.7150                 2139.690   \n",
       "521304  0.972493                 216.3000                 1739.390   \n",
       "521310  0.460190                 607.9870                 1873.140   \n",
       "521311  0.784130                 842.4600                 1676.240   \n",
       "521313  1.338450                1669.3600                 1730.460   \n",
       "\n",
       "        gravimetric_surface_area  inaccessible_surface_area  \\\n",
       "0                        786.644                   0.000000   \n",
       "6                       3860.570                   0.000000   \n",
       "7                       4978.270                   0.000000   \n",
       "8                       2809.550                   0.000000   \n",
       "10                      2177.080                   0.164038   \n",
       "...                          ...                        ...   \n",
       "521302                  2835.120                   0.000000   \n",
       "521304                  1788.590                   0.000000   \n",
       "521310                  4070.370                   0.000000   \n",
       "521311                  2137.700                   0.000000   \n",
       "521313                  1292.880                   0.000000   \n",
       "\n",
       "        inac_grav_surf_area  inac_vol_surf_area  accessible_volume_per_uc  \\\n",
       "0                  0.000000            0.000000                   26.0256   \n",
       "6                  0.000000            0.000000                 2364.4100   \n",
       "7                  0.000000            0.000000                 2102.0500   \n",
       "8                  0.000000            0.000000                  281.5860   \n",
       "10                 0.642539            0.851131                  268.4700   \n",
       "...                     ...                 ...                       ...   \n",
       "521302             0.000000            0.000000                  189.8350   \n",
       "521304             0.000000            0.000000                  154.4720   \n",
       "521310             0.000000            0.000000                 1383.1700   \n",
       "521311             0.000000            0.000000                  799.8230   \n",
       "521313             0.000000            0.000000                 2424.2700   \n",
       "\n",
       "        ...  inac_probe_occ_vol_frac  inac_probe_occ_grav_vol  \\\n",
       "0       ...                      0.0                      0.0   \n",
       "6       ...                      0.0                      0.0   \n",
       "7       ...                      0.0                      0.0   \n",
       "8       ...                      0.0                      0.0   \n",
       "10      ...                      0.0                      0.0   \n",
       "...     ...                      ...                      ...   \n",
       "521302  ...                      0.0                      0.0   \n",
       "521304  ...                      0.0                      0.0   \n",
       "521310  ...                      0.0                      0.0   \n",
       "521311  ...                      0.0                      0.0   \n",
       "521313  ...                      0.0                      0.0   \n",
       "\n",
       "        largest_cav_diameter  pore_limiting_diameter  \\\n",
       "0                    5.41813                 4.36524   \n",
       "6                   10.43731                 9.91429   \n",
       "7                   12.93441                11.01397   \n",
       "8                    8.35282                 5.44658   \n",
       "10                   7.57868                 4.51994   \n",
       "...                      ...                     ...   \n",
       "521302               7.52873                 5.74171   \n",
       "521304               7.86425                 5.25972   \n",
       "521310              14.76229                10.91728   \n",
       "521311               9.80754                 4.61436   \n",
       "521313               9.74223                 8.71160   \n",
       "\n",
       "        largest_free_sphere_path_diam  order_geo  bool_geo  filename_top  \\\n",
       "0                             5.39798          0      True           pcu   \n",
       "6                            10.43731          6      True           pcu   \n",
       "7                            12.93441          7      True           pcu   \n",
       "8                             7.30192          8      True           pts   \n",
       "10                            7.57868         10      True           pts   \n",
       "...                               ...        ...       ...           ...   \n",
       "521302                        7.44496     100001     False           pcu   \n",
       "521304                        7.85850     100001     False           fsc   \n",
       "521310                       14.76229     100001     False           pcu   \n",
       "521311                        9.34008     100001     False           nbo   \n",
       "521313                        9.74223     100001     False           NaN   \n",
       "\n",
       "        Crystalnet  likely topology  \n",
       "0              pcu              pcu  \n",
       "6              pcu              pcu  \n",
       "7              pcu              pcu  \n",
       "8              pts              pts  \n",
       "10             pts              pts  \n",
       "...            ...              ...  \n",
       "521302         pcu              pcu  \n",
       "521304         fsc              fsc  \n",
       "521310         pcu              pcu  \n",
       "521311         nbo              nbo  \n",
       "521313         lvt              lvt  \n",
       "\n",
       "[263744 rows x 29 columns]"
      ]
     },
     "execution_count": 17,
     "metadata": {},
     "output_type": "execute_result"
    }
   ],
   "source": [
    "geo_top.drop(columns=['Unnamed: 0', 'filename_geo'])"
   ]
  },
  {
   "cell_type": "markdown",
   "id": "5d47a961",
   "metadata": {},
   "source": [
    "Now that the two are merged I'll download the RDF dataset, which describes a wide range of chemical properties. "
   ]
  },
  {
   "cell_type": "code",
   "execution_count": null,
   "id": "86be2b0d",
   "metadata": {},
   "outputs": [],
   "source": [
    "url = 'https://zenodo.org/record/7600474/files/RDFs.csv?download=1'\n",
    "r = requests.get(url, allow_redirects=True)\n",
    "open('../data/raw/rdf.csv', 'wb').write(r.content)"
   ]
  },
  {
   "cell_type": "code",
   "execution_count": null,
   "id": "333407f9",
   "metadata": {},
   "outputs": [],
   "source": [
    "rdf = pd.read_csv('../data/raw/rdf.csv')\n",
    "rdf.head(10)"
   ]
  },
  {
   "cell_type": "code",
   "execution_count": null,
   "id": "4153b514",
   "metadata": {},
   "outputs": [],
   "source": [
    "rdf.shape"
   ]
  },
  {
   "cell_type": "code",
   "execution_count": null,
   "id": "54fa5022",
   "metadata": {},
   "outputs": [],
   "source": [
    "rdf.columns"
   ]
  },
  {
   "cell_type": "code",
   "execution_count": null,
   "id": "bcb3c23a",
   "metadata": {},
   "outputs": [],
   "source": [
    "rdf.set_index('Structure_Name', inplace=True)"
   ]
  },
  {
   "cell_type": "markdown",
   "id": "290999a3",
   "metadata": {},
   "source": [
    "I noticed that the structure names in this dataframe include 'repeat' in the names, which wasn't included in the other tables. I'm going to confirm that it's in all of the names, then remove it so I can join this dataframe to the geo_top."
   ]
  },
  {
   "cell_type": "code",
   "execution_count": null,
   "id": "b3781eba",
   "metadata": {},
   "outputs": [],
   "source": [
    "rdf[rdf.index.str.contains('.repeat.') == False]"
   ]
  },
  {
   "cell_type": "code",
   "execution_count": null,
   "id": "ac2f2094",
   "metadata": {},
   "outputs": [],
   "source": [
    "rdf.index = rdf.index.str.replace('_repeat', '')"
   ]
  },
  {
   "cell_type": "code",
   "execution_count": null,
   "id": "d2143fae",
   "metadata": {},
   "outputs": [],
   "source": [
    "rdf.head()"
   ]
  },
  {
   "cell_type": "code",
   "execution_count": null,
   "id": "d47a7acc",
   "metadata": {},
   "outputs": [],
   "source": [
    "rdf.drop(columns='Unnamed: 0', inplace=True)"
   ]
  },
  {
   "cell_type": "markdown",
   "id": "abc965e2",
   "metadata": {},
   "source": [
    "Time to join!"
   ]
  },
  {
   "cell_type": "code",
   "execution_count": null,
   "id": "4d83497b",
   "metadata": {
    "scrolled": true
   },
   "outputs": [],
   "source": [
    "geo_top_rdf = geo_top.join(other = rdf, on = 'filename', how='inner', rsuffix='rdf')\n",
    "geo_top_rdf.shape"
   ]
  },
  {
   "cell_type": "code",
   "execution_count": null,
   "id": "40e75681",
   "metadata": {
    "scrolled": true
   },
   "outputs": [],
   "source": [
    "geo_top_rdf.head()"
   ]
  },
  {
   "cell_type": "code",
   "execution_count": null,
   "id": "b803a48b",
   "metadata": {},
   "outputs": [],
   "source": [
    "geo_top_rdf.set_index('filename', inplace=True)\n",
    "geo_top_rdf.drop(columns=['Unnamed: 0', 'filename_geo'], inplace = True)"
   ]
  },
  {
   "cell_type": "markdown",
   "id": "e44ec6ff",
   "metadata": {},
   "source": [
    "Next I'll download the process datafile, which has adsorption data for five different gas separation processes: natural gas purification (90% CH4/10% CO2), post-combustion VSA (17% CO2/83% N2), pre-combustion PSA (40% CO2/60% H2), landfill gas VPSA (42-96% CO2/58-4% CH4) and methane storage PSA (100% CH4). "
   ]
  },
  {
   "cell_type": "code",
   "execution_count": null,
   "id": "481a98d0",
   "metadata": {},
   "outputs": [],
   "source": [
    "url = 'https://zenodo.org/record/7600474/files/overall_process.csv?download=1'\n",
    "r = requests.get(url, allow_redirects=True)\n",
    "open('../data/raw/process.csv', 'wb').write(r.content)"
   ]
  },
  {
   "cell_type": "code",
   "execution_count": null,
   "id": "ae945121",
   "metadata": {},
   "outputs": [],
   "source": [
    "process = pd.read_csv('../data/raw/process.csv')\n",
    "process.head()"
   ]
  },
  {
   "cell_type": "code",
   "execution_count": null,
   "id": "cb9829aa",
   "metadata": {},
   "outputs": [],
   "source": [
    "process.shape"
   ]
  },
  {
   "cell_type": "markdown",
   "id": "f56aca6e",
   "metadata": {},
   "source": [
    "Again I'm noticing the 'repeat' in the filename, so I'll remove that so I can join the dataframes."
   ]
  },
  {
   "cell_type": "code",
   "execution_count": null,
   "id": "0ee19a8b",
   "metadata": {},
   "outputs": [],
   "source": [
    "process['filename'] = process['filename'].str.replace('_repeat', '.cif')"
   ]
  },
  {
   "cell_type": "code",
   "execution_count": null,
   "id": "3fd00bad",
   "metadata": {},
   "outputs": [],
   "source": [
    "process.set_index('filename', inplace=True)"
   ]
  },
  {
   "cell_type": "markdown",
   "id": "4fc7f613",
   "metadata": {},
   "source": [
    "Fortunately, this database has data for exactly the process I'm interested in: post-combustion VSA, where CO2 is removed from power plant exhaust. I'll cut down the number of rows now to preserve memory and make it easier to work with."
   ]
  },
  {
   "cell_type": "code",
   "execution_count": null,
   "id": "fb563970",
   "metadata": {},
   "outputs": [],
   "source": [
    "pcv = process[process['process'] == 'post-combustion-vsa']"
   ]
  },
  {
   "cell_type": "code",
   "execution_count": null,
   "id": "9f886e8b",
   "metadata": {},
   "outputs": [],
   "source": [
    "pcv.head()"
   ]
  },
  {
   "cell_type": "markdown",
   "id": "bdf5d07a",
   "metadata": {},
   "source": [
    "Now I'll merge the post-combustion VSA data into the rest."
   ]
  },
  {
   "cell_type": "code",
   "execution_count": null,
   "id": "aa14f386",
   "metadata": {},
   "outputs": [],
   "source": [
    "merged = geo_top_rdf.join(other = pcv, on = 'filename', how='inner', rsuffix = 'process')"
   ]
  },
  {
   "cell_type": "code",
   "execution_count": null,
   "id": "0e7ea003",
   "metadata": {},
   "outputs": [],
   "source": [
    "merged.shape"
   ]
  },
  {
   "cell_type": "markdown",
   "id": "afb3e30f",
   "metadata": {},
   "source": [
    "My last addition will be the RACs, which describe properties around the ligands and metal centers."
   ]
  },
  {
   "cell_type": "code",
   "execution_count": null,
   "id": "361c408d",
   "metadata": {},
   "outputs": [],
   "source": [
    "url = 'https://zenodo.org/record/7600474/files/RACs.csv?download=1'\n",
    "r = requests.get(url, allow_redirects=True)\n",
    "open('../data/raw/racs.csv', 'wb').write(r.content) "
   ]
  },
  {
   "cell_type": "code",
   "execution_count": null,
   "id": "141988d9",
   "metadata": {},
   "outputs": [],
   "source": [
    "racs = pd.read_csv('../data/raw/racs.csv')\n",
    "racs.head()"
   ]
  },
  {
   "cell_type": "code",
   "execution_count": null,
   "id": "0f1b7c64",
   "metadata": {},
   "outputs": [],
   "source": [
    "racs.shape"
   ]
  },
  {
   "cell_type": "code",
   "execution_count": null,
   "id": "ded77bdc",
   "metadata": {},
   "outputs": [],
   "source": [
    "print(racs.columns.tolist())"
   ]
  },
  {
   "cell_type": "markdown",
   "id": "6fb27c3c",
   "metadata": {},
   "source": [
    "I'll drop a few unnecessary columns."
   ]
  },
  {
   "cell_type": "code",
   "execution_count": null,
   "id": "9e045738",
   "metadata": {},
   "outputs": [],
   "source": [
    "racs.drop(columns=['ARC_MOF', 'DB_num', 'Unnamed: 0'], inplace=True)\n",
    "racs.set_index('filename', inplace=True)"
   ]
  },
  {
   "cell_type": "code",
   "execution_count": null,
   "id": "e3ef89b0",
   "metadata": {},
   "outputs": [],
   "source": [
    "racs.head()"
   ]
  },
  {
   "cell_type": "code",
   "execution_count": null,
   "id": "8bcc03ad",
   "metadata": {},
   "outputs": [],
   "source": [
    "merged.head()"
   ]
  },
  {
   "cell_type": "markdown",
   "id": "54703420",
   "metadata": {},
   "source": [
    "Now I'll join RACs to the merged dataframe."
   ]
  },
  {
   "cell_type": "code",
   "execution_count": null,
   "id": "64f9f9b9",
   "metadata": {},
   "outputs": [],
   "source": [
    "total = merged.join(other = racs, on = 'filename', how = 'inner', rsuffix = 'racs')\n",
    "total.shape"
   ]
  },
  {
   "cell_type": "code",
   "execution_count": null,
   "id": "77c377cb",
   "metadata": {},
   "outputs": [],
   "source": [
    "total.head()"
   ]
  },
  {
   "cell_type": "markdown",
   "id": "bb968788",
   "metadata": {},
   "source": [
    "Ok, time to start cleaning. I'll check the datatypes of the columns to start."
   ]
  },
  {
   "cell_type": "code",
   "execution_count": null,
   "id": "f78f6f59",
   "metadata": {},
   "outputs": [],
   "source": [
    "print(total.columns.to_series().groupby(total.dtypes).groups)"
   ]
  },
  {
   "cell_type": "markdown",
   "id": "37e75beb",
   "metadata": {},
   "source": [
    "First of all, I'm seeing some more columns I need to remove."
   ]
  },
  {
   "cell_type": "code",
   "execution_count": null,
   "id": "9d67a5ed",
   "metadata": {},
   "outputs": [],
   "source": [
    "trimmed = total.drop(columns=['filename_top', 'process'])"
   ]
  },
  {
   "cell_type": "markdown",
   "id": "c3118c08",
   "metadata": {},
   "source": [
    "Now I'm not seeing any obviously incorrect datatypes, so I'll check to see if I have any columns that are missing too much data."
   ]
  },
  {
   "cell_type": "code",
   "execution_count": null,
   "id": "6c8ef676",
   "metadata": {},
   "outputs": [],
   "source": [
    "trimmed.head()"
   ]
  },
  {
   "cell_type": "code",
   "execution_count": null,
   "id": "90180bae",
   "metadata": {},
   "outputs": [],
   "source": [
    "print((trimmed.isna().sum()/len(trimmed)).sort_values(ascending=False))"
   ]
  },
  {
   "cell_type": "markdown",
   "id": "458a9f81",
   "metadata": {},
   "source": [
    "Ok, missing data isn't a problem in this dataset. Let me take a look at how much of a columns values are 0. I've got ~50k rows and 899 columns, so I will need to reduce the features of this dataset. I suspect there are some mostly-zero columns I can drop."
   ]
  },
  {
   "cell_type": "code",
   "execution_count": null,
   "id": "13f96ca6",
   "metadata": {},
   "outputs": [],
   "source": [
    "zeroes = {}\n",
    "\n",
    "for col in trimmed.columns:\n",
    "    if trimmed[col].dtypes == 'int64':\n",
    "        if 0 in trimmed[col].unique():\n",
    "            zeroes[col] = trimmed[col].value_counts(normalize=True)[0]\n",
    "    \n",
    "sorted_zeroes = sorted(zeroes.items(), key = lambda x:x[1])\n",
    "print(sorted_zeroes)"
   ]
  },
  {
   "cell_type": "markdown",
   "id": "1d3e623e",
   "metadata": {},
   "source": [
    "Wow, so none of the columns have many zero values either. This is a surprisingly clean dataset. Since there are already over 900 columns I'll have to check for values that are unexpected by going through each group of columns (for example, RDFs of electronegativity) and make a loop that calls out anything outside of an expected range. RDFs cover electronegativity, atomic hardness, van der Waals volume, dipole polarizability, atomic mass, and none, so I'll break each of them out and see if any invalid values are present."
   ]
  },
  {
   "cell_type": "code",
   "execution_count": null,
   "id": "0c95cc74",
   "metadata": {},
   "outputs": [],
   "source": [
    "# Electronegativity should range betwen 0 and 4\n",
    "for col in trimmed.columns:\n",
    "    if 'RDF_electronegativity' in col:\n",
    "        if min(trimmed[col]) < 0 or max(trimmed[col]) > 4:\n",
    "            print(col)"
   ]
  },
  {
   "cell_type": "code",
   "execution_count": null,
   "id": "afd9aad6",
   "metadata": {},
   "outputs": [],
   "source": [
    "# Atomic hardness ranges between 0 and 13\n",
    "for col in trimmed.columns:\n",
    "    if 'RDF_hardness' in col:\n",
    "        if min(trimmed[col]) < 0 or max(trimmed[col]) > 13:\n",
    "            print(col)"
   ]
  },
  {
   "cell_type": "code",
   "execution_count": null,
   "id": "c6d5a6c6",
   "metadata": {},
   "outputs": [],
   "source": [
    "# van der Waals volume should be greater than zero\n",
    "for col in trimmed.columns:\n",
    "    if 'RDF_v' in col:\n",
    "        if min(trimmed[col]) < 0:\n",
    "            print(col)"
   ]
  },
  {
   "cell_type": "code",
   "execution_count": null,
   "id": "8e965e1a",
   "metadata": {},
   "outputs": [],
   "source": [
    "# Dipole polarizability should be non-negative\n",
    "for col in trimmed.columns:\n",
    "    if 'RDF_polarizability' in col:\n",
    "        if min(trimmed[col]) < 0:\n",
    "            print(col)"
   ]
  },
  {
   "cell_type": "code",
   "execution_count": null,
   "id": "ddb4ba32",
   "metadata": {},
   "outputs": [],
   "source": [
    "# Atomic mass must be greater than zero\n",
    "for col in trimmed.columns:\n",
    "    if 'RDF_mass' in col:\n",
    "        if min(trimmed[col]) < 0:\n",
    "            print(col)"
   ]
  },
  {
   "cell_type": "markdown",
   "id": "b140a6d3",
   "metadata": {},
   "source": [
    "Ok, all of the RDF values meet expectations. This seems to be a very clean dataset. Given that the values are provided by theoretical calculations, it seems reasonable to expect the data to be within reasonable bounds and already cleaned for the analysis the authors did. I'll save it as-is and move on to exploratory data analysis."
   ]
  },
  {
   "cell_type": "code",
   "execution_count": null,
   "id": "ef4098bd",
   "metadata": {},
   "outputs": [],
   "source": [
    "trimmed.to_csv('../data/interim/wrangled.csv')"
   ]
  },
  {
   "cell_type": "code",
   "execution_count": null,
   "id": "da782eeb",
   "metadata": {},
   "outputs": [],
   "source": []
  }
 ],
 "metadata": {
  "kernelspec": {
   "display_name": "Python 3 (ipykernel)",
   "language": "python",
   "name": "python3"
  },
  "language_info": {
   "codemirror_mode": {
    "name": "ipython",
    "version": 3
   },
   "file_extension": ".py",
   "mimetype": "text/x-python",
   "name": "python",
   "nbconvert_exporter": "python",
   "pygments_lexer": "ipython3",
   "version": "3.9.16"
  }
 },
 "nbformat": 4,
 "nbformat_minor": 5
}
